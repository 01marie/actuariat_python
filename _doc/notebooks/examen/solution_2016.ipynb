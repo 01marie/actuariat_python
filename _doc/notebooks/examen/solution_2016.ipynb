{
 "cells": [
  {
   "cell_type": "markdown",
   "metadata": {},
   "source": [
    "# Solution - énoncé avril 2016"
   ]
  },
  {
   "cell_type": "markdown",
   "metadata": {},
   "source": [
    "Les bonns réponses sont en **gras**."
   ]
  },
  {
   "cell_type": "code",
   "execution_count": 1,
   "metadata": {
    "collapsed": false
   },
   "outputs": [
    {
     "name": "stdout",
     "output_type": "stream",
     "text": [
      "Populating the interactive namespace from numpy and matplotlib\n"
     ]
    },
    {
     "data": {
      "text/html": [
       "<b>Plan</b>\n",
       "<div id=\"my_menu_id\">run previous cell, wait for 2 seconds</div>\n",
       "<script>\n",
       "function repeat_indent_string(n){\n",
       "    var a = \"\" ;\n",
       "    for ( ; n > 0 ; --n) {\n",
       "        a += \"    \";\n",
       "    }\n",
       "    return a;\n",
       "}\n",
       "var update_menu_string = function(begin, lfirst, llast, sformat, send) {\n",
       "    var anchors = document.getElementsByClassName(\"section\");\n",
       "    if (anchors.length == 0) {\n",
       "        anchors = document.getElementsByClassName(\"text_cell_render rendered_html\");\n",
       "    }\n",
       "    var i,t;\n",
       "    var text_menu = begin;\n",
       "    var text_memo = \"<pre>\\nlength:\" + anchors.length + \"\\n\";\n",
       "    var ind = \"\";\n",
       "    var memo_level = 1;\n",
       "    var href;\n",
       "    var tags = [];\n",
       "    for (i = 0; i <= llast; i++) {\n",
       "        tags.push(\"h\" + i);\n",
       "    }\n",
       "\n",
       "    for (i = 0; i < anchors.length; i++) {\n",
       "        text_memo += \"**\" + anchors[i].id + \"--\\n\";\n",
       "\n",
       "        var child = null;\n",
       "        for(t = 0; t < tags.length; t++) {\n",
       "            var r = anchors[i].getElementsByTagName(tags[t]);\n",
       "            if (r.length > 0) {\n",
       "child = r[0];\n",
       "break;\n",
       "            }\n",
       "        }\n",
       "        if (child == null){\n",
       "            text_memo += \"null\\n\";\n",
       "            continue;\n",
       "        }\n",
       "\n",
       "        if (anchors[i].hasAttribute(\"id\")) {\n",
       "            // when converted in RST\n",
       "            href = anchors[i].id;\n",
       "            text_memo += \"#1-\" + href;\n",
       "            // passer à child suivant (le chercher)\n",
       "        }\n",
       "        else if (child.hasAttribute(\"id\")) {\n",
       "            // in a notebook\n",
       "            href = child.id;\n",
       "            text_memo += \"#2-\" + href;\n",
       "        }\n",
       "        else {\n",
       "            text_memo += \"#3-\" + \"*\" + \"\\n\";\n",
       "            continue;\n",
       "        }\n",
       "        var title = child.textContent;\n",
       "        var level = parseInt(child.tagName.substring(1,2));\n",
       "\n",
       "        text_memo += \"--\" + level + \"?\" + lfirst + \"--\" + title + \"\\n\";\n",
       "\n",
       "        if ((level < lfirst) || (level > llast)) {\n",
       "            continue ;\n",
       "        }\n",
       "        if (title.endsWith('¶')) {\n",
       "            title = title.substring(0,title.length-1).replace(\"<\", \"&lt;\").replace(\">\", \"&gt;\").replace(\"&\", \"&amp;\")\n",
       "        }\n",
       "\n",
       "        if (title.length == 0) {\n",
       "            continue;\n",
       "        }\n",
       "        while (level > memo_level) {\n",
       "            text_menu += \"<ul>\\n\";\n",
       "            memo_level += 1;\n",
       "        }\n",
       "        while (level < memo_level) {\n",
       "            text_menu += \"</ul>\\n\";\n",
       "            memo_level -= 1;\n",
       "        }\n",
       "        text_menu += repeat_indent_string(level-2) + sformat.replace(\"__HREF__\", href).replace(\"__TITLE__\", title);\n",
       "    }\n",
       "    while (1 < memo_level) {\n",
       "        text_menu += \"</ul>\\n\";\n",
       "        memo_level -= 1;\n",
       "    }\n",
       "    text_menu += send;\n",
       "    //text_menu += \"\\n\" + text_memo;\n",
       "    return text_menu;\n",
       "};\n",
       "var update_menu = function() {\n",
       "    var sbegin = \"\";\n",
       "    var sformat = '<li><a href=\"#__HREF__\">__TITLE__</a></li>';\n",
       "    var send = \"\";\n",
       "    var text_menu = update_menu_string(sbegin, 2, 4, sformat, send);\n",
       "    var menu = document.getElementById(\"my_menu_id\");\n",
       "    menu.innerHTML=text_menu;\n",
       "};\n",
       "window.setTimeout(update_menu,2000);\n",
       "            </script>"
      ],
      "text/plain": [
       "<IPython.core.display.HTML object>"
      ]
     },
     "execution_count": 1,
     "metadata": {},
     "output_type": "execute_result"
    }
   ],
   "source": [
    "%pylab inline\n",
    "import matplotlib.pyplot as plt\n",
    "plt.style.use('ggplot')\n",
    "\n",
    "import pyensae\n",
    "%nb_menu"
   ]
  },
  {
   "cell_type": "markdown",
   "metadata": {},
   "source": [
    "## QCM"
   ]
  },
  {
   "cell_type": "markdown",
   "metadata": {},
   "source": [
    "### Que fait le programme suivant ?\n",
    "\n",
    "* Il trie.\n",
    "* **Il vérifie qu'un tableau est trié.**\n",
    "* Rien car la boucle ne commence pas à 0."
   ]
  },
  {
   "cell_type": "code",
   "execution_count": 11,
   "metadata": {
    "collapsed": false
   },
   "outputs": [
    {
     "name": "stdout",
     "output_type": "stream",
     "text": [
      "False\n"
     ]
    }
   ],
   "source": [
    "l = [0,1,2,3,4,6,5,8,9,10]\n",
    "res = True\n",
    "for i in range(1,len (l)) :\n",
    "    if l[i-1] > l[i]:   # un tableau n'est pas trié si deux éléments consécutifs\n",
    "      res = False       # ne sont pas dans le bon ordre\n",
    "print(res)"
   ]
  },
  {
   "cell_type": "markdown",
   "metadata": {},
   "source": [
    "### La fonction suivante ne fonctionne pas sur ...\n",
    "\n",
    "* Le nombre 0.\n",
    "* La constante ``\"123\"``.\n",
    "* **Les nombres strictement négatifs**"
   ]
  },
  {
   "cell_type": "code",
   "execution_count": 12,
   "metadata": {
    "collapsed": false
   },
   "outputs": [
    {
     "data": {
      "text/plain": [
       "(0, 6)"
      ]
     },
     "execution_count": 12,
     "metadata": {},
     "output_type": "execute_result"
    }
   ],
   "source": [
    "def somme(n):\n",
    "    return sum ( [ int(c) for c in str(n) ] )\n",
    "    #  un signe moins aménera le calcul de int('-') qui edt invalide\n",
    "\n",
    "somme(0), somme(\"123\")"
   ]
  },
  {
   "cell_type": "markdown",
   "metadata": {},
   "source": [
    "### Le programme suivant provoque une erreur. Quelle est l'exception qu'il va produire ?\n",
    "\n",
    "* ``SyntaxError``\n",
    "* ``TypeError``\n",
    "* **``IndexError``**"
   ]
  },
  {
   "cell_type": "code",
   "execution_count": 13,
   "metadata": {
    "collapsed": false
   },
   "outputs": [
    {
     "ename": "IndexError",
     "evalue": "list assignment index out of range",
     "output_type": "error",
     "traceback": [
      "\u001b[1;31m---------------------------------------------------------------------------\u001b[0m",
      "\u001b[1;31mIndexError\u001b[0m                                Traceback (most recent call last)",
      "\u001b[1;32m<ipython-input-13-5cf641757127>\u001b[0m in \u001b[0;36m<module>\u001b[1;34m()\u001b[0m\n\u001b[0;32m      3\u001b[0m \u001b[0msup\u001b[0m \u001b[1;33m=\u001b[0m \u001b[1;33m[\u001b[0m\u001b[1;36m0\u001b[0m\u001b[1;33m,\u001b[0m\u001b[1;36m9\u001b[0m\u001b[1;33m]\u001b[0m\u001b[1;33m\u001b[0m\u001b[0m\n\u001b[0;32m      4\u001b[0m \u001b[1;32mfor\u001b[0m \u001b[0mi\u001b[0m \u001b[1;32min\u001b[0m \u001b[0msup\u001b[0m \u001b[1;33m:\u001b[0m\u001b[1;33m\u001b[0m\u001b[0m\n\u001b[1;32m----> 5\u001b[1;33m     \u001b[1;32mdel\u001b[0m \u001b[0mli\u001b[0m \u001b[1;33m[\u001b[0m\u001b[0mi\u001b[0m\u001b[1;33m]\u001b[0m  \u001b[1;31m# on supprime le premier élément\u001b[0m\u001b[1;33m\u001b[0m\u001b[0m\n\u001b[0m\u001b[0;32m      6\u001b[0m     \u001b[1;31m# à ce moment le dernier élément est d'indice 8 et non plus 9\u001b[0m\u001b[1;33m\u001b[0m\u001b[1;33m\u001b[0m\u001b[0m\n",
      "\u001b[1;31mIndexError\u001b[0m: list assignment index out of range"
     ]
    }
   ],
   "source": [
    "# déclenche une exception\n",
    "li = list(range(0,10))\n",
    "sup = [0,9]\n",
    "for i in sup :\n",
    "    del li [i]  # on supprime le premier élément\n",
    "    # à ce moment le dernier élément est d'indice 8 et non plus 9"
   ]
  },
  {
   "cell_type": "markdown",
   "metadata": {},
   "source": [
    "### Entourer ce que est vrai à propos de la fonction suivante ?\n",
    "\n",
    "* **Elle est récursive.**\n",
    "* Il manque une condition d'arrêt.\n",
    "* **``fibo(4)`` appelle récursivement 8 fois ``fibo``: une fois ``fibo(3)``, deux fois ``fibo(2)``, trois fois ``fibo(1)`` et deux fois ``fibo(0)``**"
   ]
  },
  {
   "cell_type": "code",
   "execution_count": 14,
   "metadata": {
    "collapsed": false
   },
   "outputs": [
    {
     "name": "stdout",
     "output_type": "stream",
     "text": [
      "fibo 4\n",
      "fibo 3\n",
      "fibo 2\n",
      "fibo 1\n",
      "fibo 0\n",
      "fibo 1\n",
      "fibo 2\n",
      "fibo 1\n",
      "fibo 0\n"
     ]
    },
    {
     "data": {
      "text/plain": [
       "3"
      ]
     },
     "execution_count": 14,
     "metadata": {},
     "output_type": "execute_result"
    }
   ],
   "source": [
    "def fibo (n) :\n",
    "    print(\"fibo\", n)\n",
    "    if   n < 1  : return 0\n",
    "    elif n == 1 : return 1\n",
    "    else : return fibo (n-1) + fibo (n-2)\n",
    "\n",
    "fibo(4)"
   ]
  },
  {
   "cell_type": "markdown",
   "metadata": {},
   "source": [
    "La fonction est évidemment récursive car elle s'appelle elle-même, elle fait même deux appels récursifs au sein de la même fonction ce qui explique les nombreux appels."
   ]
  },
  {
   "cell_type": "markdown",
   "metadata": {},
   "source": [
    "### Combien de lignes comporte le dataframe ``df2`` ?\n",
    "\n",
    "* **3**\n",
    "* 4\n",
    "* 5\n",
    "* 6\n",
    "* 7\n",
    "* 8\n",
    "* 9\n",
    "* Aucun, le code provoque une erreur."
   ]
  },
  {
   "cell_type": "code",
   "execution_count": 16,
   "metadata": {
    "collapsed": false
   },
   "outputs": [
    {
     "data": {
      "text/html": [
       "<div>\n",
       "<table border=\"1\" class=\"dataframe\">\n",
       "  <thead>\n",
       "    <tr style=\"text-align: right;\">\n",
       "      <th></th>\n",
       "      <th>t_x</th>\n",
       "      <th>x</th>\n",
       "      <th>t_y</th>\n",
       "    </tr>\n",
       "  </thead>\n",
       "  <tbody>\n",
       "    <tr>\n",
       "      <th>0</th>\n",
       "      <td>e</td>\n",
       "      <td>1</td>\n",
       "      <td>e</td>\n",
       "    </tr>\n",
       "    <tr>\n",
       "      <th>1</th>\n",
       "      <td>f</td>\n",
       "      <td>3</td>\n",
       "      <td>f</td>\n",
       "    </tr>\n",
       "    <tr>\n",
       "      <th>2</th>\n",
       "      <td>e</td>\n",
       "      <td>4</td>\n",
       "      <td>e</td>\n",
       "    </tr>\n",
       "  </tbody>\n",
       "</table>\n",
       "</div>"
      ],
      "text/plain": [
       "  t_x  x t_y\n",
       "0   e  1   e\n",
       "1   f  3   f\n",
       "2   e  4   e"
      ]
     },
     "execution_count": 16,
     "metadata": {},
     "output_type": "execute_result"
    }
   ],
   "source": [
    "import pandas\n",
    "df = pandas.DataFrame([dict(x=1, t=\"e\"), dict(x=3, t=\"f\"), dict(x=4, t=\"e\")])\n",
    "df2 = df.merge(df, left_on=\"x\", right_on=\"x\")\n",
    "df2"
   ]
  },
  {
   "cell_type": "markdown",
   "metadata": {},
   "source": [
    "Le dataframe initial a 3 lignes. On le fusionne avec lui même avec une colonne qui ne contient des valeurs distinctes. Chaque ligne ne fusionnera qu'avec une seule ligne. Le résultat contient 3 lignes."
   ]
  },
  {
   "cell_type": "markdown",
   "metadata": {},
   "source": [
    "### Combien de lignes comporte le dataframe ``df3`` ?\n",
    "\n",
    "* 3\n",
    "* 4\n",
    "* **5**\n",
    "* 6\n",
    "* 7\n",
    "* 8\n",
    "* 9\n",
    "* Aucun, le code provoque une erreur."
   ]
  },
  {
   "cell_type": "code",
   "execution_count": 17,
   "metadata": {
    "collapsed": false
   },
   "outputs": [
    {
     "data": {
      "text/html": [
       "<div>\n",
       "<table border=\"1\" class=\"dataframe\">\n",
       "  <thead>\n",
       "    <tr style=\"text-align: right;\">\n",
       "      <th></th>\n",
       "      <th>t</th>\n",
       "      <th>x_x</th>\n",
       "      <th>x_y</th>\n",
       "    </tr>\n",
       "  </thead>\n",
       "  <tbody>\n",
       "    <tr>\n",
       "      <th>0</th>\n",
       "      <td>e</td>\n",
       "      <td>1</td>\n",
       "      <td>1</td>\n",
       "    </tr>\n",
       "    <tr>\n",
       "      <th>1</th>\n",
       "      <td>e</td>\n",
       "      <td>1</td>\n",
       "      <td>4</td>\n",
       "    </tr>\n",
       "    <tr>\n",
       "      <th>2</th>\n",
       "      <td>e</td>\n",
       "      <td>4</td>\n",
       "      <td>1</td>\n",
       "    </tr>\n",
       "    <tr>\n",
       "      <th>3</th>\n",
       "      <td>e</td>\n",
       "      <td>4</td>\n",
       "      <td>4</td>\n",
       "    </tr>\n",
       "    <tr>\n",
       "      <th>4</th>\n",
       "      <td>f</td>\n",
       "      <td>3</td>\n",
       "      <td>3</td>\n",
       "    </tr>\n",
       "  </tbody>\n",
       "</table>\n",
       "</div>"
      ],
      "text/plain": [
       "   t  x_x  x_y\n",
       "0  e    1    1\n",
       "1  e    1    4\n",
       "2  e    4    1\n",
       "3  e    4    4\n",
       "4  f    3    3"
      ]
     },
     "execution_count": 17,
     "metadata": {},
     "output_type": "execute_result"
    }
   ],
   "source": [
    "import pandas\n",
    "df = pandas.DataFrame([dict(x=1, t=\"e\"), dict(x=3, t=\"f\"), dict(x=4, t=\"e\")])\n",
    "df3 = df.merge(df, left_on=\"t\", right_on=\"t\")\n",
    "df3.head()"
   ]
  },
  {
   "cell_type": "markdown",
   "metadata": {},
   "source": [
    "Le dataframe initial a 3 lignes. On le fusionne avec lui même avec une colonne qui  contient des valeurs non distinctes. Il y a 2 ``'e'`` et 1 ``'f'``. La clé unique ``'f'`` fusionnera avec elle-même, les clés ``'e'`` fusionneront les unes avec les autres soit 2x2 = 4 lignes. Résultat : 1 + 4 = 5."
   ]
  },
  {
   "cell_type": "markdown",
   "metadata": {},
   "source": [
    "## Dataframes\n",
    "\n",
    "On suppose qu'on a un fichier de données trop gros pour être chargé en mémoire. On veut produire des statistiques simples.\n",
    "Pour tester votre code, vous pourrez utiliser le fichier *data.txt* construit comme suit :"
   ]
  },
  {
   "cell_type": "code",
   "execution_count": 18,
   "metadata": {
    "collapsed": true
   },
   "outputs": [],
   "source": [
    "import pandas\n",
    "url = \"https://archive.ics.uci.edu/ml/machine-learning-databases/00350/\"\n",
    "url += \"default%20of%20credit%20card%20clients.xls\"\n",
    "df = pandas.read_excel(url, skiprows=1)\n",
    "df.to_csv(\"data.txt\", encoding=\"utf-8\", sep=\"\\t\", index=False)"
   ]
  },
  {
   "cell_type": "markdown",
   "metadata": {},
   "source": [
    "### Q1\n",
    "\n",
    "Ecrire une fonction qui agrège un dataset par **AGE** et calcule le mininum, maximum et la moyenne en une seule fois pour les variables **LIMIT_BAL**, **default payment next month** et qui calcule le nombre d'observations partageant le même **AGE**."
   ]
  },
  {
   "cell_type": "code",
   "execution_count": 21,
   "metadata": {
    "collapsed": false
   },
   "outputs": [
    {
     "data": {
      "text/html": [
       "<div>\n",
       "<table border=\"1\" class=\"dataframe\">\n",
       "  <thead>\n",
       "    <tr>\n",
       "      <th></th>\n",
       "      <th colspan=\"3\" halign=\"left\">LIMIT_BAL</th>\n",
       "      <th>ID</th>\n",
       "      <th colspan=\"3\" halign=\"left\">default payment next month</th>\n",
       "    </tr>\n",
       "    <tr>\n",
       "      <th></th>\n",
       "      <th>min</th>\n",
       "      <th>max</th>\n",
       "      <th>mean</th>\n",
       "      <th>len</th>\n",
       "      <th>min</th>\n",
       "      <th>max</th>\n",
       "      <th>mean</th>\n",
       "    </tr>\n",
       "    <tr>\n",
       "      <th>AGE</th>\n",
       "      <th></th>\n",
       "      <th></th>\n",
       "      <th></th>\n",
       "      <th></th>\n",
       "      <th></th>\n",
       "      <th></th>\n",
       "      <th></th>\n",
       "    </tr>\n",
       "  </thead>\n",
       "  <tbody>\n",
       "    <tr>\n",
       "      <th>21</th>\n",
       "      <td>10000</td>\n",
       "      <td>60000</td>\n",
       "      <td>23283.582090</td>\n",
       "      <td>67</td>\n",
       "      <td>0</td>\n",
       "      <td>1</td>\n",
       "      <td>0.208955</td>\n",
       "    </tr>\n",
       "    <tr>\n",
       "      <th>22</th>\n",
       "      <td>10000</td>\n",
       "      <td>200000</td>\n",
       "      <td>37928.571429</td>\n",
       "      <td>560</td>\n",
       "      <td>0</td>\n",
       "      <td>1</td>\n",
       "      <td>0.301786</td>\n",
       "    </tr>\n",
       "    <tr>\n",
       "      <th>23</th>\n",
       "      <td>10000</td>\n",
       "      <td>500000</td>\n",
       "      <td>59752.953813</td>\n",
       "      <td>931</td>\n",
       "      <td>0</td>\n",
       "      <td>1</td>\n",
       "      <td>0.265306</td>\n",
       "    </tr>\n",
       "    <tr>\n",
       "      <th>24</th>\n",
       "      <td>10000</td>\n",
       "      <td>420000</td>\n",
       "      <td>75661.047028</td>\n",
       "      <td>1127</td>\n",
       "      <td>0</td>\n",
       "      <td>1</td>\n",
       "      <td>0.266193</td>\n",
       "    </tr>\n",
       "    <tr>\n",
       "      <th>25</th>\n",
       "      <td>10000</td>\n",
       "      <td>500000</td>\n",
       "      <td>102731.871838</td>\n",
       "      <td>1186</td>\n",
       "      <td>0</td>\n",
       "      <td>1</td>\n",
       "      <td>0.254637</td>\n",
       "    </tr>\n",
       "  </tbody>\n",
       "</table>\n",
       "</div>"
      ],
      "text/plain": [
       "    LIMIT_BAL                           ID default payment next month      \\\n",
       "          min     max           mean   len                        min max   \n",
       "AGE                                                                         \n",
       "21      10000   60000   23283.582090    67                          0   1   \n",
       "22      10000  200000   37928.571429   560                          0   1   \n",
       "23      10000  500000   59752.953813   931                          0   1   \n",
       "24      10000  420000   75661.047028  1127                          0   1   \n",
       "25      10000  500000  102731.871838  1186                          0   1   \n",
       "\n",
       "               \n",
       "         mean  \n",
       "AGE            \n",
       "21   0.208955  \n",
       "22   0.301786  \n",
       "23   0.265306  \n",
       "24   0.266193  \n",
       "25   0.254637  "
      ]
     },
     "execution_count": 21,
     "metadata": {},
     "output_type": "execute_result"
    }
   ],
   "source": [
    "res = df.groupby(\"AGE\").agg({\"LIMIT_BAL\": (min, max, numpy.mean),\n",
    "                        \"ID\":len,\n",
    "                        \"default payment next month\": (min, max, numpy.mean)})\n",
    "res.head()"
   ]
  },
  {
   "cell_type": "markdown",
   "metadata": {},
   "source": [
    "### Q2\n",
    "\n",
    "Lire la documentation de [read_csv](http://pandas.pydata.org/pandas-docs/stable/generated/pandas.read_csv.html). On veut charger un fichier en plusieurs morceaux et pour chaque morceau, calculer l'agrégation ci-dessus. Le nom des colonnes n'est présent qu'à la première ligne du programme."
   ]
  },
  {
   "cell_type": "code",
   "execution_count": 26,
   "metadata": {
    "collapsed": false
   },
   "outputs": [
    {
     "data": {
      "text/html": [
       "<div>\n",
       "<table border=\"1\" class=\"dataframe\">\n",
       "  <thead>\n",
       "    <tr>\n",
       "      <th></th>\n",
       "      <th colspan=\"3\" halign=\"left\">LIMIT_BAL</th>\n",
       "      <th>ID</th>\n",
       "      <th colspan=\"3\" halign=\"left\">default payment next month</th>\n",
       "    </tr>\n",
       "    <tr>\n",
       "      <th></th>\n",
       "      <th>min</th>\n",
       "      <th>max</th>\n",
       "      <th>mean</th>\n",
       "      <th>len</th>\n",
       "      <th>min</th>\n",
       "      <th>max</th>\n",
       "      <th>mean</th>\n",
       "    </tr>\n",
       "    <tr>\n",
       "      <th>AGE</th>\n",
       "      <th></th>\n",
       "      <th></th>\n",
       "      <th></th>\n",
       "      <th></th>\n",
       "      <th></th>\n",
       "      <th></th>\n",
       "      <th></th>\n",
       "    </tr>\n",
       "  </thead>\n",
       "  <tbody>\n",
       "    <tr>\n",
       "      <th>21</th>\n",
       "      <td>10000</td>\n",
       "      <td>60000</td>\n",
       "      <td>23846.153846</td>\n",
       "      <td>26</td>\n",
       "      <td>0</td>\n",
       "      <td>1</td>\n",
       "      <td>0.192308</td>\n",
       "    </tr>\n",
       "    <tr>\n",
       "      <th>22</th>\n",
       "      <td>10000</td>\n",
       "      <td>150000</td>\n",
       "      <td>34720.812183</td>\n",
       "      <td>197</td>\n",
       "      <td>0</td>\n",
       "      <td>1</td>\n",
       "      <td>0.279188</td>\n",
       "    </tr>\n",
       "    <tr>\n",
       "      <th>23</th>\n",
       "      <td>10000</td>\n",
       "      <td>500000</td>\n",
       "      <td>63718.750000</td>\n",
       "      <td>320</td>\n",
       "      <td>0</td>\n",
       "      <td>1</td>\n",
       "      <td>0.268750</td>\n",
       "    </tr>\n",
       "    <tr>\n",
       "      <th>24</th>\n",
       "      <td>10000</td>\n",
       "      <td>400000</td>\n",
       "      <td>71879.518072</td>\n",
       "      <td>415</td>\n",
       "      <td>0</td>\n",
       "      <td>1</td>\n",
       "      <td>0.306024</td>\n",
       "    </tr>\n",
       "    <tr>\n",
       "      <th>25</th>\n",
       "      <td>10000</td>\n",
       "      <td>440000</td>\n",
       "      <td>100143.540670</td>\n",
       "      <td>418</td>\n",
       "      <td>0</td>\n",
       "      <td>1</td>\n",
       "      <td>0.277512</td>\n",
       "    </tr>\n",
       "  </tbody>\n",
       "</table>\n",
       "</div>"
      ],
      "text/plain": [
       "    LIMIT_BAL                          ID default payment next month      \\\n",
       "          min     max           mean  len                        min max   \n",
       "AGE                                                                        \n",
       "21      10000   60000   23846.153846   26                          0   1   \n",
       "22      10000  150000   34720.812183  197                          0   1   \n",
       "23      10000  500000   63718.750000  320                          0   1   \n",
       "24      10000  400000   71879.518072  415                          0   1   \n",
       "25      10000  440000  100143.540670  418                          0   1   \n",
       "\n",
       "               \n",
       "         mean  \n",
       "AGE            \n",
       "21   0.192308  \n",
       "22   0.279188  \n",
       "23   0.268750  \n",
       "24   0.306024  \n",
       "25   0.277512  "
      ]
     },
     "execution_count": 26,
     "metadata": {},
     "output_type": "execute_result"
    }
   ],
   "source": [
    "aggs = []\n",
    "step = 10000\n",
    "columns = None\n",
    "for i in range(0, df.shape[0], step):\n",
    "    part = pandas.read_csv(\"data.txt\", encoding=\"utf-8\", sep=\"\\t\",\n",
    "                        skiprows=i, \n",
    "                        nrows=step, \n",
    "                        header=0 if columns is None else None,\n",
    "                        names=columns)\n",
    "    agg = part.groupby(\"AGE\").agg({\"LIMIT_BAL\": (min, max, numpy.mean),\n",
    "                        \"ID\":len,\n",
    "                        \"default payment next month\": (min, max, numpy.mean)})\n",
    "    aggs.append(agg)\n",
    "    if columns is None:\n",
    "        columns = part.columns\n",
    "\n",
    "tout = pandas.concat(aggs)\n",
    "tout.head()"
   ]
  },
  {
   "cell_type": "markdown",
   "metadata": {},
   "source": [
    "Les points importants :\n",
    "    \n",
    "* on utilise la fonction [read_csv](http://pandas.pydata.org/pandas-docs/stable/generated/pandas.read_csv.html) pour lire le fichier par morceaux avec *skip_rows* et *nrows*\n",
    "* on calcul les statistiques sur chaque morceau\n",
    "* le nom des colonnes n'apparaît qu'à la première ligne, donc il faut les conserver pour les ajouter lorsqu'on charge le second morceau du fichier (et les suivant)"
   ]
  },
  {
   "cell_type": "markdown",
   "metadata": {},
   "source": [
    "### Q3\n",
    "\n",
    "Le dataframe ``tout`` est la concaténation de deux dataframes contenant des informations aggrégées pour chaque morceau. On veut maintenant obtenir les mêmes informations agrégrées pour l'ensemble des données uniquement à partir du dataframe ``tout``. Ecrire le code qui fait cette agrégation."
   ]
  },
  {
   "cell_type": "code",
   "execution_count": 30,
   "metadata": {
    "collapsed": false
   },
   "outputs": [
    {
     "data": {
      "text/html": [
       "<div>\n",
       "<table border=\"1\" class=\"dataframe\">\n",
       "  <thead>\n",
       "    <tr>\n",
       "      <th></th>\n",
       "      <th>ID</th>\n",
       "      <th colspan=\"4\" halign=\"left\">LIMIT_BAL</th>\n",
       "      <th colspan=\"4\" halign=\"left\">default payment next month</th>\n",
       "    </tr>\n",
       "    <tr>\n",
       "      <th></th>\n",
       "      <th>len</th>\n",
       "      <th>max</th>\n",
       "      <th>mean</th>\n",
       "      <th>min</th>\n",
       "      <th>w</th>\n",
       "      <th>max</th>\n",
       "      <th>mean</th>\n",
       "      <th>min</th>\n",
       "      <th>w</th>\n",
       "    </tr>\n",
       "    <tr>\n",
       "      <th>AGE</th>\n",
       "      <th></th>\n",
       "      <th></th>\n",
       "      <th></th>\n",
       "      <th></th>\n",
       "      <th></th>\n",
       "      <th></th>\n",
       "      <th></th>\n",
       "      <th></th>\n",
       "      <th></th>\n",
       "    </tr>\n",
       "  </thead>\n",
       "  <tbody>\n",
       "    <tr>\n",
       "      <th>21</th>\n",
       "      <td>67</td>\n",
       "      <td>60000</td>\n",
       "      <td>23283.582090</td>\n",
       "      <td>10000</td>\n",
       "      <td>1560000</td>\n",
       "      <td>1</td>\n",
       "      <td>0.208955</td>\n",
       "      <td>0</td>\n",
       "      <td>14</td>\n",
       "    </tr>\n",
       "    <tr>\n",
       "      <th>22</th>\n",
       "      <td>560</td>\n",
       "      <td>200000</td>\n",
       "      <td>37928.571429</td>\n",
       "      <td>10000</td>\n",
       "      <td>21240000</td>\n",
       "      <td>1</td>\n",
       "      <td>0.301786</td>\n",
       "      <td>0</td>\n",
       "      <td>169</td>\n",
       "    </tr>\n",
       "    <tr>\n",
       "      <th>23</th>\n",
       "      <td>931</td>\n",
       "      <td>500000</td>\n",
       "      <td>59752.953813</td>\n",
       "      <td>10000</td>\n",
       "      <td>55630000</td>\n",
       "      <td>1</td>\n",
       "      <td>0.265306</td>\n",
       "      <td>0</td>\n",
       "      <td>247</td>\n",
       "    </tr>\n",
       "    <tr>\n",
       "      <th>24</th>\n",
       "      <td>1127</td>\n",
       "      <td>420000</td>\n",
       "      <td>75661.047028</td>\n",
       "      <td>10000</td>\n",
       "      <td>85270000</td>\n",
       "      <td>1</td>\n",
       "      <td>0.266193</td>\n",
       "      <td>0</td>\n",
       "      <td>300</td>\n",
       "    </tr>\n",
       "    <tr>\n",
       "      <th>25</th>\n",
       "      <td>1186</td>\n",
       "      <td>500000</td>\n",
       "      <td>102731.871838</td>\n",
       "      <td>10000</td>\n",
       "      <td>121840000</td>\n",
       "      <td>1</td>\n",
       "      <td>0.254637</td>\n",
       "      <td>0</td>\n",
       "      <td>302</td>\n",
       "    </tr>\n",
       "  </tbody>\n",
       "</table>\n",
       "</div>"
      ],
      "text/plain": [
       "       ID LIMIT_BAL                                   \\\n",
       "      len       max           mean    min          w   \n",
       "AGE                                                    \n",
       "21     67     60000   23283.582090  10000    1560000   \n",
       "22    560    200000   37928.571429  10000   21240000   \n",
       "23    931    500000   59752.953813  10000   55630000   \n",
       "24   1127    420000   75661.047028  10000   85270000   \n",
       "25   1186    500000  102731.871838  10000  121840000   \n",
       "\n",
       "    default payment next month                     \n",
       "                           max      mean min    w  \n",
       "AGE                                                \n",
       "21                           1  0.208955   0   14  \n",
       "22                           1  0.301786   0  169  \n",
       "23                           1  0.265306   0  247  \n",
       "24                           1  0.266193   0  300  \n",
       "25                           1  0.254637   0  302  "
      ]
     },
     "execution_count": 30,
     "metadata": {},
     "output_type": "execute_result"
    }
   ],
   "source": [
    "tout[(\"LIMIT_BAL\",\"w\")] = tout[(\"LIMIT_BAL\", \"mean\")] * tout[(\"ID\", \"len\")]\n",
    "# faire attention aux pondérations ici\n",
    "tout[(\"default payment next month\",\"w\")] = tout[(\"default payment next month\", \"mean\")] * tout[(\"ID\", \"len\")]\n",
    "toutm = tout.reset_index()\n",
    "\n",
    "tout_agg = toutm.groupby(\"AGE\").agg({ (\"LIMIT_BAL\", \"min\"): min,\n",
    "                                     (\"LIMIT_BAL\", \"max\"): max,\n",
    "                                     (\"LIMIT_BAL\", \"w\"): sum,\n",
    "                                     (\"default payment next month\", \"min\"): min,\n",
    "                                     (\"default payment next month\", \"max\"): max,\n",
    "                                     (\"default payment next month\", \"w\"): sum,\n",
    "                                     (\"ID\", \"len\"):sum,\n",
    "                                    })\n",
    "# et là\n",
    "tout_agg[(\"LIMIT_BAL\", \"mean\")] = tout_agg[(\"LIMIT_BAL\", \"w\")] / tout_agg[(\"ID\", \"len\")]\n",
    "tout_agg[(\"default payment next month\", \"mean\")] = tout_agg[(\"default payment next month\", \"w\")] / tout_agg[(\"ID\", \"len\")]\n",
    "tout_agg = tout_agg [ sorted(tout_agg.columns)]\n",
    "tout_agg.head()"
   ]
  },
  {
   "cell_type": "markdown",
   "metadata": {},
   "source": [
    "Calculer une moyenne sur des observations est assez facile mais cela se complique quand on fait une moyenne de moyennes. Il faut retenir le nombre d'observations que représente chaque moyenne sinon la moyenne finale sera fausse. Cela explique la ligne 3."
   ]
  },
  {
   "cell_type": "markdown",
   "metadata": {},
   "source": [
    "### Q4\n",
    "\n",
    "Tracer un histogramme avec la valeur moyenne de la variable ``LIMIT_BAL``, on ajoutera deux lignes pour les valeurs *min* et *max*. Quelques indications : [How to align the bar and line in matplotlib two y-axes chart?](http://stackoverflow.com/questions/19952290/how-to-align-the-bar-and-line-in-matplotlib-two-y-axes-chart)."
   ]
  },
  {
   "cell_type": "code",
   "execution_count": 31,
   "metadata": {
    "collapsed": false
   },
   "outputs": [
    {
     "data": {
      "text/plain": [
       "<matplotlib.text.Text at 0xd88be48>"
      ]
     },
     "execution_count": 31,
     "metadata": {},
     "output_type": "execute_result"
    },
    {
     "data": {
      "image/png": "[encoded data removed]",
      "text/plain": [
       "<matplotlib.figure.Figure at 0x59302e8>"
      ]
     },
     "metadata": {},
     "output_type": "display_data"
    }
   ],
   "source": [
    "data = tout_agg\n",
    "f, ax = plt.subplots(figsize=(8,4))\n",
    "data.plot(y=(\"LIMIT_BAL\", \"mean\"), label=\"avg LIMIT_BAL\", kind=\"bar\", ax=ax)\n",
    "x = ax.get_xticks()\n",
    "data.plot(x=x, y=(\"LIMIT_BAL\", \"min\"), label=\"min\", kind=\"line\", ax=ax, color=\"green\")\n",
    "data.plot(x=x, y=(\"LIMIT_BAL\", \"max\"), label=\"max\", kind=\"line\", ax=ax)\n",
    "data.plot(x=x, y=(\"LIMIT_BAL\", \"mean\"), label=\"avg LIMIT_BAL\", kind=\"line\", ax=ax)\n",
    "ax.xaxis.set_ticks(x[::5])\n",
    "ax.xaxis.set_ticklabels(x[::5]+min(data.index))\n",
    "ax.set_title(\"average LIMIT_BAL per age\")"
   ]
  },
  {
   "cell_type": "code",
   "execution_count": null,
   "metadata": {
    "collapsed": true
   },
   "outputs": [],
   "source": []
  }
 ],
 "metadata": {
  "kernelspec": {
   "display_name": "Python 3",
   "language": "python",
   "name": "python3"
  },
  "language_info": {
   "codemirror_mode": {
    "name": "ipython",
    "version": 3
   },
   "file_extension": ".py",
   "mimetype": "text/x-python",
   "name": "python",
   "nbconvert_exporter": "python",
   "pygments_lexer": "ipython3",
   "version": "3.4.3"
  }
 },
 "nbformat": 4,
 "nbformat_minor": 0
}
