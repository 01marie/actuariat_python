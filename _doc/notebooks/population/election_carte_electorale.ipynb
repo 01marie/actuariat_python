{
 "cells": [
  {
   "cell_type": "markdown",
   "metadata": {},
   "source": [
    "# Elections et cartes électorales - énoncé"
   ]
  },
  {
   "cell_type": "code",
   "execution_count": null,
   "metadata": {
    "collapsed": false
   },
   "outputs": [
    {
     "data": {
      "text/html": [
       "<div id=\"my_id_menu_nb\">run previous cell, wait for 2 seconds</div>\n",
       "<script>\n",
       "function repeat_indent_string(n){\n",
       "    var a = \"\" ;\n",
       "    for ( ; n > 0 ; --n) {\n",
       "        a += \"    \";\n",
       "    }\n",
       "    return a;\n",
       "}\n",
       "var update_menu_string = function(begin, lfirst, llast, sformat, send, keep_item) {\n",
       "    var anchors = document.getElementsByClassName(\"section\");\n",
       "    if (anchors.length == 0) {\n",
       "        anchors = document.getElementsByClassName(\"text_cell_render rendered_html\");\n",
       "    }\n",
       "    var i,t;\n",
       "    var text_menu = begin;\n",
       "    var text_memo = \"<pre>\\nlength:\" + anchors.length + \"\\n\";\n",
       "    var ind = \"\";\n",
       "    var memo_level = 1;\n",
       "    var href;\n",
       "    var tags = [];\n",
       "    var main_item = 0;\n",
       "    for (i = 0; i <= llast; i++) {\n",
       "        tags.push(\"h\" + i);\n",
       "    }\n",
       "\n",
       "    for (i = 0; i < anchors.length; i++) {\n",
       "        text_memo += \"**\" + anchors[i].id + \"--\\n\";\n",
       "\n",
       "        var child = null;\n",
       "        for(t = 0; t < tags.length; t++) {\n",
       "            var r = anchors[i].getElementsByTagName(tags[t]);\n",
       "            if (r.length > 0) {\n",
       "child = r[0];\n",
       "break;\n",
       "            }\n",
       "        }\n",
       "        if (child == null){\n",
       "            text_memo += \"null\\n\";\n",
       "            continue;\n",
       "        }\n",
       "        if (anchors[i].hasAttribute(\"id\")) {\n",
       "            // when converted in RST\n",
       "            href = anchors[i].id;\n",
       "            text_memo += \"#1-\" + href;\n",
       "            // passer à child suivant (le chercher)\n",
       "        }\n",
       "        else if (child.hasAttribute(\"id\")) {\n",
       "            // in a notebook\n",
       "            href = child.id;\n",
       "            text_memo += \"#2-\" + href;\n",
       "        }\n",
       "        else {\n",
       "            text_memo += \"#3-\" + \"*\" + \"\\n\";\n",
       "            continue;\n",
       "        }\n",
       "        var title = child.textContent;\n",
       "        var level = parseInt(child.tagName.substring(1,2));\n",
       "\n",
       "        text_memo += \"--\" + level + \"?\" + lfirst + \"--\" + title + \"\\n\";\n",
       "\n",
       "        if ((level < lfirst) || (level > llast)) {\n",
       "            continue ;\n",
       "        }\n",
       "        if (title.endsWith('¶')) {\n",
       "            title = title.substring(0,title.length-1).replace(\"<\", \"&lt;\").replace(\">\", \"&gt;\").replace(\"&\", \"&amp;\")\n",
       "        }\n",
       "\n",
       "        if (title.length == 0) {\n",
       "            continue;\n",
       "        }\n",
       "\n",
       "        while (level < memo_level) {\n",
       "            text_menu += \"</ul>\\n\";\n",
       "            memo_level -= 1;\n",
       "        }\n",
       "        if (level == lfirst) {\n",
       "            main_item += 1;\n",
       "        }\n",
       "        if (keep_item != -1 && main_item != keep_item + 1) {\n",
       "            // alert(main_item + \" - \" + level + \" - \" + keep_item);\n",
       "            continue;\n",
       "        }\n",
       "        while (level > memo_level) {\n",
       "            text_menu += \"<ul>\\n\";\n",
       "            memo_level += 1;\n",
       "        }\n",
       "        text_menu += repeat_indent_string(level-2) + sformat.replace(\"__HREF__\", href).replace(\"__TITLE__\", title);\n",
       "    }\n",
       "    while (1 < memo_level) {\n",
       "        text_menu += \"</ul>\\n\";\n",
       "        memo_level -= 1;\n",
       "    }\n",
       "    text_menu += send;\n",
       "    //text_menu += \"\\n\" + text_memo;\n",
       "    return text_menu;\n",
       "};\n",
       "var update_menu = function() {\n",
       "    var sbegin = \"\";\n",
       "    var sformat = '<li><a href=\"#__HREF__\">__TITLE__</a></li>';\n",
       "    var send = \"\";\n",
       "    var keep_item = -1;\n",
       "    var text_menu = update_menu_string(sbegin, 2, 4, sformat, send, keep_item);\n",
       "    var menu = document.getElementById(\"my_id_menu_nb\");\n",
       "    menu.innerHTML=text_menu;\n",
       "};\n",
       "window.setTimeout(update_menu,2000);\n",
       "            </script>"
      ],
      "text/plain": [
       "<IPython.core.display.HTML object>"
      ]
     },
     "execution_count": null,
     "metadata": {},
     "output_type": "execute_result"
    }
   ],
   "source": [
    "from pyquickhelper.ipythonhelper import add_notebook_menu\n",
    "add_notebook_menu()"
   ]
  },
  {
   "cell_type": "markdown",
   "metadata": {},
   "source": [
    "D'après wikipédia, le [Gerrymandering](https://fr.wikipedia.org/wiki/Gerrymandering) est un terme politique nord-américain pour désigner le découpage des circonscriptions électorales ayant pour objectif de donner l’avantage à un parti, un candidat, ou un groupe donné. Et c'est ce que nous allons faire dans cette séance."
   ]
  },
  {
   "cell_type": "markdown",
   "metadata": {},
   "source": [
    "## Données\n",
    "\n",
    "Les données sont deux types, les résultats aux précédentes élections législatives et la définition géométrique de chaque circonscription.\n",
    "\n",
    "* [Résultat des élections législatives françaises de 2012 au niveau bureau de vote](https://www.data.gouv.fr/fr/datasets/resultat-des-elections-legislatives-francaises-de-2012-au-niveau-bureau-de-vote-nd/)\n",
    "* [Countours des circonscriptions des législatives](https://www.data.gouv.fr/fr/datasets/countours-des-circonscriptions-des-legislatives-nd/)\n",
    "\n",
    "On peut télécharger cette donnée ou les récupérer via les fonctions implémentées dans ce module."
   ]
  },
  {
   "cell_type": "markdown",
   "metadata": {},
   "source": [
    "### Résultats des élections législatives"
   ]
  },
  {
   "cell_type": "code",
   "execution_count": null,
   "metadata": {
    "collapsed": false
   },
   "outputs": [],
   "source": [
    "from actuariat_python.data import elections_legislatives_bureau_vote\n",
    "tour = elections_legislatives_bureau_vote()"
   ]
  },
  {
   "cell_type": "code",
   "execution_count": null,
   "metadata": {
    "collapsed": false
   },
   "outputs": [
    {
     "data": {
      "text/html": [
       "<div>\n",
       "<table border=\"1\" class=\"dataframe\">\n",
       "  <thead>\n",
       "    <tr style=\"text-align: right;\">\n",
       "      <th></th>\n",
       "      <th>N° tour</th>\n",
       "      <th>Code département</th>\n",
       "      <th>Code de la commune</th>\n",
       "      <th>Nom de la commune</th>\n",
       "      <th>N° de circonscription Lg</th>\n",
       "      <th>N° de canton</th>\n",
       "      <th>N° de bureau de vote</th>\n",
       "      <th>Inscrits</th>\n",
       "      <th>Votants</th>\n",
       "      <th>Exprimés</th>\n",
       "      <th>N° de dépôt du candidat</th>\n",
       "      <th>Nom du candidat</th>\n",
       "      <th>Prénom du candidat</th>\n",
       "      <th>Code nuance du candidat</th>\n",
       "      <th>Nombre de voix du candidat</th>\n",
       "    </tr>\n",
       "  </thead>\n",
       "  <tbody>\n",
       "    <tr>\n",
       "      <th>3858</th>\n",
       "      <td>2</td>\n",
       "      <td>01</td>\n",
       "      <td>16</td>\n",
       "      <td>Arbigny</td>\n",
       "      <td>1</td>\n",
       "      <td>26</td>\n",
       "      <td>0001</td>\n",
       "      <td>309</td>\n",
       "      <td>146</td>\n",
       "      <td>144</td>\n",
       "      <td>32</td>\n",
       "      <td>BRETON</td>\n",
       "      <td>Xavier</td>\n",
       "      <td>UMP</td>\n",
       "      <td>87</td>\n",
       "    </tr>\n",
       "    <tr>\n",
       "      <th>3859</th>\n",
       "      <td>2</td>\n",
       "      <td>01</td>\n",
       "      <td>16</td>\n",
       "      <td>Arbigny</td>\n",
       "      <td>1</td>\n",
       "      <td>26</td>\n",
       "      <td>0001</td>\n",
       "      <td>309</td>\n",
       "      <td>146</td>\n",
       "      <td>144</td>\n",
       "      <td>33</td>\n",
       "      <td>DEBAT</td>\n",
       "      <td>Jean-François</td>\n",
       "      <td>SOC</td>\n",
       "      <td>57</td>\n",
       "    </tr>\n",
       "    <tr>\n",
       "      <th>3871</th>\n",
       "      <td>2</td>\n",
       "      <td>01</td>\n",
       "      <td>24</td>\n",
       "      <td>Attignat</td>\n",
       "      <td>1</td>\n",
       "      <td>21</td>\n",
       "      <td>0001</td>\n",
       "      <td>746</td>\n",
       "      <td>425</td>\n",
       "      <td>411</td>\n",
       "      <td>32</td>\n",
       "      <td>BRETON</td>\n",
       "      <td>Xavier</td>\n",
       "      <td>UMP</td>\n",
       "      <td>233</td>\n",
       "    </tr>\n",
       "    <tr>\n",
       "      <th>3872</th>\n",
       "      <td>2</td>\n",
       "      <td>01</td>\n",
       "      <td>24</td>\n",
       "      <td>Attignat</td>\n",
       "      <td>1</td>\n",
       "      <td>21</td>\n",
       "      <td>0001</td>\n",
       "      <td>746</td>\n",
       "      <td>425</td>\n",
       "      <td>411</td>\n",
       "      <td>33</td>\n",
       "      <td>DEBAT</td>\n",
       "      <td>Jean-François</td>\n",
       "      <td>SOC</td>\n",
       "      <td>178</td>\n",
       "    </tr>\n",
       "    <tr>\n",
       "      <th>3873</th>\n",
       "      <td>2</td>\n",
       "      <td>01</td>\n",
       "      <td>24</td>\n",
       "      <td>Attignat</td>\n",
       "      <td>1</td>\n",
       "      <td>21</td>\n",
       "      <td>0002</td>\n",
       "      <td>1311</td>\n",
       "      <td>801</td>\n",
       "      <td>792</td>\n",
       "      <td>32</td>\n",
       "      <td>BRETON</td>\n",
       "      <td>Xavier</td>\n",
       "      <td>UMP</td>\n",
       "      <td>446</td>\n",
       "    </tr>\n",
       "  </tbody>\n",
       "</table>\n",
       "</div>"
      ],
      "text/plain": [
       "      N° tour Code département  Code de la commune Nom de la commune  \\\n",
       "3858        2               01                  16           Arbigny   \n",
       "3859        2               01                  16           Arbigny   \n",
       "3871        2               01                  24          Attignat   \n",
       "3872        2               01                  24          Attignat   \n",
       "3873        2               01                  24          Attignat   \n",
       "\n",
       "      N° de circonscription Lg  N° de canton N° de bureau de vote  Inscrits  \\\n",
       "3858                         1            26                 0001       309   \n",
       "3859                         1            26                 0001       309   \n",
       "3871                         1            21                 0001       746   \n",
       "3872                         1            21                 0001       746   \n",
       "3873                         1            21                 0002      1311   \n",
       "\n",
       "      Votants  Exprimés  N° de dépôt du candidat Nom du candidat  \\\n",
       "3858      146       144                       32          BRETON   \n",
       "3859      146       144                       33           DEBAT   \n",
       "3871      425       411                       32          BRETON   \n",
       "3872      425       411                       33           DEBAT   \n",
       "3873      801       792                       32          BRETON   \n",
       "\n",
       "     Prénom du candidat Code nuance du candidat  Nombre de voix du candidat  \n",
       "3858             Xavier                     UMP                          87  \n",
       "3859      Jean-François                     SOC                          57  \n",
       "3871             Xavier                     UMP                         233  \n",
       "3872      Jean-François                     SOC                         178  \n",
       "3873             Xavier                     UMP                         446  "
      ]
     },
     "execution_count": null,
     "metadata": {},
     "output_type": "execute_result"
    }
   ],
   "source": [
    "tour[\"T2\"].sort_values([\"Code département\", \"N° de circonscription Lg\"]).head()"
   ]
  },
  {
   "cell_type": "markdown",
   "metadata": {},
   "source": [
    "### Géolocalisation des circonscription"
   ]
  },
  {
   "cell_type": "code",
   "execution_count": null,
   "metadata": {
    "collapsed": true
   },
   "outputs": [],
   "source": [
    "from actuariat_python.data import elections_legislatives_circonscription_geo\n",
    "geo = elections_legislatives_circonscription_geo()"
   ]
  },
  {
   "cell_type": "code",
   "execution_count": null,
   "metadata": {
    "collapsed": false
   },
   "outputs": [
    {
     "data": {
      "text/html": [
       "<div>\n",
       "<table border=\"1\" class=\"dataframe\">\n",
       "  <thead>\n",
       "    <tr style=\"text-align: right;\">\n",
       "      <th></th>\n",
       "      <th>code_circonscription</th>\n",
       "      <th>department</th>\n",
       "      <th>numero</th>\n",
       "      <th>communes</th>\n",
       "      <th>kml_shape</th>\n",
       "      <th>simple_form</th>\n",
       "    </tr>\n",
       "  </thead>\n",
       "  <tbody>\n",
       "    <tr>\n",
       "      <th>11</th>\n",
       "      <td>01001</td>\n",
       "      <td>01</td>\n",
       "      <td>1</td>\n",
       "      <td>01053-01072-01106-01150-01177-01184-01195-0124...</td>\n",
       "      <td>&lt;Polygon&gt;&lt;outerBoundaryIs&gt;&lt;LinearRing&gt;&lt;coordin...</td>\n",
       "      <td>False</td>\n",
       "    </tr>\n",
       "    <tr>\n",
       "      <th>12</th>\n",
       "      <td>01002</td>\n",
       "      <td>01</td>\n",
       "      <td>2</td>\n",
       "      <td>01008-01047-01099-01202-01213-01224-01366-0138...</td>\n",
       "      <td>&lt;Polygon&gt;&lt;outerBoundaryIs&gt;&lt;LinearRing&gt;&lt;coordin...</td>\n",
       "      <td>True</td>\n",
       "    </tr>\n",
       "    <tr>\n",
       "      <th>13</th>\n",
       "      <td>01003</td>\n",
       "      <td>01</td>\n",
       "      <td>3</td>\n",
       "      <td>01033-01044-01081-01091-01174-01189-01215-0125...</td>\n",
       "      <td>&lt;Polygon&gt;&lt;outerBoundaryIs&gt;&lt;LinearRing&gt;&lt;coordin...</td>\n",
       "      <td>True</td>\n",
       "    </tr>\n",
       "    <tr>\n",
       "      <th>14</th>\n",
       "      <td>01004</td>\n",
       "      <td>01</td>\n",
       "      <td>4</td>\n",
       "      <td>01023-01025-01026-01144-01159-01231-01320-0133...</td>\n",
       "      <td>&lt;Polygon&gt;&lt;outerBoundaryIs&gt;&lt;LinearRing&gt;&lt;coordin...</td>\n",
       "      <td>False</td>\n",
       "    </tr>\n",
       "    <tr>\n",
       "      <th>15</th>\n",
       "      <td>01005</td>\n",
       "      <td>01</td>\n",
       "      <td>5</td>\n",
       "      <td>01002-01004-01007-01041-01089-01149-01345-0137...</td>\n",
       "      <td>&lt;Polygon&gt;&lt;outerBoundaryIs&gt;&lt;LinearRing&gt;&lt;coordin...</td>\n",
       "      <td>True</td>\n",
       "    </tr>\n",
       "  </tbody>\n",
       "</table>\n",
       "</div>"
      ],
      "text/plain": [
       "   code_circonscription department  numero  \\\n",
       "11                01001         01       1   \n",
       "12                01002         01       2   \n",
       "13                01003         01       3   \n",
       "14                01004         01       4   \n",
       "15                01005         01       5   \n",
       "\n",
       "                                             communes  \\\n",
       "11  01053-01072-01106-01150-01177-01184-01195-0124...   \n",
       "12  01008-01047-01099-01202-01213-01224-01366-0138...   \n",
       "13  01033-01044-01081-01091-01174-01189-01215-0125...   \n",
       "14  01023-01025-01026-01144-01159-01231-01320-0133...   \n",
       "15  01002-01004-01007-01041-01089-01149-01345-0137...   \n",
       "\n",
       "                                            kml_shape simple_form  \n",
       "11  <Polygon><outerBoundaryIs><LinearRing><coordin...       False  \n",
       "12  <Polygon><outerBoundaryIs><LinearRing><coordin...        True  \n",
       "13  <Polygon><outerBoundaryIs><LinearRing><coordin...        True  \n",
       "14  <Polygon><outerBoundaryIs><LinearRing><coordin...       False  \n",
       "15  <Polygon><outerBoundaryIs><LinearRing><coordin...        True  "
      ]
     },
     "execution_count": null,
     "metadata": {},
     "output_type": "execute_result"
    }
   ],
   "source": [
    "geo.sort_values([\"department\", \"code_circonscription\"]).head()"
   ]
  },
  {
   "cell_type": "code",
   "execution_count": null,
   "metadata": {
    "collapsed": false
   },
   "outputs": [
    {
     "data": {
      "text/plain": [
       "['01016', '01024', '01029', '01038', '01040']"
      ]
     },
     "execution_count": null,
     "metadata": {},
     "output_type": "execute_result"
    }
   ],
   "source": [
    "c = list(geo.sort_values([\"department\", \"code_circonscription\"])[\"communes\"])[0].split(\"-\")\n",
    "c.sort()\n",
    "c[:5]"
   ]
  },
  {
   "cell_type": "code",
   "execution_count": null,
   "metadata": {
    "collapsed": false
   },
   "outputs": [
    {
     "data": {
      "text/plain": [
       "['<Polygon><outerBoundaryIs><LinearRing><coordinates>5.294455999999968,46.193934 5.279780999999957,46.201967 5.2820520000000215,46.211633 5.258239693115229,46.21151582325097 5.2581992646485105,46.2083773977195 5.246123010742167,46.20489445115752 5.245254158935495,46.20280868033653 5.240432576904368,46.199348983660926 5.23716710070812,46.19529946757567 5.229953412841837,46.195408656674 5.226543291137659,46.20120799400516 5.214944595275824,46.20383315680887 5.210212354492228,46.20764618417071 5.205343111083948,46.20376238484074 5.206997000000001,46.191323 5.19510600000001,46.18786 5.187468999999965,46.190827 5.170859999999948,46.203126 5.162395999999944,46.199387 5.15610700000002,46.189904 5.142047000000048,46.192223 5.123888999999963,46.207671 5.111119000000031,46.203891 5.097426000000041,46.206108 5.089811999999938,46.195268 5.068122000000017,46.208969 5.058287999999948,46.22074 5.05758000000003,46.224014 5.065923999999995,46.231556 5.093984999999975,46.232529 5.095609999999965,46.235634 5.0915129999999635,46.250725 5.067033000000038,46.253046 5.047692999999981,46.250829 5.034760000000006,46.25606 5.027125000000069,46.264835 5.022599000000014,46.270653 5.025237999999945,46.27702 5.0366390000000365,46.286329 5.03779499999996,46.296424 5.011349999999993,46.304235 5.008049000000028,46.313805 5.025981999999999,46.319235 5.0349670000000515,46.332568 5.018135000000029,46.347235 5.004950000000008,46.356205 4.98293000000001,46.359589 4.976036000000022,46.352773 4.958721999999966,46.358602 4.947116999999935,46.369538 4.932804000000033,46.367719 4.930385999999999,46.372948 4.8962810000000445,46.384617 4.897916000000009,46.398713 4.888207999999963,46.402982 4.888682000000017,46.417448 4.891531999999984,46.427525 4.891796999999997,46.438555 4.892886999999973,46.442572 4.894444000000021,46.445374 4.914447999999993,46.462163 4.914530000000013,46.480113 4.914522000000034,46.481374 4.91528500000004,46.488234 4.926993000000039,46.499251 4.92961600000001,46.50408 4.933591999999976,46.512453 4.935599000000025,46.514229 4.947349000000031,46.513723 4.946786999999972,46.507113 4.953710999999998,46.504112 4.962766999999985,46.506749 4.97047299999997,46.51421 4.980216000000041,46.515203 5.00636899999995,46.509703 5.010593999999969,46.51107 5.01423299999999,46.50045 5.05475100000001,46.484281 5.07144900000003,46.485817 5.09522800000002,46.497508 5.112967000000026,46.493137 5.134029999999939,46.501447 5.136367000000064,46.507808 5.14104199999997,46.508585 5.164164000000028,46.504745 5.165839000000005,46.517675 5.177177000000029,46.511434 5.201221000000032,46.507821 5.203565000000026,46.504803 5.200342999999975,46.502568 5.2094809999999825,46.492105 5.206684999999993,46.486177 5.213031000000001,46.481541 5.215063999999984,46.468359 5.224697999999989,46.468352 5.236259000000018,46.457785 5.248004000000037,46.459374 5.25627099999997,46.451879 5.273677000000021,46.448588 5.310561000000007,46.446775 5.32172700000001,46.428955 5.309671999999978,46.423615 5.307822999999985,46.417157 5.312332999999967,46.416021 5.298806000000013,46.415528 5.299958999999944,46.412289 5.309146000000055,46.410257 5.334092000000055,46.399723 5.3481160000000045,46.399417 5.367105000000038,46.388692 5.377881000000002,46.382324 5.365074999999933,46.373077 5.363472000000002,46.37002 5.375389000000041,46.364844 5.375761000000011,46.358431 5.373462000000018,46.352236 5.383367000000021,46.344877 5.400995999999964,46.3393 5.401686000000041,46.332799 5.4040410000000065,46.315668 5.404053999999974,46.314767 5.410239999999931,46.309105 5.416931999999974,46.342873 5.423534000000018,46.347732 5.437145999999984,46.315127 5.454476,46.317998 5.465180000000032,46.323542 5.475304999999935,46.315385 5.466531000000032,46.293242 5.459000999999944,46.290531 5.457672000000002,46.276848 5.471308000000022,46.26721 5.475362000000018,46.265221 5.499594999999999,46.268205 5.502609000000007,46.270211 5.511369999999943,46.26436 5.51186400000006,46.257853 5.50287800000001,46.245411 5.494106999999985,46.242144 5.46908099999996,46.212365 5.464535999999953,46.210869 5.460665000000063,46.213097 5.454173999999966,46.216805 5.450403000000051,46.215184 5.451294999999959,46.208723 5.46410000000003,46.204347 5.466176000000019,46.191076 5.46054300000003,46.18609 5.454643000000033,46.181506 5.461671000000024,46.177417 5.446460000000002,46.152159 5.430090999999948,46.139357 5.43449899999996,46.125677 5.431788999999981,46.122699 5.421692000000007,46.1226 5.4127750000000106,46.124015 5.4093820000000505,46.118726 5.405267999999978,46.118273 5.39823899999999,46.098224 5.401965000000018,46.08837 5.399834999999939,46.085253 5.386187000000064,46.081649 5.383172000000059,46.075109 5.376326000000063,46.059 5.378545000000031,46.053161 5.374886999999944,46.048147 5.367076999999995,46.044365 5.352794000000017,46.04495 5.351631999999995,46.035335 5.339034999999967,46.039632 5.334828000000016,46.038052 5.324753999999984,46.04179 5.3118409999999585,46.025424 5.310352999999964,46.011554 5.305977999999982,46.001878 5.299062000000049,45.99691 5.29071399999998,45.993548 5.286965000000009,45.987002 5.275816999999961,45.998064 5.27370099999996,46.015052 5.25696199999993,46.021486 5.263284999999996,46.034044 5.261357999999973,46.03719 5.2586579999999685,46.043559 5.254462999999987,46.048534 5.2451469999999745,46.041863 5.2245040000000245,46.034586 5.210403000000042,46.035808 5.2019599999999855,46.050404 5.187967999999955,46.052846 5.176518999999985,46.064011 5.178200000000061,46.081266 5.1829139999999825,46.080995 5.1864799999999605,46.087331 5.194266999999968,46.09137 5.235487000000035,46.100474 5.239908000000014,46.112963 5.235547999999994,46.129318 5.238933999999972,46.135783 5.2344419999999445,46.145429 5.246138999999971,46.14909 5.248986999999943,46.154682 5.2586180000000695,46.156266 5.277324000000021,46.151893 5.29046500000004,46.154917 5.307536000000027,46.153346 5.312217000000032,46.16107 5.3077429999999595,46.166278 5.310639000000037,46.168562 5.304237000000057,46.172322 5.300876000000017,46.18093 5.294455999999968,46.193934</coordinates></LinearRing></outerBoundaryIs></Polygon>']"
      ]
     },
     "execution_count": null,
     "metadata": {},
     "output_type": "execute_result"
    }
   ],
   "source": [
    "list(geo.sort_values([\"department\", \"code_circonscription\"])[\"kml_shape\"])[:1]"
   ]
  },
  {
   "cell_type": "markdown",
   "metadata": {},
   "source": [
    "### Géolocation des bureaux de vote\n",
    "\n",
    "Ces données sont importantes afin de pouvoir associer chaque bureau à une circonscription. Les bureaux sont assez stables d'une élection à l'autre et cela ne devrait pas trop poser de problèmes si on mélane les données. En revanche, ces données sont assez difficiles à obtenir. [open.data.fr](https://www.data.gouv.fr/fr/datasets/?q=bureaux+de+vote&page=1) propose ces données mais il faut récupérer chaque ville ou chaque région séparément sans garantie de réussir à couvrir tout le territoire. Le site [NosDonnes.fr](http://www.nosdonnees.fr/dataset/golocalisation-des-bureaux-de-votes) recense bien toutes ces informations mais il n'est pas possible - au moment où j'écris ces lignes - de récupérer ces données sous la forme d'un fichier plat. De plus, certaines régions ne sont disponibles que sous forme de scan d'impressions papier. C'est en lisant l'article [Comment redécoupe-t-on la carte électorale?](http://www.slate.fr/story/3945/comment-redecouper-t-la-carte-electorale) que je suis tombé finalement sur la base constituée pour rédiger l'article [Etude sur le redécoupage électoral : évaluer le poids politique de la réforme](https://www.regardscitoyens.org/etude-sur-le-redecoupage-electoral-poids-politique-reforme/). Les données sont accessibles sur [RegardsCitoyens.fr](https://www.regardscitoyens.org/publication/#donnees) et en cherchant bien, on trouve le répertoire [redécoupage](https://www.regardscitoyens.org/telechargement/redecoupage/) et le fichier [2014041401_resultats.csv.zip](https://www.regardscitoyens.org/telechargement/redecoupage/2014041401_resultats.csv.zip). Cependant, la géolocalisation des bureaux n'est pas souvent renseignée. On peut se contenter des fichiers obtenus pour quelques zones seulement : [Paris](https://www.data.gouv.fr/fr/datasets/liste-des-bureaux-de-vote-prs/), [Gironde](https://www.data.gouv.fr/fr/datasets/geo-localisation-des-bureaux-de-vote-du-departement-de-la-gironde-rdl/), [Montpellier](https://www.data.gouv.fr/fr/datasets/bureaux-de-vote-mtn/), [Marseille](https://www.data.gouv.fr/fr/datasets/bureaux-de-vote-de-marseille-op/), [Saint-Malo](https://www.data.gouv.fr/fr/datasets/emplacement-des-bureaux-de-vote/), [Nogent-Sur-Marne](https://www.data.gouv.fr/fr/datasets/bureaux-de-vote-de-la-ville-de-nogent-sur-marne/), [Haut-de-Seine](https://www.data.gouv.fr/fr/datasets/bureaux-de-vote-7/), [Toulouse](https://www.data.gouv.fr/fr/datasets/bureaux-de-vote-2012/), [Grand-Poitiers](https://www.data.gouv.fr/fr/datasets/citoyennete-bureaux-de-vote-grand-poitiers-donnees-de-reference/), [Calvados](https://www.data.gouv.fr/fr/datasets/bureaux-centralisateurs-des-circonscriptions-cantonales-dans-le-calvados/). Cette approche risque d'être fastidieuse dans la mesure où les formats pour chaque ville ont de grande chance d'être différent. \n",
    "\n",
    "La meilleure option est peut-être de scrapper le site [bureaudevote.fr](http://bureaudevote.fr/bureaudevote00.htm) - qui fonctionne bien quand il n'est pas en maintenance - en espérant que les numéros des bureaux de votes correspondent. Le site propose seulement les adresses. Il faudra utiliser une API de geocoding. Quelque soit la source, on supposera alors que tous les bureaux de vote associés au même emplacement feront nécessairement partie de la même circonscription. Bref, **l'open data passe aussi par une certaine standardisation !**\n",
    "\n",
    "Certains départements ne sont pas renseignés, la Drôme par exemple. Il faut aller sur d'autres sites comme [linternaute.com](http://www.linternaute.com/ville/valence/ville-26362/bureaux-vote#ville-26362-1), accéder à la [carte](http://www.linternaute.com/ville/p-bureau-vote#trouver-bureau-vote), mais il faudra un peu plus de temps pour récupérer toutes ces informations. Le code proposé ci-dessus récupère les coordonnées des bureaux de vote. Cela prend plusieurs heures et il faut relancer le processus quand il s'arrête pour une erreur de réseau. Il est conseillé de télécharger le résultat. Le géocodeur d'[OpenStreetMap](http://openstreetmap.fr/) n'est pas de très bonne qualité sur la France. Il ne retourne rien dans plus d'un tiers des cas. On peut compléter avec l'[API de Bing Maps](https://www.microsoft.com/maps/choose-your-bing-maps-API.aspx)."
   ]
  },
  {
   "cell_type": "code",
   "execution_count": 1,
   "metadata": {
    "collapsed": false
   },
   "outputs": [],
   "source": [
    "from actuariat_python.data import elections_vote_place_address\n",
    "bureau = elections_vote_place_address(hide_warning=True)"
   ]
  },
  {
   "cell_type": "code",
   "execution_count": 2,
   "metadata": {
    "collapsed": false
   },
   "outputs": [
    {
     "data": {
      "text/html": [
       "<div>\n",
       "<table border=\"1\" class=\"dataframe\">\n",
       "  <thead>\n",
       "    <tr style=\"text-align: right;\">\n",
       "      <th></th>\n",
       "      <th>address</th>\n",
       "      <th>city</th>\n",
       "      <th>n</th>\n",
       "      <th>place</th>\n",
       "      <th>zip</th>\n",
       "    </tr>\n",
       "  </thead>\n",
       "  <tbody>\n",
       "    <tr>\n",
       "      <th>0</th>\n",
       "      <td>cours verdun</td>\n",
       "      <td>bourg</td>\n",
       "      <td>1</td>\n",
       "      <td>salle des fêtes</td>\n",
       "      <td>01000</td>\n",
       "    </tr>\n",
       "    <tr>\n",
       "      <th>1</th>\n",
       "      <td>cours verdun</td>\n",
       "      <td>bourg</td>\n",
       "      <td>2</td>\n",
       "      <td>salle des fêtes</td>\n",
       "      <td>01000</td>\n",
       "    </tr>\n",
       "    <tr>\n",
       "      <th>2</th>\n",
       "      <td>rue antoine de saint exupéry</td>\n",
       "      <td>bourg-en-bresse</td>\n",
       "      <td>3</td>\n",
       "      <td>groupe scolaire saint-exupéry - salle de jeux,...</td>\n",
       "      <td>01000</td>\n",
       "    </tr>\n",
       "    <tr>\n",
       "      <th>3</th>\n",
       "      <td>11 avenue de l’égalité</td>\n",
       "      <td>bourg-en-bresse</td>\n",
       "      <td>4</td>\n",
       "      <td>charles perrault - école primaire</td>\n",
       "      <td>01000</td>\n",
       "    </tr>\n",
       "    <tr>\n",
       "      <th>4</th>\n",
       "      <td>11 avenue de l’égalité</td>\n",
       "      <td>bourg-en-bresse</td>\n",
       "      <td>5</td>\n",
       "      <td>charles perrault - école primaire</td>\n",
       "      <td>01000</td>\n",
       "    </tr>\n",
       "  </tbody>\n",
       "</table>\n",
       "</div>"
      ],
      "text/plain": [
       "                        address             city  n  \\\n",
       "0                  cours verdun            bourg  1   \n",
       "1                  cours verdun            bourg  2   \n",
       "2  rue antoine de saint exupéry  bourg-en-bresse  3   \n",
       "3        11 avenue de l’égalité  bourg-en-bresse  4   \n",
       "4        11 avenue de l’égalité  bourg-en-bresse  5   \n",
       "\n",
       "                                               place    zip  \n",
       "0                                    salle des fêtes  01000  \n",
       "1                                    salle des fêtes  01000  \n",
       "2  groupe scolaire saint-exupéry - salle de jeux,...  01000  \n",
       "3                  charles perrault - école primaire  01000  \n",
       "4                  charles perrault - école primaire  01000  "
      ]
     },
     "execution_count": 2,
     "metadata": {},
     "output_type": "execute_result"
    }
   ],
   "source": [
    "bureau.head()"
   ]
  },
  {
   "cell_type": "markdown",
   "metadata": {},
   "source": [
    "On récupère une clé pour utiliser l'[API de Bing Maps](https://www.microsoft.com/maps/choose-your-bing-maps-API.aspx) avec le module [keyring](http://pythonhosted.org/keyring/). Pour stocker son mot de passe sur la machine, il suffit d'écrire :\n",
    "\n",
    "```\n",
    "import keyring\n",
    "keyring.set_password(\"bing\", os.environ[\"COMPUTERNAME\"], \"key\")\n",
    "```"
   ]
  },
  {
   "cell_type": "code",
   "execution_count": null,
   "metadata": {
    "collapsed": false
   },
   "outputs": [
    {
     "data": {
      "text/plain": [
       "2"
      ]
     },
     "execution_count": 3,
     "metadata": {},
     "output_type": "execute_result"
    }
   ],
   "source": [
    "import keyring, os\n",
    "bing_key = keyring.get_password(\"bing\", os.environ[\"COMPUTERNAME\"])\n",
    "coders = [\"Nominatim\"]\n",
    "if bing_key:\n",
    "    # si la clé a été trouvée\n",
    "    coders.append((\"bing\", bing_key))\n",
    "len(coders)"
   ]
  },
  {
   "cell_type": "code",
   "execution_count": null,
   "metadata": {
    "collapsed": false
   },
   "outputs": [
    {
     "name": "stdout",
     "output_type": "stream",
     "text": [
      "2016-09-20 22:30:07 load  bureau.dump.txt\n",
      "2016-09-20 22:30:07 saving place 0/11207 - errors=0 - no-result=0\n",
      "2016-09-20 22:31:09 saving place 100/11207 - errors=0 - no-result=11\n",
      "2016-09-20 22:32:20 saving place 200/11207 - errors=0 - no-result=11\n",
      "2016-09-20 22:32:52 saving place 300/11207 - errors=0 - no-result=11\n",
      "2016-09-20 22:34:19 saving place 400/11207 - errors=0 - no-result=11\n",
      "2016-09-20 22:35:19 saving place 500/11207 - errors=0 - no-result=11\n",
      "2016-09-20 22:36:48 saving place 600/11207 - errors=0 - no-result=16\n",
      "2016-09-20 22:37:33 saving place 700/11207 - errors=0 - no-result=16\n",
      "2016-09-20 22:38:54 saving place 800/11207 - errors=0 - no-result=21\n"
     ]
    }
   ],
   "source": [
    "from actuariat_python.data import geocode\n",
    "from pyquickhelper.loghelper import fLOG\n",
    "fLOG(OutputPrint=True)\n",
    "bureau_geo = geocode(bureau, fLOG=fLOG, index=False, encoding=\"utf-8\",\n",
    "                     exc=False, save_every=\"bureau.dump.txt\", sep=\"\\t\", every=100,\n",
    "                     coders=coders)"
   ]
  },
  {
   "cell_type": "markdown",
   "metadata": {},
   "source": [
    "On pourra finalement récupérer la base des géocodes comme ceci :"
   ]
  },
  {
   "cell_type": "code",
   "execution_count": null,
   "metadata": {
    "collapsed": true
   },
   "outputs": [],
   "source": [
    "from actuariat_python.data import elections_vote_places_geo\n",
    "places = elections_vote_places_geo()\n",
    "places.head()"
   ]
  },
  {
   "cell_type": "markdown",
   "metadata": {},
   "source": [
    "## Exercice 1\n",
    "\n",
    "* Etablir un plan d'action\n",
    "* Détailler la mise en oeuvre de ce plan à partir des données\n",
    "* Répartir les tâches sur plusieurs équipes"
   ]
  },
  {
   "cell_type": "markdown",
   "metadata": {},
   "source": [
    "## Exercice 2\n",
    "\n",
    "Mettre en oeuvre le plan d'action."
   ]
  },
  {
   "cell_type": "code",
   "execution_count": null,
   "metadata": {
    "collapsed": true
   },
   "outputs": [],
   "source": []
  }
 ],
 "metadata": {
  "kernelspec": {
   "display_name": "Python 3",
   "language": "python",
   "name": "python3"
  },
  "language_info": {
   "codemirror_mode": {
    "name": "ipython",
    "version": 3
   },
   "file_extension": ".py",
   "mimetype": "text/x-python",
   "name": "python",
   "nbconvert_exporter": "python",
   "pygments_lexer": "ipython3",
   "version": "3.5.0"
  }
 },
 "nbformat": 4,
 "nbformat_minor": 1
}
