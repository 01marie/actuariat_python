{
  "cells": [
    {
      "cell_type": "markdown",
      "metadata": {},
      "source": [
        "# Elections et cartes \u00e9lectorales - correction"
      ]
    },
    {
      "cell_type": "code",
      "execution_count": null,
      "metadata": {
        "ExecuteTime": {
          "end_time": "2016-10-29T13:51:07.032691",
          "start_time": "2016-10-29T13:51:07.022170"
        },
        "collapsed": false
      },
      "outputs": [
        {
          "data": {
            "text/html": [
              "<div id=\"my_id_menu_nb\">run previous cell, wait for 2 seconds</div>\n",
              "<script>\n",
              "function repeat_indent_string(n){\n",
              "    var a = \"\" ;\n",
              "    for ( ; n > 0 ; --n) {\n",
              "        a += \"    \";\n",
              "    }\n",
              "    return a;\n",
              "}\n",
              "var update_menu_string = function(begin, lfirst, llast, sformat, send, keep_item) {\n",
              "    var anchors = document.getElementsByClassName(\"section\");\n",
              "    if (anchors.length == 0) {\n",
              "        anchors = document.getElementsByClassName(\"text_cell_render rendered_html\");\n",
              "    }\n",
              "    var i,t;\n",
              "    var text_menu = begin;\n",
              "    var text_memo = \"<pre>\\nlength:\" + anchors.length + \"\\n\";\n",
              "    var ind = \"\";\n",
              "    var memo_level = 1;\n",
              "    var href;\n",
              "    var tags = [];\n",
              "    var main_item = 0;\n",
              "    for (i = 0; i <= llast; i++) {\n",
              "        tags.push(\"h\" + i);\n",
              "    }\n",
              "\n",
              "    for (i = 0; i < anchors.length; i++) {\n",
              "        text_memo += \"**\" + anchors[i].id + \"--\\n\";\n",
              "\n",
              "        var child = null;\n",
              "        for(t = 0; t < tags.length; t++) {\n",
              "            var r = anchors[i].getElementsByTagName(tags[t]);\n",
              "            if (r.length > 0) {\n",
              "child = r[0];\n",
              "break;\n",
              "            }\n",
              "        }\n",
              "        if (child == null){\n",
              "            text_memo += \"null\\n\";\n",
              "            continue;\n",
              "        }\n",
              "        if (anchors[i].hasAttribute(\"id\")) {\n",
              "            // when converted in RST\n",
              "            href = anchors[i].id;\n",
              "            text_memo += \"#1-\" + href;\n",
              "            // passer \u00e0 child suivant (le chercher)\n",
              "        }\n",
              "        else if (child.hasAttribute(\"id\")) {\n",
              "            // in a notebook\n",
              "            href = child.id;\n",
              "            text_memo += \"#2-\" + href;\n",
              "        }\n",
              "        else {\n",
              "            text_memo += \"#3-\" + \"*\" + \"\\n\";\n",
              "            continue;\n",
              "        }\n",
              "        var title = child.textContent;\n",
              "        var level = parseInt(child.tagName.substring(1,2));\n",
              "\n",
              "        text_memo += \"--\" + level + \"?\" + lfirst + \"--\" + title + \"\\n\";\n",
              "\n",
              "        if ((level < lfirst) || (level > llast)) {\n",
              "            continue ;\n",
              "        }\n",
              "        if (title.endsWith('\u00b6')) {\n",
              "            title = title.substring(0,title.length-1).replace(\"<\", \"&lt;\").replace(\">\", \"&gt;\").replace(\"&\", \"&amp;\")\n",
              "        }\n",
              "\n",
              "        if (title.length == 0) {\n",
              "            continue;\n",
              "        }\n",
              "\n",
              "        while (level < memo_level) {\n",
              "            text_menu += \"</ul>\\n\";\n",
              "            memo_level -= 1;\n",
              "        }\n",
              "        if (level == lfirst) {\n",
              "            main_item += 1;\n",
              "        }\n",
              "        if (keep_item != -1 && main_item != keep_item + 1) {\n",
              "            // alert(main_item + \" - \" + level + \" - \" + keep_item);\n",
              "            continue;\n",
              "        }\n",
              "        while (level > memo_level) {\n",
              "            text_menu += \"<ul>\\n\";\n",
              "            memo_level += 1;\n",
              "        }\n",
              "        text_menu += repeat_indent_string(level-2) + sformat.replace(\"__HREF__\", href).replace(\"__TITLE__\", title);\n",
              "    }\n",
              "    while (1 < memo_level) {\n",
              "        text_menu += \"</ul>\\n\";\n",
              "        memo_level -= 1;\n",
              "    }\n",
              "    text_menu += send;\n",
              "    //text_menu += \"\\n\" + text_memo;\n",
              "    return text_menu;\n",
              "};\n",
              "var update_menu = function() {\n",
              "    var sbegin = \"\";\n",
              "    var sformat = '<li><a href=\"#__HREF__\">__TITLE__</a></li>';\n",
              "    var send = \"\";\n",
              "    var keep_item = -1;\n",
              "    var text_menu = update_menu_string(sbegin, 2, 4, sformat, send, keep_item);\n",
              "    var menu = document.getElementById(\"my_id_menu_nb\");\n",
              "    menu.innerHTML=text_menu;\n",
              "};\n",
              "window.setTimeout(update_menu,2000);\n",
              "            </script>"
            ],
            "text/plain": [
              "<IPython.core.display.HTML object>"
            ]
          },
          "execution_count": null,
          "metadata": {},
          "output_type": "execute_result"
        }
      ],
      "source": [
        "from jyquickhelper import add_notebook_menu\n",
        "add_notebook_menu()"
      ]
    },
    {
      "cell_type": "code",
      "execution_count": null,
      "metadata": {
        "ExecuteTime": {
          "end_time": "2016-10-29T12:26:47.116900",
          "start_time": "2016-10-29T12:26:46.428899"
        },
        "collapsed": true
      },
      "outputs": [],
      "source": [
        "%matplotlib inline\n",
        "import matplotlib.pyplot as plt\n",
        "plt.style.use('ggplot')"
      ]
    },
    {
      "cell_type": "markdown",
      "metadata": {},
      "source": [
        "## Plan"
      ]
    },
    {
      "cell_type": "markdown",
      "metadata": {},
      "source": [
        "Bidouiller les cartes \u00e9lectorales n'est pas facile mais il n'est pas n\u00e9cessaire d'\u00eatre tr\u00e8s efficace pour orienter la d\u00e9cision dans un sens ou dans l'autre. L'id\u00e9e principale consiste \u00e0 bouger des \u00e9lecteurs d'une circoncription \u00e0 l'autre pour favoriser les candidats d'un seul parti. Il faut que ces candidats sont \u00e9lus avec une majorit\u00e9 suffisante tandis que les candidats adversaires doivent l'\u00eatre avec une grande majorit\u00e9. C'est une fa\u00e7on de donner plus d'importance aux voix d'un seul parti car elles annulent celles des autres. L'objectif vis\u00e9 est la pr\u00e9paration d'une prochaine \u00e9lection \u00e0 partir des r\u00e9sultats de la pr\u00e9c\u00e9dente sans que cela se voit trop. Mais nous pourrions essayer de faire basculer les r\u00e9sultats d'une \u00e9lection dans un camp ou dans l'autre. Voici un exemple avec trois circonscriptions voisins et de taille \u00e9quivalente."
      ]
    },
    {
      "cell_type": "code",
      "execution_count": null,
      "metadata": {
        "ExecuteTime": {
          "end_time": "2016-10-29T12:26:47.778306",
          "start_time": "2016-10-29T12:26:47.119905"
        },
        "collapsed": false
      },
      "outputs": [
        {
          "data": {
            "text/plain": [
              "<matplotlib.legend.Legend at 0x20d26bbf748>"
            ]
          },
          "execution_count": null,
          "metadata": {},
          "output_type": "execute_result"
        },
        {
          "data": {
            "image/png": "[encoded data removed]",
            "text/plain": [
              "<matplotlib.figure.Figure at 0x20d26a11c88>"
            ]
          },
          "metadata": {},
          "output_type": "display_data"
        }
      ],
      "source": [
        "fig, ax = plt.subplots(1, 2, sharey=True, figsize=(10,4))\n",
        "ind = [1, 2, 3]\n",
        "ind2 = [_ + 0.4 for _ in ind]\n",
        "P1 = (60, 48, 48)\n",
        "P2 = (40, 52, 52)\n",
        "ax[0].bar(ind, P1, label=\"Parti 1\", width=0.4)\n",
        "ax[0].bar(ind2, P2, label=\"Parti 2\", width=0.4)\n",
        "ax[0].plot([1,4], [50, 50], \"--\", color=\"black\")\n",
        "ax[0].set_xlabel('Circonscriptions avant')\n",
        "plt.setp(ax, xticks=ind2, xticklabels=('C1', 'C2', 'C3'))\n",
        "P1 = (55, 53, 48)\n",
        "P2 = (45, 47, 52)\n",
        "ax[1].bar(ind, P1, label=\"Parti 1\", width=0.4)\n",
        "ax[1].bar(ind2, P2, label=\"Parti 2\", width=0.4)\n",
        "ax[1].plot([1,4], [50, 50], \"--\", color=\"black\")\n",
        "ax[1].set_xlabel('Circonscriptions apr\u00e8s')\n",
        "ax[0].set_ylabel('Votes')\n",
        "plt.ylim([30, 70])\n",
        "plt.legend()"
      ]
    },
    {
      "cell_type": "markdown",
      "metadata": {},
      "source": [
        "**les moyens**\n",
        "\n",
        "Nous ne connaissons pas les votes de chaque \u00e9lecteurs mais nous connaissons les r\u00e9sultats agr\u00e9g\u00e9s au niveau des bureaux de vote. Nous ne pouvons pas influencer les r\u00e9sultats de l'\u00e9lection pr\u00e9sidentielle car les votes sont agr\u00e9g\u00e9es au niveau du pays : une voix \u00e0 Perpignan compte autant d'une voix \u00e0 Charleville-M\u00e9zi\u00e8res. C'est diff\u00e9rent pour les \u00e9lections l\u00e9gislatives. Un vote \u00e0 Charleville n'a qu'un impact dans l'une des [577 circonscriptions](http://www.elections-legislatives.fr/circonscriptions.asp). Que se passe-t-il alors si on fait basculer un bureau de vote d'une circonscription \u00e0 une autre ?"
      ]
    },
    {
      "cell_type": "markdown",
      "metadata": {},
      "source": [
        "**la strat\u00e9gie**\n",
        "\n",
        "Travailler \u00e0 plusieurs n\u00e9cessite de r\u00e9partir de travailler et d'isoler quelques fonctionnalit\u00e9s qui peuvent \u00eatre d\u00e9velopp\u00e9es en parall\u00e8le. Le premier besoin essentiel est celui de la **visualisation** des r\u00e9sultats. Nous allons faire beaucoup d'essais et il faut pouvoir rapidement visualiser le r\u00e9sultat afin d'\u00e9viter les erreurs visuellement \u00e9videntes. Comme tout projet, il faut un crit\u00e8re num\u00e9rique qui permette de r\u00e9sumer la qualit\u00e9 d'une solution. Dans notre cas, celui-ci est reli\u00e9 aux nombres de d\u00e9put\u00e9s \u00e9lus venant du parti \u00e0 favoriser. Le second besoin est l'**\u00e9valuation** d'une solution. Qu'est ce qui d\u00e9finit une solution ? Ce sont la description des circonscriptions, autrement l'appariement des bureaux de votes aux circonscriptions. Il faut r\u00e9fl\u00e9chir \u00e0 un m\u00e9canisme qui nous permette de g\u00e9n\u00e9rer plusieurs solutions, plusieurs appariements. C'est l'\u00e9tape de **g\u00e9n\u00e9ration** des solutions. C'est sans doute cette derni\u00e8re partie qui sera la plus complexe car elle doit s'int\u00e9resser aux voisinages de bureaux de votes. On peut isoler un traitement sp\u00e9cifique qui consiste \u00e0 calculer les **voisins** \u00e0 regarder \u00e0 partir d'une d\u00e9finition des circonscriptions."
      ]
    },
    {
      "cell_type": "code",
      "execution_count": null,
      "metadata": {
        "ExecuteTime": {
          "end_time": "2016-10-29T12:26:48.388527",
          "start_time": "2016-10-29T12:26:47.781305"
        },
        "collapsed": false
      },
      "outputs": [
        {
          "data": {
            "image/png": "[encoded data removed]",
            "text/plain": [
              "<IPython.core.display.Image object>"
            ]
          },
          "execution_count": null,
          "metadata": {},
          "output_type": "execute_result"
        }
      ],
      "source": [
        "from pyquickhelper.helpgen import NbImage\n",
        "NbImage(\"gerrysol.png\")"
      ]
    },
    {
      "cell_type": "markdown",
      "metadata": {},
      "source": [
        "**travailler en commun**\n",
        "\n",
        "Si chaque t\u00e2che, visualisation, \u00e9valuation, g\u00e9n\u00e9ration, peut \u00eatre con\u00e7ues en parall\u00e8le, il faut n\u00e9anmoins r\u00e9fl\u00e9chir aux interfaces : il faut que chaque \u00e9quipe sache sous quelle forme l'autre \u00e9quipe va \u00e9changer des informations avec elle. Il faut d\u00e9finir des formats communs. \n",
        "\n",
        "Avant de d\u00e9tailler ce point, il faut pr\u00e9cisier que les donn\u00e9es sont partag\u00e9es par tout le monde et sont d\u00e9crites dans des tables, il est pr\u00e9f\u00e9rable de pr\u00e9ciser les colonnes importantes dans chacune d'entre elles. Par soucis de simplification, on ne s'int\u00e9resse qu'au second tour : la m\u00e9thode ne s'adresse qu'\u00e0 un des deux partis principaux et on fait l'hypoth\u00e8se qu'ils sont majoritairement pr\u00e9sents au second tour. Les informations proviennent de plusieurs sources mais elles recouvrent :\n",
        "\n",
        "* *r\u00e9sultat des \u00e9lections* \n",
        "\n",
        "    * code d\u00e9partement + code commune + code canton + bureau de vote = **identifiant bureau de vote**\n",
        "    * **num\u00e9ro circonscription**\n",
        "    * inscrits\n",
        "    * votants\n",
        "    * exprim\u00e9s\n",
        "    * nuance du candidat\n",
        "    * nombre de voix du candidat\n",
        "    \n",
        "* *les contours des circonscription*\n",
        "    * **num\u00e9ro circonscription**\n",
        "    * contour (shape)\n",
        "  \n",
        "* *les contours des bureaux* \n",
        "\n",
        "    * code d\u00e9partement + code commune + code canton + bureau de vote = **identifiant bureau de vote**\n",
        "    * contour (shape)\n",
        "    \n",
        "En gras, les champs qui serviront \u00e0 faire des jointures ou \u00e0 calculer des r\u00e9sultats. Nous pouvons maintenant d\u00e9finir les r\u00e9sultats de la m\u00e9thode et une fa\u00e7on commune de d\u00e9crire les informations dont on a besoin tout au long de la cha\u00eene de traitement :\n",
        "\n",
        "* **solution :** un dictionnaire ``{ circonscription : [ liste des bureaux ] } ``, c'est le r\u00e9sultat principal attendu. Nous pouvons facilement construire l'association actuelle. Nous voulons changer cette association pour favoriser un parti.\n",
        "* **bureaux fonti\u00e8res et voisins :** un dictionnaire ``{ bureau : [ liste des bureaux voisins ] }``, comme l'association bureaux / association va changer, il faut reconstruire les contours des circonscriptions"
      ]
    },
    {
      "cell_type": "markdown",
      "metadata": {},
      "source": [
        "**donn\u00e9es manquantes**\n",
        "\n",
        "La location des bureaux de votes n'est pas disponible pour tous les bureaux de votes. On ne pourra d\u00e9placer que ceux qu'on sait localiser."
      ]
    },
    {
      "cell_type": "markdown",
      "metadata": {},
      "source": [
        "## Donn\u00e9es\n",
        "\n",
        "On reprend les exemples de code fournis dans le notebook de l'\u00e9nonc\u00e9.\n",
        "\n",
        "* [R\u00e9sultat des \u00e9lections l\u00e9gislatives fran\u00e7aises de 2012 au niveau bureau de vote](https://www.data.gouv.fr/fr/datasets/resultat-des-elections-legislatives-francaises-de-2012-au-niveau-bureau-de-vote-nd/)\n",
        "* [Countours des circonscriptions des l\u00e9gislatives](https://www.data.gouv.fr/fr/datasets/countours-des-circonscriptions-des-legislatives-nd/)\n",
        "* [Localisation des buraux de votes](http://www.xavierdupre.fr/enseignement/complements/bureauxvotegeo.zip)\n",
        "* [Localisation des villes](https://github.com/sdpython/actuariat_python/raw/master/src/actuariat_python/data/data_elections/villes_geo.zip)"
      ]
    },
    {
      "cell_type": "code",
      "execution_count": null,
      "metadata": {
        "ExecuteTime": {
          "end_time": "2016-10-29T12:26:51.472099",
          "start_time": "2016-10-29T12:26:48.392525"
        },
        "collapsed": false
      },
      "outputs": [
        {
          "data": {
            "text/html": [
              "<div>\n",
              "<table border=\"1\" class=\"dataframe\">\n",
              "  <thead>\n",
              "    <tr style=\"text-align: right;\">\n",
              "      <th></th>\n",
              "      <th>N\u00b0 tour</th>\n",
              "      <th>Code d\u00e9partement</th>\n",
              "      <th>Code de la commune</th>\n",
              "      <th>Nom de la commune</th>\n",
              "      <th>N\u00b0 de circonscription Lg</th>\n",
              "      <th>N\u00b0 de canton</th>\n",
              "      <th>N\u00b0 de bureau de vote</th>\n",
              "      <th>Inscrits</th>\n",
              "      <th>Votants</th>\n",
              "      <th>Exprim\u00e9s</th>\n",
              "      <th>N\u00b0 de d\u00e9p\u00f4t du candidat</th>\n",
              "      <th>Nom du candidat</th>\n",
              "      <th>Pr\u00e9nom du candidat</th>\n",
              "      <th>Code nuance du candidat</th>\n",
              "      <th>Nombre de voix du candidat</th>\n",
              "    </tr>\n",
              "  </thead>\n",
              "  <tbody>\n",
              "    <tr>\n",
              "      <th>3858</th>\n",
              "      <td>2</td>\n",
              "      <td>01</td>\n",
              "      <td>16</td>\n",
              "      <td>Arbigny</td>\n",
              "      <td>1</td>\n",
              "      <td>26</td>\n",
              "      <td>0001</td>\n",
              "      <td>309</td>\n",
              "      <td>146</td>\n",
              "      <td>144</td>\n",
              "      <td>32</td>\n",
              "      <td>BRETON</td>\n",
              "      <td>Xavier</td>\n",
              "      <td>UMP</td>\n",
              "      <td>87</td>\n",
              "    </tr>\n",
              "    <tr>\n",
              "      <th>3859</th>\n",
              "      <td>2</td>\n",
              "      <td>01</td>\n",
              "      <td>16</td>\n",
              "      <td>Arbigny</td>\n",
              "      <td>1</td>\n",
              "      <td>26</td>\n",
              "      <td>0001</td>\n",
              "      <td>309</td>\n",
              "      <td>146</td>\n",
              "      <td>144</td>\n",
              "      <td>33</td>\n",
              "      <td>DEBAT</td>\n",
              "      <td>Jean-Fran\u00e7ois</td>\n",
              "      <td>SOC</td>\n",
              "      <td>57</td>\n",
              "    </tr>\n",
              "  </tbody>\n",
              "</table>\n",
              "</div>"
            ],
            "text/plain": [
              "      N\u00b0 tour Code d\u00e9partement  Code de la commune Nom de la commune  \\\n",
              "3858        2               01                  16           Arbigny   \n",
              "3859        2               01                  16           Arbigny   \n",
              "\n",
              "      N\u00b0 de circonscription Lg  N\u00b0 de canton N\u00b0 de bureau de vote  Inscrits  \\\n",
              "3858                         1            26                 0001       309   \n",
              "3859                         1            26                 0001       309   \n",
              "\n",
              "      Votants  Exprim\u00e9s  N\u00b0 de d\u00e9p\u00f4t du candidat Nom du candidat  \\\n",
              "3858      146       144                       32          BRETON   \n",
              "3859      146       144                       33           DEBAT   \n",
              "\n",
              "     Pr\u00e9nom du candidat Code nuance du candidat  Nombre de voix du candidat  \n",
              "3858             Xavier                     UMP                          87  \n",
              "3859      Jean-Fran\u00e7ois                     SOC                          57  "
            ]
          },
          "execution_count": null,
          "metadata": {},
          "output_type": "execute_result"
        }
      ],
      "source": [
        "from actuariat_python.data import elections_legislatives_bureau_vote\n",
        "tour = elections_legislatives_bureau_vote()\n",
        "tour[\"T2\"].sort_values([\"Code d\u00e9partement\", \"N\u00b0 de circonscription Lg\"]).head(n=2)"
      ]
    },
    {
      "cell_type": "code",
      "execution_count": null,
      "metadata": {
        "ExecuteTime": {
          "end_time": "2016-10-29T12:26:51.562109",
          "start_time": "2016-10-29T12:26:51.475094"
        },
        "collapsed": false
      },
      "outputs": [
        {
          "data": {
            "text/html": [
              "<div>\n",
              "<table border=\"1\" class=\"dataframe\">\n",
              "  <thead>\n",
              "    <tr style=\"text-align: right;\">\n",
              "      <th></th>\n",
              "      <th>code_circonscription</th>\n",
              "      <th>department</th>\n",
              "      <th>numero</th>\n",
              "      <th>communes</th>\n",
              "      <th>kml_shape</th>\n",
              "      <th>simple_form</th>\n",
              "    </tr>\n",
              "  </thead>\n",
              "  <tbody>\n",
              "    <tr>\n",
              "      <th>11</th>\n",
              "      <td>01001</td>\n",
              "      <td>01</td>\n",
              "      <td>1</td>\n",
              "      <td>01053-01072-01106-01150-01177-01184-01195-0124...</td>\n",
              "      <td>&lt;Polygon&gt;&lt;outerBoundaryIs&gt;&lt;LinearRing&gt;&lt;coordin...</td>\n",
              "      <td>False</td>\n",
              "    </tr>\n",
              "    <tr>\n",
              "      <th>12</th>\n",
              "      <td>01002</td>\n",
              "      <td>01</td>\n",
              "      <td>2</td>\n",
              "      <td>01008-01047-01099-01202-01213-01224-01366-0138...</td>\n",
              "      <td>&lt;Polygon&gt;&lt;outerBoundaryIs&gt;&lt;LinearRing&gt;&lt;coordin...</td>\n",
              "      <td>True</td>\n",
              "    </tr>\n",
              "  </tbody>\n",
              "</table>\n",
              "</div>"
            ],
            "text/plain": [
              "   code_circonscription department  numero  \\\n",
              "11                01001         01       1   \n",
              "12                01002         01       2   \n",
              "\n",
              "                                             communes  \\\n",
              "11  01053-01072-01106-01150-01177-01184-01195-0124...   \n",
              "12  01008-01047-01099-01202-01213-01224-01366-0138...   \n",
              "\n",
              "                                            kml_shape simple_form  \n",
              "11  <Polygon><outerBoundaryIs><LinearRing><coordin...       False  \n",
              "12  <Polygon><outerBoundaryIs><LinearRing><coordin...        True  "
            ]
          },
          "execution_count": null,
          "metadata": {},
          "output_type": "execute_result"
        }
      ],
      "source": [
        "from actuariat_python.data import elections_legislatives_circonscription_geo\n",
        "geo = elections_legislatives_circonscription_geo()\n",
        "geo.sort_values([\"department\", \"code_circonscription\"]).head(n=2)"
      ]
    },
    {
      "cell_type": "code",
      "execution_count": null,
      "metadata": {
        "ExecuteTime": {
          "end_time": "2016-10-29T12:26:51.669124",
          "start_time": "2016-10-29T12:26:51.565104"
        },
        "collapsed": false
      },
      "outputs": [
        {
          "data": {
            "text/html": [
              "<div>\n",
              "<table border=\"1\" class=\"dataframe\">\n",
              "  <thead>\n",
              "    <tr style=\"text-align: right;\">\n",
              "      <th></th>\n",
              "      <th>address</th>\n",
              "      <th>city</th>\n",
              "      <th>n</th>\n",
              "      <th>place</th>\n",
              "      <th>zip</th>\n",
              "      <th>full_address</th>\n",
              "      <th>latitude</th>\n",
              "      <th>longitude</th>\n",
              "      <th>geo_address</th>\n",
              "    </tr>\n",
              "  </thead>\n",
              "  <tbody>\n",
              "    <tr>\n",
              "      <th>0</th>\n",
              "      <td>cours verdun</td>\n",
              "      <td>bourg</td>\n",
              "      <td>1</td>\n",
              "      <td>salle des f\u00eates</td>\n",
              "      <td>1000</td>\n",
              "      <td>cours verdun 01000 bourg</td>\n",
              "      <td>46.206605</td>\n",
              "      <td>5.228364</td>\n",
              "      <td>Cours de Verdun, Le Peloux, Les Vennes, Bourg-...</td>\n",
              "    </tr>\n",
              "    <tr>\n",
              "      <th>1</th>\n",
              "      <td>cours verdun</td>\n",
              "      <td>bourg</td>\n",
              "      <td>2</td>\n",
              "      <td>salle des f\u00eates</td>\n",
              "      <td>1000</td>\n",
              "      <td>cours verdun 01000 bourg</td>\n",
              "      <td>46.206605</td>\n",
              "      <td>5.228364</td>\n",
              "      <td>Cours de Verdun, Le Peloux, Les Vennes, Bourg-...</td>\n",
              "    </tr>\n",
              "  </tbody>\n",
              "</table>\n",
              "</div>"
            ],
            "text/plain": [
              "        address   city  n            place   zip              full_address  \\\n",
              "0  cours verdun  bourg  1  salle des f\u00eates  1000  cours verdun 01000 bourg   \n",
              "1  cours verdun  bourg  2  salle des f\u00eates  1000  cours verdun 01000 bourg   \n",
              "\n",
              "    latitude  longitude                                        geo_address  \n",
              "0  46.206605   5.228364  Cours de Verdun, Le Peloux, Les Vennes, Bourg-...  \n",
              "1  46.206605   5.228364  Cours de Verdun, Le Peloux, Les Vennes, Bourg-...  "
            ]
          },
          "execution_count": null,
          "metadata": {},
          "output_type": "execute_result"
        }
      ],
      "source": [
        "from actuariat_python.data import elections_vote_places_geo\n",
        "bureau_geo = elections_vote_places_geo()\n",
        "bureau_geo.head(n=2)"
      ]
    },
    {
      "cell_type": "markdown",
      "metadata": {},
      "source": [
        "## Statistiques"
      ]
    },
    {
      "cell_type": "code",
      "execution_count": null,
      "metadata": {
        "ExecuteTime": {
          "end_time": "2016-10-29T12:26:51.681123",
          "start_time": "2016-10-29T12:26:51.672121"
        },
        "collapsed": false
      },
      "outputs": [
        {
          "data": {
            "text/plain": [
              "Index(['N\u00b0 tour', 'Code d\u00e9partement', 'Code de la commune',\n",
              "       'Nom de la commune', 'N\u00b0 de circonscription Lg', 'N\u00b0 de canton',\n",
              "       'N\u00b0 de bureau de vote', 'Inscrits', 'Votants', 'Exprim\u00e9s',\n",
              "       'N\u00b0 de d\u00e9p\u00f4t du candidat', 'Nom du candidat', 'Pr\u00e9nom du candidat',\n",
              "       'Code nuance du candidat', 'Nombre de voix du candidat'],\n",
              "      dtype='object')"
            ]
          },
          "execution_count": null,
          "metadata": {},
          "output_type": "execute_result"
        }
      ],
      "source": [
        "t2 = tour[\"T2\"]\n",
        "t2.columns"
      ]
    },
    {
      "cell_type": "markdown",
      "metadata": {},
      "source": [
        "Nous allons ajouter un identifiant pour les bureaux et les circonscriptions afin d'op\u00e9rer facilement des fusions entre base de donn\u00e9es plus facilement. Comme l'objectif est de changer les bureaux de vote de circonscription, le code de la circonscription ne peut pas \u00eatre utilis\u00e9 pour identifier un bureau de vote. Nous allons v\u00e9rifier que cette hypoth\u00e8se tient la route. Codes choisis :\n",
        "\n",
        "* identifiant cironscription : **DDCCC#**, ``D`` pour code d\u00e9partement, ``C`` pour code circonscription\n",
        "* identifiant bureau de vote : **DDMMAABBB#**, ``D`` pour code d\u00e9partement, ``M`` pour code commune, ``A`` pour code canton, ``B`` pour code bureau"
      ]
    },
    {
      "cell_type": "code",
      "execution_count": null,
      "metadata": {
        "ExecuteTime": {
          "end_time": "2016-10-29T12:27:08.579498",
          "start_time": "2016-10-29T12:26:51.684123"
        },
        "collapsed": false
      },
      "outputs": [
        {
          "data": {
            "text/html": [
              "<div>\n",
              "<table border=\"1\" class=\"dataframe\">\n",
              "  <thead>\n",
              "    <tr style=\"text-align: right;\">\n",
              "      <th></th>\n",
              "      <th>N\u00b0 tour</th>\n",
              "      <th>Code d\u00e9partement</th>\n",
              "      <th>Code de la commune</th>\n",
              "      <th>Nom de la commune</th>\n",
              "      <th>N\u00b0 de circonscription Lg</th>\n",
              "      <th>N\u00b0 de canton</th>\n",
              "      <th>N\u00b0 de bureau de vote</th>\n",
              "      <th>Inscrits</th>\n",
              "      <th>Votants</th>\n",
              "      <th>Exprim\u00e9s</th>\n",
              "      <th>N\u00b0 de d\u00e9p\u00f4t du candidat</th>\n",
              "      <th>Nom du candidat</th>\n",
              "      <th>Pr\u00e9nom du candidat</th>\n",
              "      <th>Code nuance du candidat</th>\n",
              "      <th>Nombre de voix du candidat</th>\n",
              "      <th>idbureau</th>\n",
              "    </tr>\n",
              "  </thead>\n",
              "  <tbody>\n",
              "    <tr>\n",
              "      <th>0</th>\n",
              "      <td>2</td>\n",
              "      <td>ZA</td>\n",
              "      <td>101</td>\n",
              "      <td>Les Abymes</td>\n",
              "      <td>1</td>\n",
              "      <td>1</td>\n",
              "      <td>0001</td>\n",
              "      <td>477</td>\n",
              "      <td>252</td>\n",
              "      <td>236</td>\n",
              "      <td>9</td>\n",
              "      <td>JALTON</td>\n",
              "      <td>Eric</td>\n",
              "      <td>SOC</td>\n",
              "      <td>182</td>\n",
              "      <td>ZA10101001#</td>\n",
              "    </tr>\n",
              "    <tr>\n",
              "      <th>1</th>\n",
              "      <td>2</td>\n",
              "      <td>ZA</td>\n",
              "      <td>101</td>\n",
              "      <td>Les Abymes</td>\n",
              "      <td>1</td>\n",
              "      <td>1</td>\n",
              "      <td>0001</td>\n",
              "      <td>477</td>\n",
              "      <td>252</td>\n",
              "      <td>236</td>\n",
              "      <td>17</td>\n",
              "      <td>DURIMEL</td>\n",
              "      <td>Harry</td>\n",
              "      <td>VEC</td>\n",
              "      <td>54</td>\n",
              "      <td>ZA10101001#</td>\n",
              "    </tr>\n",
              "  </tbody>\n",
              "</table>\n",
              "</div>"
            ],
            "text/plain": [
              "   N\u00b0 tour Code d\u00e9partement  Code de la commune Nom de la commune  \\\n",
              "0        2               ZA                 101        Les Abymes   \n",
              "1        2               ZA                 101        Les Abymes   \n",
              "\n",
              "   N\u00b0 de circonscription Lg  N\u00b0 de canton N\u00b0 de bureau de vote  Inscrits  \\\n",
              "0                         1             1                 0001       477   \n",
              "1                         1             1                 0001       477   \n",
              "\n",
              "   Votants  Exprim\u00e9s  N\u00b0 de d\u00e9p\u00f4t du candidat Nom du candidat  \\\n",
              "0      252       236                        9          JALTON   \n",
              "1      252       236                       17         DURIMEL   \n",
              "\n",
              "  Pr\u00e9nom du candidat Code nuance du candidat  Nombre de voix du candidat  \\\n",
              "0               Eric                     SOC                         182   \n",
              "1              Harry                     VEC                          54   \n",
              "\n",
              "      idbureau  \n",
              "0  ZA10101001#  \n",
              "1  ZA10101001#  "
            ]
          },
          "execution_count": null,
          "metadata": {},
          "output_type": "execute_result"
        }
      ],
      "source": [
        "cols = [\"Code d\u00e9partement\", \"Code de la commune\", \"N\u00b0 de canton\", \"N\u00b0 de bureau de vote\"]\n",
        "def code_bureau(dd, cc, aa, bb):\n",
        "    bb = bb if isinstance(bb, str) else (\"%03d\" % bb)\n",
        "    if len(bb) > 3: bb = bb[-3:]\n",
        "    cc = cc if isinstance(cc, str) else (\"%03d\" % cc)\n",
        "    aa = aa if isinstance(aa, str) else (\"%02d\" % aa)\n",
        "    dd = dd if isinstance(dd, str) else (\"%02d\" % dd)\n",
        "    # on ajoute un \"#\" \u00e0 la fin pour \u00e9viter que pandas converisse la colonne num\u00e9rique\n",
        "    # et supprime les 0 devant l'identifiant\n",
        "    return dd + cc + aa + bb + \"#\"\n",
        "t2[\"idbureau\"] = t2.apply(lambda row: code_bureau(*[row[c] for c in cols]), axis=1)\n",
        "t2.head(n=2)"
      ]
    },
    {
      "cell_type": "code",
      "execution_count": null,
      "metadata": {
        "ExecuteTime": {
          "end_time": "2016-10-29T12:27:15.255178",
          "start_time": "2016-10-29T12:27:08.582508"
        },
        "collapsed": false
      },
      "outputs": [
        {
          "data": {
            "text/html": [
              "<div>\n",
              "<table border=\"1\" class=\"dataframe\">\n",
              "  <thead>\n",
              "    <tr style=\"text-align: right;\">\n",
              "      <th></th>\n",
              "      <th>N\u00b0 tour</th>\n",
              "      <th>Code d\u00e9partement</th>\n",
              "      <th>Code de la commune</th>\n",
              "      <th>Nom de la commune</th>\n",
              "      <th>N\u00b0 de circonscription Lg</th>\n",
              "      <th>N\u00b0 de canton</th>\n",
              "      <th>N\u00b0 de bureau de vote</th>\n",
              "      <th>Inscrits</th>\n",
              "      <th>Votants</th>\n",
              "      <th>Exprim\u00e9s</th>\n",
              "      <th>N\u00b0 de d\u00e9p\u00f4t du candidat</th>\n",
              "      <th>Nom du candidat</th>\n",
              "      <th>Pr\u00e9nom du candidat</th>\n",
              "      <th>Code nuance du candidat</th>\n",
              "      <th>Nombre de voix du candidat</th>\n",
              "      <th>idbureau</th>\n",
              "      <th>idcirc</th>\n",
              "    </tr>\n",
              "  </thead>\n",
              "  <tbody>\n",
              "    <tr>\n",
              "      <th>0</th>\n",
              "      <td>2</td>\n",
              "      <td>ZA</td>\n",
              "      <td>101</td>\n",
              "      <td>Les Abymes</td>\n",
              "      <td>1</td>\n",
              "      <td>1</td>\n",
              "      <td>0001</td>\n",
              "      <td>477</td>\n",
              "      <td>252</td>\n",
              "      <td>236</td>\n",
              "      <td>9</td>\n",
              "      <td>JALTON</td>\n",
              "      <td>Eric</td>\n",
              "      <td>SOC</td>\n",
              "      <td>182</td>\n",
              "      <td>ZA10101001#</td>\n",
              "      <td>ZA001#</td>\n",
              "    </tr>\n",
              "    <tr>\n",
              "      <th>1</th>\n",
              "      <td>2</td>\n",
              "      <td>ZA</td>\n",
              "      <td>101</td>\n",
              "      <td>Les Abymes</td>\n",
              "      <td>1</td>\n",
              "      <td>1</td>\n",
              "      <td>0001</td>\n",
              "      <td>477</td>\n",
              "      <td>252</td>\n",
              "      <td>236</td>\n",
              "      <td>17</td>\n",
              "      <td>DURIMEL</td>\n",
              "      <td>Harry</td>\n",
              "      <td>VEC</td>\n",
              "      <td>54</td>\n",
              "      <td>ZA10101001#</td>\n",
              "      <td>ZA001#</td>\n",
              "    </tr>\n",
              "  </tbody>\n",
              "</table>\n",
              "</div>"
            ],
            "text/plain": [
              "   N\u00b0 tour Code d\u00e9partement  Code de la commune Nom de la commune  \\\n",
              "0        2               ZA                 101        Les Abymes   \n",
              "1        2               ZA                 101        Les Abymes   \n",
              "\n",
              "   N\u00b0 de circonscription Lg  N\u00b0 de canton N\u00b0 de bureau de vote  Inscrits  \\\n",
              "0                         1             1                 0001       477   \n",
              "1                         1             1                 0001       477   \n",
              "\n",
              "   Votants  Exprim\u00e9s  N\u00b0 de d\u00e9p\u00f4t du candidat Nom du candidat  \\\n",
              "0      252       236                        9          JALTON   \n",
              "1      252       236                       17         DURIMEL   \n",
              "\n",
              "  Pr\u00e9nom du candidat Code nuance du candidat  Nombre de voix du candidat  \\\n",
              "0               Eric                     SOC                         182   \n",
              "1              Harry                     VEC                          54   \n",
              "\n",
              "      idbureau  idcirc  \n",
              "0  ZA10101001#  ZA001#  \n",
              "1  ZA10101001#  ZA001#  "
            ]
          },
          "execution_count": null,
          "metadata": {},
          "output_type": "execute_result"
        }
      ],
      "source": [
        "t2[\"idcirc\"] = t2.apply(lambda row: str(row[\"Code d\u00e9partement\"]) + \"%03d\" % row[\"N\u00b0 de circonscription Lg\"] + \"#\", axis=1)\n",
        "t2.head(n=2)"
      ]
    },
    {
      "cell_type": "code",
      "execution_count": null,
      "metadata": {
        "ExecuteTime": {
          "end_time": "2016-10-29T12:27:15.284176",
          "start_time": "2016-10-29T12:27:15.259177"
        },
        "collapsed": false
      },
      "outputs": [
        {
          "data": {
            "text/plain": [
              "541"
            ]
          },
          "execution_count": null,
          "metadata": {},
          "output_type": "execute_result"
        }
      ],
      "source": [
        "len(set(t2[\"idcirc\"]))"
      ]
    },
    {
      "cell_type": "markdown",
      "metadata": {},
      "source": [
        "541 < 577 est inf\u00e9rieur au nombre de d\u00e9put\u00e9s. Cela signifie que 577 - 541 d\u00e9put\u00e9s ont \u00e9t\u00e9 \u00e9lus au premier tour. Il faut aller r\u00e9cup\u00e9rer les donn\u00e9es du premier tour pour ces circonscriptions."
      ]
    },
    {
      "cell_type": "code",
      "execution_count": null,
      "metadata": {
        "ExecuteTime": {
          "end_time": "2016-10-29T12:28:57.256385",
          "start_time": "2016-10-29T12:27:15.287174"
        },
        "collapsed": false
      },
      "outputs": [
        {
          "data": {
            "text/html": [
              "<div>\n",
              "<table border=\"1\" class=\"dataframe\">\n",
              "  <thead>\n",
              "    <tr style=\"text-align: right;\">\n",
              "      <th></th>\n",
              "      <th>N\u00b0 tour</th>\n",
              "      <th>Code d\u00e9partement</th>\n",
              "      <th>Code de la commune</th>\n",
              "      <th>Nom de la commune</th>\n",
              "      <th>N\u00b0 de circonscription Lg</th>\n",
              "      <th>N\u00b0 de canton</th>\n",
              "      <th>N\u00b0 de bureau de vote</th>\n",
              "      <th>Inscrits</th>\n",
              "      <th>Votants</th>\n",
              "      <th>Exprim\u00e9s</th>\n",
              "      <th>N\u00b0 de d\u00e9p\u00f4t du candidat</th>\n",
              "      <th>Nom du candidat</th>\n",
              "      <th>Pr\u00e9nom du candidat</th>\n",
              "      <th>Code nuance du candidat</th>\n",
              "      <th>Nombre de voix du candidat</th>\n",
              "      <th>idcirc</th>\n",
              "      <th>idbureau</th>\n",
              "      <th>elu</th>\n",
              "    </tr>\n",
              "  </thead>\n",
              "  <tbody>\n",
              "    <tr>\n",
              "      <th>688</th>\n",
              "      <td>1</td>\n",
              "      <td>ZA</td>\n",
              "      <td>104</td>\n",
              "      <td>Baillif</td>\n",
              "      <td>4</td>\n",
              "      <td>36</td>\n",
              "      <td>0001</td>\n",
              "      <td>813</td>\n",
              "      <td>386</td>\n",
              "      <td>357</td>\n",
              "      <td>3</td>\n",
              "      <td>GUILLE</td>\n",
              "      <td>Marc</td>\n",
              "      <td>FN</td>\n",
              "      <td>4</td>\n",
              "      <td>ZA004#</td>\n",
              "      <td>ZA10436001#</td>\n",
              "      <td>True</td>\n",
              "    </tr>\n",
              "    <tr>\n",
              "      <th>689</th>\n",
              "      <td>1</td>\n",
              "      <td>ZA</td>\n",
              "      <td>104</td>\n",
              "      <td>Baillif</td>\n",
              "      <td>4</td>\n",
              "      <td>36</td>\n",
              "      <td>0001</td>\n",
              "      <td>813</td>\n",
              "      <td>386</td>\n",
              "      <td>357</td>\n",
              "      <td>18</td>\n",
              "      <td>MOLINIE</td>\n",
              "      <td>Louis</td>\n",
              "      <td>DVD</td>\n",
              "      <td>6</td>\n",
              "      <td>ZA004#</td>\n",
              "      <td>ZA10436001#</td>\n",
              "      <td>True</td>\n",
              "    </tr>\n",
              "  </tbody>\n",
              "</table>\n",
              "</div>"
            ],
            "text/plain": [
              "     N\u00b0 tour Code d\u00e9partement  Code de la commune Nom de la commune  \\\n",
              "688        1               ZA                 104           Baillif   \n",
              "689        1               ZA                 104           Baillif   \n",
              "\n",
              "     N\u00b0 de circonscription Lg  N\u00b0 de canton N\u00b0 de bureau de vote  Inscrits  \\\n",
              "688                         4            36                 0001       813   \n",
              "689                         4            36                 0001       813   \n",
              "\n",
              "     Votants  Exprim\u00e9s  N\u00b0 de d\u00e9p\u00f4t du candidat Nom du candidat  \\\n",
              "688      386       357                        3          GUILLE   \n",
              "689      386       357                       18         MOLINIE   \n",
              "\n",
              "    Pr\u00e9nom du candidat Code nuance du candidat  Nombre de voix du candidat  \\\n",
              "688               Marc                      FN                           4   \n",
              "689              Louis                     DVD                           6   \n",
              "\n",
              "     idcirc     idbureau   elu  \n",
              "688  ZA004#  ZA10436001#  True  \n",
              "689  ZA004#  ZA10436001#  True  "
            ]
          },
          "execution_count": null,
          "metadata": {},
          "output_type": "execute_result"
        }
      ],
      "source": [
        "t2circ = set(t2[\"idcirc\"])\n",
        "t1 = tour[\"T1\"]\n",
        "t1[\"idcirc\"] = t1.apply(lambda row: str(row[\"Code d\u00e9partement\"]) + \"%03d\" % row[\"N\u00b0 de circonscription Lg\"] + \"#\", axis=1)\n",
        "t1[\"idbureau\"] = t1.apply(lambda row: code_bureau(*[row[c] for c in cols]), axis=1)\n",
        "t1[\"elu\"] = t1[\"idcirc\"].apply(lambda r: r not in t2circ)\n",
        "t1nott2 = t1[t1[\"elu\"]].copy()\n",
        "t1nott2.head(n=2)"
      ]
    },
    {
      "cell_type": "code",
      "execution_count": null,
      "metadata": {
        "ExecuteTime": {
          "end_time": "2016-10-29T12:28:57.275379",
          "start_time": "2016-10-29T12:28:57.260382"
        },
        "collapsed": false
      },
      "outputs": [
        {
          "data": {
            "text/plain": [
              "577"
            ]
          },
          "execution_count": null,
          "metadata": {},
          "output_type": "execute_result"
        }
      ],
      "source": [
        "len(set(t1nott2[\"idcirc\"])) + 541"
      ]
    },
    {
      "cell_type": "markdown",
      "metadata": {},
      "source": [
        "Il ne reste plus qu'\u00e0 les ajouter aux donn\u00e9es du second tour."
      ]
    },
    {
      "cell_type": "code",
      "execution_count": null,
      "metadata": {
        "ExecuteTime": {
          "end_time": "2016-10-29T12:28:57.395408",
          "start_time": "2016-10-29T12:28:57.278382"
        },
        "collapsed": false
      },
      "outputs": [],
      "source": [
        "import pandas\n",
        "t1t2 = pandas.concat([t1nott2, t2], axis=0)"
      ]
    },
    {
      "cell_type": "markdown",
      "metadata": {},
      "source": [
        "On compte le nombre d'Inscrits par bureaux de vote pour s'assurer que cela correspond \u00e0 ce qui est attendu."
      ]
    },
    {
      "cell_type": "code",
      "execution_count": null,
      "metadata": {
        "ExecuteTime": {
          "end_time": "2016-10-29T12:28:57.762987",
          "start_time": "2016-10-29T12:28:57.398407"
        },
        "collapsed": false
      },
      "outputs": [
        {
          "data": {
            "text/html": [
              "<div>\n",
              "<table border=\"1\" class=\"dataframe\">\n",
              "  <thead>\n",
              "    <tr style=\"text-align: right;\">\n",
              "      <th></th>\n",
              "      <th>Code d\u00e9partement</th>\n",
              "      <th>idcirc</th>\n",
              "      <th>idbureau</th>\n",
              "      <th>Inscrits</th>\n",
              "    </tr>\n",
              "  </thead>\n",
              "  <tbody>\n",
              "    <tr>\n",
              "      <th>67921</th>\n",
              "      <td>ZZ</td>\n",
              "      <td>ZZ001#</td>\n",
              "      <td>ZZ00101001#</td>\n",
              "      <td>156645</td>\n",
              "    </tr>\n",
              "    <tr>\n",
              "      <th>67928</th>\n",
              "      <td>ZZ</td>\n",
              "      <td>ZZ008#</td>\n",
              "      <td>ZZ00808001#</td>\n",
              "      <td>109389</td>\n",
              "    </tr>\n",
              "    <tr>\n",
              "      <th>67926</th>\n",
              "      <td>ZZ</td>\n",
              "      <td>ZZ006#</td>\n",
              "      <td>ZZ00606001#</td>\n",
              "      <td>106689</td>\n",
              "    </tr>\n",
              "    <tr>\n",
              "      <th>67929</th>\n",
              "      <td>ZZ</td>\n",
              "      <td>ZZ009#</td>\n",
              "      <td>ZZ00909001#</td>\n",
              "      <td>97068</td>\n",
              "    </tr>\n",
              "    <tr>\n",
              "      <th>67924</th>\n",
              "      <td>ZZ</td>\n",
              "      <td>ZZ004#</td>\n",
              "      <td>ZZ00404001#</td>\n",
              "      <td>96964</td>\n",
              "    </tr>\n",
              "  </tbody>\n",
              "</table>\n",
              "</div>"
            ],
            "text/plain": [
              "      Code d\u00e9partement  idcirc     idbureau  Inscrits\n",
              "67921               ZZ  ZZ001#  ZZ00101001#    156645\n",
              "67928               ZZ  ZZ008#  ZZ00808001#    109389\n",
              "67926               ZZ  ZZ006#  ZZ00606001#    106689\n",
              "67929               ZZ  ZZ009#  ZZ00909001#     97068\n",
              "67924               ZZ  ZZ004#  ZZ00404001#     96964"
            ]
          },
          "execution_count": null,
          "metadata": {},
          "output_type": "execute_result"
        }
      ],
      "source": [
        "statbu = t1t2[[\"Code d\u00e9partement\", \"idcirc\", \"idbureau\", \n",
        "               \"Inscrits\"]].groupby([\"Code d\u00e9partement\", \"idcirc\", \"idbureau\"], as_index=False).max()\n",
        "statbu.sort_values(\"Inscrits\", ascending=False).head(n=5)"
      ]
    },
    {
      "cell_type": "code",
      "execution_count": null,
      "metadata": {
        "ExecuteTime": {
          "end_time": "2016-10-29T12:28:57.773999",
          "start_time": "2016-10-29T12:28:57.765987"
        },
        "code_folding": [],
        "collapsed": false
      },
      "outputs": [
        {
          "data": {
            "text/plain": [
              "('nombre de bureaux de vote', 67932)"
            ]
          },
          "execution_count": null,
          "metadata": {},
          "output_type": "execute_result"
        }
      ],
      "source": [
        "\"nombre de bureaux de vote\", statbu.shape[0]"
      ]
    },
    {
      "cell_type": "markdown",
      "metadata": {},
      "source": [
        "Le d\u00e9partement ``ZZ`` ne correspond pas \u00e0 un d\u00e9partement connu et est \u00e9trangement plus grand que les autres. On v\u00e9rifie."
      ]
    },
    {
      "cell_type": "code",
      "execution_count": null,
      "metadata": {
        "ExecuteTime": {
          "end_time": "2016-10-29T12:28:57.852005",
          "start_time": "2016-10-29T12:28:57.777998"
        },
        "collapsed": false
      },
      "outputs": [
        {
          "data": {
            "text/html": [
              "<div>\n",
              "<table border=\"1\" class=\"dataframe\">\n",
              "  <thead>\n",
              "    <tr style=\"text-align: right;\">\n",
              "      <th></th>\n",
              "      <th>Code de la commune</th>\n",
              "      <th>Code d\u00e9partement</th>\n",
              "      <th>Code nuance du candidat</th>\n",
              "      <th>Exprim\u00e9s</th>\n",
              "      <th>Inscrits</th>\n",
              "      <th>Nom de la commune</th>\n",
              "      <th>Nom du candidat</th>\n",
              "      <th>Nombre de voix du candidat</th>\n",
              "      <th>N\u00b0 de bureau de vote</th>\n",
              "      <th>N\u00b0 de canton</th>\n",
              "      <th>N\u00b0 de circonscription Lg</th>\n",
              "      <th>N\u00b0 de d\u00e9p\u00f4t du candidat</th>\n",
              "      <th>N\u00b0 tour</th>\n",
              "      <th>Pr\u00e9nom du candidat</th>\n",
              "      <th>Votants</th>\n",
              "      <th>elu</th>\n",
              "      <th>idbureau</th>\n",
              "      <th>idcirc</th>\n",
              "    </tr>\n",
              "  </thead>\n",
              "  <tbody>\n",
              "    <tr>\n",
              "      <th>3789</th>\n",
              "      <td>1</td>\n",
              "      <td>ZZ</td>\n",
              "      <td>UMP</td>\n",
              "      <td>29223</td>\n",
              "      <td>156645</td>\n",
              "      <td>Am\u00e9rique du Nord</td>\n",
              "      <td>LEFEBVRE</td>\n",
              "      <td>13441</td>\n",
              "      <td>0001</td>\n",
              "      <td>1</td>\n",
              "      <td>1</td>\n",
              "      <td>117</td>\n",
              "      <td>2</td>\n",
              "      <td>Fr\u00e9d\u00e9ric</td>\n",
              "      <td>29869</td>\n",
              "      <td>NaN</td>\n",
              "      <td>ZZ00101001#</td>\n",
              "      <td>ZZ001#</td>\n",
              "    </tr>\n",
              "    <tr>\n",
              "      <th>3790</th>\n",
              "      <td>1</td>\n",
              "      <td>ZZ</td>\n",
              "      <td>SOC</td>\n",
              "      <td>29223</td>\n",
              "      <td>156645</td>\n",
              "      <td>Am\u00e9rique du Nord</td>\n",
              "      <td>NARASSIGUIN</td>\n",
              "      <td>15782</td>\n",
              "      <td>0001</td>\n",
              "      <td>1</td>\n",
              "      <td>1</td>\n",
              "      <td>143</td>\n",
              "      <td>2</td>\n",
              "      <td>Corinne</td>\n",
              "      <td>29869</td>\n",
              "      <td>NaN</td>\n",
              "      <td>ZZ00101001#</td>\n",
              "      <td>ZZ001#</td>\n",
              "    </tr>\n",
              "  </tbody>\n",
              "</table>\n",
              "</div>"
            ],
            "text/plain": [
              "      Code de la commune Code d\u00e9partement Code nuance du candidat  Exprim\u00e9s  \\\n",
              "3789                   1               ZZ                     UMP     29223   \n",
              "3790                   1               ZZ                     SOC     29223   \n",
              "\n",
              "      Inscrits Nom de la commune Nom du candidat  Nombre de voix du candidat  \\\n",
              "3789    156645  Am\u00e9rique du Nord        LEFEBVRE                       13441   \n",
              "3790    156645  Am\u00e9rique du Nord     NARASSIGUIN                       15782   \n",
              "\n",
              "     N\u00b0 de bureau de vote  N\u00b0 de canton  N\u00b0 de circonscription Lg  \\\n",
              "3789                 0001             1                         1   \n",
              "3790                 0001             1                         1   \n",
              "\n",
              "      N\u00b0 de d\u00e9p\u00f4t du candidat  N\u00b0 tour Pr\u00e9nom du candidat  Votants  elu  \\\n",
              "3789                      117        2           Fr\u00e9d\u00e9ric    29869  NaN   \n",
              "3790                      143        2            Corinne    29869  NaN   \n",
              "\n",
              "         idbureau  idcirc  \n",
              "3789  ZZ00101001#  ZZ001#  \n",
              "3790  ZZ00101001#  ZZ001#  "
            ]
          },
          "execution_count": null,
          "metadata": {},
          "output_type": "execute_result"
        }
      ],
      "source": [
        "t1t2[t1t2[\"Code d\u00e9partement\"] == \"ZZ\"].head(n=2)"
      ]
    },
    {
      "cell_type": "markdown",
      "metadata": {},
      "source": [
        "Ce bureau de vote n'est pas en France. Il est bien plus volumineux que les autres et nous ne pourrons pas le rapprocher g\u00e9ographiquement des autres. On n'en tiendra plus compte. On enl\u00e8ve \u00e9galement les bureaux de vote qui commencent par ``Z`` (``ZA, ZZ, ZW``)."
      ]
    },
    {
      "cell_type": "code",
      "execution_count": null,
      "metadata": {
        "ExecuteTime": {
          "end_time": "2016-10-29T12:28:58.723964",
          "start_time": "2016-10-29T12:28:57.857017"
        },
        "code_folding": [],
        "collapsed": false
      },
      "outputs": [
        {
          "data": {
            "text/plain": [
              "<matplotlib.text.Text at 0x20d2b6fb208>"
            ]
          },
          "execution_count": null,
          "metadata": {},
          "output_type": "execute_result"
        },
        {
          "data": {
            "image/png": "[encoded data removed]",
            "text/plain": [
              "<matplotlib.figure.Figure at 0x20d2c4f07b8>"
            ]
          },
          "metadata": {},
          "output_type": "display_data"
        }
      ],
      "source": [
        "fig, ax = plt.subplots(figsize=(12,4))\n",
        "statbu[(statbu[\"Code d\u00e9partement\"] != \"ZZ\") & (statbu[\"Code d\u00e9partement\"] != \"ZW\")].hist( \\\n",
        "        bins=200, ax=ax)\n",
        "ax.set_xlim(0, 2000)\n",
        "ax.set_xlabel(\"nombre d'inscrits\")\n",
        "ax.set_ylabel(\"nombre de bureaux de vote\\navec ce nombre d'inscrits\")\n",
        "ax.set_title(\"distribution des inscrits par bureaux de vote\")"
      ]
    },
    {
      "cell_type": "code",
      "execution_count": null,
      "metadata": {
        "ExecuteTime": {
          "end_time": "2016-10-29T12:28:58.768960",
          "start_time": "2016-10-29T12:28:58.726967"
        },
        "collapsed": false
      },
      "outputs": [
        {
          "data": {
            "text/html": [
              "<div>\n",
              "<table border=\"1\" class=\"dataframe\">\n",
              "  <thead>\n",
              "    <tr style=\"text-align: right;\">\n",
              "      <th></th>\n",
              "      <th>nombre de bureaux de vote</th>\n",
              "    </tr>\n",
              "    <tr>\n",
              "      <th>idcirc</th>\n",
              "      <th></th>\n",
              "    </tr>\n",
              "  </thead>\n",
              "  <tbody>\n",
              "    <tr>\n",
              "      <th>01001#</th>\n",
              "      <td>117</td>\n",
              "    </tr>\n",
              "    <tr>\n",
              "      <th>01002#</th>\n",
              "      <td>98</td>\n",
              "    </tr>\n",
              "    <tr>\n",
              "      <th>01003#</th>\n",
              "      <td>106</td>\n",
              "    </tr>\n",
              "    <tr>\n",
              "      <th>01004#</th>\n",
              "      <td>113</td>\n",
              "    </tr>\n",
              "    <tr>\n",
              "      <th>01005#</th>\n",
              "      <td>145</td>\n",
              "    </tr>\n",
              "  </tbody>\n",
              "</table>\n",
              "</div>"
            ],
            "text/plain": [
              "        nombre de bureaux de vote\n",
              "idcirc                           \n",
              "01001#                        117\n",
              "01002#                         98\n",
              "01003#                        106\n",
              "01004#                        113\n",
              "01005#                        145"
            ]
          },
          "execution_count": null,
          "metadata": {},
          "output_type": "execute_result"
        }
      ],
      "source": [
        "nbbur = statbu[[\"idcirc\",\"idbureau\"]].groupby(\"idcirc\").count()\n",
        "nbbur.columns=[\"nombre de bureaux de vote\"]\n",
        "nbbur.head()"
      ]
    },
    {
      "cell_type": "code",
      "execution_count": null,
      "metadata": {
        "ExecuteTime": {
          "end_time": "2016-10-29T12:28:59.169658",
          "start_time": "2016-10-29T12:28:58.772969"
        },
        "collapsed": false
      },
      "outputs": [
        {
          "data": {
            "text/plain": [
              "<matplotlib.text.Text at 0x20d2b3133c8>"
            ]
          },
          "execution_count": null,
          "metadata": {},
          "output_type": "execute_result"
        },
        {
          "data": {
            "image/png": "[encoded data removed]",
            "text/plain": [
              "<matplotlib.figure.Figure at 0x20d2b2c16d8>"
            ]
          },
          "metadata": {},
          "output_type": "display_data"
        }
      ],
      "source": [
        "ax = nbbur[nbbur[nbbur.columns[0]] > 0].sort_values(nbbur.columns[0]).plot(figsize=(10,4))\n",
        "ax.set_title(\"nombre de bureaux de vote par circonscription\")"
      ]
    },
    {
      "cell_type": "code",
      "execution_count": null,
      "metadata": {
        "ExecuteTime": {
          "end_time": "2016-10-29T12:28:59.743556",
          "start_time": "2016-10-29T12:28:59.174672"
        },
        "collapsed": false
      },
      "outputs": [
        {
          "data": {
            "text/plain": [
              "<matplotlib.text.Text at 0x20d2b75ee48>"
            ]
          },
          "execution_count": null,
          "metadata": {},
          "output_type": "execute_result"
        },
        {
          "data": {
            "image/png": "[encoded data removed]",
            "text/plain": [
              "<matplotlib.figure.Figure at 0x20d2b73c780>"
            ]
          },
          "metadata": {},
          "output_type": "display_data"
        }
      ],
      "source": [
        "t1t2noz = t1t2[t1t2[\"Code d\u00e9partement\"].apply(lambda r: not r.startswith(\"Z\"))]\n",
        "elu = t1t2noz[[\"Code nuance du candidat\", \"Exprim\u00e9s\"]].groupby(\"Code nuance du candidat\").sum()\n",
        "ax = (elu.sort_values(\"Exprim\u00e9s\")/1000000).plot(kind=\"bar\")\n",
        "ax.set_ylabel(\"Votes exprim\u00e9s en millions\")"
      ]
    },
    {
      "cell_type": "markdown",
      "metadata": {},
      "source": [
        "Ces statistiques correspondent \u00e0 ce qui est attendu. Avec une centaine de bureau par circonscription, nous devrions pouvoir changer la r\u00e9partition."
      ]
    },
    {
      "cell_type": "markdown",
      "metadata": {},
      "source": [
        "## Identifiants\n",
        "\n",
        "Nous aurons besoin de croiser les donn\u00e9es provenant de plusieurs bases en fonction des circonscriptions et des bureaux de votes. Il convient de d\u00e9terminer ce qui identifient de fa\u00e7on unique un bureau de vote et une circonscription. Il faut se rappeler des conventions choisies :\n",
        "\n",
        "* identifiant cironscription : **DDCCC#**, ``D`` pour code d\u00e9partement, ``C`` pour code circonscription\n",
        "* identifiant bureau de vote : **DDMMAABBB#**, ``D`` pour code d\u00e9partement, ``M`` pour code commune, ``A`` pour code canton, ``B`` pour code bureau\n",
        "\n",
        "Le caract\u00e8re ``#`` sert \u00e0 \u00e9viter la conversion automatique d'une colonne au format num\u00e9rique par pandas."
      ]
    },
    {
      "cell_type": "code",
      "execution_count": null,
      "metadata": {
        "ExecuteTime": {
          "end_time": "2016-10-29T12:28:59.784068",
          "start_time": "2016-10-29T12:28:59.746558"
        },
        "collapsed": false
      },
      "outputs": [
        {
          "data": {
            "text/html": [
              "<div>\n",
              "<table border=\"1\" class=\"dataframe\">\n",
              "  <thead>\n",
              "    <tr style=\"text-align: right;\">\n",
              "      <th></th>\n",
              "      <th>Code de la commune</th>\n",
              "      <th>Code d\u00e9partement</th>\n",
              "      <th>Code nuance du candidat</th>\n",
              "      <th>Exprim\u00e9s</th>\n",
              "      <th>Inscrits</th>\n",
              "      <th>Nom de la commune</th>\n",
              "      <th>Nom du candidat</th>\n",
              "      <th>Nombre de voix du candidat</th>\n",
              "      <th>N\u00b0 de bureau de vote</th>\n",
              "      <th>N\u00b0 de canton</th>\n",
              "      <th>N\u00b0 de circonscription Lg</th>\n",
              "      <th>N\u00b0 de d\u00e9p\u00f4t du candidat</th>\n",
              "      <th>N\u00b0 tour</th>\n",
              "      <th>Pr\u00e9nom du candidat</th>\n",
              "      <th>Votants</th>\n",
              "      <th>elu</th>\n",
              "      <th>idbureau</th>\n",
              "      <th>idcirc</th>\n",
              "    </tr>\n",
              "  </thead>\n",
              "  <tbody>\n",
              "    <tr>\n",
              "      <th>688</th>\n",
              "      <td>104</td>\n",
              "      <td>ZA</td>\n",
              "      <td>FN</td>\n",
              "      <td>357</td>\n",
              "      <td>813</td>\n",
              "      <td>Baillif</td>\n",
              "      <td>GUILLE</td>\n",
              "      <td>4</td>\n",
              "      <td>0001</td>\n",
              "      <td>36</td>\n",
              "      <td>4</td>\n",
              "      <td>3</td>\n",
              "      <td>1</td>\n",
              "      <td>Marc</td>\n",
              "      <td>386</td>\n",
              "      <td>True</td>\n",
              "      <td>ZA10436001#</td>\n",
              "      <td>ZA004#</td>\n",
              "    </tr>\n",
              "    <tr>\n",
              "      <th>689</th>\n",
              "      <td>104</td>\n",
              "      <td>ZA</td>\n",
              "      <td>DVD</td>\n",
              "      <td>357</td>\n",
              "      <td>813</td>\n",
              "      <td>Baillif</td>\n",
              "      <td>MOLINIE</td>\n",
              "      <td>6</td>\n",
              "      <td>0001</td>\n",
              "      <td>36</td>\n",
              "      <td>4</td>\n",
              "      <td>18</td>\n",
              "      <td>1</td>\n",
              "      <td>Louis</td>\n",
              "      <td>386</td>\n",
              "      <td>True</td>\n",
              "      <td>ZA10436001#</td>\n",
              "      <td>ZA004#</td>\n",
              "    </tr>\n",
              "  </tbody>\n",
              "</table>\n",
              "</div>"
            ],
            "text/plain": [
              "     Code de la commune Code d\u00e9partement Code nuance du candidat  Exprim\u00e9s  \\\n",
              "688                 104               ZA                      FN       357   \n",
              "689                 104               ZA                     DVD       357   \n",
              "\n",
              "     Inscrits Nom de la commune Nom du candidat  Nombre de voix du candidat  \\\n",
              "688       813           Baillif          GUILLE                           4   \n",
              "689       813           Baillif         MOLINIE                           6   \n",
              "\n",
              "    N\u00b0 de bureau de vote  N\u00b0 de canton  N\u00b0 de circonscription Lg  \\\n",
              "688                 0001            36                         4   \n",
              "689                 0001            36                         4   \n",
              "\n",
              "     N\u00b0 de d\u00e9p\u00f4t du candidat  N\u00b0 tour Pr\u00e9nom du candidat  Votants   elu  \\\n",
              "688                        3        1               Marc      386  True   \n",
              "689                       18        1              Louis      386  True   \n",
              "\n",
              "        idbureau  idcirc  \n",
              "688  ZA10436001#  ZA004#  \n",
              "689  ZA10436001#  ZA004#  "
            ]
          },
          "execution_count": null,
          "metadata": {},
          "output_type": "execute_result"
        }
      ],
      "source": [
        "t1t2.head(n=2)"
      ]
    },
    {
      "cell_type": "code",
      "execution_count": null,
      "metadata": {
        "ExecuteTime": {
          "end_time": "2016-10-29T12:28:59.817794",
          "start_time": "2016-10-29T12:28:59.790067"
        },
        "collapsed": false
      },
      "outputs": [
        {
          "data": {
            "text/plain": [
              "577"
            ]
          },
          "execution_count": null,
          "metadata": {},
          "output_type": "execute_result"
        }
      ],
      "source": [
        "len(set(t1t2[\"idcirc\"]))"
      ]
    },
    {
      "cell_type": "markdown",
      "metadata": {},
      "source": [
        "Le nombre de cirsconscriptions est le nombre attendu. On v\u00e9rifie que les circonscriptions ne s'\u00e9tendant pas sur plusieurs d\u00e9partements. Cela signifie que nous pouvons optimiser les r\u00e9partitions des bureaux par d\u00e9partement de fa\u00e7on ind\u00e9pendantes."
      ]
    },
    {
      "cell_type": "code",
      "execution_count": null,
      "metadata": {
        "ExecuteTime": {
          "end_time": "2016-10-29T12:28:59.984816",
          "start_time": "2016-10-29T12:28:59.820798"
        },
        "collapsed": false
      },
      "outputs": [
        {
          "data": {
            "text/plain": [
              "(577, 18)"
            ]
          },
          "execution_count": null,
          "metadata": {},
          "output_type": "execute_result"
        }
      ],
      "source": [
        "t1t2.groupby([\"idcirc\", \"Code d\u00e9partement\"], as_index=False).count().shape"
      ]
    },
    {
      "cell_type": "markdown",
      "metadata": {},
      "source": [
        "La ligne suivante montre qu'une circonscription englobe plusieurs cantons."
      ]
    },
    {
      "cell_type": "code",
      "execution_count": null,
      "metadata": {
        "ExecuteTime": {
          "end_time": "2016-10-29T12:29:00.147518",
          "start_time": "2016-10-29T12:28:59.987820"
        },
        "collapsed": false
      },
      "outputs": [
        {
          "data": {
            "text/plain": [
              "(4171, 18)"
            ]
          },
          "execution_count": null,
          "metadata": {},
          "output_type": "execute_result"
        }
      ],
      "source": [
        "t1t2.groupby([\"idcirc\", \"N\u00b0 de canton\"], as_index=False).count().shape"
      ]
    },
    {
      "cell_type": "markdown",
      "metadata": {},
      "source": [
        "Combien y a-t-il de bureaux de vote ?"
      ]
    },
    {
      "cell_type": "code",
      "execution_count": null,
      "metadata": {
        "ExecuteTime": {
          "end_time": "2016-10-29T12:29:00.176542",
          "start_time": "2016-10-29T12:29:00.151033"
        },
        "collapsed": false
      },
      "outputs": [
        {
          "data": {
            "text/plain": [
              "67932"
            ]
          },
          "execution_count": null,
          "metadata": {},
          "output_type": "execute_result"
        }
      ],
      "source": [
        "len(set(t1t2[\"idbureau\"]))"
      ]
    },
    {
      "cell_type": "markdown",
      "metadata": {},
      "source": [
        "On v\u00e9rifie que nous n'avons pas plusieurs le m\u00eame nom de bureaux pour une m\u00eame circonscription auquel cas cela voudrait dire que l'identifiant choisi n'est pas le bon."
      ]
    },
    {
      "cell_type": "code",
      "execution_count": null,
      "metadata": {
        "ExecuteTime": {
          "end_time": "2016-10-29T12:29:00.579602",
          "start_time": "2016-10-29T12:29:00.179538"
        },
        "collapsed": false
      },
      "outputs": [
        {
          "data": {
            "text/plain": [
              "(67932, 18)"
            ]
          },
          "execution_count": null,
          "metadata": {},
          "output_type": "execute_result"
        }
      ],
      "source": [
        "t1t2.groupby([\"idcirc\", \"idbureau\"], as_index=False).count().shape"
      ]
    },
    {
      "cell_type": "markdown",
      "metadata": {},
      "source": [
        "M\u00eame nombre. Tout va bien !"
      ]
    },
    {
      "cell_type": "markdown",
      "metadata": {},
      "source": [
        "## Evaluation d'une solution\n",
        "\n",
        "Dans la suite, on se sert des deux colonnes ``idbureau`` et ``idcirc`` comme identifiant de bureaux et circonscription et on s'int\u00e9resse \u00e0 une association *circonscription - bureau* quelconque."
      ]
    },
    {
      "cell_type": "code",
      "execution_count": null,
      "metadata": {
        "ExecuteTime": {
          "end_time": "2016-10-29T12:29:00.778634",
          "start_time": "2016-10-29T12:29:00.583603"
        },
        "code_folding": [],
        "collapsed": false
      },
      "outputs": [
        {
          "data": {
            "text/html": [
              "<div>\n",
              "<table border=\"1\" class=\"dataframe\">\n",
              "  <thead>\n",
              "    <tr style=\"text-align: right;\">\n",
              "      <th>Code nuance du candidat</th>\n",
              "      <th>ALLI</th>\n",
              "      <th>AUT</th>\n",
              "      <th>CEN</th>\n",
              "      <th>DVD</th>\n",
              "      <th>DVG</th>\n",
              "      <th>ECO</th>\n",
              "      <th>EXD</th>\n",
              "      <th>EXG</th>\n",
              "      <th>FG</th>\n",
              "      <th>FN</th>\n",
              "      <th>NCE</th>\n",
              "      <th>PRV</th>\n",
              "      <th>RDG</th>\n",
              "      <th>REG</th>\n",
              "      <th>SOC</th>\n",
              "      <th>UMP</th>\n",
              "      <th>VEC</th>\n",
              "      <th>winner</th>\n",
              "      <th>nbwinner</th>\n",
              "      <th>total</th>\n",
              "    </tr>\n",
              "    <tr>\n",
              "      <th>idcirc</th>\n",
              "      <th></th>\n",
              "      <th></th>\n",
              "      <th></th>\n",
              "      <th></th>\n",
              "      <th></th>\n",
              "      <th></th>\n",
              "      <th></th>\n",
              "      <th></th>\n",
              "      <th></th>\n",
              "      <th></th>\n",
              "      <th></th>\n",
              "      <th></th>\n",
              "      <th></th>\n",
              "      <th></th>\n",
              "      <th></th>\n",
              "      <th></th>\n",
              "      <th></th>\n",
              "      <th></th>\n",
              "      <th></th>\n",
              "      <th></th>\n",
              "    </tr>\n",
              "  </thead>\n",
              "  <tbody>\n",
              "    <tr>\n",
              "      <th>01001#</th>\n",
              "      <td>NaN</td>\n",
              "      <td>NaN</td>\n",
              "      <td>NaN</td>\n",
              "      <td>NaN</td>\n",
              "      <td>NaN</td>\n",
              "      <td>NaN</td>\n",
              "      <td>NaN</td>\n",
              "      <td>NaN</td>\n",
              "      <td>NaN</td>\n",
              "      <td>NaN</td>\n",
              "      <td>NaN</td>\n",
              "      <td>NaN</td>\n",
              "      <td>NaN</td>\n",
              "      <td>NaN</td>\n",
              "      <td>22743.0</td>\n",
              "      <td>24233.0</td>\n",
              "      <td>NaN</td>\n",
              "      <td>UMP</td>\n",
              "      <td>24233.0</td>\n",
              "      <td>46976.0</td>\n",
              "    </tr>\n",
              "    <tr>\n",
              "      <th>01002#</th>\n",
              "      <td>NaN</td>\n",
              "      <td>NaN</td>\n",
              "      <td>NaN</td>\n",
              "      <td>NaN</td>\n",
              "      <td>19529.0</td>\n",
              "      <td>NaN</td>\n",
              "      <td>NaN</td>\n",
              "      <td>NaN</td>\n",
              "      <td>NaN</td>\n",
              "      <td>8530.0</td>\n",
              "      <td>NaN</td>\n",
              "      <td>NaN</td>\n",
              "      <td>NaN</td>\n",
              "      <td>NaN</td>\n",
              "      <td>NaN</td>\n",
              "      <td>22327.0</td>\n",
              "      <td>NaN</td>\n",
              "      <td>UMP</td>\n",
              "      <td>22327.0</td>\n",
              "      <td>50386.0</td>\n",
              "    </tr>\n",
              "    <tr>\n",
              "      <th>01003#</th>\n",
              "      <td>NaN</td>\n",
              "      <td>NaN</td>\n",
              "      <td>NaN</td>\n",
              "      <td>NaN</td>\n",
              "      <td>NaN</td>\n",
              "      <td>NaN</td>\n",
              "      <td>NaN</td>\n",
              "      <td>NaN</td>\n",
              "      <td>NaN</td>\n",
              "      <td>NaN</td>\n",
              "      <td>NaN</td>\n",
              "      <td>NaN</td>\n",
              "      <td>NaN</td>\n",
              "      <td>NaN</td>\n",
              "      <td>15653.0</td>\n",
              "      <td>19266.0</td>\n",
              "      <td>NaN</td>\n",
              "      <td>UMP</td>\n",
              "      <td>19266.0</td>\n",
              "      <td>34919.0</td>\n",
              "    </tr>\n",
              "    <tr>\n",
              "      <th>01004#</th>\n",
              "      <td>NaN</td>\n",
              "      <td>NaN</td>\n",
              "      <td>NaN</td>\n",
              "      <td>NaN</td>\n",
              "      <td>NaN</td>\n",
              "      <td>NaN</td>\n",
              "      <td>NaN</td>\n",
              "      <td>NaN</td>\n",
              "      <td>NaN</td>\n",
              "      <td>NaN</td>\n",
              "      <td>NaN</td>\n",
              "      <td>NaN</td>\n",
              "      <td>19780.0</td>\n",
              "      <td>NaN</td>\n",
              "      <td>NaN</td>\n",
              "      <td>26175.0</td>\n",
              "      <td>NaN</td>\n",
              "      <td>UMP</td>\n",
              "      <td>26175.0</td>\n",
              "      <td>45955.0</td>\n",
              "    </tr>\n",
              "    <tr>\n",
              "      <th>01005#</th>\n",
              "      <td>NaN</td>\n",
              "      <td>NaN</td>\n",
              "      <td>NaN</td>\n",
              "      <td>NaN</td>\n",
              "      <td>NaN</td>\n",
              "      <td>NaN</td>\n",
              "      <td>NaN</td>\n",
              "      <td>NaN</td>\n",
              "      <td>NaN</td>\n",
              "      <td>NaN</td>\n",
              "      <td>NaN</td>\n",
              "      <td>NaN</td>\n",
              "      <td>NaN</td>\n",
              "      <td>NaN</td>\n",
              "      <td>17012.0</td>\n",
              "      <td>22008.0</td>\n",
              "      <td>NaN</td>\n",
              "      <td>UMP</td>\n",
              "      <td>22008.0</td>\n",
              "      <td>39020.0</td>\n",
              "    </tr>\n",
              "  </tbody>\n",
              "</table>\n",
              "</div>"
            ],
            "text/plain": [
              "Code nuance du candidat  ALLI  AUT  CEN  DVD      DVG  ECO  EXD  EXG  FG  \\\n",
              "idcirc                                                                     \n",
              "01001#                    NaN  NaN  NaN  NaN      NaN  NaN  NaN  NaN NaN   \n",
              "01002#                    NaN  NaN  NaN  NaN  19529.0  NaN  NaN  NaN NaN   \n",
              "01003#                    NaN  NaN  NaN  NaN      NaN  NaN  NaN  NaN NaN   \n",
              "01004#                    NaN  NaN  NaN  NaN      NaN  NaN  NaN  NaN NaN   \n",
              "01005#                    NaN  NaN  NaN  NaN      NaN  NaN  NaN  NaN NaN   \n",
              "\n",
              "Code nuance du candidat      FN  NCE  PRV      RDG  REG      SOC      UMP  \\\n",
              "idcirc                                                                      \n",
              "01001#                      NaN  NaN  NaN      NaN  NaN  22743.0  24233.0   \n",
              "01002#                   8530.0  NaN  NaN      NaN  NaN      NaN  22327.0   \n",
              "01003#                      NaN  NaN  NaN      NaN  NaN  15653.0  19266.0   \n",
              "01004#                      NaN  NaN  NaN  19780.0  NaN      NaN  26175.0   \n",
              "01005#                      NaN  NaN  NaN      NaN  NaN  17012.0  22008.0   \n",
              "\n",
              "Code nuance du candidat  VEC winner  nbwinner    total  \n",
              "idcirc                                                  \n",
              "01001#                   NaN    UMP   24233.0  46976.0  \n",
              "01002#                   NaN    UMP   22327.0  50386.0  \n",
              "01003#                   NaN    UMP   19266.0  34919.0  \n",
              "01004#                   NaN    UMP   26175.0  45955.0  \n",
              "01005#                   NaN    UMP   22008.0  39020.0  "
            ]
          },
          "execution_count": null,
          "metadata": {},
          "output_type": "execute_result"
        }
      ],
      "source": [
        "import numpy\n",
        "\n",
        "def agg_circonscription(data_vote, solution=None, col_circ=\"idcirc\", \n",
        "                        col_place=\"idbureau\", col_vote=\"Nombre de voix du candidat\",\n",
        "                        col_nuance=\"Code nuance du candidat\"):\n",
        "    \"\"\"\n",
        "    Calcul la nuance gagnante dans chaque circonscription.\n",
        "    \n",
        "    @param     data_vote    dataframe pour les voix\n",
        "    @param     solution     dictionnaire ``{ circonscription : liste de bureaux }``, \n",
        "                            si None, la fonction consid\u00e8re la solution officielle\n",
        "    @param     col_circ     colonne contenant la circonscription (si solution = None)\n",
        "    @param     col_place    colonne contenant l'identifiant du bureaux de votes\n",
        "    @param     col_vote     colonne contenant les votes\n",
        "    @param     col_nuance   colonne contenant le parti ou la nuance\n",
        "    @return                 matrice de r\u00e9sultats, une ligne par circoncription, une colonne par nuance/parti\n",
        "    \"\"\"\n",
        "    if solution is None:\n",
        "        # on reprend l'association circoncscription - bureau de la derni\u00e8re \u00e9lection\n",
        "        agg = data_vote[[col_circ, col_nuance, col_vote]].groupby([col_circ, col_nuance], as_index=False).sum()\n",
        "    else:\n",
        "        # on construit la nouvelle association\n",
        "        rev = {}\n",
        "        for k, v in solution.items():\n",
        "            for place in v:\n",
        "                if place in rev:\n",
        "                    raise ValueError(\"Un bureaux est associ\u00e9 \u00e0 deux circonscriptions : {0}\".format([rev[place], k]))\n",
        "                rev[place] = k\n",
        "        keep = data_vote[[col_place, col_vote, col_nuance]].copy()\n",
        "        keep[col_circ] = keep[col_place].apply(lambda r: rev[r])\n",
        "        agg = keep[[col_circ, col_nuance, col_vote]].groupby([col_circ, col_nuance], as_index=False).sum()\n",
        "        \n",
        "    # les donn\u00e9es sont maintenant agr\u00e9g\u00e9es par circonscription, il faut d\u00e9terminer le gagnant\n",
        "    piv = agg.pivot(col_circ, col_nuance, col_vote)\n",
        "    gagnant = []\n",
        "    votes = []\n",
        "    sums = []\n",
        "    \n",
        "    for row in piv.values:\n",
        "        mx = max((r, i) for i, r in enumerate(row) if not numpy.isnan(r))\n",
        "        gagnant.append(piv.columns[mx[1]])\n",
        "        votes.append(mx[0])\n",
        "        sums.append(sum(r for r in row if not numpy.isnan(r)))\n",
        "        \n",
        "    piv[\"winner\"] = gagnant\n",
        "    piv[\"nbwinner\"] = votes\n",
        "    piv[\"total\"] = sums\n",
        "    return piv\n",
        "     \n",
        "score = agg_circonscription(t1t2noz)\n",
        "score.head()"
      ]
    },
    {
      "cell_type": "code",
      "execution_count": null,
      "metadata": {
        "ExecuteTime": {
          "end_time": "2016-10-29T12:29:00.789133",
          "start_time": "2016-10-29T12:29:00.781633"
        },
        "collapsed": false
      },
      "outputs": [
        {
          "data": {
            "text/plain": [
              "(539, 20)"
            ]
          },
          "execution_count": null,
          "metadata": {},
          "output_type": "execute_result"
        }
      ],
      "source": [
        "score.shape"
      ]
    },
    {
      "cell_type": "code",
      "execution_count": null,
      "metadata": {
        "ExecuteTime": {
          "end_time": "2016-10-29T12:29:00.824649",
          "start_time": "2016-10-29T12:29:00.792648"
        },
        "collapsed": false
      },
      "outputs": [
        {
          "data": {
            "text/plain": [
              "539"
            ]
          },
          "execution_count": null,
          "metadata": {},
          "output_type": "execute_result"
        }
      ],
      "source": [
        "len(set(t1t2noz[\"idcirc\"]))"
      ]
    },
    {
      "cell_type": "code",
      "execution_count": null,
      "metadata": {
        "ExecuteTime": {
          "end_time": "2016-10-29T12:29:00.859649",
          "start_time": "2016-10-29T12:29:00.827652"
        },
        "collapsed": false
      },
      "outputs": [
        {
          "data": {
            "text/plain": [
              "577"
            ]
          },
          "execution_count": null,
          "metadata": {},
          "output_type": "execute_result"
        }
      ],
      "source": [
        "len(set(t1t2[\"idcirc\"]))"
      ]
    },
    {
      "cell_type": "markdown",
      "metadata": {},
      "source": [
        "Le processus ne s'appliquera qu'aux circonscriptions de la m\u00e9tropole, soit 565. Le r\u00e9sultat d'une nouvelle r\u00e9partition peut \u00eatre calcul\u00e9e comme ceci :"
      ]
    },
    {
      "cell_type": "code",
      "execution_count": null,
      "metadata": {
        "ExecuteTime": {
          "end_time": "2016-10-29T12:29:00.894160",
          "start_time": "2016-10-29T12:29:00.863650"
        },
        "code_folding": [],
        "collapsed": false
      },
      "outputs": [
        {
          "data": {
            "text/html": [
              "<div>\n",
              "<table border=\"1\" class=\"dataframe\">\n",
              "  <thead>\n",
              "    <tr style=\"text-align: right;\">\n",
              "      <th>Code nuance du candidat</th>\n",
              "      <th>nbwinner</th>\n",
              "    </tr>\n",
              "    <tr>\n",
              "      <th>winner</th>\n",
              "      <th></th>\n",
              "    </tr>\n",
              "  </thead>\n",
              "  <tbody>\n",
              "    <tr>\n",
              "      <th>SOC</th>\n",
              "      <td>263</td>\n",
              "    </tr>\n",
              "    <tr>\n",
              "      <th>UMP</th>\n",
              "      <td>190</td>\n",
              "    </tr>\n",
              "    <tr>\n",
              "      <th>DVG</th>\n",
              "      <td>16</td>\n",
              "    </tr>\n",
              "    <tr>\n",
              "      <th>VEC</th>\n",
              "      <td>16</td>\n",
              "    </tr>\n",
              "    <tr>\n",
              "      <th>NCE</th>\n",
              "      <td>12</td>\n",
              "    </tr>\n",
              "    <tr>\n",
              "      <th>RDG</th>\n",
              "      <td>11</td>\n",
              "    </tr>\n",
              "    <tr>\n",
              "      <th>FG</th>\n",
              "      <td>10</td>\n",
              "    </tr>\n",
              "    <tr>\n",
              "      <th>DVD</th>\n",
              "      <td>9</td>\n",
              "    </tr>\n",
              "    <tr>\n",
              "      <th>PRV</th>\n",
              "      <td>6</td>\n",
              "    </tr>\n",
              "    <tr>\n",
              "      <th>ALLI</th>\n",
              "      <td>2</td>\n",
              "    </tr>\n",
              "    <tr>\n",
              "      <th>FN</th>\n",
              "      <td>2</td>\n",
              "    </tr>\n",
              "    <tr>\n",
              "      <th>CEN</th>\n",
              "      <td>1</td>\n",
              "    </tr>\n",
              "    <tr>\n",
              "      <th>EXD</th>\n",
              "      <td>1</td>\n",
              "    </tr>\n",
              "  </tbody>\n",
              "</table>\n",
              "</div>"
            ],
            "text/plain": [
              "Code nuance du candidat  nbwinner\n",
              "winner                           \n",
              "SOC                           263\n",
              "UMP                           190\n",
              "DVG                            16\n",
              "VEC                            16\n",
              "NCE                            12\n",
              "RDG                            11\n",
              "FG                             10\n",
              "DVD                             9\n",
              "PRV                             6\n",
              "ALLI                            2\n",
              "FN                              2\n",
              "CEN                             1\n",
              "EXD                             1"
            ]
          },
          "execution_count": null,
          "metadata": {},
          "output_type": "execute_result"
        }
      ],
      "source": [
        "count = score[[\"winner\", \"nbwinner\"]].groupby([\"winner\"]).count()\n",
        "count.sort_values(\"nbwinner\", ascending=False)"
      ]
    },
    {
      "cell_type": "markdown",
      "metadata": {},
      "source": [
        "Le parti socialiste \u00e0 263 d\u00e9put\u00e9s. L'UMP 190. Nous allons essay\u00e9 de changer ces nombres."
      ]
    },
    {
      "cell_type": "markdown",
      "metadata": {},
      "source": [
        "## Visualisation d'une solution"
      ]
    },
    {
      "cell_type": "markdown",
      "metadata": {},
      "source": [
        "### Premi\u00e8re carte : circonscriptions actuelles\n",
        "\n",
        "On reprend la m\u00eame signature que la fonction pr\u00e9c\u00e9dente avec le dataframe ``geo`` qui contient la d\u00e9finition des circonscriptions. On commence par cr\u00e9er une fonction qui extrait les contours qui sont disponibles sous formes de cha\u00eenes de caract\u00e8res. Le r\u00e9sultat est inspir\u00e9 de ce [notebook](http://www.xavierdupre.fr/app/ensae_teaching_cs/helpsphinx3/notebooks/td1a_cenonce_session_12.html#cartographie). Tous les r\u00e9sultats que nous allons construire vont \u00eatre proches de ce r\u00e9sultat. Cela permettra de v\u00e9rifier que nous nous trompons pas au moment o\u00f9 nous allons visualiser les nouvelles circonscriptions."
      ]
    },
    {
      "cell_type": "code",
      "execution_count": null,
      "metadata": {
        "ExecuteTime": {
          "end_time": "2016-10-29T12:29:00.915672",
          "start_time": "2016-10-29T12:29:00.898160"
        },
        "code_folding": [],
        "collapsed": false
      },
      "outputs": [
        {
          "data": {
            "text/plain": [
              "[(5.294455999999968, 46.193934), (5.279780999999957, 46.201967)]"
            ]
          },
          "execution_count": null,
          "metadata": {},
          "output_type": "execute_result"
        }
      ],
      "source": [
        "def process_boundary(bound_string):\n",
        "    ext = bound_string.split(\"<coordinates>\")[-1].split(\"</coordinates>\")[0]\n",
        "    spl = ext.split(\" \")\n",
        "    return [(float(ll[0]), float(ll[1])) for ll in [_.split(\",\") for _ in spl]]\n",
        "\n",
        "s = \"\"\"\n",
        "    <Polygon><outerBoundaryIs><LinearRing><coordinates>5.294455999999968,46.193934 5.279780999999957,46.201967</coordinates></LinearRing></outerBoundaryIs></Polygon>\n",
        "    \"\"\"\n",
        "r = process_boundary(s)\n",
        "r"
      ]
    },
    {
      "cell_type": "markdown",
      "metadata": {},
      "source": [
        "Certaines circonscriptions n'ont pas de contours."
      ]
    },
    {
      "cell_type": "code",
      "execution_count": null,
      "metadata": {
        "ExecuteTime": {
          "end_time": "2016-10-29T12:29:00.954675",
          "start_time": "2016-10-29T12:29:00.920671"
        },
        "code_folding": [],
        "collapsed": false
      },
      "outputs": [
        {
          "data": {
            "text/html": [
              "<div>\n",
              "<table border=\"1\" class=\"dataframe\">\n",
              "  <thead>\n",
              "    <tr style=\"text-align: right;\">\n",
              "      <th></th>\n",
              "      <th>code_circonscription</th>\n",
              "      <th>department</th>\n",
              "      <th>numero</th>\n",
              "      <th>communes</th>\n",
              "      <th>kml_shape</th>\n",
              "      <th>simple_form</th>\n",
              "    </tr>\n",
              "  </thead>\n",
              "  <tbody>\n",
              "    <tr>\n",
              "      <th>575</th>\n",
              "      <td>98702</td>\n",
              "      <td>987</td>\n",
              "      <td>2</td>\n",
              "      <td>NaN</td>\n",
              "      <td>NaN</td>\n",
              "      <td>True</td>\n",
              "    </tr>\n",
              "  </tbody>\n",
              "</table>\n",
              "</div>"
            ],
            "text/plain": [
              "    code_circonscription department  numero communes kml_shape simple_form\n",
              "575                98702        987       2      NaN       NaN        True"
            ]
          },
          "execution_count": null,
          "metadata": {},
          "output_type": "execute_result"
        }
      ],
      "source": [
        "geo[geo.code_circonscription==\"98702\"]"
      ]
    },
    {
      "cell_type": "markdown",
      "metadata": {},
      "source": [
        "La fonction suivante projette les circonscription existantes car on ne sait pas encore construire le contour d'une circonscription construite \u00e0 partir d'une solution."
      ]
    },
    {
      "cell_type": "code",
      "execution_count": null,
      "metadata": {
        "ExecuteTime": {
          "end_time": "2016-10-29T12:29:06.578578",
          "start_time": "2016-10-29T12:29:00.957670"
        },
        "collapsed": false,
        "scrolled": false
      },
      "outputs": [
        {
          "data": {
            "text/plain": [
              "array([<matplotlib.axes._subplots.AxesSubplot object at 0x0000020D2C3F5E80>,\n",
              "       <matplotlib.axes._subplots.AxesSubplot object at 0x0000020D2C459518>], dtype=object)"
            ]
          },
          "execution_count": null,
          "metadata": {},
          "output_type": "execute_result"
        },
        {
          "data": {
            "image/png": "[encoded data removed]",
            "text/plain": [
              "<matplotlib.figure.Figure at 0x20d2c3f5860>"
            ]
          },
          "metadata": {},
          "output_type": "display_data"
        }
      ],
      "source": [
        "from mpl_toolkits.basemap import Basemap\n",
        "import numpy\n",
        "from matplotlib.collections import LineCollection\n",
        "from matplotlib import cm\n",
        "import matplotlib.patches as mpatches\n",
        "\n",
        "def agg_circonscription_viz(thewinner, geo, data_vote,\n",
        "                 col_circ=\"idcirc\", col_place=\"idbureau\", col_vote=\"Nombre de voix du candidat\",\n",
        "                 col_nuance=\"Code nuance du candidat\", axes=None, figsize=(14,6), **kwargs):\n",
        "    \"\"\"\n",
        "    Visualise la nuance gagnante dans chaque circonscription.\n",
        "    \n",
        "    @param     thewinner    parti qu'on souhaite influencer\n",
        "    @param     geo          shapes pour chaque circonscription\n",
        "    @param     axes         None ou deux syst\u00e8mes d'axes\n",
        "    @param     figsize      dimension du graphiques\n",
        "    @param     kwargs       options additionnelles\n",
        "    \n",
        "    @param     data_vote    dataframe de type\n",
        "    @param     col_circ     colonne contenant la circonscription (si solution = None)\n",
        "    @param     col_place    colonne contenant l'identifiant du bureaux de votes\n",
        "    @param     col_vote     colonne contenant les votes\n",
        "    @param     col_nuance   colonne contenant le parti ou la nuance\n",
        "    @return                 matrice de resultat, une ligne par circoncription, une colonne par nuance/parti\n",
        "    \"\"\"\n",
        "    # on transforme les dataframes en dictionnaires\n",
        "    score = agg_circonscription(data_vote, col_circ=col_circ, col_place=col_place,\n",
        "                                col_vote=col_vote, col_nuance=col_nuance)\n",
        "    winner = score[[\"winner\"]].to_dict(\"index\")\n",
        "    shapes = geo.set_index(\"code_circonscription\")[[\"kml_shape\"]].to_dict(\"index\")\n",
        "    \n",
        "    if axes is None:\n",
        "        # on cr\u00e9\u00e9 des axes si non d\u00e9finis\n",
        "        fig, axes = plt.subplots(1, 2, figsize=figsize)\n",
        "        \n",
        "    # on dessine la distribution des circonscriptions\n",
        "    count = score[[\"winner\", \"nbwinner\"]].groupby([\"winner\"]).count()\n",
        "    count.sort_values(\"nbwinner\", ascending=False)\n",
        "    count.plot(ax=axes[1], kind=\"bar\", legend=False)\n",
        "    axes[1].set_xlabel(\"parti/nuance\")\n",
        "    axes[1].set_ylabel(\"nombre de circonscriptions\")\n",
        "\n",
        "    # on calcule le nombre de places le parti consid\u00e9r\u00e9\n",
        "    count = count.reset_index(drop=False)\n",
        "    count[\"iswin\"] = count[\"winner\"] == thewinner\n",
        "    ratio = count[[\"nbwinner\", \"iswin\"]].groupby(\"iswin\").sum().sort_index()\n",
        "    nbcirc = ratio.ix[1,0]\n",
        "    axes[1].set_title(\"{0}={1} circonccriptions\".format(thewinner, nbcirc))\n",
        "    \n",
        "    x1, x2 = -5.0, 9.\n",
        "    y1, y2 = 42., 52.\n",
        "    m = Basemap(resolution='i',projection='merc', llcrnrlat=y1, urcrnrlat=y2, \n",
        "                llcrnrlon=x1, urcrnrlon=x2, lat_ts=(x1+x2)/2, ax=axes[0])\n",
        "    m.drawcountries(linewidth=0.5)\n",
        "    m.drawcoastlines(linewidth=0.5)\n",
        "    \n",
        "    for circ, vals in shapes.items():\n",
        "        if circ.startswith(\"Z\"):\n",
        "            # outside\n",
        "            continue\n",
        "        if not circ.endswith(\"#\"):\n",
        "            # nous avons ajout\u00e9 un di\u00e8se\n",
        "            circ += \"#\"\n",
        "        sh = vals[\"kml_shape\"]\n",
        "        if isinstance(sh, float):\n",
        "            # NaN\n",
        "            continue\n",
        "        geo_points = process_boundary(sh)\n",
        "        lons = [_[0] for _ in geo_points]\n",
        "        lats = [_[1] for _ in geo_points]\n",
        "        data = numpy.array(m(lons, lats)).T\n",
        "        segs = [data,]\n",
        "        lines = LineCollection(segs,antialiaseds=(1,))\n",
        "        # pour changer les couleurs c'est ici, il faudra utiliser le champ records\n",
        "        # pour les changer en fonction du nom du d\u00e9partements\n",
        "        if circ in winner:\n",
        "            win = winner[circ][\"winner\"]\n",
        "            color = (0.5, 1.0, 0.5) if win == thewinner else (1.0, 0.5, 0.5)\n",
        "        else:\n",
        "            color = \"black\"            \n",
        "        lines.set_facecolors(color)\n",
        "        lines.set_edgecolors('k')\n",
        "        lines.set_linewidth(0.1)\n",
        "        axes[0].add_collection(lines)  \n",
        "\n",
        "    red_patch = mpatches.Patch(color=(1.0, 0.5, 0.5), label='perdu')\n",
        "    green_patch = mpatches.Patch(color=(0.5, 1.0, 0.5), label='gagn\u00e9')\n",
        "    axes[0].legend(handles=[red_patch, green_patch])        \n",
        "\n",
        "    return axes\n",
        "    \n",
        "agg_circonscription_viz(\"SOC\", geo, t1t2noz)"
      ]
    },
    {
      "cell_type": "markdown",
      "metadata": {},
      "source": [
        "Certaines parties du territoires manquent. Les contours manquent ou les r\u00e9sultats manquent pour une certaine circonscription. La coh\u00e9rence des donn\u00e9es devraient \u00eatre v\u00e9rifi\u00e9es car celles-ci viennent de sources diff\u00e9rentes."
      ]
    },
    {
      "cell_type": "markdown",
      "metadata": {},
      "source": [
        "### Dessiner de nouvelles circonscriptions ?\n",
        "\n",
        "Si on change les circonscriptions, les contours des anciennes circonscriptions ne sont plus valables ! Si on ne dispose que de la position des bureaux de vote, il faut reconstruire le contour de chaque circonscription en fonction de la position des bureaux de vote. La m\u00e9thode : construire un [graphe de Vorono\u00ef](https://fr.wikipedia.org/wiki/Diagramme_de_Vorono%C3%AF)\n",
        "et ne garder que les fronti\u00e8res entre bureaux de circonscriptions diff\u00e9rentes. Si on dispose de contours pour chaque bureau de vote, l'autre option consiste \u00e0 fusionner ces contours en \u00e9liminant la surface commune. C'est ce que fait la fonction [cascaded_union](http://toblerity.org/shapely/manual.html#shapely.ops.cascaded_union) du module [shapely](https://pypi.python.org/pypi/Shapely). \n",
        "\n",
        "Le probl\u00e8me principal devient l'association de la location des bureaux de vote avec les r\u00e9sultats des votes. Tout d'abord nous avons besoin de v\u00e9rifier que nous avons suffisamment de bureaux de vote localis\u00e9 dans la base *bureau_geo* et on s'aper\u00e7oit que c'est largement insuffisant."
      ]
    },
    {
      "cell_type": "code",
      "execution_count": null,
      "metadata": {
        "ExecuteTime": {
          "end_time": "2016-10-29T12:29:07.427466",
          "start_time": "2016-10-29T12:29:06.578578"
        },
        "collapsed": false
      },
      "outputs": [],
      "source": [
        "cols = [\"city\", \"zip\", \"n\"]\n",
        "bureau_geo[\"idbureaugeo\"] = bureau_geo.apply(lambda row: \"-\".join(str(row[_]) for _ in cols), axis=1)"
      ]
    },
    {
      "cell_type": "code",
      "execution_count": null,
      "metadata": {
        "ExecuteTime": {
          "end_time": "2016-10-29T12:29:10.204912",
          "start_time": "2016-10-29T12:29:07.428459"
        },
        "collapsed": false
      },
      "outputs": [
        {
          "data": {
            "text/plain": [
              "[<matplotlib.lines.Line2D at 0x20d2d103748>]"
            ]
          },
          "execution_count": null,
          "metadata": {},
          "output_type": "execute_result"
        },
        {
          "data": {
            "image/png": "[encoded data removed]",
            "text/plain": [
              "<matplotlib.figure.Figure at 0x20d2b42a630>"
            ]
          },
          "metadata": {},
          "output_type": "display_data"
        }
      ],
      "source": [
        "fig, ax = plt.subplots()\n",
        "\n",
        "x1, x2 = -5.0, 9.\n",
        "y1, y2 = 42., 52.\n",
        "m = Basemap(resolution='i',projection='merc', llcrnrlat=y1, urcrnrlat=y2, \n",
        "            llcrnrlon=x1, urcrnrlon=x2, lat_ts=(x1+x2)/2, ax=ax)\n",
        "m.drawcountries(linewidth=0.5)\n",
        "m.drawcoastlines(linewidth=0.5)\n",
        "\n",
        "lons = bureau_geo[\"longitude\"]\n",
        "lats = bureau_geo[\"latitude\"]\n",
        "data = [m(x, y) for x,y in zip(lons, lats)]\n",
        "xs = [_[0] for _ in data]\n",
        "ys = [_[1] for _ in data]\n",
        "ax.plot(xs, ys, \".\", color=(0.4, 0.4, 0.4))"
      ]
    },
    {
      "cell_type": "markdown",
      "metadata": {},
      "source": [
        "### Autres sources pour les bureaux de votes"
      ]
    },
    {
      "cell_type": "markdown",
      "metadata": {},
      "source": [
        "La faible densit\u00e9 des bureaux de votes oblige \u00e0 changer de jeu de donn\u00e9es et d'utiliser celui de [cartelec](http://www.cartelec.net/?page_id=3609) utilis\u00e9 pour l'ann\u00e9e 2007. Il devrait en grande majorit\u00e9 valable pour l'ann\u00e9e 2012 mais nous allons observer que la base n'est pas telle qu'on pourrait s'attendre."
      ]
    },
    {
      "cell_type": "code",
      "execution_count": null,
      "metadata": {
        "ExecuteTime": {
          "end_time": "2016-10-29T12:29:24.668567",
          "start_time": "2016-10-29T12:29:10.207912"
        },
        "collapsed": false
      },
      "outputs": [],
      "source": [
        "from pyensae.datasource import download_data\n",
        "shp_vote = download_data(\"base_cartelec_2007_2010.zip\")\n",
        "import shapefile\n",
        "rshp = shapefile.Reader(\"fond0710.shp\")\n",
        "shapes = rshp.shapes()\n",
        "records = rshp.records()"
      ]
    },
    {
      "cell_type": "code",
      "execution_count": null,
      "metadata": {
        "ExecuteTime": {
          "end_time": "2016-10-29T12:29:24.681421",
          "start_time": "2016-10-29T12:29:24.668567"
        },
        "collapsed": false
      },
      "outputs": [
        {
          "data": {
            "text/plain": [
              "({'BUREAU': '01001',\n",
              "  'CANTON': 'CHATILLON-SUR-CHALARONNE',\n",
              "  'CIRCO': '04',\n",
              "  'CODE': '01001',\n",
              "  'CODEARRT': '012',\n",
              "  'CODECANT': '10',\n",
              "  'CODEDEP': '01',\n",
              "  'CODEREG': '82',\n",
              "  'NOM': b\"L'Abergement-Cl\\xe9menciat\"},\n",
              " [[846774.7025280485, 6563840.655779875],\n",
              "  [847430.4726776106, 6566444.631470905],\n",
              "  [848975.0615885032, 6566530.102978201],\n",
              "  [849532.5253064571, 6565971.4588501565],\n",
              "  [848969.0813380895, 6564398.911644492]])"
            ]
          },
          "execution_count": null,
          "metadata": {},
          "output_type": "execute_result"
        }
      ],
      "source": [
        "{k[0]:v for k,v in zip(rshp.fields[1:], records[0])}, shapes[0].points[:5]"
      ]
    },
    {
      "cell_type": "code",
      "execution_count": null,
      "metadata": {
        "ExecuteTime": {
          "end_time": "2016-10-29T12:29:24.699931",
          "start_time": "2016-10-29T12:29:24.684932"
        },
        "collapsed": false
      },
      "outputs": [
        {
          "data": {
            "text/plain": [
              "{'bbox': [846774.7025280485, 6559575.068823495, 850941.7401535356, 6566530.102978201],\n",
              " 'parts': [0],\n",
              " 'points': [[846774.7025280485, 6563840.655779875],\n",
              "  [847430.4726776106, 6566444.631470905],\n",
              "  [848975.0615885032, 6566530.102978201],\n",
              "  [849532.5253064571, 6565971.4588501565],\n",
              "  [848969.0813380895, 6564398.911644492],\n",
              "  [850941.7401535356, 6563209.5425065085],\n",
              "  [849896.4212796891, 6562719.844144765],\n",
              "  [849632.2745031306, 6561522.415193593],\n",
              "  [849891.0276243397, 6560738.406460746],\n",
              "  [848732.0257644501, 6559575.068823495],\n",
              "  [848585.9032087281, 6560169.582690463],\n",
              "  [847664.0345600601, 6560616.395794825],\n",
              "  [847793.2580021, 6562243.125831007],\n",
              "  [846774.7025280485, 6563840.655779875]],\n",
              " 'shapeType': 5}"
            ]
          },
          "execution_count": null,
          "metadata": {},
          "output_type": "execute_result"
        }
      ],
      "source": [
        "shapes[0].__dict__"
      ]
    },
    {
      "cell_type": "markdown",
      "metadata": {},
      "source": [
        "Les coordonn\u00e9es ne sont pas des longitudes et latitudes. Il faut les convertir."
      ]
    },
    {
      "cell_type": "markdown",
      "metadata": {},
      "source": [
        "### Conversion des coordoonn\u00e9es et identifiant de bureau\n",
        "\n",
        "Voir ce [notebook](http://www.xavierdupre.fr/app/ensae_teaching_cs/helpsphinx3/notebooks/td1a_cenonce_session_12.html#cartographie). La fonction qui suit est assez longue et elle est ex\u00e9cut\u00e9e un grand nombre de fois. Dans notre cas, le traitement n'est pas encore trop long et n'est ex\u00e9cut\u00e9 qu'une fois autrement il faudrait l'acc\u00e9l\u00e9rer avec [numba](http://numba.pydata.org/) ou [cython](http://cython.org/)."
      ]
    },
    {
      "cell_type": "code",
      "execution_count": null,
      "metadata": {
        "ExecuteTime": {
          "end_time": "2016-10-29T12:29:24.744949",
          "start_time": "2016-10-29T12:29:24.705436"
        },
        "collapsed": false
      },
      "outputs": [
        {
          "data": {
            "text/plain": [
              "((-4.1615802638173065, 41.303505287589545),\n",
              " (10.699505053975292, 50.85243395553585))"
            ]
          },
          "execution_count": null,
          "metadata": {},
          "output_type": "execute_result"
        }
      ],
      "source": [
        "import math\n",
        "def lambert932WGPS(lambertE, lambertN):\n",
        "    class constantes:\n",
        "        GRS80E = 0.081819191042816\n",
        "        LONG_0 = 3\n",
        "        XS = 700000\n",
        "        YS = 12655612.0499\n",
        "        n = 0.7256077650532670\n",
        "        C = 11754255.4261\n",
        "    delX = lambertE - constantes.XS\n",
        "    delY = lambertN - constantes.YS\n",
        "    gamma = math.atan(-delX / delY)\n",
        "    R = math.sqrt(delX * delX + delY * delY)\n",
        "    latiso = math.log(constantes.C / R) / constantes.n\n",
        "    sinPhiit0 = math.tanh(latiso + constantes.GRS80E * math.atanh(constantes.GRS80E * math.sin(1)))\n",
        "    sinPhiit1 = math.tanh(latiso + constantes.GRS80E * math.atanh(constantes.GRS80E * sinPhiit0))\n",
        "    sinPhiit2 = math.tanh(latiso + constantes.GRS80E * math.atanh(constantes.GRS80E * sinPhiit1))\n",
        "    sinPhiit3 = math.tanh(latiso + constantes.GRS80E * math.atanh(constantes.GRS80E * sinPhiit2))\n",
        "    sinPhiit4 = math.tanh(latiso + constantes.GRS80E * math.atanh(constantes.GRS80E * sinPhiit3))\n",
        "    sinPhiit5 = math.tanh(latiso + constantes.GRS80E * math.atanh(constantes.GRS80E * sinPhiit4))\n",
        "    sinPhiit6 = math.tanh(latiso + constantes.GRS80E * math.atanh(constantes.GRS80E * sinPhiit5))\n",
        "    longRad = math.asin(sinPhiit6)\n",
        "    latRad = gamma / constantes.n + constantes.LONG_0 / 180 * math.pi\n",
        "    longitude = latRad / math.pi * 180\n",
        "    latitude = longRad / math.pi * 180\n",
        "    return longitude, latitude\n",
        "lambert932WGPS(99217.1, 6049646.300000001), lambert932WGPS(1242417.2, 7110480.100000001)"
      ]
    },
    {
      "cell_type": "code",
      "execution_count": null,
      "metadata": {
        "ExecuteTime": {
          "end_time": "2016-10-29T12:31:56.328885",
          "start_time": "2016-10-29T12:29:24.747950"
        },
        "collapsed": false
      },
      "outputs": [],
      "source": [
        "for shape in shapes:\n",
        "    x1, y1 = lambert932WGPS(shape.bbox[0], shape.bbox[1])\n",
        "    x2, y2 = lambert932WGPS(shape.bbox[2], shape.bbox[3])\n",
        "    shape.bbox = [x1, y1, x2, y2]\n",
        "    shape.points = [lambert932WGPS(x,y) for x,y in shape.points]"
      ]
    },
    {
      "cell_type": "markdown",
      "metadata": {},
      "source": [
        "On v\u00e9rifie que nous disposons de beaucoup plus de bureaux de vote localis\u00e9s."
      ]
    },
    {
      "cell_type": "code",
      "execution_count": null,
      "metadata": {
        "ExecuteTime": {
          "end_time": "2016-10-29T12:32:00.183179",
          "start_time": "2016-10-29T12:31:56.328885"
        },
        "collapsed": false
      },
      "outputs": [
        {
          "data": {
            "text/plain": [
              "[<matplotlib.lines.Line2D at 0x20d05ad7080>]"
            ]
          },
          "execution_count": null,
          "metadata": {},
          "output_type": "execute_result"
        },
        {
          "data": {
            "image/png": "[encoded data removed]",
            "text/plain": [
              "<matplotlib.figure.Figure at 0x20d74295198>"
            ]
          },
          "metadata": {},
          "output_type": "display_data"
        }
      ],
      "source": [
        "fig, ax = plt.subplots()\n",
        "\n",
        "x1, x2 = -5.0, 9.\n",
        "y1, y2 = 42., 52.\n",
        "m = Basemap(resolution='i',projection='merc', llcrnrlat=y1, urcrnrlat=y2, \n",
        "            llcrnrlon=x1, urcrnrlon=x2, lat_ts=(x1+x2)/2, ax=ax)\n",
        "m.drawcountries(linewidth=0.5)\n",
        "m.drawcoastlines(linewidth=0.5)\n",
        "\n",
        "lons = []\n",
        "lats = []\n",
        "for shape in shapes:\n",
        "    x1, y1, x2, y2 = shape.bbox\n",
        "    x = (x1+x2) / 2\n",
        "    y = (y1+y2) / 2\n",
        "    lons.append(x)\n",
        "    lats.append(y)\n",
        "data = [m(x, y) for x,y in zip(lons, lats)]\n",
        "xs = [_[0] for _ in data]\n",
        "ys = [_[1] for _ in data]\n",
        "ax.plot(xs, ys, \".\", color=(0.4, 0.4, 0.4))"
      ]
    },
    {
      "cell_type": "markdown",
      "metadata": {},
      "source": [
        "La France est recouverte de gris. La densit\u00e9 des bureaux de votes est plus conforme \u00e0 celle attendue. La conversion des coordonn\u00e9es a fonctionn\u00e9 et les donn\u00e9es seront exploitables."
      ]
    },
    {
      "cell_type": "code",
      "execution_count": null,
      "metadata": {
        "ExecuteTime": {
          "end_time": "2016-10-29T12:32:00.216178",
          "start_time": "2016-10-29T12:32:00.186182"
        },
        "collapsed": false
      },
      "outputs": [
        {
          "data": {
            "text/plain": [
              "(50578, 65717)"
            ]
          },
          "execution_count": null,
          "metadata": {},
          "output_type": "execute_result"
        }
      ],
      "source": [
        "len(shapes), len(set(t1t2noz.idbureau))"
      ]
    },
    {
      "cell_type": "markdown",
      "metadata": {},
      "source": [
        "C'est quand m\u00eame moins que les 67920 bureaux de vote enregistr\u00e9s dans la table des \u00e9lections ! Il y a 17000 bureaux de votes que nous ne pouvons pas localiser. On essaye un bureau au hasard pour deviner le sens des informations fournies dans les *records* :"
      ]
    },
    {
      "cell_type": "code",
      "execution_count": null,
      "metadata": {
        "ExecuteTime": {
          "end_time": "2016-10-29T12:32:00.240179",
          "start_time": "2016-10-29T12:32:00.220181"
        },
        "collapsed": false
      },
      "outputs": [
        {
          "data": {
            "text/plain": [
              "{'BUREAU': '25038',\n",
              " 'CANTON': 'ROUGEMONT',\n",
              " 'CIRCO': '03',\n",
              " 'CODE': '25038',\n",
              " 'CODEARRT': '251',\n",
              " 'CODECANT': '23',\n",
              " 'CODEDEP': '25',\n",
              " 'CODEREG': '43',\n",
              " 'NOM': 'Avilley'}"
            ]
          },
          "execution_count": null,
          "metadata": {},
          "output_type": "execute_result"
        }
      ],
      "source": [
        "{k[0]:v for k,v in zip(rshp.fields[1:], records[11000])}"
      ]
    },
    {
      "cell_type": "code",
      "execution_count": null,
      "metadata": {
        "ExecuteTime": {
          "end_time": "2016-10-29T12:32:00.360698",
          "start_time": "2016-10-29T12:32:00.243181"
        },
        "collapsed": false
      },
      "outputs": [
        {
          "data": {
            "text/html": [
              "<div>\n",
              "<table border=\"1\" class=\"dataframe\">\n",
              "  <thead>\n",
              "    <tr style=\"text-align: right;\">\n",
              "      <th></th>\n",
              "      <th>Code de la commune</th>\n",
              "      <th>Code d\u00e9partement</th>\n",
              "      <th>Code nuance du candidat</th>\n",
              "      <th>Exprim\u00e9s</th>\n",
              "      <th>Inscrits</th>\n",
              "      <th>Nom de la commune</th>\n",
              "      <th>Nom du candidat</th>\n",
              "      <th>Nombre de voix du candidat</th>\n",
              "      <th>N\u00b0 de bureau de vote</th>\n",
              "      <th>N\u00b0 de canton</th>\n",
              "      <th>N\u00b0 de circonscription Lg</th>\n",
              "      <th>N\u00b0 de d\u00e9p\u00f4t du candidat</th>\n",
              "      <th>N\u00b0 tour</th>\n",
              "      <th>Pr\u00e9nom du candidat</th>\n",
              "      <th>Votants</th>\n",
              "      <th>elu</th>\n",
              "      <th>idbureau</th>\n",
              "      <th>idcirc</th>\n",
              "    </tr>\n",
              "  </thead>\n",
              "  <tbody>\n",
              "    <tr>\n",
              "      <th>29979</th>\n",
              "      <td>38</td>\n",
              "      <td>25</td>\n",
              "      <td>UMP</td>\n",
              "      <td>96</td>\n",
              "      <td>153</td>\n",
              "      <td>Avilley</td>\n",
              "      <td>BONNOT</td>\n",
              "      <td>60</td>\n",
              "      <td>0001</td>\n",
              "      <td>23</td>\n",
              "      <td>3</td>\n",
              "      <td>47</td>\n",
              "      <td>2</td>\n",
              "      <td>Marcel</td>\n",
              "      <td>98</td>\n",
              "      <td>NaN</td>\n",
              "      <td>2503823001#</td>\n",
              "      <td>25003#</td>\n",
              "    </tr>\n",
              "    <tr>\n",
              "      <th>29980</th>\n",
              "      <td>38</td>\n",
              "      <td>25</td>\n",
              "      <td>SOC</td>\n",
              "      <td>96</td>\n",
              "      <td>153</td>\n",
              "      <td>Avilley</td>\n",
              "      <td>MARTHEY</td>\n",
              "      <td>36</td>\n",
              "      <td>0001</td>\n",
              "      <td>23</td>\n",
              "      <td>3</td>\n",
              "      <td>50</td>\n",
              "      <td>2</td>\n",
              "      <td>Arnaud</td>\n",
              "      <td>98</td>\n",
              "      <td>NaN</td>\n",
              "      <td>2503823001#</td>\n",
              "      <td>25003#</td>\n",
              "    </tr>\n",
              "  </tbody>\n",
              "</table>\n",
              "</div>"
            ],
            "text/plain": [
              "       Code de la commune Code d\u00e9partement Code nuance du candidat  Exprim\u00e9s  \\\n",
              "29979                  38               25                     UMP        96   \n",
              "29980                  38               25                     SOC        96   \n",
              "\n",
              "       Inscrits Nom de la commune Nom du candidat  Nombre de voix du candidat  \\\n",
              "29979       153           Avilley          BONNOT                          60   \n",
              "29980       153           Avilley         MARTHEY                          36   \n",
              "\n",
              "      N\u00b0 de bureau de vote  N\u00b0 de canton  N\u00b0 de circonscription Lg  \\\n",
              "29979                 0001            23                         3   \n",
              "29980                 0001            23                         3   \n",
              "\n",
              "       N\u00b0 de d\u00e9p\u00f4t du candidat  N\u00b0 tour Pr\u00e9nom du candidat  Votants  elu  \\\n",
              "29979                       47        2             Marcel       98  NaN   \n",
              "29980                       50        2             Arnaud       98  NaN   \n",
              "\n",
              "          idbureau  idcirc  \n",
              "29979  2503823001#  25003#  \n",
              "29980  2503823001#  25003#  "
            ]
          },
          "execution_count": null,
          "metadata": {},
          "output_type": "execute_result"
        }
      ],
      "source": [
        "t1t2[t1t2[\"Nom de la commune\"] == \"Avilley\"]"
      ]
    },
    {
      "cell_type": "markdown",
      "metadata": {},
      "source": [
        "O\u00f9 est le code du bureau ?"
      ]
    },
    {
      "cell_type": "code",
      "execution_count": null,
      "metadata": {
        "ExecuteTime": {
          "end_time": "2016-10-29T12:32:00.469719",
          "start_time": "2016-10-29T12:32:00.372694"
        },
        "collapsed": false
      },
      "outputs": [
        {
          "data": {
            "text/html": [
              "<div>\n",
              "<table border=\"1\" class=\"dataframe\">\n",
              "  <thead>\n",
              "    <tr style=\"text-align: right;\">\n",
              "      <th></th>\n",
              "      <th>Code de la commune</th>\n",
              "      <th>Code d\u00e9partement</th>\n",
              "      <th>Code nuance du candidat</th>\n",
              "      <th>Exprim\u00e9s</th>\n",
              "      <th>Inscrits</th>\n",
              "      <th>Nom de la commune</th>\n",
              "      <th>Nom du candidat</th>\n",
              "      <th>Nombre de voix du candidat</th>\n",
              "      <th>N\u00b0 de bureau de vote</th>\n",
              "      <th>N\u00b0 de canton</th>\n",
              "      <th>N\u00b0 de circonscription Lg</th>\n",
              "      <th>N\u00b0 de d\u00e9p\u00f4t du candidat</th>\n",
              "      <th>N\u00b0 tour</th>\n",
              "      <th>Pr\u00e9nom du candidat</th>\n",
              "      <th>Votants</th>\n",
              "      <th>elu</th>\n",
              "      <th>idbureau</th>\n",
              "      <th>idcirc</th>\n",
              "    </tr>\n",
              "  </thead>\n",
              "  <tbody>\n",
              "    <tr>\n",
              "      <th>12229</th>\n",
              "      <td>328</td>\n",
              "      <td>08</td>\n",
              "      <td>SOC</td>\n",
              "      <td>755</td>\n",
              "      <td>1707</td>\n",
              "      <td>Nouzonville</td>\n",
              "      <td>LEONARD</td>\n",
              "      <td>486</td>\n",
              "      <td>0001</td>\n",
              "      <td>34</td>\n",
              "      <td>2</td>\n",
              "      <td>18</td>\n",
              "      <td>2</td>\n",
              "      <td>Christophe</td>\n",
              "      <td>782</td>\n",
              "      <td>NaN</td>\n",
              "      <td>0832834001#</td>\n",
              "      <td>08002#</td>\n",
              "    </tr>\n",
              "    <tr>\n",
              "      <th>12230</th>\n",
              "      <td>328</td>\n",
              "      <td>08</td>\n",
              "      <td>UMP</td>\n",
              "      <td>755</td>\n",
              "      <td>1707</td>\n",
              "      <td>Nouzonville</td>\n",
              "      <td>RAVIGNON</td>\n",
              "      <td>269</td>\n",
              "      <td>0001</td>\n",
              "      <td>34</td>\n",
              "      <td>2</td>\n",
              "      <td>27</td>\n",
              "      <td>2</td>\n",
              "      <td>Boris</td>\n",
              "      <td>782</td>\n",
              "      <td>NaN</td>\n",
              "      <td>0832834001#</td>\n",
              "      <td>08002#</td>\n",
              "    </tr>\n",
              "    <tr>\n",
              "      <th>12231</th>\n",
              "      <td>328</td>\n",
              "      <td>08</td>\n",
              "      <td>SOC</td>\n",
              "      <td>711</td>\n",
              "      <td>1565</td>\n",
              "      <td>Nouzonville</td>\n",
              "      <td>LEONARD</td>\n",
              "      <td>481</td>\n",
              "      <td>0002</td>\n",
              "      <td>34</td>\n",
              "      <td>2</td>\n",
              "      <td>18</td>\n",
              "      <td>2</td>\n",
              "      <td>Christophe</td>\n",
              "      <td>732</td>\n",
              "      <td>NaN</td>\n",
              "      <td>0832834002#</td>\n",
              "      <td>08002#</td>\n",
              "    </tr>\n",
              "    <tr>\n",
              "      <th>12232</th>\n",
              "      <td>328</td>\n",
              "      <td>08</td>\n",
              "      <td>UMP</td>\n",
              "      <td>711</td>\n",
              "      <td>1565</td>\n",
              "      <td>Nouzonville</td>\n",
              "      <td>RAVIGNON</td>\n",
              "      <td>230</td>\n",
              "      <td>0002</td>\n",
              "      <td>34</td>\n",
              "      <td>2</td>\n",
              "      <td>27</td>\n",
              "      <td>2</td>\n",
              "      <td>Boris</td>\n",
              "      <td>732</td>\n",
              "      <td>NaN</td>\n",
              "      <td>0832834002#</td>\n",
              "      <td>08002#</td>\n",
              "    </tr>\n",
              "    <tr>\n",
              "      <th>12233</th>\n",
              "      <td>328</td>\n",
              "      <td>08</td>\n",
              "      <td>SOC</td>\n",
              "      <td>571</td>\n",
              "      <td>1149</td>\n",
              "      <td>Nouzonville</td>\n",
              "      <td>LEONARD</td>\n",
              "      <td>357</td>\n",
              "      <td>0003</td>\n",
              "      <td>34</td>\n",
              "      <td>2</td>\n",
              "      <td>18</td>\n",
              "      <td>2</td>\n",
              "      <td>Christophe</td>\n",
              "      <td>590</td>\n",
              "      <td>NaN</td>\n",
              "      <td>0832834003#</td>\n",
              "      <td>08002#</td>\n",
              "    </tr>\n",
              "    <tr>\n",
              "      <th>12234</th>\n",
              "      <td>328</td>\n",
              "      <td>08</td>\n",
              "      <td>UMP</td>\n",
              "      <td>571</td>\n",
              "      <td>1149</td>\n",
              "      <td>Nouzonville</td>\n",
              "      <td>RAVIGNON</td>\n",
              "      <td>214</td>\n",
              "      <td>0003</td>\n",
              "      <td>34</td>\n",
              "      <td>2</td>\n",
              "      <td>27</td>\n",
              "      <td>2</td>\n",
              "      <td>Boris</td>\n",
              "      <td>590</td>\n",
              "      <td>NaN</td>\n",
              "      <td>0832834003#</td>\n",
              "      <td>08002#</td>\n",
              "    </tr>\n",
              "  </tbody>\n",
              "</table>\n",
              "</div>"
            ],
            "text/plain": [
              "       Code de la commune Code d\u00e9partement Code nuance du candidat  Exprim\u00e9s  \\\n",
              "12229                 328               08                     SOC       755   \n",
              "12230                 328               08                     UMP       755   \n",
              "12231                 328               08                     SOC       711   \n",
              "12232                 328               08                     UMP       711   \n",
              "12233                 328               08                     SOC       571   \n",
              "12234                 328               08                     UMP       571   \n",
              "\n",
              "       Inscrits Nom de la commune Nom du candidat  Nombre de voix du candidat  \\\n",
              "12229      1707       Nouzonville         LEONARD                         486   \n",
              "12230      1707       Nouzonville        RAVIGNON                         269   \n",
              "12231      1565       Nouzonville         LEONARD                         481   \n",
              "12232      1565       Nouzonville        RAVIGNON                         230   \n",
              "12233      1149       Nouzonville         LEONARD                         357   \n",
              "12234      1149       Nouzonville        RAVIGNON                         214   \n",
              "\n",
              "      N\u00b0 de bureau de vote  N\u00b0 de canton  N\u00b0 de circonscription Lg  \\\n",
              "12229                 0001            34                         2   \n",
              "12230                 0001            34                         2   \n",
              "12231                 0002            34                         2   \n",
              "12232                 0002            34                         2   \n",
              "12233                 0003            34                         2   \n",
              "12234                 0003            34                         2   \n",
              "\n",
              "       N\u00b0 de d\u00e9p\u00f4t du candidat  N\u00b0 tour Pr\u00e9nom du candidat  Votants  elu  \\\n",
              "12229                       18        2         Christophe      782  NaN   \n",
              "12230                       27        2              Boris      782  NaN   \n",
              "12231                       18        2         Christophe      732  NaN   \n",
              "12232                       27        2              Boris      732  NaN   \n",
              "12233                       18        2         Christophe      590  NaN   \n",
              "12234                       27        2              Boris      590  NaN   \n",
              "\n",
              "          idbureau  idcirc  \n",
              "12229  0832834001#  08002#  \n",
              "12230  0832834001#  08002#  \n",
              "12231  0832834002#  08002#  \n",
              "12232  0832834002#  08002#  \n",
              "12233  0832834003#  08002#  \n",
              "12234  0832834003#  08002#  "
            ]
          },
          "execution_count": null,
          "metadata": {},
          "output_type": "execute_result"
        }
      ],
      "source": [
        "t1t2[t1t2[\"Nom de la commune\"] == \"Nouzonville\"]"
      ]
    },
    {
      "cell_type": "code",
      "execution_count": null,
      "metadata": {
        "ExecuteTime": {
          "end_time": "2016-10-29T12:32:00.502714",
          "start_time": "2016-10-29T12:32:00.473714"
        },
        "collapsed": false
      },
      "outputs": [
        {
          "data": {
            "text/plain": [
              "[{'BUREAU': '08328',\n",
              "  'CANTON': 'NOUZONVILLE',\n",
              "  'CIRCO': '02',\n",
              "  'CODE': '08328',\n",
              "  'CODEARRT': '081',\n",
              "  'CODECANT': '34',\n",
              "  'CODEDEP': '08',\n",
              "  'CODEREG': '21',\n",
              "  'NOM': 'Nouzonville'}]"
            ]
          },
          "execution_count": null,
          "metadata": {},
          "output_type": "execute_result"
        }
      ],
      "source": [
        "[ {k[0]:v for k,v in zip(rshp.fields[1:], rec)} for rec in records if \"Nouzonville\" in rec]"
      ]
    },
    {
      "cell_type": "markdown",
      "metadata": {},
      "source": [
        "On regarde \u00e0 Paris."
      ]
    },
    {
      "cell_type": "code",
      "execution_count": null,
      "metadata": {
        "ExecuteTime": {
          "end_time": "2016-10-29T12:32:00.544726",
          "start_time": "2016-10-29T12:32:00.505715"
        },
        "collapsed": false
      },
      "outputs": [
        {
          "data": {
            "text/plain": [
              "[{'BUREAU': '75110_1001',\n",
              "  'CANTON': 'Paris-10',\n",
              "  'CIRCO': '05',\n",
              "  'CODE': '75110',\n",
              "  'CODEARRT': '751',\n",
              "  'CODECANT': '24',\n",
              "  'CODEDEP': '75',\n",
              "  'CODEREG': '11',\n",
              "  'NOM': 'Paris 10e  arrondiss'},\n",
              " {'BUREAU': '75110_1002',\n",
              "  'CANTON': 'Paris-10',\n",
              "  'CIRCO': '05',\n",
              "  'CODE': '75110',\n",
              "  'CODEARRT': '751',\n",
              "  'CODECANT': '24',\n",
              "  'CODEDEP': '75',\n",
              "  'CODEREG': '11',\n",
              "  'NOM': 'Paris 10e  arrondiss'}]"
            ]
          },
          "execution_count": null,
          "metadata": {},
          "output_type": "execute_result"
        }
      ],
      "source": [
        "[ {k[0]:v for k,v in zip(rshp.fields[1:], rec)} for rec in records if \"Paris-10\" in rec][0:2]"
      ]
    },
    {
      "cell_type": "markdown",
      "metadata": {},
      "source": [
        "Cela signifie que les bureaux de vote sont regroup\u00e9es sur les petites villes et pas sur les grandes. Combien avons nous de bureaux de vote uniques et localis\u00e9s ?"
      ]
    },
    {
      "cell_type": "code",
      "execution_count": null,
      "metadata": {
        "ExecuteTime": {
          "end_time": "2016-10-29T12:32:00.789461",
          "start_time": "2016-10-29T12:32:00.548227"
        },
        "collapsed": false
      },
      "outputs": [
        {
          "data": {
            "text/plain": [
              "15837"
            ]
          },
          "execution_count": null,
          "metadata": {},
          "output_type": "execute_result"
        }
      ],
      "source": [
        "len([ _ for _ in [ {k[0]:v for k,v in zip(rshp.fields[1:], rec)} for rec in records] if \"_\" in _[\"BUREAU\"]])"
      ]
    },
    {
      "cell_type": "markdown",
      "metadata": {},
      "source": [
        "On peut maintenant reconstruire un identifiant de bureau, complet quand le bureau de vote est pr\u00e9sent, incomplet quand il ne l'est pas."
      ]
    },
    {
      "cell_type": "code",
      "execution_count": null,
      "metadata": {
        "ExecuteTime": {
          "end_time": "2016-10-29T12:32:00.808995",
          "start_time": "2016-10-29T12:32:00.793463"
        },
        "code_folding": [],
        "collapsed": false
      },
      "outputs": [
        {
          "data": {
            "text/plain": [
              "'2503823***#'"
            ]
          },
          "execution_count": null,
          "metadata": {},
          "output_type": "execute_result"
        }
      ],
      "source": [
        "def shape_idbureau(rec):\n",
        "    # d\u00e9partement + commune + canton + bureau\n",
        "    if \"_\" in rec[\"BUREAU\"]:\n",
        "        bb = \"0\" + rec[\"BUREAU\"].split(\"_\")[-1][-2:]\n",
        "    else:\n",
        "        bb = \"***\"\n",
        "    return rec[\"CODEDEP\"] + rec[\"CODE\"][-3:] + rec[\"CODECANT\"] + bb + \"#\"\n",
        "\n",
        "shape_idbureau({k[0]:v for k,v in zip(rshp.fields[1:], records[11000])})"
      ]
    },
    {
      "cell_type": "markdown",
      "metadata": {},
      "source": [
        "### Implications sur la m\u00e9thode globale\n",
        "\n",
        "En r\u00e9sum\u00e9, nous avons :\n",
        "\n",
        "* 67920 bureaux de vote en m\u00e9tropole\n",
        "* 50578 lieux distincts\n",
        "* 15837 bureaux de vote clairement identifi\u00e9s et localis\u00e9s\n",
        "* ~35000 lieux qui correspondent au regroupement de bureaux de vote\n",
        "\n",
        "Pour poursuivre, il va falloir agr\u00e9ger les r\u00e9sultats pour les bureaux de vote qui ont \u00e9t\u00e9 regroup\u00e9s dans la base qui fournit leur coordonn\u00e9es ou tout simplement donner \u00e0 ces bureaux de vote un identifiant unique. La seconde option, m\u00eame si elle impose de conserver plus de donn\u00e9es \u00e0 l'avantage d'\u00eatre plus simple et donc de g\u00e9n\u00e9rer moins d'erreur. "
      ]
    },
    {
      "cell_type": "code",
      "execution_count": null,
      "metadata": {
        "ExecuteTime": {
          "end_time": "2016-10-29T12:32:04.253505",
          "start_time": "2016-10-29T12:32:00.811999"
        },
        "collapsed": false
      },
      "outputs": [
        {
          "data": {
            "text/plain": [
              "[<matplotlib.lines.Line2D at 0x20d062f3d68>]"
            ]
          },
          "execution_count": null,
          "metadata": {},
          "output_type": "execute_result"
        },
        {
          "data": {
            "image/png": "[encoded data removed]",
            "text/plain": [
              "<matplotlib.figure.Figure at 0x20d2d2dad68>"
            ]
          },
          "metadata": {},
          "output_type": "display_data"
        }
      ],
      "source": [
        "fig, ax = plt.subplots()\n",
        "\n",
        "x1, x2 = -5.0, 9.\n",
        "y1, y2 = 42., 52.\n",
        "m = Basemap(resolution='i',projection='merc', llcrnrlat=y1, urcrnrlat=y2, \n",
        "            llcrnrlon=x1, urcrnrlon=x2, lat_ts=(x1+x2)/2, ax=ax)\n",
        "m.drawcountries(linewidth=0.5)\n",
        "m.drawcoastlines(linewidth=0.5)\n",
        "\n",
        "lons = []\n",
        "lats = []\n",
        "for rec, shape in zip(records, shapes):\n",
        "    d = {k[0]:v for k,v in zip(rshp.fields[1:], rec)}\n",
        "    if \"_\" not in d[\"BUREAU\"]:\n",
        "        # bureau de vote pas unique\n",
        "        continue\n",
        "    x1, y1, x2, y2 = shape.bbox\n",
        "    x = (x1+x2) / 2\n",
        "    y = (y1+y2) / 2\n",
        "    lons.append(x)\n",
        "    lats.append(y)\n",
        "data = [m(x, y) for x,y in zip(lons, lats)]\n",
        "xs = [_[0] for _ in data]\n",
        "ys = [_[1] for _ in data]\n",
        "ax.plot(xs, ys, \".\", color=(0.4, 0.4, 0.4))"
      ]
    },
    {
      "cell_type": "markdown",
      "metadata": {},
      "source": [
        "Clairement les grandes et moyennes villes."
      ]
    },
    {
      "cell_type": "code",
      "execution_count": null,
      "metadata": {
        "ExecuteTime": {
          "end_time": "2016-10-29T12:32:04.306717",
          "start_time": "2016-10-29T12:32:04.257505"
        },
        "collapsed": false
      },
      "outputs": [
        {
          "data": {
            "text/html": [
              "<div>\n",
              "<table border=\"1\" class=\"dataframe\">\n",
              "  <thead>\n",
              "    <tr style=\"text-align: right;\">\n",
              "      <th></th>\n",
              "      <th>Code de la commune</th>\n",
              "      <th>Code d\u00e9partement</th>\n",
              "      <th>Code nuance du candidat</th>\n",
              "      <th>Nom du candidat</th>\n",
              "      <th>Nombre de voix du candidat</th>\n",
              "      <th>N\u00b0 de bureau de vote</th>\n",
              "      <th>N\u00b0 de canton</th>\n",
              "      <th>N\u00b0 de circonscription Lg</th>\n",
              "      <th>N\u00b0 de d\u00e9p\u00f4t du candidat</th>\n",
              "      <th>N\u00b0 tour</th>\n",
              "      <th>Pr\u00e9nom du candidat</th>\n",
              "      <th>idbureau</th>\n",
              "      <th>idcirc</th>\n",
              "    </tr>\n",
              "  </thead>\n",
              "  <tbody>\n",
              "    <tr>\n",
              "      <th>47442</th>\n",
              "      <td>4</td>\n",
              "      <td>06</td>\n",
              "      <td>EXG</td>\n",
              "      <td>PETARD</td>\n",
              "      <td>0</td>\n",
              "      <td>0101</td>\n",
              "      <td>1</td>\n",
              "      <td>7</td>\n",
              "      <td>8</td>\n",
              "      <td>1</td>\n",
              "      <td>Christian</td>\n",
              "      <td>0600401101#</td>\n",
              "      <td>06007#</td>\n",
              "    </tr>\n",
              "    <tr>\n",
              "      <th>47443</th>\n",
              "      <td>4</td>\n",
              "      <td>06</td>\n",
              "      <td>FN</td>\n",
              "      <td>VIOT</td>\n",
              "      <td>33</td>\n",
              "      <td>0101</td>\n",
              "      <td>1</td>\n",
              "      <td>7</td>\n",
              "      <td>24</td>\n",
              "      <td>1</td>\n",
              "      <td>Mathilde</td>\n",
              "      <td>0600401101#</td>\n",
              "      <td>06007#</td>\n",
              "    </tr>\n",
              "  </tbody>\n",
              "</table>\n",
              "</div>"
            ],
            "text/plain": [
              "       Code de la commune Code d\u00e9partement Code nuance du candidat  \\\n",
              "47442                   4               06                     EXG   \n",
              "47443                   4               06                      FN   \n",
              "\n",
              "      Nom du candidat  Nombre de voix du candidat N\u00b0 de bureau de vote  \\\n",
              "47442          PETARD                           0                 0101   \n",
              "47443            VIOT                          33                 0101   \n",
              "\n",
              "       N\u00b0 de canton  N\u00b0 de circonscription Lg  N\u00b0 de d\u00e9p\u00f4t du candidat  \\\n",
              "47442             1                         7                        8   \n",
              "47443             1                         7                       24   \n",
              "\n",
              "       N\u00b0 tour Pr\u00e9nom du candidat     idbureau  idcirc  \n",
              "47442        1          Christian  0600401101#  06007#  \n",
              "47443        1           Mathilde  0600401101#  06007#  "
            ]
          },
          "execution_count": null,
          "metadata": {},
          "output_type": "execute_result"
        }
      ],
      "source": [
        "t1t2noz[list(_ for _ in t1t2noz.columns if \"Code\" in _ or \"id\" in _ or \"N\u00b0\" in _)].head(n=2)"
      ]
    },
    {
      "cell_type": "markdown",
      "metadata": {},
      "source": [
        "On choisit maintenant de remplacer les valeurs de la colonne ``idbureau``, si le code ``0600401101#`` n'a pas de localisation connue, cela signifie qu'il est probablement agr\u00e9g\u00e9 avec d'autres bureaux de vote. On le remplace par ``0600401***#``. Nous verrons cela plus bas."
      ]
    },
    {
      "cell_type": "markdown",
      "metadata": {},
      "source": [
        "### Fusionner les shapefiles\n",
        "\n",
        "C'est maintenant qu'on va utiliser la fonction [cascade_union](http://toblerity.org/shapely/manual.html#shapely.ops.cascaded_union) du module [shapely](https://pypi.python.org/pypi/Shapely).\n",
        "On extrait un sous-ensemble de bureaux de vote pour tester la fontion."
      ]
    },
    {
      "cell_type": "code",
      "execution_count": null,
      "metadata": {
        "ExecuteTime": {
          "end_time": "2016-10-29T12:32:04.456809",
          "start_time": "2016-10-29T12:32:04.309719"
        },
        "collapsed": false
      },
      "outputs": [
        {
          "data": {
            "text/plain": [
              "16"
            ]
          },
          "execution_count": null,
          "metadata": {},
          "output_type": "execute_result"
        }
      ],
      "source": [
        "canton04 = []\n",
        "for rec, shape in zip(records, shapes):\n",
        "    d = {k[0]:v for k,v in zip(rshp.fields[1:], rec)}\n",
        "    if d[\"CODECANT\"] == '10' and d['CODEDEP'] == '01':\n",
        "        canton04.append((rec, shape))\n",
        "len(canton04)"
      ]
    },
    {
      "cell_type": "code",
      "execution_count": null,
      "metadata": {
        "ExecuteTime": {
          "end_time": "2016-10-29T12:32:05.487267",
          "start_time": "2016-10-29T12:32:04.459808"
        },
        "collapsed": false
      },
      "outputs": [
        {
          "data": {
            "text/html": [
              "<div style=\"width:50%;\"><div style=\"position:relative;width:100%;height:0;padding-bottom:60%;\"><iframe src=\"data:text/html;base64,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\" style=\"position:absolute;width:100%;height:100%;left:0;top:0;\"></iframe></div></div>"
            ],
            "text/plain": [
              "<pyensae.notebook_helper.folium_helper.folium_html_map.<locals>.CustomFoliumMap at 0x20d05c96588>"
            ]
          },
          "execution_count": null,
          "metadata": {},
          "output_type": "execute_result"
        }
      ],
      "source": [
        "from random import randint\n",
        "colors = ['#%06X' % randint(0, 0xAAAAAA) for i in range(len(canton04))]\n",
        "\n",
        "import folium\n",
        "c = canton04[0][1]\n",
        "map_osm = folium.Map(location=[c.bbox[1], c.bbox[0]])\n",
        "i = 0\n",
        "for rec, shape in canton04:\n",
        "    d = {k[0]:v for k,v in zip(rshp.fields[1:], rec)}\n",
        "    map_osm.add_child(folium.PolyLine(locations=shape.points, latlon=False, popup=str(d), color=colors[i]))\n",
        "    i += 1\n",
        "from pyensae.notebook_helper import folium_html_map\n",
        "folium_html_map(map_osm, width=\"50%\")"
      ]
    },
    {
      "cell_type": "code",
      "execution_count": null,
      "metadata": {
        "ExecuteTime": {
          "end_time": "2016-10-29T12:32:05.686802",
          "start_time": "2016-10-29T12:32:05.490770"
        },
        "collapsed": false
      },
      "outputs": [
        {
          "data": {
            "image/svg+xml": [
              "<svg xmlns=\"http://www.w3.org/2000/svg\" xmlns:xlink=\"http://www.w3.org/1999/xlink\" width=\"100.0\" height=\"100.0\" viewBox=\"4.876572848890918 46.026209833513036 0.251860311091038 0.24839333280873888\" preserveAspectRatio=\"xMinYMin meet\"><g transform=\"matrix(1,0,0,-1,0,92.30081299983482)\"><polyline fill=\"none\" stroke=\"#66cc99\" stroke-width=\"0.00503720622182076\" points=\"4.93982000918746,46.049406995105755 4.955123991984693,46.058275003584214 4.951465988353107,46.06337999651128 4.950869007601919,46.07281699207116 4.9560400085683884,46.0814979979605 4.966380994119398,46.08673400222711 4.967021994781859,46.09076400681284 4.964263005673118,46.09417300017854 4.968724997359391,46.097137008530424 4.954464012123035,46.102734996270215 4.927800004008606,46.11221700461911 4.926156005368975,46.11964899515192 4.924452000029603,46.1250330105176 4.912656991565042,46.12925699849595 4.906161998530136,46.12844799986417 4.887951990019474,46.12555200157174 4.885901008560956,46.13955199854629 4.902148000314952,46.158475998793676 4.911459988725088,46.181775000046294 4.931504989845038,46.182206005276214 4.933131012268214,46.199021008172735 4.938175009601366,46.2043350047676 4.933605002495752,46.211137004150174 4.913389996334728,46.2262450069948 4.911701994479212,46.232666005501535 4.938951991118387,46.248773997433055 4.955311998496835,46.23405599172393 4.967822005762411,46.23218699968761 4.972186009663789,46.23245900982628 4.994129008909374,46.236508995150494 5.005995012898808,46.24272900791326 5.000305987896063,46.25763199983112 5.0083229870936234,46.26424600654295 5.02177501160726,46.261684001912776 5.02918698891699,46.265275006651734 5.031317987548011,46.258170991737714 5.043165013553866,46.25192800290808 5.058589989394382,46.25034001056419 5.0683939942660095,46.25321900732296 5.094579007468876,46.25415199762722 5.091447005900299,46.24881199557482 5.0966850007512585,46.23525899344001 5.083938007295522,46.23141999837534 5.071365013745528,46.23161799438334 5.063296003552534,46.23545000295544 5.057390006479032,46.22139799357649 5.066599002558561,46.21014000773599 5.088258008413171,46.19599199891498 5.08914001216538,46.18250699817847 5.094613990219431,46.17467499708201 5.109235006899802,46.16602200400027 5.119105000311918,46.15467200043888 5.116427009072797,46.144411006052735 5.1030229949158254,46.13463800073205 5.102683002844976,46.12652600612806 5.108617003350568,46.11862500303958 5.095454998226506,46.114465007185544 5.091220987332493,46.09892299221057 5.080387986827605,46.10047699873736 5.066865009563129,46.10035300216069 5.043961992900606,46.09532300353579 5.030428006525103,46.09485800999582 5.016102008977036,46.098782993352884 5.001389990454913,46.10506600157681 4.9960009992011525,46.103127997307126 4.992875001494989,46.097449995983226 5.006806011907695,46.083769002559684 5.013114005288147,46.0607740074802 5.026647005797045,46.03766799656994 4.977151006703572,46.04212100374325 4.9559060113992395,46.041427002302235 4.952347007299511,46.0367639967941 4.944098992163745,46.03553799318308 4.9399739941163325,46.04098499255052 4.93982000918746,46.049406995105755\" opacity=\"0.8\" /></g></svg>"
            ],
            "text/plain": [
              "<shapely.geometry.linestring.LineString at 0x20d05d170b8>"
            ]
          },
          "execution_count": null,
          "metadata": {},
          "output_type": "execute_result"
        }
      ],
      "source": [
        "from shapely.geometry import Point, Polygon\n",
        "from shapely.ops import cascaded_union\n",
        "polys = []\n",
        "for rec, shape in canton04:\n",
        "    poly = Polygon([(x,y) for x,y in shape.points])\n",
        "    polys.append(poly)\n",
        "union = cascaded_union(polys)\n",
        "union.boundary"
      ]
    },
    {
      "cell_type": "code",
      "execution_count": null,
      "metadata": {
        "ExecuteTime": {
          "end_time": "2016-10-29T12:32:05.699801",
          "start_time": "2016-10-29T12:32:05.689800"
        },
        "collapsed": false
      },
      "outputs": [],
      "source": [
        "wk = union.boundary.xy\n",
        "xs, ys = wk[0].tolist(), wk[1].tolist()\n",
        "x0, y0 = xs[0], ys[0]\n",
        "locations = list(zip(xs, ys))"
      ]
    },
    {
      "cell_type": "code",
      "execution_count": null,
      "metadata": {
        "ExecuteTime": {
          "end_time": "2016-10-29T12:32:05.902928",
          "start_time": "2016-10-29T12:32:05.703801"
        },
        "collapsed": false
      },
      "outputs": [
        {
          "data": {
            "text/html": [
              "<div style=\"width:50%;\"><div style=\"position:relative;width:100%;height:0;padding-bottom:60%;\"><iframe src=\"data:text/html;base64,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\" style=\"position:absolute;width:100%;height:100%;left:0;top:0;\"></iframe></div></div>"
            ],
            "text/plain": [
              "<pyensae.notebook_helper.folium_helper.folium_html_map.<locals>.CustomFoliumMap at 0x20d05d176d8>"
            ]
          },
          "execution_count": null,
          "metadata": {},
          "output_type": "execute_result"
        }
      ],
      "source": [
        "import folium\n",
        "map_osm = folium.Map(location=[y0, x0])\n",
        "map_osm.add_child(folium.PolyLine(locations=locations, latlon=False, popup=str(d), color=\"#000000\"))\n",
        "folium_html_map(map_osm, width=\"50%\")"
      ]
    },
    {
      "cell_type": "markdown",
      "metadata": {},
      "source": [
        "### Carte finale apr\u00e8s fusion des contours\n",
        "\n",
        "Cette fusion repose sur la fonctionnalit\u00e9 que nous venons de pr\u00e9senter \u00e0 savoir la fusion de deux contours. Il faut aussi pouvoir associer un contour avec la solution gagnante. Cette solution a pour format ``{ circonscription : [ liste des bureaux ] }``. On rappelle les identifiants choisis :\n",
        "\n",
        "* identifiant cironscription : **DDCCC#**, ``D`` pour code d\u00e9partement, ``C`` pour code circonscription\n",
        "* identifiant bureau de vote : **DDMMMAABBB#**, ``D`` pour code d\u00e9partement, ``M`` pour code commune, ``C`` pour code commune, ``A`` pour code canton, le code du bureau est laiss\u00e9 \u00e0 ``***`` si les donn\u00e9es g\u00e9olocalis\u00e9es donne le m\u00eame lieu pour plusieurs bureaux de vote.\n",
        "\n",
        "Example avec le premier bureau :"
      ]
    },
    {
      "cell_type": "code",
      "execution_count": null,
      "metadata": {
        "ExecuteTime": {
          "end_time": "2016-10-29T12:32:05.919924",
          "start_time": "2016-10-29T12:32:05.907925"
        },
        "collapsed": false
      },
      "outputs": [
        {
          "data": {
            "text/plain": [
              "{'BUREAU': '01001',\n",
              " 'CANTON': 'CHATILLON-SUR-CHALARONNE',\n",
              " 'CIRCO': '04',\n",
              " 'CODE': '01001',\n",
              " 'CODEARRT': '012',\n",
              " 'CODECANT': '10',\n",
              " 'CODEDEP': '01',\n",
              " 'CODEREG': '82',\n",
              " 'NOM': b\"L'Abergement-Cl\\xe9menciat\"}"
            ]
          },
          "execution_count": null,
          "metadata": {},
          "output_type": "execute_result"
        }
      ],
      "source": [
        "d = {k[0]:v for k,v in zip(rshp.fields[1:], records[0])}\n",
        "d"
      ]
    },
    {
      "cell_type": "markdown",
      "metadata": {},
      "source": [
        "#### fonction 1 : cr\u00e9er un dictionnaire avec les contours des bureaux de vote\n",
        "\n",
        "Les shapes sont dans un tableau indic\u00e9s par des entiers. Il sera plus simple de les indic\u00e9s par leur identidiant."
      ]
    },
    {
      "cell_type": "code",
      "execution_count": null,
      "metadata": {
        "ExecuteTime": {
          "end_time": "2016-10-29T12:32:06.244069",
          "start_time": "2016-10-29T12:32:05.923926"
        },
        "collapsed": false
      },
      "outputs": [],
      "source": [
        "shape_bureau = {}\n",
        "for rec, shape in zip(records, shapes):\n",
        "    d = {k[0]:v for k,v in zip(rshp.fields[1:], rec)}\n",
        "    idbureau = shape_idbureau(d)\n",
        "    shape_bureau[idbureau] = (d, shape)\n",
        "    d[\"IDB\"] = idbureau"
      ]
    },
    {
      "cell_type": "code",
      "execution_count": null,
      "metadata": {
        "ExecuteTime": {
          "end_time": "2016-10-29T12:32:06.364969",
          "start_time": "2016-10-29T12:32:06.247082"
        },
        "collapsed": false,
        "scrolled": false
      },
      "outputs": [
        {
          "data": {
            "text/plain": [
              "[('0506130013#',\n",
              "  ({'BUREAU': '05061_013',\n",
              "    'CANTON': 'Gap-Sud-Ouest',\n",
              "    'CIRCO': '01',\n",
              "    'CODE': '05061',\n",
              "    'CODEARRT': '052',\n",
              "    'CODECANT': '30',\n",
              "    'CODEDEP': '05',\n",
              "    'CODEREG': '93',\n",
              "    'IDB': '0506130013#',\n",
              "    'NOM': 'Gap'},\n",
              "   <shapefile._Shape at 0x20d30fd75c0>)),\n",
              " ('0506220***#',\n",
              "  ({'BUREAU': '05062',\n",
              "    'CANTON': 'SAINT-FIRMIN',\n",
              "    'CIRCO': '02',\n",
              "    'CODE': '05062',\n",
              "    'CODEARRT': '052',\n",
              "    'CODECANT': '20',\n",
              "    'CODEDEP': '05',\n",
              "    'CODEREG': '93',\n",
              "    'IDB': '0506220***#',\n",
              "    'NOM': 'Le Glaizil'},\n",
              "   <shapefile._Shape at 0x20d30fd7b38>))]"
            ]
          },
          "execution_count": null,
          "metadata": {},
          "output_type": "execute_result"
        }
      ],
      "source": [
        "list(sorted(shape_bureau.items()))[2006:2008]"
      ]
    },
    {
      "cell_type": "markdown",
      "metadata": {},
      "source": [
        "#### fonction 2 : transformer les idbureau dans la base initiale\n",
        "\n",
        "Rappel : nous n'avons pas la localisation de tous les bureaux de vote. Certains ont \u00e9t\u00e9 agr\u00e9g\u00e9s. On construit alors un nouveau identifiant ``idbureau2`` pour les bureaux de votes agr\u00e9g\u00e9s."
      ]
    },
    {
      "cell_type": "code",
      "execution_count": null,
      "metadata": {
        "ExecuteTime": {
          "end_time": "2016-10-29T12:32:06.530878",
          "start_time": "2016-10-29T12:32:06.368480"
        },
        "collapsed": false
      },
      "outputs": [],
      "source": [
        "def new_idbureau(r):\n",
        "    if r in shape_bureau:\n",
        "        return r\n",
        "    else:\n",
        "        return r[:-4] + \"***#\"\n",
        "    \n",
        "t1t2noz = t1t2noz.copy()\n",
        "t1t2noz[\"idbureau2\"] = t1t2noz[\"idbureau\"].apply(lambda r: new_idbureau(r))"
      ]
    },
    {
      "cell_type": "code",
      "execution_count": null,
      "metadata": {
        "ExecuteTime": {
          "end_time": "2016-10-29T12:32:06.606784",
          "start_time": "2016-10-29T12:32:06.530878"
        },
        "collapsed": false
      },
      "outputs": [
        {
          "data": {
            "text/html": [
              "<div>\n",
              "<table border=\"1\" class=\"dataframe\">\n",
              "  <thead>\n",
              "    <tr style=\"text-align: right;\">\n",
              "      <th></th>\n",
              "      <th>Code de la commune</th>\n",
              "      <th>Code d\u00e9partement</th>\n",
              "      <th>N\u00b0 de bureau de vote</th>\n",
              "      <th>N\u00b0 de canton</th>\n",
              "      <th>N\u00b0 de circonscription Lg</th>\n",
              "      <th>N\u00b0 tour</th>\n",
              "      <th>idbureau</th>\n",
              "      <th>idcirc</th>\n",
              "      <th>idbureau2</th>\n",
              "    </tr>\n",
              "  </thead>\n",
              "  <tbody>\n",
              "    <tr>\n",
              "      <th>47442</th>\n",
              "      <td>4</td>\n",
              "      <td>06</td>\n",
              "      <td>0101</td>\n",
              "      <td>1</td>\n",
              "      <td>7</td>\n",
              "      <td>1</td>\n",
              "      <td>0600401101#</td>\n",
              "      <td>06007#</td>\n",
              "      <td>0600401***#</td>\n",
              "    </tr>\n",
              "    <tr>\n",
              "      <th>47443</th>\n",
              "      <td>4</td>\n",
              "      <td>06</td>\n",
              "      <td>0101</td>\n",
              "      <td>1</td>\n",
              "      <td>7</td>\n",
              "      <td>1</td>\n",
              "      <td>0600401101#</td>\n",
              "      <td>06007#</td>\n",
              "      <td>0600401***#</td>\n",
              "    </tr>\n",
              "  </tbody>\n",
              "</table>\n",
              "</div>"
            ],
            "text/plain": [
              "       Code de la commune Code d\u00e9partement N\u00b0 de bureau de vote  N\u00b0 de canton  \\\n",
              "47442                   4               06                 0101             1   \n",
              "47443                   4               06                 0101             1   \n",
              "\n",
              "       N\u00b0 de circonscription Lg  N\u00b0 tour     idbureau  idcirc    idbureau2  \n",
              "47442                         7        1  0600401101#  06007#  0600401***#  \n",
              "47443                         7        1  0600401101#  06007#  0600401***#  "
            ]
          },
          "execution_count": null,
          "metadata": {},
          "output_type": "execute_result"
        }
      ],
      "source": [
        "t1t2noz[list(_ for _ in t1t2noz.columns if \"candidat\" not in _ and (\"Code\" in _ or \"id\" in _ or \"N\u00b0\" in _))].head(n=2)"
      ]
    },
    {
      "cell_type": "markdown",
      "metadata": {},
      "source": [
        "On v\u00e9rifie qu'on ne s'est pas tromp\u00e9 et que certains identifiants ont \u00e9t\u00e9 retrouv\u00e9s."
      ]
    },
    {
      "cell_type": "code",
      "execution_count": null,
      "metadata": {
        "ExecuteTime": {
          "end_time": "2016-10-29T12:32:06.765541",
          "start_time": "2016-10-29T12:32:06.606784"
        },
        "collapsed": false
      },
      "outputs": [
        {
          "data": {
            "text/html": [
              "<div>\n",
              "<table border=\"1\" class=\"dataframe\">\n",
              "  <thead>\n",
              "    <tr style=\"text-align: right;\">\n",
              "      <th></th>\n",
              "      <th></th>\n",
              "      <th>Nombre de voix du candidat</th>\n",
              "    </tr>\n",
              "    <tr>\n",
              "      <th>idb=</th>\n",
              "      <th>idbgeo</th>\n",
              "      <th></th>\n",
              "    </tr>\n",
              "  </thead>\n",
              "  <tbody>\n",
              "    <tr>\n",
              "      <th rowspan=\"2\" valign=\"top\">False</th>\n",
              "      <th>False</th>\n",
              "      <td>2866063</td>\n",
              "    </tr>\n",
              "    <tr>\n",
              "      <th>True</th>\n",
              "      <td>15351963</td>\n",
              "    </tr>\n",
              "    <tr>\n",
              "      <th>True</th>\n",
              "      <th>True</th>\n",
              "      <td>5478231</td>\n",
              "    </tr>\n",
              "  </tbody>\n",
              "</table>\n",
              "</div>"
            ],
            "text/plain": [
              "              Nombre de voix du candidat\n",
              "idb=  idbgeo                            \n",
              "False False                      2866063\n",
              "      True                      15351963\n",
              "True  True                       5478231"
            ]
          },
          "execution_count": null,
          "metadata": {},
          "output_type": "execute_result"
        }
      ],
      "source": [
        "t1t2noz[\"idb=\"] = t1t2noz[\"idbureau\"] == t1t2noz[\"idbureau2\"] \n",
        "t1t2noz[\"idbgeo\"] = t1t2noz[\"idbureau2\"].apply(lambda r: r in shape_bureau)\n",
        "t1t2noz[[\"idb=\", \"idbgeo\", \"Nombre de voix du candidat\"]].groupby([\"idb=\", \"idbgeo\"]).sum()"
      ]
    },
    {
      "cell_type": "markdown",
      "metadata": {},
      "source": [
        "Ce sont pr\u00e8s de 2.8 millions de voix que nous n'arrivons pas \u00e0 localiser. Nous ne pourrons pas les changer de circonscriptions. Regardons un identifiant du bureau de vote non localis\u00e9."
      ]
    },
    {
      "cell_type": "code",
      "execution_count": null,
      "metadata": {
        "ExecuteTime": {
          "end_time": "2016-10-29T12:32:06.819336",
          "start_time": "2016-10-29T12:32:06.769042"
        },
        "collapsed": false
      },
      "outputs": [
        {
          "data": {
            "text/html": [
              "<div>\n",
              "<table border=\"1\" class=\"dataframe\">\n",
              "  <thead>\n",
              "    <tr style=\"text-align: right;\">\n",
              "      <th></th>\n",
              "      <th>Code de la commune</th>\n",
              "      <th>Code d\u00e9partement</th>\n",
              "      <th>Code nuance du candidat</th>\n",
              "      <th>Exprim\u00e9s</th>\n",
              "      <th>Inscrits</th>\n",
              "      <th>Nom de la commune</th>\n",
              "      <th>Nom du candidat</th>\n",
              "      <th>Nombre de voix du candidat</th>\n",
              "      <th>N\u00b0 de bureau de vote</th>\n",
              "      <th>N\u00b0 de canton</th>\n",
              "      <th>...</th>\n",
              "      <th>N\u00b0 de d\u00e9p\u00f4t du candidat</th>\n",
              "      <th>N\u00b0 tour</th>\n",
              "      <th>Pr\u00e9nom du candidat</th>\n",
              "      <th>Votants</th>\n",
              "      <th>elu</th>\n",
              "      <th>idbureau</th>\n",
              "      <th>idcirc</th>\n",
              "      <th>idbureau2</th>\n",
              "      <th>idb=</th>\n",
              "      <th>idbgeo</th>\n",
              "    </tr>\n",
              "  </thead>\n",
              "  <tbody>\n",
              "    <tr>\n",
              "      <th>47658</th>\n",
              "      <td>4</td>\n",
              "      <td>06</td>\n",
              "      <td>EXG</td>\n",
              "      <td>327</td>\n",
              "      <td>598</td>\n",
              "      <td>Antibes</td>\n",
              "      <td>PETARD</td>\n",
              "      <td>4</td>\n",
              "      <td>0201</td>\n",
              "      <td>47</td>\n",
              "      <td>...</td>\n",
              "      <td>8</td>\n",
              "      <td>1</td>\n",
              "      <td>Christian</td>\n",
              "      <td>334</td>\n",
              "      <td>True</td>\n",
              "      <td>0600447201#</td>\n",
              "      <td>06007#</td>\n",
              "      <td>0600447***#</td>\n",
              "      <td>False</td>\n",
              "      <td>False</td>\n",
              "    </tr>\n",
              "    <tr>\n",
              "      <th>47659</th>\n",
              "      <td>4</td>\n",
              "      <td>06</td>\n",
              "      <td>FN</td>\n",
              "      <td>327</td>\n",
              "      <td>598</td>\n",
              "      <td>Antibes</td>\n",
              "      <td>VIOT</td>\n",
              "      <td>68</td>\n",
              "      <td>0201</td>\n",
              "      <td>47</td>\n",
              "      <td>...</td>\n",
              "      <td>24</td>\n",
              "      <td>1</td>\n",
              "      <td>Mathilde</td>\n",
              "      <td>334</td>\n",
              "      <td>True</td>\n",
              "      <td>0600447201#</td>\n",
              "      <td>06007#</td>\n",
              "      <td>0600447***#</td>\n",
              "      <td>False</td>\n",
              "      <td>False</td>\n",
              "    </tr>\n",
              "  </tbody>\n",
              "</table>\n",
              "<p>2 rows \u00d7 21 columns</p>\n",
              "</div>"
            ],
            "text/plain": [
              "       Code de la commune Code d\u00e9partement Code nuance du candidat  Exprim\u00e9s  \\\n",
              "47658                   4               06                     EXG       327   \n",
              "47659                   4               06                      FN       327   \n",
              "\n",
              "       Inscrits Nom de la commune Nom du candidat  Nombre de voix du candidat  \\\n",
              "47658       598           Antibes          PETARD                           4   \n",
              "47659       598           Antibes            VIOT                          68   \n",
              "\n",
              "      N\u00b0 de bureau de vote  N\u00b0 de canton  ...    N\u00b0 de d\u00e9p\u00f4t du candidat  \\\n",
              "47658                 0201            47  ...                          8   \n",
              "47659                 0201            47  ...                         24   \n",
              "\n",
              "       N\u00b0 tour  Pr\u00e9nom du candidat Votants   elu     idbureau  idcirc  \\\n",
              "47658        1           Christian     334  True  0600447201#  06007#   \n",
              "47659        1            Mathilde     334  True  0600447201#  06007#   \n",
              "\n",
              "         idbureau2   idb= idbgeo  \n",
              "47658  0600447***#  False  False  \n",
              "47659  0600447***#  False  False  \n",
              "\n",
              "[2 rows x 21 columns]"
            ]
          },
          "execution_count": null,
          "metadata": {},
          "output_type": "execute_result"
        }
      ],
      "source": [
        "t1t2noz[~t1t2noz[\"idb=\"] & ~t1t2noz[\"idbgeo\"]].head(n=2)"
      ]
    },
    {
      "cell_type": "code",
      "execution_count": null,
      "metadata": {
        "ExecuteTime": {
          "end_time": "2016-10-29T12:32:06.840333",
          "start_time": "2016-10-29T12:32:06.822335"
        },
        "collapsed": false
      },
      "outputs": [
        {
          "data": {
            "text/plain": [
              "['Figeac', 'M\u00e2con', 'Mazamet', 'Loreto-di-Tallano', 'Tarrano']"
            ]
          },
          "execution_count": null,
          "metadata": {},
          "output_type": "execute_result"
        }
      ],
      "source": [
        "list(set((t1t2noz[~t1t2noz[\"idb=\"] & ~t1t2noz[\"idbgeo\"]])[\"Nom de la commune\"]))[:5]"
      ]
    },
    {
      "cell_type": "code",
      "execution_count": null,
      "metadata": {
        "ExecuteTime": {
          "end_time": "2016-10-29T12:32:06.887691",
          "start_time": "2016-10-29T12:32:06.843338"
        },
        "collapsed": false
      },
      "outputs": [
        {
          "data": {
            "text/html": [
              "<div>\n",
              "<table border=\"1\" class=\"dataframe\">\n",
              "  <thead>\n",
              "    <tr style=\"text-align: right;\">\n",
              "      <th></th>\n",
              "      <th>73887</th>\n",
              "      <th>73888</th>\n",
              "    </tr>\n",
              "  </thead>\n",
              "  <tbody>\n",
              "    <tr>\n",
              "      <th>Code de la commune</th>\n",
              "      <td>34</td>\n",
              "      <td>34</td>\n",
              "    </tr>\n",
              "    <tr>\n",
              "      <th>Code d\u00e9partement</th>\n",
              "      <td>59</td>\n",
              "      <td>59</td>\n",
              "    </tr>\n",
              "    <tr>\n",
              "      <th>Code nuance du candidat</th>\n",
              "      <td>SOC</td>\n",
              "      <td>UMP</td>\n",
              "    </tr>\n",
              "    <tr>\n",
              "      <th>Exprim\u00e9s</th>\n",
              "      <td>255</td>\n",
              "      <td>255</td>\n",
              "    </tr>\n",
              "    <tr>\n",
              "      <th>Inscrits</th>\n",
              "      <td>438</td>\n",
              "      <td>438</td>\n",
              "    </tr>\n",
              "    <tr>\n",
              "      <th>Nom de la commune</th>\n",
              "      <td>Avelin</td>\n",
              "      <td>Avelin</td>\n",
              "    </tr>\n",
              "    <tr>\n",
              "      <th>Nom du candidat</th>\n",
              "      <td>DEFFONTAINE</td>\n",
              "      <td>LAZARO</td>\n",
              "    </tr>\n",
              "    <tr>\n",
              "      <th>Nombre de voix du candidat</th>\n",
              "      <td>116</td>\n",
              "      <td>139</td>\n",
              "    </tr>\n",
              "    <tr>\n",
              "      <th>N\u00b0 de bureau de vote</th>\n",
              "      <td>0003</td>\n",
              "      <td>0003</td>\n",
              "    </tr>\n",
              "    <tr>\n",
              "      <th>N\u00b0 de canton</th>\n",
              "      <td>48</td>\n",
              "      <td>48</td>\n",
              "    </tr>\n",
              "    <tr>\n",
              "      <th>N\u00b0 de circonscription Lg</th>\n",
              "      <td>6</td>\n",
              "      <td>6</td>\n",
              "    </tr>\n",
              "    <tr>\n",
              "      <th>N\u00b0 de d\u00e9p\u00f4t du candidat</th>\n",
              "      <td>91</td>\n",
              "      <td>145</td>\n",
              "    </tr>\n",
              "    <tr>\n",
              "      <th>N\u00b0 tour</th>\n",
              "      <td>2</td>\n",
              "      <td>2</td>\n",
              "    </tr>\n",
              "    <tr>\n",
              "      <th>Pr\u00e9nom du candidat</th>\n",
              "      <td>Ang\u00e9lique</td>\n",
              "      <td>Thierry</td>\n",
              "    </tr>\n",
              "    <tr>\n",
              "      <th>Votants</th>\n",
              "      <td>271</td>\n",
              "      <td>271</td>\n",
              "    </tr>\n",
              "    <tr>\n",
              "      <th>elu</th>\n",
              "      <td>NaN</td>\n",
              "      <td>NaN</td>\n",
              "    </tr>\n",
              "    <tr>\n",
              "      <th>idbureau</th>\n",
              "      <td>5903448003#</td>\n",
              "      <td>5903448003#</td>\n",
              "    </tr>\n",
              "    <tr>\n",
              "      <th>idcirc</th>\n",
              "      <td>59006#</td>\n",
              "      <td>59006#</td>\n",
              "    </tr>\n",
              "    <tr>\n",
              "      <th>idbureau2</th>\n",
              "      <td>5903448***#</td>\n",
              "      <td>5903448***#</td>\n",
              "    </tr>\n",
              "    <tr>\n",
              "      <th>idb=</th>\n",
              "      <td>False</td>\n",
              "      <td>False</td>\n",
              "    </tr>\n",
              "    <tr>\n",
              "      <th>idbgeo</th>\n",
              "      <td>False</td>\n",
              "      <td>False</td>\n",
              "    </tr>\n",
              "  </tbody>\n",
              "</table>\n",
              "</div>"
            ],
            "text/plain": [
              "                                  73887        73888\n",
              "Code de la commune                   34           34\n",
              "Code d\u00e9partement                     59           59\n",
              "Code nuance du candidat             SOC          UMP\n",
              "Exprim\u00e9s                            255          255\n",
              "Inscrits                            438          438\n",
              "Nom de la commune                Avelin       Avelin\n",
              "Nom du candidat             DEFFONTAINE       LAZARO\n",
              "Nombre de voix du candidat          116          139\n",
              "N\u00b0 de bureau de vote               0003         0003\n",
              "N\u00b0 de canton                         48           48\n",
              "N\u00b0 de circonscription Lg              6            6\n",
              "N\u00b0 de d\u00e9p\u00f4t du candidat              91          145\n",
              "N\u00b0 tour                               2            2\n",
              "Pr\u00e9nom du candidat            Ang\u00e9lique      Thierry\n",
              "Votants                             271          271\n",
              "elu                                 NaN          NaN\n",
              "idbureau                    5903448003#  5903448003#\n",
              "idcirc                           59006#       59006#\n",
              "idbureau2                   5903448***#  5903448***#\n",
              "idb=                              False        False\n",
              "idbgeo                            False        False"
            ]
          },
          "execution_count": null,
          "metadata": {},
          "output_type": "execute_result"
        }
      ],
      "source": [
        "t1t2noz[~t1t2noz[\"idb=\"] & ~t1t2noz[\"idbgeo\"] & (t1t2noz[\"Nom de la commune\"] == \"Avelin\")].head(n=10).T"
      ]
    },
    {
      "cell_type": "code",
      "execution_count": null,
      "metadata": {
        "ExecuteTime": {
          "end_time": "2016-10-29T12:32:06.935785",
          "start_time": "2016-10-29T12:32:06.891193"
        },
        "collapsed": false
      },
      "outputs": [
        {
          "data": {
            "text/plain": [
              "[('5903448002#',\n",
              "  {'BUREAU': '59034_002',\n",
              "   'CANTON': b'Pont-\\xe0-Marcq',\n",
              "   'CIRCO': '06',\n",
              "   'CODE': '59034',\n",
              "   'CODEARRT': '595',\n",
              "   'CODECANT': '48',\n",
              "   'CODEDEP': '59',\n",
              "   'CODEREG': '31',\n",
              "   'IDB': '5903448002#',\n",
              "   'NOM': 'Avelin'}),\n",
              " ('5903448001#',\n",
              "  {'BUREAU': '59034_001',\n",
              "   'CANTON': b'Pont-\\xe0-Marcq',\n",
              "   'CIRCO': '06',\n",
              "   'CODE': '59034',\n",
              "   'CODEARRT': '595',\n",
              "   'CODECANT': '48',\n",
              "   'CODEDEP': '59',\n",
              "   'CODEREG': '31',\n",
              "   'IDB': '5903448001#',\n",
              "   'NOM': 'Avelin'})]"
            ]
          },
          "execution_count": null,
          "metadata": {},
          "output_type": "execute_result"
        }
      ],
      "source": [
        "list((k,v[0]) for k, v in shape_bureau.items() if v[0][\"NOM\"] == \"Avelin\")"
      ]
    },
    {
      "cell_type": "markdown",
      "metadata": {},
      "source": [
        "Visiblement les bureaux de vote sont diff\u00e9rents dans les deux bases pour la ville d'Avelin. O\u00f9 est-ce ? D'apr\u00e8s [l'internaute](http://www.linternaute.com/ville/avelin/ville-59034/bureaux-vote), il y a 3 bureaux de vote. On peut supposer que ces donn\u00e9es viennent d'une mise \u00e0 jour de la d\u00e9finition de bureaux de vote. D'apr\u00e8s l'INSEE, la population cro\u00eet \u00e0 [Avelin](http://www.insee.fr/fr/themes/comparateur.asp?codgeo=com-59034). Il n'est pas improbable qu'un nouveau bureau de vote ait \u00e9t\u00e9 cr\u00e9\u00e9."
      ]
    },
    {
      "cell_type": "code",
      "execution_count": null,
      "metadata": {
        "ExecuteTime": {
          "end_time": "2016-10-29T12:32:07.151551",
          "start_time": "2016-10-29T12:32:06.938783"
        },
        "collapsed": false
      },
      "outputs": [
        {
          "data": {
            "text/html": [
              "<div style=\"width:50%;\"><div style=\"position:relative;width:100%;height:0;padding-bottom:60%;\"><iframe src=\"data:text/html;base64,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\" style=\"position:absolute;width:100%;height:100%;left:0;top:0;\"></iframe></div></div>"
            ],
            "text/plain": [
              "<pyensae.notebook_helper.folium_helper.folium_html_map.<locals>.CustomFoliumMap at 0x20d0a046278>"
            ]
          },
          "execution_count": null,
          "metadata": {},
          "output_type": "execute_result"
        }
      ],
      "source": [
        "locs = list((k,v[0],v[1]) for k, v in shape_bureau.items() if v[0][\"NOM\"] == \"Avelin\")\n",
        "x0, y0 = locs[0][2].points[0]\n",
        "map_osm = folium.Map(location=[y0, x0])\n",
        "map_osm.add_child(folium.PolyLine(locations=locs[0][2].points, latlon=False, color=\"#FF0000\"))\n",
        "map_osm.add_child(folium.PolyLine(locations=locs[1][2].points, latlon=False, color=\"#0000FF\"))\n",
        "folium_html_map(map_osm, width=\"50%\")"
      ]
    },
    {
      "cell_type": "markdown",
      "metadata": {},
      "source": [
        "Regardons les bureaux localis\u00e9s mais non r\u00e9pertori\u00e9s dans la base de vote."
      ]
    },
    {
      "cell_type": "code",
      "execution_count": null,
      "metadata": {
        "ExecuteTime": {
          "end_time": "2016-10-29T12:32:09.866157",
          "start_time": "2016-10-29T12:32:07.157550"
        },
        "collapsed": false
      },
      "outputs": [
        {
          "name": "stdout",
          "output_type": "stream",
          "text": [
            "4488 50521\n"
          ]
        },
        {
          "data": {
            "text/plain": [
              "[<matplotlib.lines.Line2D at 0x20d0a076438>]"
            ]
          },
          "execution_count": null,
          "metadata": {},
          "output_type": "execute_result"
        },
        {
          "data": {
            "image/png": "[encoded data removed]",
            "text/plain": [
              "<matplotlib.figure.Figure at 0x20d0a06e438>"
            ]
          },
          "metadata": {},
          "output_type": "display_data"
        }
      ],
      "source": [
        "ok_bureau = set(t1t2noz[\"idbureau2\"])\n",
        "fig, ax = plt.subplots()\n",
        "\n",
        "x1, x2 = -5.0, 9.\n",
        "y1, y2 = 42., 52.\n",
        "m = Basemap(resolution='i',projection='merc', llcrnrlat=y1, urcrnrlat=y2, \n",
        "            llcrnrlon=x1, urcrnrlon=x2, lat_ts=(x1+x2)/2, ax=ax)\n",
        "m.drawcountries(linewidth=0.5)\n",
        "m.drawcoastlines(linewidth=0.5)\n",
        "\n",
        "lons = []\n",
        "lats = []\n",
        "for k, v in shape_bureau.items():\n",
        "    if k in ok_bureau:\n",
        "        # les bureaux sans voix\n",
        "        continue\n",
        "    x1, y1, x2, y2 = v[1].bbox\n",
        "    x = (x1+x2) / 2\n",
        "    y = (y1+y2) / 2\n",
        "    lons.append(x)\n",
        "    lats.append(y)\n",
        "    \n",
        "data = [m(x, y) for x,y in zip(lons, lats)]\n",
        "xs = [_[0] for _ in data]\n",
        "ys = [_[1] for _ in data]\n",
        "print(len(xs), len(shape_bureau))\n",
        "ax.plot(xs, ys, \".\", color=(0.4, 0.4, 0.4))"
      ]
    },
    {
      "cell_type": "markdown",
      "metadata": {},
      "source": [
        "**r\u00e9cup\u00e9rer les 2.8 M de voix non localis\u00e9es**\n",
        "\n",
        "Pour les r\u00e9cup\u00e9rer, nous allons agr\u00e9ger les bureaux de vote de la m\u00eame commune et cantons en supposant que les erreurs commises ne seront pas trop grandes. Cette fois-ci c'est la variable ``shape_bureau`` qu'il faut modifier en fusionnant les bureaux pour lesquels nous n'avons pas de voix. Le tableau suivant r\u00e9sume les diff\u00e9rents traitements que nous devons faire. L'\u00e9tape 1 a d\u00e9j\u00e0 \u00e9t\u00e9 faite. Il reste les \u00e9tapes 2 et 3.\n",
        "\n",
        "| \u00e9tape | voix (t1t2noz)  | localisation (shape_bureau)  |\n",
        "|--------------------|-----------------------------------------------------------------------------------------------------------------|-----------------------------------------------------------------------------------------------------------------------------------------|\n",
        "| 0  | agr\u00e9gation par bureau de vote | agr\u00e9gation par bureau de vote et aussi par commune (``***``) |\n",
        "| 1 | on corrige les identifiants de bureau non localis\u00e9s en supposant qu'ils sont agr\u00e9g\u00e9s par commune (ajout de ``***``) | |\n",
        "| 2  | | Les bureaux localis\u00e9s mais sans voix associ\u00e9es ont disparu suite \u00e0 un red\u00e9coupage. On les agr\u00e8ge au niveau de la commune (ajout de ``***``) |\n",
        "| 3  | On agr\u00e8ge au niveau de la commune les bureaux agr\u00e9g\u00e9s localement par l'\u00e9tape 2 (c'est-\u00e0-dire qu'on r\u00e9applique l'\u00e9tape 1 |  |\n",
        "\n",
        "On met \u00e0 jour les identifiants des contours des bureaux :"
      ]
    },
    {
      "cell_type": "code",
      "execution_count": null,
      "metadata": {
        "ExecuteTime": {
          "end_time": "2016-10-29T12:32:09.986056",
          "start_time": "2016-10-29T12:32:09.869655"
        },
        "collapsed": false
      },
      "outputs": [
        {
          "data": {
            "text/plain": [
              "(50521, 46762)"
            ]
          },
          "execution_count": null,
          "metadata": {},
          "output_type": "execute_result"
        }
      ],
      "source": [
        "idbureau_voix = set(t1t2noz[\"idbureau2\"])\n",
        "shape_bureau_list = {}\n",
        "for k, v in shape_bureau.items():\n",
        "    if k not in idbureau_voix:\n",
        "        # on enl\u00e8ve l'indice du bureau\n",
        "        idb = k[:-4] + \"***#\"\n",
        "    else:\n",
        "        idb = k\n",
        "    if idb not in shape_bureau_list:\n",
        "        shape_bureau_list[idb] = []\n",
        "    shape_bureau_list[idb].append(v)\n",
        "len(shape_bureau), len(shape_bureau_list)"
      ]
    },
    {
      "cell_type": "markdown",
      "metadata": {},
      "source": [
        "On fusionne les contours. Les contours sont d\u00e9crits plus en d\u00e9tail sur wikip\u00e9dia : [shapefile](https://en.wikipedia.org/wiki/Shapefile#Shapefile_shape_format_.28.shp.29). Il reste quelques incoh\u00e9rences dans les informations associ\u00e9es \u00e0 chaque forme. Le commentaire pr\u00e9cise comment en trouver."
      ]
    },
    {
      "cell_type": "code",
      "execution_count": null,
      "metadata": {
        "ExecuteTime": {
          "end_time": "2016-10-29T12:36:32.297420",
          "start_time": "2016-10-29T12:32:09.990058"
        },
        "collapsed": false,
        "scrolled": false
      },
      "outputs": [
        {
          "name": "stdout",
          "output_type": "stream",
          "text": [
            "1906411***# 1 0 / 46762\n",
            "4029908***# 1 1000 / 46762\n",
            "3919404***# 1 2000 / 46762\n",
            "0330916***# 1 3000 / 46762\n",
            "8031333***# 1 4000 / 46762\n",
            "7029025***# 1 5000 / 46762\n",
            "3521925***# 1 6000 / 46762\n",
            "3825244***# 1 7000 / 46762\n",
            "6428004***# 1 8000 / 46762\n",
            "8123238***# 1 9000 / 46762\n",
            "3504023***# 1 10000 / 46762\n",
            "6054805***# 1 11000 / 46762\n",
            "6609007***# 1 12000 / 46762\n",
            "9001713***# 1 13000 / 46762\n",
            "7621825001# 1 14000 / 46762\n",
            "3155534023# 1 15000 / 46762\n",
            "1212838***# 1 16000 / 46762\n",
            "6117929***# 1 17000 / 46762\n",
            "2901904017# 1 18000 / 46762\n",
            "5929169009# 1 19000 / 46762\n",
            "8902403028# 1 20000 / 46762\n",
            "2813413008# 1 21000 / 46762\n",
            "5106028***# 1 22000 / 46762\n",
            "0812817***# 1 23000 / 46762\n",
            "1803332025# 1 24000 / 46762\n",
            "7742926***# 1 25000 / 46762\n",
            "0100530***# 1 26000 / 46762\n",
            "6914250003# 1 27000 / 46762\n",
            "5818215***# 1 28000 / 46762\n",
            "6211912005# 1 29000 / 46762\n",
            "0236637***# 1 30000 / 46762\n",
            "8601812***# 1 31000 / 46762\n",
            "2537922***# 1 32000 / 46762\n",
            "3404903***# 1 33000 / 46762\n",
            "5313018031# 1 34000 / 46762\n",
            "9514217***# 1 35000 / 46762\n",
            "9201941012# 1 36000 / 46762\n",
            "5435429***# 1 37000 / 46762\n",
            "6925942024# 1 38000 / 46762\n",
            "1619401***# 1 39000 / 46762\n",
            "6241446***# 1 40000 / 46762\n",
            "5413229***# 1 41000 / 46762\n",
            "5320613***# 1 42000 / 46762\n",
            "7115354011# 1 43000 / 46762\n",
            "0318319***# 1 44000 / 46762\n",
            "2761601***# 1 45000 / 46762\n",
            "5416429***# 1 46000 / 46762\n"
          ]
        }
      ],
      "source": [
        "import copy\n",
        "\n",
        "def fusion_contours(idb, contours):\n",
        "    d0 = contours[0][0] \n",
        "    d = d0.copy()\n",
        "    d[\"BUREAU\"] = d[\"BUREAU\"].split(\"_\")[0]\n",
        "    sh = copy.deepcopy(contours[0][1])\n",
        "    shapes = []\n",
        "    for i, c in enumerate(contours):\n",
        "        for k, v in c[0].items():\n",
        "            # enlever CIRCO de la liste pour trouver des incoh\u00e9rences\n",
        "            if k not in (\"BUREAU\", \"CIRCO\", \"IDB\", \"NOM\") and d[k] != v:\n",
        "                raise Exception(\"Incoh\u00e9rence:\\n{0}\\n{1}\\nk={2}\\nidb={3}\\ncheck={4}\".format(d0, \n",
        "                                c[0], k, idb, shape_idbureau(c[0])))\n",
        "            if c[1].shapeType != 5:\n",
        "                raise Exception(\"Polygone attendu :\\n{0}\".format(c[1].__dict__))\n",
        "            points = []\n",
        "            last = None\n",
        "            for x,y in c[1].points:\n",
        "                pp = Point(x,y)\n",
        "                if last is not None and last.almost_equals(p):\n",
        "                    continue\n",
        "                points.append((x,y))\n",
        "            pol = Polygon(points)\n",
        "            # simplifie le polygone\n",
        "            pol = pol.simplify(tolerance=1e-5)\n",
        "            # lire http://stackoverflow.com/questions/13062334/polygon-intersection-error-python-shapely\n",
        "            # corrige les polygones qui se croisent\n",
        "            pol = pol.buffer(0)\n",
        "            shapes.append(pol)\n",
        "\n",
        "    return d, cascaded_union(shapes)\n",
        "\n",
        "new_shape_bureau = {}\n",
        "for k, v in shape_bureau_list.items():\n",
        "    if len(new_shape_bureau) % 1000 == 0:\n",
        "        print(k, len(v), len(new_shape_bureau), \"/\", len(shape_bureau_list))\n",
        "    if len(v) == 1:\n",
        "        new_shape_bureau[k] = v[0]\n",
        "    else:\n",
        "        # fusion\n",
        "        new_shape_bureau[k] = fusion_contours(k, v)"
      ]
    },
    {
      "cell_type": "markdown",
      "metadata": {},
      "source": [
        "Derni\u00e8re \u00e9tape : on corrige \u00e0 nouveau les identifiants dans la base des votes"
      ]
    },
    {
      "cell_type": "code",
      "execution_count": null,
      "metadata": {
        "ExecuteTime": {
          "end_time": "2016-10-29T12:36:32.436292",
          "start_time": "2016-10-29T12:36:32.297420"
        },
        "collapsed": false
      },
      "outputs": [],
      "source": [
        "def new_idbureau2(r):\n",
        "    if r in new_shape_bureau:\n",
        "        return r\n",
        "    else:\n",
        "        return r[:-4] + \"***#\"\n",
        "\n",
        "t1t2noz = t1t2noz.copy()\n",
        "t1t2noz[\"idbureau3\"] = t1t2noz[\"idbureau2\"].apply(lambda r: new_idbureau2(r))"
      ]
    },
    {
      "cell_type": "code",
      "execution_count": null,
      "metadata": {
        "ExecuteTime": {
          "end_time": "2016-10-29T12:36:32.659860",
          "start_time": "2016-10-29T12:36:32.439300"
        },
        "collapsed": false
      },
      "outputs": [
        {
          "data": {
            "text/html": [
              "<div>\n",
              "<table border=\"1\" class=\"dataframe\">\n",
              "  <thead>\n",
              "    <tr style=\"text-align: right;\">\n",
              "      <th></th>\n",
              "      <th></th>\n",
              "      <th>Nombre de voix du candidat</th>\n",
              "    </tr>\n",
              "    <tr>\n",
              "      <th>idb2=</th>\n",
              "      <th>idbgeo2</th>\n",
              "      <th></th>\n",
              "    </tr>\n",
              "  </thead>\n",
              "  <tbody>\n",
              "    <tr>\n",
              "      <th rowspan=\"2\" valign=\"top\">True</th>\n",
              "      <th>False</th>\n",
              "      <td>1490020</td>\n",
              "    </tr>\n",
              "    <tr>\n",
              "      <th>True</th>\n",
              "      <td>22206237</td>\n",
              "    </tr>\n",
              "  </tbody>\n",
              "</table>\n",
              "</div>"
            ],
            "text/plain": [
              "               Nombre de voix du candidat\n",
              "idb2= idbgeo2                            \n",
              "True  False                       1490020\n",
              "      True                       22206237"
            ]
          },
          "execution_count": null,
          "metadata": {},
          "output_type": "execute_result"
        }
      ],
      "source": [
        "t1t2noz[\"idb2=\"] = t1t2noz[\"idbureau2\"] == t1t2noz[\"idbureau3\"] \n",
        "t1t2noz[\"idbgeo2\"] = t1t2noz[\"idbureau3\"].apply(lambda r: r in new_shape_bureau)\n",
        "t1t2noz[[\"idb2=\", \"idbgeo2\", \"Nombre de voix du candidat\"]].groupby([\"idb2=\", \"idbgeo2\"]).sum()"
      ]
    },
    {
      "cell_type": "markdown",
      "metadata": {},
      "source": [
        "On n'a pas chang\u00e9 grand-chose c\u00f4t\u00e9 base de vote mais le matching avec la base de localisation a \u00e9t\u00e9 accru. Nous sommes tomb\u00e9s \u00e0 1.5 millions de voix non localis\u00e9es au lieu de 2.8 millions. Regardons quelques lignes :"
      ]
    },
    {
      "cell_type": "code",
      "execution_count": null,
      "metadata": {
        "ExecuteTime": {
          "end_time": "2016-10-29T12:36:32.725876",
          "start_time": "2016-10-29T12:36:32.662855"
        },
        "collapsed": false
      },
      "outputs": [
        {
          "data": {
            "text/html": [
              "<div>\n",
              "<table border=\"1\" class=\"dataframe\">\n",
              "  <thead>\n",
              "    <tr style=\"text-align: right;\">\n",
              "      <th></th>\n",
              "      <th>Code de la commune</th>\n",
              "      <th>Code d\u00e9partement</th>\n",
              "      <th>Code nuance du candidat</th>\n",
              "      <th>Exprim\u00e9s</th>\n",
              "      <th>Inscrits</th>\n",
              "      <th>Nom de la commune</th>\n",
              "      <th>Nom du candidat</th>\n",
              "      <th>Nombre de voix du candidat</th>\n",
              "      <th>N\u00b0 de bureau de vote</th>\n",
              "      <th>N\u00b0 de canton</th>\n",
              "      <th>...</th>\n",
              "      <th>Votants</th>\n",
              "      <th>elu</th>\n",
              "      <th>idbureau</th>\n",
              "      <th>idcirc</th>\n",
              "      <th>idbureau2</th>\n",
              "      <th>idb=</th>\n",
              "      <th>idbgeo</th>\n",
              "      <th>idbureau3</th>\n",
              "      <th>idb2=</th>\n",
              "      <th>idbgeo2</th>\n",
              "    </tr>\n",
              "  </thead>\n",
              "  <tbody>\n",
              "    <tr>\n",
              "      <th>47658</th>\n",
              "      <td>4</td>\n",
              "      <td>06</td>\n",
              "      <td>EXG</td>\n",
              "      <td>327</td>\n",
              "      <td>598</td>\n",
              "      <td>Antibes</td>\n",
              "      <td>PETARD</td>\n",
              "      <td>4</td>\n",
              "      <td>0201</td>\n",
              "      <td>47</td>\n",
              "      <td>...</td>\n",
              "      <td>334</td>\n",
              "      <td>True</td>\n",
              "      <td>0600447201#</td>\n",
              "      <td>06007#</td>\n",
              "      <td>0600447***#</td>\n",
              "      <td>False</td>\n",
              "      <td>False</td>\n",
              "      <td>0600447***#</td>\n",
              "      <td>True</td>\n",
              "      <td>False</td>\n",
              "    </tr>\n",
              "    <tr>\n",
              "      <th>47659</th>\n",
              "      <td>4</td>\n",
              "      <td>06</td>\n",
              "      <td>FN</td>\n",
              "      <td>327</td>\n",
              "      <td>598</td>\n",
              "      <td>Antibes</td>\n",
              "      <td>VIOT</td>\n",
              "      <td>68</td>\n",
              "      <td>0201</td>\n",
              "      <td>47</td>\n",
              "      <td>...</td>\n",
              "      <td>334</td>\n",
              "      <td>True</td>\n",
              "      <td>0600447201#</td>\n",
              "      <td>06007#</td>\n",
              "      <td>0600447***#</td>\n",
              "      <td>False</td>\n",
              "      <td>False</td>\n",
              "      <td>0600447***#</td>\n",
              "      <td>True</td>\n",
              "      <td>False</td>\n",
              "    </tr>\n",
              "  </tbody>\n",
              "</table>\n",
              "<p>2 rows \u00d7 24 columns</p>\n",
              "</div>"
            ],
            "text/plain": [
              "       Code de la commune Code d\u00e9partement Code nuance du candidat  Exprim\u00e9s  \\\n",
              "47658                   4               06                     EXG       327   \n",
              "47659                   4               06                      FN       327   \n",
              "\n",
              "       Inscrits Nom de la commune Nom du candidat  Nombre de voix du candidat  \\\n",
              "47658       598           Antibes          PETARD                           4   \n",
              "47659       598           Antibes            VIOT                          68   \n",
              "\n",
              "      N\u00b0 de bureau de vote  N\u00b0 de canton   ...    Votants   elu     idbureau  \\\n",
              "47658                 0201            47   ...        334  True  0600447201#   \n",
              "47659                 0201            47   ...        334  True  0600447201#   \n",
              "\n",
              "       idcirc    idbureau2   idb= idbgeo    idbureau3 idb2= idbgeo2  \n",
              "47658  06007#  0600447***#  False  False  0600447***#  True   False  \n",
              "47659  06007#  0600447***#  False  False  0600447***#  True   False  \n",
              "\n",
              "[2 rows x 24 columns]"
            ]
          },
          "execution_count": null,
          "metadata": {},
          "output_type": "execute_result"
        }
      ],
      "source": [
        "t1t2noz[~t1t2noz.idbgeo2].head(n=2)"
      ]
    },
    {
      "cell_type": "markdown",
      "metadata": {},
      "source": [
        "Quelques villes :"
      ]
    },
    {
      "cell_type": "code",
      "execution_count": null,
      "metadata": {
        "ExecuteTime": {
          "end_time": "2016-10-29T12:36:32.743880",
          "start_time": "2016-10-29T12:36:32.728880"
        },
        "collapsed": false
      },
      "outputs": [
        {
          "data": {
            "text/plain": [
              "['Adelans-et-le-Val-de-Bithaine', 'Afa', 'Aghione', 'Aiti', 'Aix-en-Provence']"
            ]
          },
          "execution_count": null,
          "metadata": {},
          "output_type": "execute_result"
        }
      ],
      "source": [
        "list(sorted(set(t1t2noz[~t1t2noz.idbgeo2][\"Nom de la commune\"])))[:5]"
      ]
    },
    {
      "cell_type": "code",
      "execution_count": null,
      "metadata": {
        "ExecuteTime": {
          "end_time": "2016-10-29T12:36:32.837942",
          "start_time": "2016-10-29T12:36:32.747879"
        },
        "collapsed": false
      },
      "outputs": [
        {
          "data": {
            "text/html": [
              "<div>\n",
              "<table border=\"1\" class=\"dataframe\">\n",
              "  <thead>\n",
              "    <tr style=\"text-align: right;\">\n",
              "      <th></th>\n",
              "      <th>Code de la commune</th>\n",
              "      <th>Code d\u00e9partement</th>\n",
              "      <th>Code nuance du candidat</th>\n",
              "      <th>Exprim\u00e9s</th>\n",
              "      <th>Inscrits</th>\n",
              "      <th>Nom de la commune</th>\n",
              "      <th>Nom du candidat</th>\n",
              "      <th>Nombre de voix du candidat</th>\n",
              "      <th>N\u00b0 de bureau de vote</th>\n",
              "      <th>N\u00b0 de canton</th>\n",
              "      <th>...</th>\n",
              "      <th>Votants</th>\n",
              "      <th>elu</th>\n",
              "      <th>idbureau</th>\n",
              "      <th>idcirc</th>\n",
              "      <th>idbureau2</th>\n",
              "      <th>idb=</th>\n",
              "      <th>idbgeo</th>\n",
              "      <th>idbureau3</th>\n",
              "      <th>idb2=</th>\n",
              "      <th>idbgeo2</th>\n",
              "    </tr>\n",
              "  </thead>\n",
              "  <tbody>\n",
              "    <tr>\n",
              "      <th>24490</th>\n",
              "      <td>1</td>\n",
              "      <td>2A</td>\n",
              "      <td>DVG</td>\n",
              "      <td>638</td>\n",
              "      <td>952</td>\n",
              "      <td>Afa</td>\n",
              "      <td>RENUCCI</td>\n",
              "      <td>442</td>\n",
              "      <td>0001</td>\n",
              "      <td>73</td>\n",
              "      <td>...</td>\n",
              "      <td>657</td>\n",
              "      <td>NaN</td>\n",
              "      <td>2A00173001#</td>\n",
              "      <td>2A001#</td>\n",
              "      <td>2A00173***#</td>\n",
              "      <td>False</td>\n",
              "      <td>False</td>\n",
              "      <td>2A00173***#</td>\n",
              "      <td>True</td>\n",
              "      <td>False</td>\n",
              "    </tr>\n",
              "    <tr>\n",
              "      <th>24491</th>\n",
              "      <td>1</td>\n",
              "      <td>2A</td>\n",
              "      <td>UMP</td>\n",
              "      <td>638</td>\n",
              "      <td>952</td>\n",
              "      <td>Afa</td>\n",
              "      <td>MARCANGELI</td>\n",
              "      <td>196</td>\n",
              "      <td>0001</td>\n",
              "      <td>73</td>\n",
              "      <td>...</td>\n",
              "      <td>657</td>\n",
              "      <td>NaN</td>\n",
              "      <td>2A00173001#</td>\n",
              "      <td>2A001#</td>\n",
              "      <td>2A00173***#</td>\n",
              "      <td>False</td>\n",
              "      <td>False</td>\n",
              "      <td>2A00173***#</td>\n",
              "      <td>True</td>\n",
              "      <td>False</td>\n",
              "    </tr>\n",
              "    <tr>\n",
              "      <th>24492</th>\n",
              "      <td>1</td>\n",
              "      <td>2A</td>\n",
              "      <td>DVG</td>\n",
              "      <td>701</td>\n",
              "      <td>1065</td>\n",
              "      <td>Afa</td>\n",
              "      <td>RENUCCI</td>\n",
              "      <td>482</td>\n",
              "      <td>0002</td>\n",
              "      <td>73</td>\n",
              "      <td>...</td>\n",
              "      <td>727</td>\n",
              "      <td>NaN</td>\n",
              "      <td>2A00173002#</td>\n",
              "      <td>2A001#</td>\n",
              "      <td>2A00173***#</td>\n",
              "      <td>False</td>\n",
              "      <td>False</td>\n",
              "      <td>2A00173***#</td>\n",
              "      <td>True</td>\n",
              "      <td>False</td>\n",
              "    </tr>\n",
              "    <tr>\n",
              "      <th>24493</th>\n",
              "      <td>1</td>\n",
              "      <td>2A</td>\n",
              "      <td>UMP</td>\n",
              "      <td>701</td>\n",
              "      <td>1065</td>\n",
              "      <td>Afa</td>\n",
              "      <td>MARCANGELI</td>\n",
              "      <td>219</td>\n",
              "      <td>0002</td>\n",
              "      <td>73</td>\n",
              "      <td>...</td>\n",
              "      <td>727</td>\n",
              "      <td>NaN</td>\n",
              "      <td>2A00173002#</td>\n",
              "      <td>2A001#</td>\n",
              "      <td>2A00173***#</td>\n",
              "      <td>False</td>\n",
              "      <td>False</td>\n",
              "      <td>2A00173***#</td>\n",
              "      <td>True</td>\n",
              "      <td>False</td>\n",
              "    </tr>\n",
              "    <tr>\n",
              "      <th>24494</th>\n",
              "      <td>1</td>\n",
              "      <td>2A</td>\n",
              "      <td>DVG</td>\n",
              "      <td>173</td>\n",
              "      <td>246</td>\n",
              "      <td>Afa</td>\n",
              "      <td>RENUCCI</td>\n",
              "      <td>128</td>\n",
              "      <td>0003</td>\n",
              "      <td>73</td>\n",
              "      <td>...</td>\n",
              "      <td>177</td>\n",
              "      <td>NaN</td>\n",
              "      <td>2A00173003#</td>\n",
              "      <td>2A001#</td>\n",
              "      <td>2A00173***#</td>\n",
              "      <td>False</td>\n",
              "      <td>False</td>\n",
              "      <td>2A00173***#</td>\n",
              "      <td>True</td>\n",
              "      <td>False</td>\n",
              "    </tr>\n",
              "  </tbody>\n",
              "</table>\n",
              "<p>5 rows \u00d7 24 columns</p>\n",
              "</div>"
            ],
            "text/plain": [
              "       Code de la commune Code d\u00e9partement Code nuance du candidat  Exprim\u00e9s  \\\n",
              "24490                   1               2A                     DVG       638   \n",
              "24491                   1               2A                     UMP       638   \n",
              "24492                   1               2A                     DVG       701   \n",
              "24493                   1               2A                     UMP       701   \n",
              "24494                   1               2A                     DVG       173   \n",
              "\n",
              "       Inscrits Nom de la commune Nom du candidat  Nombre de voix du candidat  \\\n",
              "24490       952               Afa         RENUCCI                         442   \n",
              "24491       952               Afa      MARCANGELI                         196   \n",
              "24492      1065               Afa         RENUCCI                         482   \n",
              "24493      1065               Afa      MARCANGELI                         219   \n",
              "24494       246               Afa         RENUCCI                         128   \n",
              "\n",
              "      N\u00b0 de bureau de vote  N\u00b0 de canton   ...    Votants  elu     idbureau  \\\n",
              "24490                 0001            73   ...        657  NaN  2A00173001#   \n",
              "24491                 0001            73   ...        657  NaN  2A00173001#   \n",
              "24492                 0002            73   ...        727  NaN  2A00173002#   \n",
              "24493                 0002            73   ...        727  NaN  2A00173002#   \n",
              "24494                 0003            73   ...        177  NaN  2A00173003#   \n",
              "\n",
              "       idcirc    idbureau2   idb= idbgeo    idbureau3 idb2= idbgeo2  \n",
              "24490  2A001#  2A00173***#  False  False  2A00173***#  True   False  \n",
              "24491  2A001#  2A00173***#  False  False  2A00173***#  True   False  \n",
              "24492  2A001#  2A00173***#  False  False  2A00173***#  True   False  \n",
              "24493  2A001#  2A00173***#  False  False  2A00173***#  True   False  \n",
              "24494  2A001#  2A00173***#  False  False  2A00173***#  True   False  \n",
              "\n",
              "[5 rows x 24 columns]"
            ]
          },
          "execution_count": null,
          "metadata": {},
          "output_type": "execute_result"
        }
      ],
      "source": [
        "t1t2noz[~t1t2noz.idbgeo2 & (t1t2noz[\"Nom de la commune\"] == \"Afa\")].head()"
      ]
    },
    {
      "cell_type": "code",
      "execution_count": null,
      "metadata": {
        "ExecuteTime": {
          "end_time": "2016-10-29T12:36:32.893733",
          "start_time": "2016-10-29T12:36:32.840734"
        },
        "collapsed": false
      },
      "outputs": [
        {
          "data": {
            "text/plain": [
              "[('2A001NA***#',\n",
              "  ({'BUREAU': '2A001',\n",
              "    'CANTON': 'NA',\n",
              "    'CIRCO': '01',\n",
              "    'CODE': '2A001',\n",
              "    'CODEARRT': '2A1',\n",
              "    'CODECANT': 'NA',\n",
              "    'CODEDEP': '2A',\n",
              "    'CODEREG': '94',\n",
              "    'IDB': '2A001NA***#',\n",
              "    'NOM': 'Afa'},\n",
              "   <shapefile._Shape at 0x20d4b2d2eb8>))]"
            ]
          },
          "execution_count": null,
          "metadata": {},
          "output_type": "execute_result"
        }
      ],
      "source": [
        "[(k, v) for k, v in new_shape_bureau.items() if v[0][\"NOM\"] == \"Afa\"]"
      ]
    },
    {
      "cell_type": "markdown",
      "metadata": {},
      "source": [
        "Le code canton n'est pas renseign\u00e9."
      ]
    },
    {
      "cell_type": "code",
      "execution_count": null,
      "metadata": {
        "ExecuteTime": {
          "end_time": "2016-10-29T12:36:32.993260",
          "start_time": "2016-10-29T12:36:32.896734"
        },
        "collapsed": false
      },
      "outputs": [
        {
          "data": {
            "text/html": [
              "<div>\n",
              "<table border=\"1\" class=\"dataframe\">\n",
              "  <thead>\n",
              "    <tr style=\"text-align: right;\">\n",
              "      <th></th>\n",
              "      <th>Code de la commune</th>\n",
              "      <th>Code d\u00e9partement</th>\n",
              "      <th>Code nuance du candidat</th>\n",
              "      <th>Exprim\u00e9s</th>\n",
              "      <th>Inscrits</th>\n",
              "      <th>Nom de la commune</th>\n",
              "      <th>Nom du candidat</th>\n",
              "      <th>Nombre de voix du candidat</th>\n",
              "      <th>N\u00b0 de bureau de vote</th>\n",
              "      <th>N\u00b0 de canton</th>\n",
              "      <th>...</th>\n",
              "      <th>Votants</th>\n",
              "      <th>elu</th>\n",
              "      <th>idbureau</th>\n",
              "      <th>idcirc</th>\n",
              "      <th>idbureau2</th>\n",
              "      <th>idb=</th>\n",
              "      <th>idbgeo</th>\n",
              "      <th>idbureau3</th>\n",
              "      <th>idb2=</th>\n",
              "      <th>idbgeo2</th>\n",
              "    </tr>\n",
              "  </thead>\n",
              "  <tbody>\n",
              "    <tr>\n",
              "      <th>16364</th>\n",
              "      <td>1</td>\n",
              "      <td>13</td>\n",
              "      <td>UMP</td>\n",
              "      <td>378</td>\n",
              "      <td>700</td>\n",
              "      <td>Aix-en-Provence</td>\n",
              "      <td>JOISSAINS-MASINI</td>\n",
              "      <td>128</td>\n",
              "      <td>0083</td>\n",
              "      <td>47</td>\n",
              "      <td>...</td>\n",
              "      <td>386</td>\n",
              "      <td>NaN</td>\n",
              "      <td>1300147083#</td>\n",
              "      <td>13014#</td>\n",
              "      <td>1300147***#</td>\n",
              "      <td>False</td>\n",
              "      <td>False</td>\n",
              "      <td>1300147***#</td>\n",
              "      <td>True</td>\n",
              "      <td>False</td>\n",
              "    </tr>\n",
              "    <tr>\n",
              "      <th>16365</th>\n",
              "      <td>1</td>\n",
              "      <td>13</td>\n",
              "      <td>SOC</td>\n",
              "      <td>378</td>\n",
              "      <td>700</td>\n",
              "      <td>Aix-en-Provence</td>\n",
              "      <td>CIOT</td>\n",
              "      <td>250</td>\n",
              "      <td>0083</td>\n",
              "      <td>47</td>\n",
              "      <td>...</td>\n",
              "      <td>386</td>\n",
              "      <td>NaN</td>\n",
              "      <td>1300147083#</td>\n",
              "      <td>13014#</td>\n",
              "      <td>1300147***#</td>\n",
              "      <td>False</td>\n",
              "      <td>False</td>\n",
              "      <td>1300147***#</td>\n",
              "      <td>True</td>\n",
              "      <td>False</td>\n",
              "    </tr>\n",
              "    <tr>\n",
              "      <th>16366</th>\n",
              "      <td>1</td>\n",
              "      <td>13</td>\n",
              "      <td>UMP</td>\n",
              "      <td>456</td>\n",
              "      <td>761</td>\n",
              "      <td>Aix-en-Provence</td>\n",
              "      <td>JOISSAINS-MASINI</td>\n",
              "      <td>209</td>\n",
              "      <td>0084</td>\n",
              "      <td>47</td>\n",
              "      <td>...</td>\n",
              "      <td>463</td>\n",
              "      <td>NaN</td>\n",
              "      <td>1300147084#</td>\n",
              "      <td>13014#</td>\n",
              "      <td>1300147***#</td>\n",
              "      <td>False</td>\n",
              "      <td>False</td>\n",
              "      <td>1300147***#</td>\n",
              "      <td>True</td>\n",
              "      <td>False</td>\n",
              "    </tr>\n",
              "    <tr>\n",
              "      <th>16367</th>\n",
              "      <td>1</td>\n",
              "      <td>13</td>\n",
              "      <td>SOC</td>\n",
              "      <td>456</td>\n",
              "      <td>761</td>\n",
              "      <td>Aix-en-Provence</td>\n",
              "      <td>CIOT</td>\n",
              "      <td>247</td>\n",
              "      <td>0084</td>\n",
              "      <td>47</td>\n",
              "      <td>...</td>\n",
              "      <td>463</td>\n",
              "      <td>NaN</td>\n",
              "      <td>1300147084#</td>\n",
              "      <td>13014#</td>\n",
              "      <td>1300147***#</td>\n",
              "      <td>False</td>\n",
              "      <td>False</td>\n",
              "      <td>1300147***#</td>\n",
              "      <td>True</td>\n",
              "      <td>False</td>\n",
              "    </tr>\n",
              "    <tr>\n",
              "      <th>16368</th>\n",
              "      <td>1</td>\n",
              "      <td>13</td>\n",
              "      <td>UMP</td>\n",
              "      <td>374</td>\n",
              "      <td>629</td>\n",
              "      <td>Aix-en-Provence</td>\n",
              "      <td>JOISSAINS-MASINI</td>\n",
              "      <td>220</td>\n",
              "      <td>0085</td>\n",
              "      <td>47</td>\n",
              "      <td>...</td>\n",
              "      <td>379</td>\n",
              "      <td>NaN</td>\n",
              "      <td>1300147085#</td>\n",
              "      <td>13014#</td>\n",
              "      <td>1300147***#</td>\n",
              "      <td>False</td>\n",
              "      <td>False</td>\n",
              "      <td>1300147***#</td>\n",
              "      <td>True</td>\n",
              "      <td>False</td>\n",
              "    </tr>\n",
              "    <tr>\n",
              "      <th>16369</th>\n",
              "      <td>1</td>\n",
              "      <td>13</td>\n",
              "      <td>SOC</td>\n",
              "      <td>374</td>\n",
              "      <td>629</td>\n",
              "      <td>Aix-en-Provence</td>\n",
              "      <td>CIOT</td>\n",
              "      <td>154</td>\n",
              "      <td>0085</td>\n",
              "      <td>47</td>\n",
              "      <td>...</td>\n",
              "      <td>379</td>\n",
              "      <td>NaN</td>\n",
              "      <td>1300147085#</td>\n",
              "      <td>13014#</td>\n",
              "      <td>1300147***#</td>\n",
              "      <td>False</td>\n",
              "      <td>False</td>\n",
              "      <td>1300147***#</td>\n",
              "      <td>True</td>\n",
              "      <td>False</td>\n",
              "    </tr>\n",
              "  </tbody>\n",
              "</table>\n",
              "<p>6 rows \u00d7 24 columns</p>\n",
              "</div>"
            ],
            "text/plain": [
              "       Code de la commune Code d\u00e9partement Code nuance du candidat  Exprim\u00e9s  \\\n",
              "16364                   1               13                     UMP       378   \n",
              "16365                   1               13                     SOC       378   \n",
              "16366                   1               13                     UMP       456   \n",
              "16367                   1               13                     SOC       456   \n",
              "16368                   1               13                     UMP       374   \n",
              "16369                   1               13                     SOC       374   \n",
              "\n",
              "       Inscrits Nom de la commune   Nom du candidat  \\\n",
              "16364       700   Aix-en-Provence  JOISSAINS-MASINI   \n",
              "16365       700   Aix-en-Provence              CIOT   \n",
              "16366       761   Aix-en-Provence  JOISSAINS-MASINI   \n",
              "16367       761   Aix-en-Provence              CIOT   \n",
              "16368       629   Aix-en-Provence  JOISSAINS-MASINI   \n",
              "16369       629   Aix-en-Provence              CIOT   \n",
              "\n",
              "       Nombre de voix du candidat N\u00b0 de bureau de vote  N\u00b0 de canton   ...    \\\n",
              "16364                         128                 0083            47   ...     \n",
              "16365                         250                 0083            47   ...     \n",
              "16366                         209                 0084            47   ...     \n",
              "16367                         247                 0084            47   ...     \n",
              "16368                         220                 0085            47   ...     \n",
              "16369                         154                 0085            47   ...     \n",
              "\n",
              "       Votants  elu     idbureau  idcirc    idbureau2   idb= idbgeo  \\\n",
              "16364      386  NaN  1300147083#  13014#  1300147***#  False  False   \n",
              "16365      386  NaN  1300147083#  13014#  1300147***#  False  False   \n",
              "16366      463  NaN  1300147084#  13014#  1300147***#  False  False   \n",
              "16367      463  NaN  1300147084#  13014#  1300147***#  False  False   \n",
              "16368      379  NaN  1300147085#  13014#  1300147***#  False  False   \n",
              "16369      379  NaN  1300147085#  13014#  1300147***#  False  False   \n",
              "\n",
              "         idbureau3 idb2= idbgeo2  \n",
              "16364  1300147***#  True   False  \n",
              "16365  1300147***#  True   False  \n",
              "16366  1300147***#  True   False  \n",
              "16367  1300147***#  True   False  \n",
              "16368  1300147***#  True   False  \n",
              "16369  1300147***#  True   False  \n",
              "\n",
              "[6 rows x 24 columns]"
            ]
          },
          "execution_count": null,
          "metadata": {},
          "output_type": "execute_result"
        }
      ],
      "source": [
        "t1t2noz[~t1t2noz.idbgeo2 & (t1t2noz[\"Nom de la commune\"] == \"Aix-en-Provence\")].sort_values(\"idbureau\")"
      ]
    },
    {
      "cell_type": "code",
      "execution_count": null,
      "metadata": {
        "ExecuteTime": {
          "end_time": "2016-10-29T12:36:33.043258",
          "start_time": "2016-10-29T12:36:32.996260"
        },
        "collapsed": false,
        "scrolled": false
      },
      "outputs": [
        {
          "data": {
            "text/plain": [
              "('1300147011#',\n",
              " ({'BUREAU': '13001_011',\n",
              "   'CANTON': 'Aix-en-Provence-Centre',\n",
              "   'CIRCO': '14',\n",
              "   'CODE': '13001',\n",
              "   'CODEARRT': '131',\n",
              "   'CODECANT': '47',\n",
              "   'CODEDEP': '13',\n",
              "   'CODEREG': '93',\n",
              "   'IDB': '1300147011#',\n",
              "   'NOM': 'Aix-en-Provence'},\n",
              "  <shapefile._Shape at 0x20d3d27ca58>))"
            ]
          },
          "execution_count": null,
          "metadata": {},
          "output_type": "execute_result"
        }
      ],
      "source": [
        "[(k, v) for k, v in new_shape_bureau.items() if v[0][\"NOM\"] == \"Aix-en-Provence\" and v[0][\"CODECANT\"] == \"47\"][0]"
      ]
    },
    {
      "cell_type": "code",
      "execution_count": null,
      "metadata": {
        "ExecuteTime": {
          "end_time": "2016-10-29T12:36:33.089273",
          "start_time": "2016-10-29T12:36:33.047261"
        },
        "collapsed": false
      },
      "outputs": [
        {
          "data": {
            "text/plain": [
              "87"
            ]
          },
          "execution_count": null,
          "metadata": {},
          "output_type": "execute_result"
        }
      ],
      "source": [
        "len(set(t1t2noz[t1t2noz[\"Nom de la commune\"] == \"Aix-en-Provence\"][\"idbureau\"]))"
      ]
    },
    {
      "cell_type": "code",
      "execution_count": null,
      "metadata": {
        "ExecuteTime": {
          "end_time": "2016-10-29T12:36:33.147282",
          "start_time": "2016-10-29T12:36:33.093278"
        },
        "collapsed": false
      },
      "outputs": [
        {
          "data": {
            "text/plain": [
              "84"
            ]
          },
          "execution_count": null,
          "metadata": {},
          "output_type": "execute_result"
        }
      ],
      "source": [
        "len([(k, v) for k, v in new_shape_bureau.items() if v[0][\"NOM\"] == \"Aix-en-Provence\"])"
      ]
    },
    {
      "cell_type": "markdown",
      "metadata": {},
      "source": [
        "Il y avait 3 bureaux de vote de moins en 2007 par rapport \u00e0 2012. Pour cette petite ville, il serait possible d'agr\u00e9ger ces bureaux ensemble sans impacter les r\u00e9sultats. Voyons d\u00e9j\u00e0 si on peut faire sans."
      ]
    },
    {
      "cell_type": "markdown",
      "metadata": {},
      "source": [
        "#### fonction 4 : fusionner tous les shapefiles\n",
        "\n",
        "On essaye de retrouver la carte des circonscriptions obtenues plus haut mais sans utiliser la table des contours des circonscriptions. Nous n'avons pas besoin de fusionner les contours des bureaux pour obtenir les contours des circonscriptions, juste de repr\u00e9senter chaque bureau avec la couleur (gagnant, perdant) qui lui est associ\u00e9e. La couleur ne d\u00e9pend pas de la couleur du bureau ne d\u00e9pend pas de ses r\u00e9sultats mais de ceux de la circonscription \u00e0 laquelle il est associ\u00e9. Pour tracer la carte, on peut soit faire comme expliqu\u00e9 ci-dessus ou fusionner les contours des bureaux pour obtenir ceux des circonscriptions. Il appara\u00eet que la premi\u00e8re solution est plus simple et pas plus longue. Comme il faut compter environ 3 minutes pour tracer la carte, nous n'allons pas le faire souvent."
      ]
    },
    {
      "cell_type": "code",
      "execution_count": null,
      "metadata": {
        "ExecuteTime": {
          "end_time": "2016-10-29T13:49:36.158044",
          "start_time": "2016-10-29T13:46:38.624718"
        },
        "code_folding": [],
        "collapsed": false,
        "scrolled": false
      },
      "outputs": [
        {
          "name": "stdout",
          "output_type": "stream",
          "text": [
            "17/539 Number of shapes is empty for circonscription=06001# idbureau=['0608842***#', '0608817***#', '0608838***#', '...']\n",
            "44/539 Number of shapes is empty for circonscription=13002# idbureau=['1305544***#', '1305537***#', '1305559***#', '...']\n",
            "45/539 Number of shapes is empty for circonscription=13003# idbureau=['1305521***#', '1305522***#', '1305540***#', '...']\n",
            "46/539 Number of shapes is empty for circonscription=13004# idbureau=['1305519***#', '1305538***#', '1305517***#', '...']\n",
            "47/539 Number of shapes is empty for circonscription=13005# idbureau=['1305514***#', '1305518***#', '1305519***#', '...']\n",
            "49/539 Number of shapes is empty for circonscription=13007# idbureau=['1305545***#', '1305539***#', '1305557***#', '...']\n",
            "123/539 Number of shapes is empty for circonscription=2B001# idbureau=['2B25726***#', '2B23929***#', '2B23342***#', '...']\n",
            "124/539 Number of shapes is empty for circonscription=2B002# idbureau=['2B24639***#', '2B24559***#', '2B24410***#', '...']\n",
            "144/539 Number of shapes is empty for circonscription=33002# idbureau=['3306314***#', '3306312***#', '3306310***#', '...']\n",
            "174/539 Number of shapes is empty for circonscription=37001# idbureau=['3726126***#', '3726125***#', '3726127***#', '...']\n",
            "207/539 Number of shapes is empty for circonscription=44002# idbureau=['4410949***#', '4410923***#', '4410921***#', '...']\n",
            "334/539 Number of shapes is empty for circonscription=67001# idbureau=['6748240***#', '6748237***#', '6748227***#', '...']\n",
            "349/539 Number of shapes is empty for circonscription=69001# idbureau=['6912355***#', '6912336***#', '6912315***#', '...']\n",
            "350/539 Number of shapes is empty for circonscription=69002# idbureau=['6912311***#', '6912313***#', '6912314***#', '...']\n",
            "351/539 Number of shapes is empty for circonscription=69003# idbureau=['6912319***#', '6912320***#', '6912322***#', '...']\n",
            "352/539 Number of shapes is empty for circonscription=69004# idbureau=['6912354***#', '6912321***#', '6912322***#', '...']\n",
            "385/539 Number of shapes is empty for circonscription=75001# idbureau=['7505623***#', '7505615***#', '7505616***#', '...']\n",
            "386/539 Number of shapes is empty for circonscription=75002# idbureau=['7505621***#', '7505619***#', '7505620***#']\n",
            "387/539 Number of shapes is empty for circonscription=75003# idbureau=['7505631***#', '7505632***#']\n",
            "388/539 Number of shapes is empty for circonscription=75004# idbureau=['7505630***#', '7505631***#']\n",
            "389/539 Number of shapes is empty for circonscription=75005# idbureau=['7505617***#', '7505624***#']\n",
            "390/539 Number of shapes is empty for circonscription=75006# idbureau=['7505634***#', '7505625***#']\n",
            "391/539 Number of shapes is empty for circonscription=75007# idbureau=['7505618***#', '7505625***#', '7505626***#']\n",
            "392/539 Number of shapes is empty for circonscription=75008# idbureau=['7505626***#', '7505634***#']\n",
            "393/539 Number of shapes is empty for circonscription=75009# idbureau=['7505627***#']\n",
            "394/539 Number of shapes is empty for circonscription=75010# idbureau=['7505628***#', '7505627***#']\n",
            "395/539 Number of shapes is empty for circonscription=75011# idbureau=['7505628***#', '7505620***#']\n",
            "396/539 Number of shapes is empty for circonscription=75012# idbureau=['7505621***#', '7505629***#']\n",
            "397/539 Number of shapes is empty for circonscription=75013# idbureau=['7505629***#']\n",
            "398/539 Number of shapes is empty for circonscription=75014# idbureau=['7505630***#']\n",
            "399/539 Number of shapes is empty for circonscription=75015# idbureau=['7505634***#']\n",
            "400/539 Number of shapes is empty for circonscription=75016# idbureau=['7505633***#']\n",
            "401/539 Number of shapes is empty for circonscription=75017# idbureau=['7505632***#', '7505633***#']\n",
            "402/539 Number of shapes is empty for circonscription=75018# idbureau=['7505632***#', '7505623***#']\n"
          ]
        },
        {
          "data": {
            "text/plain": [
              "array([<matplotlib.axes._subplots.AxesSubplot object at 0x0000020E3CF0AE10>,\n",
              "       <matplotlib.axes._subplots.AxesSubplot object at 0x0000020E3CFB5D68>], dtype=object)"
            ]
          },
          "execution_count": null,
          "metadata": {},
          "output_type": "execute_result"
        },
        {
          "data": {
            "image/png": "[encoded data removed]",
            "text/plain": [
              "<matplotlib.figure.Figure at 0x20e3cf1ff60>"
            ]
          },
          "metadata": {},
          "output_type": "display_data"
        }
      ],
      "source": [
        "from itertools import groupby\n",
        "\n",
        "def new_agg_bureau_shape_viz(thewinner, shape_bureau, data_vote, solution=None, \n",
        "                 col_circ=\"idcirc\", col_place=\"idbureau\", col_vote=\"Nombre de voix du candidat\",\n",
        "                 col_nuance=\"Code nuance du candidat\", axes=None, figsize=(14,6), **kwargs):\n",
        "    \"\"\"\n",
        "    Visualise la nuance gagnante dans chaque circonscription.\n",
        "    \n",
        "    @param     thewinner    parti qu'on souhaite influencer\n",
        "    @param     shape_bureau dictionnaire ``{ idbureau : (information, shapefile)}``\n",
        "    @param     axes         None ou deux syst\u00e8mes d'axes\n",
        "    @param     figsize      dimension du graphiques\n",
        "    @param     kwargs       options additionnelles\n",
        "    \n",
        "    @param     data_vote    dataframe de type\n",
        "    @param     solution     dictionnaire ``{ circonscription : liste de bureaux }``, \n",
        "                            si None consid\u00e8re la solution officielle\n",
        "    @param     col_circ     colonne contenant la circonscription (si solution = None)\n",
        "    @param     col_place    colonne contenant l'identifiant du bureaux de votes\n",
        "    @param     col_vote     colonne contenant les votes\n",
        "    @param     col_nuance   colonne contenant le parti ou la nuance\n",
        "    @return                 matrice de resultat, une ligne par circoncription, une colonne par nuance/parti\n",
        "    \"\"\"\n",
        "    # on transforme les dataframes en dictionnaires\n",
        "    score = agg_circonscription(data_vote, solution=solution, \n",
        "                 col_circ=col_circ, col_place=col_place, col_vote=col_vote,\n",
        "                 col_nuance=col_nuance)\n",
        "    winner = score[[\"winner\"]].to_dict(\"index\")\n",
        "    \n",
        "    if solution is None:\n",
        "        # pas de solution, on r\u00e9cup\u00e8re la configuration existante\n",
        "        # il ne faut pas oublier de choisir idbureau3\n",
        "        gr = data_vote[[\"idcirc\", \"idbureau3\", \"Code d\u00e9partement\"]].groupby([\"idcirc\", \"idbureau3\"], as_index=False).count()\n",
        "        gr = gr[[\"idcirc\", \"idbureau3\"]].sort_values(\"idcirc\")\n",
        "        solution = {}\n",
        "        for k, g in groupby(gr.values, lambda d: d[0]):\n",
        "            solution[k] = list(_[1] for _ in g)\n",
        "            if len(solution[k]) == 0:\n",
        "                raise Exception(\"group should not be empty\\nk={0}\\ng={1}\".format(k, list(g)))\n",
        "    \n",
        "    if axes is None:\n",
        "        # on cr\u00e9\u00e9 des axes si non d\u00e9finis\n",
        "        fig, axes = plt.subplots(1, 2, figsize=figsize)\n",
        "        \n",
        "    # on dessine la distribution des circonscriptions\n",
        "    count = score[[\"winner\", \"nbwinner\"]].groupby([\"winner\"]).count()\n",
        "    count.sort_values(\"nbwinner\", ascending=False)\n",
        "    count.plot(ax=axes[1], kind=\"bar\", legend=False)\n",
        "    axes[1].set_xlabel(\"parti/nuance\")\n",
        "    axes[1].set_ylabel(\"nombre de circonscriptions\")\n",
        "\n",
        "    # on calcule le nombre de places le parti consid\u00e9r\u00e9\n",
        "    count = count.reset_index(drop=False)\n",
        "    count[\"iswin\"] = count[\"winner\"] == thewinner\n",
        "    ratio = count[[\"nbwinner\", \"iswin\"]].groupby(\"iswin\").sum().sort_index()\n",
        "    nbcirc = ratio.ix[1,0]\n",
        "    axes[1].set_title(\"{0}={1} circonccriptions\".format(thewinner, nbcirc))\n",
        "    \n",
        "    # on s'occupe de la carte\n",
        "    x1, x2 = -5.0, 9.\n",
        "    y1, y2 = 42., 52.\n",
        "    m = Basemap(resolution='i',projection='merc', \n",
        "                llcrnrlat=y1, urcrnrlat=y2, llcrnrlon=x1, urcrnrlon=x2, lat_ts=(x1+x2)/2,\n",
        "                ax=axes[0])\n",
        "    m.drawcountries(linewidth=0.5)\n",
        "    m.drawcoastlines(linewidth=0.5)\n",
        "    \n",
        "    def dedup(ps):\n",
        "        res = []\n",
        "        for p in ps:\n",
        "            if p not in res:\n",
        "                res.append(p)\n",
        "        return res\n",
        "    \n",
        "    associated = 0\n",
        "    total = 0\n",
        "    for icirc, (idcirc, idbureau) in enumerate(sorted(solution.items())):\n",
        "        avance = \"{0}/{1}\".format(icirc, len(solution))\n",
        "        shapes = [shape_bureau[idb][1].points for idb in idbureau if idb in shape_bureau]\n",
        "        associated += len(shapes)\n",
        "        total += len(idbureau)\n",
        "        if len(shapes) == 0:\n",
        "            if len(idbureau) > 3:\n",
        "                idbureau = idbureau[:3] + [\"...\"]\n",
        "            print(avance, \"Number of shapes is empty for circonscription={0} idbureau={1}\".format(idcirc, idbureau))\n",
        "            continue\n",
        "        \n",
        "        if idcirc in winner:\n",
        "            win = winner[idcirc][\"winner\"]\n",
        "            color = (0.5, 1.0, 0.5) if win == thewinner else (1.0, 0.5, 0.5)\n",
        "        else:\n",
        "            color = \"black\"            \n",
        "        \n",
        "        # on dessine tous les bureaux de la m\u00eame couleur\n",
        "        for shape in shapes:\n",
        "            lons = [_[0] for _ in shape]\n",
        "            lats = [_[1] for _ in shape]\n",
        "            data = numpy.array(m(lons, lats)).T\n",
        "            segs = [data,]\n",
        "            lines = LineCollection(segs, antialiaseds=(1,))\n",
        "            # pour changer les couleurs c'est ici, il faudra utiliser le champ records\n",
        "            # pour les changer en fonction du nom du d\u00e9partements\n",
        "            lines.set_facecolors(color)\n",
        "            lines.set_edgecolors('k')\n",
        "            lines.set_linewidth(0)\n",
        "            axes[0].add_collection(lines)  \n",
        "        \n",
        "    yellow_patch = mpatches.Patch(color=(1.0, 1.0, 0.0), label='{0}/{1}'.format(associated, total))\n",
        "    red_patch = mpatches.Patch(color=(1.0, 0.5, 0.5), label='perdu')\n",
        "    green_patch = mpatches.Patch(color=(0.5, 1.0, 0.5), label='gagn\u00e9')\n",
        "    axes[0].legend(handles=[yellow_patch, red_patch, green_patch])        \n",
        "\n",
        "    return axes\n",
        "    \n",
        "new_agg_bureau_shape_viz(\"SOC\", shape_bureau, t1t2noz)"
      ]
    },
    {
      "cell_type": "markdown",
      "metadata": {},
      "source": [
        "## Construction des bureaux sur les fronti\u00e8res"
      ]
    },
    {
      "cell_type": "code",
      "execution_count": null,
      "metadata": {
        "collapsed": true
      },
      "outputs": [],
      "source": []
    }
  ],
  "metadata": {
    "kernelspec": {
      "display_name": "Python 3",
      "language": "python",
      "name": "python3"
    },
    "language_info": {
      "codemirror_mode": {
        "name": "ipython",
        "version": 3
      },
      "file_extension": ".py",
      "mimetype": "text/x-python",
      "name": "python",
      "nbconvert_exporter": "python",
      "pygments_lexer": "ipython3",
      "version": "3.5.0"
    }
  },
  "nbformat": 4,
  "nbformat_minor": 1
}