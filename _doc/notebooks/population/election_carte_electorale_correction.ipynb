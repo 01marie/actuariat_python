{
  "cells": [
    {
      "cell_type": "markdown",
      "metadata": {},
      "source": [
        "# Elections et cartes \u00e9lectorales - correction"
      ]
    },
    {
      "cell_type": "code",
      "execution_count": null,
      "metadata": {
        "collapsed": false
      },
      "outputs": [
        {
          "data": {
            "text/html": [
              "<div id=\"my_id_menu_nb\">run previous cell, wait for 2 seconds</div>\n",
              "<script>\n",
              "function repeat_indent_string(n){\n",
              "    var a = \"\" ;\n",
              "    for ( ; n > 0 ; --n) {\n",
              "        a += \"    \";\n",
              "    }\n",
              "    return a;\n",
              "}\n",
              "var update_menu_string = function(begin, lfirst, llast, sformat, send, keep_item) {\n",
              "    var anchors = document.getElementsByClassName(\"section\");\n",
              "    if (anchors.length == 0) {\n",
              "        anchors = document.getElementsByClassName(\"text_cell_render rendered_html\");\n",
              "    }\n",
              "    var i,t;\n",
              "    var text_menu = begin;\n",
              "    var text_memo = \"<pre>\\nlength:\" + anchors.length + \"\\n\";\n",
              "    var ind = \"\";\n",
              "    var memo_level = 1;\n",
              "    var href;\n",
              "    var tags = [];\n",
              "    var main_item = 0;\n",
              "    for (i = 0; i <= llast; i++) {\n",
              "        tags.push(\"h\" + i);\n",
              "    }\n",
              "\n",
              "    for (i = 0; i < anchors.length; i++) {\n",
              "        text_memo += \"**\" + anchors[i].id + \"--\\n\";\n",
              "\n",
              "        var child = null;\n",
              "        for(t = 0; t < tags.length; t++) {\n",
              "            var r = anchors[i].getElementsByTagName(tags[t]);\n",
              "            if (r.length > 0) {\n",
              "child = r[0];\n",
              "break;\n",
              "            }\n",
              "        }\n",
              "        if (child == null){\n",
              "            text_memo += \"null\\n\";\n",
              "            continue;\n",
              "        }\n",
              "        if (anchors[i].hasAttribute(\"id\")) {\n",
              "            // when converted in RST\n",
              "            href = anchors[i].id;\n",
              "            text_memo += \"#1-\" + href;\n",
              "            // passer \u00e0 child suivant (le chercher)\n",
              "        }\n",
              "        else if (child.hasAttribute(\"id\")) {\n",
              "            // in a notebook\n",
              "            href = child.id;\n",
              "            text_memo += \"#2-\" + href;\n",
              "        }\n",
              "        else {\n",
              "            text_memo += \"#3-\" + \"*\" + \"\\n\";\n",
              "            continue;\n",
              "        }\n",
              "        var title = child.textContent;\n",
              "        var level = parseInt(child.tagName.substring(1,2));\n",
              "\n",
              "        text_memo += \"--\" + level + \"?\" + lfirst + \"--\" + title + \"\\n\";\n",
              "\n",
              "        if ((level < lfirst) || (level > llast)) {\n",
              "            continue ;\n",
              "        }\n",
              "        if (title.endsWith('\u00b6')) {\n",
              "            title = title.substring(0,title.length-1).replace(\"<\", \"&lt;\").replace(\">\", \"&gt;\").replace(\"&\", \"&amp;\")\n",
              "        }\n",
              "\n",
              "        if (title.length == 0) {\n",
              "            continue;\n",
              "        }\n",
              "\n",
              "        while (level < memo_level) {\n",
              "            text_menu += \"</ul>\\n\";\n",
              "            memo_level -= 1;\n",
              "        }\n",
              "        if (level == lfirst) {\n",
              "            main_item += 1;\n",
              "        }\n",
              "        if (keep_item != -1 && main_item != keep_item + 1) {\n",
              "            // alert(main_item + \" - \" + level + \" - \" + keep_item);\n",
              "            continue;\n",
              "        }\n",
              "        while (level > memo_level) {\n",
              "            text_menu += \"<ul>\\n\";\n",
              "            memo_level += 1;\n",
              "        }\n",
              "        text_menu += repeat_indent_string(level-2) + sformat.replace(\"__HREF__\", href).replace(\"__TITLE__\", title);\n",
              "    }\n",
              "    while (1 < memo_level) {\n",
              "        text_menu += \"</ul>\\n\";\n",
              "        memo_level -= 1;\n",
              "    }\n",
              "    text_menu += send;\n",
              "    //text_menu += \"\\n\" + text_memo;\n",
              "    return text_menu;\n",
              "};\n",
              "var update_menu = function() {\n",
              "    var sbegin = \"\";\n",
              "    var sformat = '<li><a href=\"#__HREF__\">__TITLE__</a></li>';\n",
              "    var send = \"\";\n",
              "    var keep_item = -1;\n",
              "    var text_menu = update_menu_string(sbegin, 2, 4, sformat, send, keep_item);\n",
              "    var menu = document.getElementById(\"my_id_menu_nb\");\n",
              "    menu.innerHTML=text_menu;\n",
              "};\n",
              "window.setTimeout(update_menu,2000);\n",
              "            </script>"
            ],
            "text/plain": [
              "<IPython.core.display.HTML object>"
            ]
          },
          "execution_count": null,
          "metadata": {},
          "output_type": "execute_result"
        }
      ],
      "source": [
        "from jyquickhelper import add_notebook_menu\n",
        "add_notebook_menu()"
      ]
    },
    {
      "cell_type": "code",
      "execution_count": null,
      "metadata": {
        "collapsed": true
      },
      "outputs": [],
      "source": [
        "%matplotlib inline\n",
        "import matplotlib.pyplot as plt\n",
        "plt.style.use('ggplot')"
      ]
    },
    {
      "cell_type": "markdown",
      "metadata": {},
      "source": [
        "## Plan"
      ]
    },
    {
      "cell_type": "markdown",
      "metadata": {},
      "source": [
        "Bidouiller les cartes \u00e9lectorales n'est pas facile mais il n'est pas n\u00e9cessaire d'\u00eatre tr\u00e8s efficace pour orienter la d\u00e9cision dans un sens ou dans l'autre. L'id\u00e9e principale consiste \u00e0 bouger des \u00e9lecteurs d'une circoncription \u00e0 l'autre pour favoriser les candidats d'un seul parti. Il faut que ces candidats sont \u00e9lus avec une majorit\u00e9 suffisante tandis que les candidats adversaires doivent l'\u00eatre avec une grande majorit\u00e9. C'est une fa\u00e7on de donner plus d'importance aux voix d'un seul parti car elles annulent celles des autres. L'objectif vis\u00e9 est la pr\u00e9paration d'une prochaine \u00e9lection \u00e0 partir des r\u00e9sultats de la pr\u00e9c\u00e9dente sans que cela se voit trop. Mais nous pourrions essayer de faire basculer les r\u00e9sultats d'une \u00e9lection dans un camp ou dans l'autre. Voici un exemple avec trois circonscriptions voisins et de taille \u00e9quivalente."
      ]
    },
    {
      "cell_type": "code",
      "execution_count": null,
      "metadata": {
        "collapsed": false
      },
      "outputs": [
        {
          "data": {
            "text/plain": [
              "<matplotlib.legend.Legend at 0x1845118f7b8>"
            ]
          },
          "execution_count": null,
          "metadata": {},
          "output_type": "execute_result"
        },
        {
          "data": {
            "image/png": "[encoded data removed]",
            "text/plain": [
              "<matplotlib.figure.Figure at 0x1843fe96320>"
            ]
          },
          "metadata": {},
          "output_type": "display_data"
        }
      ],
      "source": [
        "fig, ax = plt.subplots(1, 2, sharey=True, figsize=(10,4))\n",
        "ind = [1, 2, 3]\n",
        "ind2 = [_ + 0.4 for _ in ind]\n",
        "P1 = (60, 48, 48)\n",
        "P2 = (40, 52, 52)\n",
        "ax[0].bar(ind, P1, label=\"Parti 1\", width=0.4)\n",
        "ax[0].bar(ind2, P2, label=\"Parti 2\", width=0.4)\n",
        "ax[0].plot([1,4], [50, 50], \"--\", color=\"black\")\n",
        "ax[0].set_xlabel('Circonscriptions avant')\n",
        "plt.setp(ax, xticks=ind2, xticklabels=('C1', 'C2', 'C3'))\n",
        "P1 = (55, 53, 48)\n",
        "P2 = (45, 47, 52)\n",
        "ax[1].bar(ind, P1, label=\"Parti 1\", width=0.4)\n",
        "ax[1].bar(ind2, P2, label=\"Parti 2\", width=0.4)\n",
        "ax[1].plot([1,4], [50, 50], \"--\", color=\"black\")\n",
        "ax[1].set_xlabel('Circonscriptions apr\u00e8s')\n",
        "ax[0].set_ylabel('Votes')\n",
        "plt.ylim([30, 70])\n",
        "plt.legend()"
      ]
    },
    {
      "cell_type": "markdown",
      "metadata": {},
      "source": [
        "**les moyens**\n",
        "\n",
        "Nous ne connaissons pas les votes de chaque \u00e9lecteurs mais nous connaissons les r\u00e9sultats agr\u00e9g\u00e9s au niveau des bureaux de vote. Nous ne pouvons pas influencer les r\u00e9sultats de l'\u00e9lection pr\u00e9sidentielle car car les votes sont agr\u00e9g\u00e9es au niveau du pays : une voix \u00e0 Perpignan compte autant d'une voix \u00e0 Charleville. C'est diff\u00e9rent pour les \u00e9lections l\u00e9gislatives. Un vote \u00e0 Charleville n'a qu'un impact dans l'une des [577 circonscriptions](http://www.elections-legislatives.fr/circonscriptions.asp). Que se passe-t-il alors si on fait basculer un bureau de vote d'une circonscription \u00e0 une autre ?"
      ]
    },
    {
      "cell_type": "markdown",
      "metadata": {},
      "source": [
        "**la strat\u00e9gie**\n",
        "\n",
        "Travailler \u00e0 plusieurs n\u00e9cessite de r\u00e9partir de travailler et d'isoler quelques fonctionnalit\u00e9s qui peuvent \u00eatre d\u00e9velopp\u00e9es en parall\u00e8le. Le premier besoin essentielle est celui de la **visualisation** des r\u00e9sultats. Nous allons faire beaucoup d'essais et il faut pouvoir rapidement visualiser le r\u00e9sultat afin d'\u00e9viter les erreurs visuellement \u00e9videntes. Comme tout projet, il faut un crit\u00e8re num\u00e9rique qui permette de r\u00e9sumer la qualit\u00e9 d'une solution. Dans notre cas, celui-ci est reli\u00e9 aux nombres de d\u00e9put\u00e9s \u00e9lus venant du parti \u00e0 favoriser. Le second besoin est l'**\u00e9valuation** d'une solution. Qu'est ce qui d\u00e9finit une solution ? Ce sont la description des circonscriptions, autrement l'appariement des bureaux de votes aux circonscriptions. Il faut r\u00e9fl\u00e9chir \u00e0 un m\u00e9canisme qui nous permette de g\u00e9n\u00e9rer plusieurs solutions, plusieurs appariements. C'est l'\u00e9tape de **g\u00e9n\u00e9ration** des solutions. C'est sans doute cette derni\u00e8re partie qui sera la plus complexe car elle doit s'int\u00e9resser aux voisinages de bureaux de votes. On peut isoler un traitement sp\u00e9cifique qui consiste \u00e0 calculer les **voisins** \u00e0 regarder \u00e0 partir d'une d\u00e9finition des circonscriptions."
      ]
    },
    {
      "cell_type": "code",
      "execution_count": null,
      "metadata": {
        "collapsed": false
      },
      "outputs": [
        {
          "data": {
            "image/png": "[encoded data removed]",
            "text/plain": [
              "<IPython.core.display.Image object>"
            ]
          },
          "execution_count": null,
          "metadata": {},
          "output_type": "execute_result"
        }
      ],
      "source": [
        "from pyquickhelper.helpgen import NbImage\n",
        "NbImage(\"gerrysol.png\")"
      ]
    },
    {
      "cell_type": "markdown",
      "metadata": {},
      "source": [
        "**travailler en commun**\n",
        "\n",
        "Si chaque t\u00e2che, visualisation, \u00e9valuation, g\u00e9n\u00e9ration, peuvent \u00eatre con\u00e7ues en parall\u00e8le, il faut n\u00e9anmoins r\u00e9fl\u00e9chir aux interfaces : il faut que chaque \u00e9quipe sache sous quelle forme l'autre \u00e9quipe va \u00e9changer des informations avec elle. M\u00eame si les donn\u00e9es sont partag\u00e9es par tout le monde et sont d\u00e9crites dans des tables, il est pr\u00e9f\u00e9rable de pr\u00e9ciser les colonnes importantes dans chacune d'entre elles. Par soucis de simplification, on ne s'int\u00e9resse qu'au second tour : la m\u00e9thode ne s'adresse qu'au parti principaux et on fait l'hypoth\u00e8se qu'ils sont en majorit\u00e9 pr\u00e9sent au second tour.\n",
        "\n",
        "* *r\u00e9sultat des \u00e9lections* \n",
        "\n",
        "    * code d\u00e9partement + code commune + code canton + bureau de vote = **identifiant bureau de vote**\n",
        "    * **num\u00e9ro circonscription**\n",
        "    * inscrits\n",
        "    * votants\n",
        "    * exprim\u00e9s\n",
        "    * nuance du candidat\n",
        "    * nombre de voix du candidat\n",
        "    \n",
        "* *geo* \n",
        "\n",
        "    * **code circonscription**\n",
        "    * shape\n",
        "    * **numero**\n",
        "    \n",
        "* *bureau_geo* \n",
        "\n",
        "    * **numero**\n",
        "    * longitude\n",
        "    * latitude\n",
        "    \n",
        "En gras, les champs qui serviront \u00e0 faire des jointures. En second plan, il faut d\u00e9finir une fa\u00e7on commune de d\u00e9crire les informations dont on a besoin tout au long de la cha\u00eene de traitement :\n",
        "\n",
        "* solution : un dictionnaire ``{ circonscription : [ liste des bureaux ] } ``\n",
        "* bureaux fonti\u00e8res et voisins : un dictionnaire ``{ bureau : [ liste des bureaux voisins ] }``"
      ]
    },
    {
      "cell_type": "markdown",
      "metadata": {},
      "source": [
        "**donn\u00e9es manquantes**\n",
        "\n",
        "La location des bureaux de votes n'est pas disponible pour tous les bureaux de votes. On ne pourra d\u00e9placer que ceux qu'on sait localiser."
      ]
    },
    {
      "cell_type": "markdown",
      "metadata": {},
      "source": [
        "## Donn\u00e9es\n",
        "\n",
        "On reprend les exemples de code fournis dans le notebook de l'\u00e9nonc\u00e9.\n",
        "\n",
        "* [R\u00e9sultat des \u00e9lections l\u00e9gislatives fran\u00e7aises de 2012 au niveau bureau de vote](https://www.data.gouv.fr/fr/datasets/resultat-des-elections-legislatives-francaises-de-2012-au-niveau-bureau-de-vote-nd/)\n",
        "* [Countours des circonscriptions des l\u00e9gislatives](https://www.data.gouv.fr/fr/datasets/countours-des-circonscriptions-des-legislatives-nd/)\n",
        "* [Localisation des buraux de votes](http://www.xavierdupre.fr/enseignement/complements/bureauxvotegeo.zip)\n",
        "* [Localisation des villes](https://github.com/sdpython/actuariat_python/raw/master/src/actuariat_python/data/data_elections/villes_geo.zip)"
      ]
    },
    {
      "cell_type": "code",
      "execution_count": null,
      "metadata": {
        "collapsed": false
      },
      "outputs": [
        {
          "data": {
            "text/html": [
              "<div>\n",
              "<table border=\"1\" class=\"dataframe\">\n",
              "  <thead>\n",
              "    <tr style=\"text-align: right;\">\n",
              "      <th></th>\n",
              "      <th>N\u00b0 tour</th>\n",
              "      <th>Code d\u00e9partement</th>\n",
              "      <th>Code de la commune</th>\n",
              "      <th>Nom de la commune</th>\n",
              "      <th>N\u00b0 de circonscription Lg</th>\n",
              "      <th>N\u00b0 de canton</th>\n",
              "      <th>N\u00b0 de bureau de vote</th>\n",
              "      <th>Inscrits</th>\n",
              "      <th>Votants</th>\n",
              "      <th>Exprim\u00e9s</th>\n",
              "      <th>N\u00b0 de d\u00e9p\u00f4t du candidat</th>\n",
              "      <th>Nom du candidat</th>\n",
              "      <th>Pr\u00e9nom du candidat</th>\n",
              "      <th>Code nuance du candidat</th>\n",
              "      <th>Nombre de voix du candidat</th>\n",
              "    </tr>\n",
              "  </thead>\n",
              "  <tbody>\n",
              "    <tr>\n",
              "      <th>3858</th>\n",
              "      <td>2</td>\n",
              "      <td>01</td>\n",
              "      <td>16</td>\n",
              "      <td>Arbigny</td>\n",
              "      <td>1</td>\n",
              "      <td>26</td>\n",
              "      <td>0001</td>\n",
              "      <td>309</td>\n",
              "      <td>146</td>\n",
              "      <td>144</td>\n",
              "      <td>32</td>\n",
              "      <td>BRETON</td>\n",
              "      <td>Xavier</td>\n",
              "      <td>UMP</td>\n",
              "      <td>87</td>\n",
              "    </tr>\n",
              "    <tr>\n",
              "      <th>3859</th>\n",
              "      <td>2</td>\n",
              "      <td>01</td>\n",
              "      <td>16</td>\n",
              "      <td>Arbigny</td>\n",
              "      <td>1</td>\n",
              "      <td>26</td>\n",
              "      <td>0001</td>\n",
              "      <td>309</td>\n",
              "      <td>146</td>\n",
              "      <td>144</td>\n",
              "      <td>33</td>\n",
              "      <td>DEBAT</td>\n",
              "      <td>Jean-Fran\u00e7ois</td>\n",
              "      <td>SOC</td>\n",
              "      <td>57</td>\n",
              "    </tr>\n",
              "  </tbody>\n",
              "</table>\n",
              "</div>"
            ],
            "text/plain": [
              "      N\u00b0 tour Code d\u00e9partement  Code de la commune Nom de la commune  \\\n",
              "3858        2               01                  16           Arbigny   \n",
              "3859        2               01                  16           Arbigny   \n",
              "\n",
              "      N\u00b0 de circonscription Lg  N\u00b0 de canton N\u00b0 de bureau de vote  Inscrits  \\\n",
              "3858                         1            26                 0001       309   \n",
              "3859                         1            26                 0001       309   \n",
              "\n",
              "      Votants  Exprim\u00e9s  N\u00b0 de d\u00e9p\u00f4t du candidat Nom du candidat  \\\n",
              "3858      146       144                       32          BRETON   \n",
              "3859      146       144                       33           DEBAT   \n",
              "\n",
              "     Pr\u00e9nom du candidat Code nuance du candidat  Nombre de voix du candidat  \n",
              "3858             Xavier                     UMP                          87  \n",
              "3859      Jean-Fran\u00e7ois                     SOC                          57  "
            ]
          },
          "execution_count": null,
          "metadata": {},
          "output_type": "execute_result"
        }
      ],
      "source": [
        "from actuariat_python.data import elections_legislatives_bureau_vote\n",
        "tour = elections_legislatives_bureau_vote()\n",
        "tour[\"T2\"].sort_values([\"Code d\u00e9partement\", \"N\u00b0 de circonscription Lg\"]).head(n=2)"
      ]
    },
    {
      "cell_type": "code",
      "execution_count": null,
      "metadata": {
        "collapsed": false
      },
      "outputs": [
        {
          "data": {
            "text/html": [
              "<div>\n",
              "<table border=\"1\" class=\"dataframe\">\n",
              "  <thead>\n",
              "    <tr style=\"text-align: right;\">\n",
              "      <th></th>\n",
              "      <th>code_circonscription</th>\n",
              "      <th>department</th>\n",
              "      <th>numero</th>\n",
              "      <th>communes</th>\n",
              "      <th>kml_shape</th>\n",
              "      <th>simple_form</th>\n",
              "    </tr>\n",
              "  </thead>\n",
              "  <tbody>\n",
              "    <tr>\n",
              "      <th>11</th>\n",
              "      <td>01001</td>\n",
              "      <td>01</td>\n",
              "      <td>1</td>\n",
              "      <td>01053-01072-01106-01150-01177-01184-01195-0124...</td>\n",
              "      <td>&lt;Polygon&gt;&lt;outerBoundaryIs&gt;&lt;LinearRing&gt;&lt;coordin...</td>\n",
              "      <td>False</td>\n",
              "    </tr>\n",
              "    <tr>\n",
              "      <th>12</th>\n",
              "      <td>01002</td>\n",
              "      <td>01</td>\n",
              "      <td>2</td>\n",
              "      <td>01008-01047-01099-01202-01213-01224-01366-0138...</td>\n",
              "      <td>&lt;Polygon&gt;&lt;outerBoundaryIs&gt;&lt;LinearRing&gt;&lt;coordin...</td>\n",
              "      <td>True</td>\n",
              "    </tr>\n",
              "  </tbody>\n",
              "</table>\n",
              "</div>"
            ],
            "text/plain": [
              "   code_circonscription department  numero  \\\n",
              "11                01001         01       1   \n",
              "12                01002         01       2   \n",
              "\n",
              "                                             communes  \\\n",
              "11  01053-01072-01106-01150-01177-01184-01195-0124...   \n",
              "12  01008-01047-01099-01202-01213-01224-01366-0138...   \n",
              "\n",
              "                                            kml_shape simple_form  \n",
              "11  <Polygon><outerBoundaryIs><LinearRing><coordin...       False  \n",
              "12  <Polygon><outerBoundaryIs><LinearRing><coordin...        True  "
            ]
          },
          "execution_count": null,
          "metadata": {},
          "output_type": "execute_result"
        }
      ],
      "source": [
        "from actuariat_python.data import elections_legislatives_circonscription_geo\n",
        "geo = elections_legislatives_circonscription_geo()\n",
        "geo.sort_values([\"department\", \"code_circonscription\"]).head(n=2)"
      ]
    },
    {
      "cell_type": "code",
      "execution_count": null,
      "metadata": {
        "collapsed": false
      },
      "outputs": [
        {
          "data": {
            "text/html": [
              "<div>\n",
              "<table border=\"1\" class=\"dataframe\">\n",
              "  <thead>\n",
              "    <tr style=\"text-align: right;\">\n",
              "      <th></th>\n",
              "      <th>address</th>\n",
              "      <th>city</th>\n",
              "      <th>n</th>\n",
              "      <th>place</th>\n",
              "      <th>zip</th>\n",
              "      <th>full_address</th>\n",
              "      <th>latitude</th>\n",
              "      <th>longitude</th>\n",
              "      <th>geo_address</th>\n",
              "    </tr>\n",
              "  </thead>\n",
              "  <tbody>\n",
              "    <tr>\n",
              "      <th>0</th>\n",
              "      <td>cours verdun</td>\n",
              "      <td>bourg</td>\n",
              "      <td>1</td>\n",
              "      <td>salle des f\u00eates</td>\n",
              "      <td>1000</td>\n",
              "      <td>cours verdun 01000 bourg</td>\n",
              "      <td>46.206605</td>\n",
              "      <td>5.228364</td>\n",
              "      <td>Cours de Verdun, Le Peloux, Les Vennes, Bourg-...</td>\n",
              "    </tr>\n",
              "    <tr>\n",
              "      <th>1</th>\n",
              "      <td>cours verdun</td>\n",
              "      <td>bourg</td>\n",
              "      <td>2</td>\n",
              "      <td>salle des f\u00eates</td>\n",
              "      <td>1000</td>\n",
              "      <td>cours verdun 01000 bourg</td>\n",
              "      <td>46.206605</td>\n",
              "      <td>5.228364</td>\n",
              "      <td>Cours de Verdun, Le Peloux, Les Vennes, Bourg-...</td>\n",
              "    </tr>\n",
              "  </tbody>\n",
              "</table>\n",
              "</div>"
            ],
            "text/plain": [
              "        address   city  n            place   zip              full_address  \\\n",
              "0  cours verdun  bourg  1  salle des f\u00eates  1000  cours verdun 01000 bourg   \n",
              "1  cours verdun  bourg  2  salle des f\u00eates  1000  cours verdun 01000 bourg   \n",
              "\n",
              "    latitude  longitude                                        geo_address  \n",
              "0  46.206605   5.228364  Cours de Verdun, Le Peloux, Les Vennes, Bourg-...  \n",
              "1  46.206605   5.228364  Cours de Verdun, Le Peloux, Les Vennes, Bourg-...  "
            ]
          },
          "execution_count": null,
          "metadata": {},
          "output_type": "execute_result"
        }
      ],
      "source": [
        "from actuariat_python.data import elections_vote_places_geo\n",
        "bureau_geo = elections_vote_places_geo()\n",
        "bureau_geo.head(n=2)"
      ]
    },
    {
      "cell_type": "markdown",
      "metadata": {},
      "source": [
        "## Statistiques"
      ]
    },
    {
      "cell_type": "code",
      "execution_count": null,
      "metadata": {
        "collapsed": false
      },
      "outputs": [
        {
          "data": {
            "text/plain": [
              "Index(['N\u00b0 tour', 'Code d\u00e9partement', 'Code de la commune',\n",
              "       'Nom de la commune', 'N\u00b0 de circonscription Lg', 'N\u00b0 de canton',\n",
              "       'N\u00b0 de bureau de vote', 'Inscrits', 'Votants', 'Exprim\u00e9s',\n",
              "       'N\u00b0 de d\u00e9p\u00f4t du candidat', 'Nom du candidat', 'Pr\u00e9nom du candidat',\n",
              "       'Code nuance du candidat', 'Nombre de voix du candidat'],\n",
              "      dtype='object')"
            ]
          },
          "execution_count": null,
          "metadata": {},
          "output_type": "execute_result"
        }
      ],
      "source": [
        "t2 = tour[\"T2\"]\n",
        "t2.columns"
      ]
    },
    {
      "cell_type": "code",
      "execution_count": null,
      "metadata": {
        "collapsed": false
      },
      "outputs": [
        {
          "data": {
            "text/html": [
              "<div>\n",
              "<table border=\"1\" class=\"dataframe\">\n",
              "  <thead>\n",
              "    <tr style=\"text-align: right;\">\n",
              "      <th></th>\n",
              "      <th>N\u00b0 tour</th>\n",
              "      <th>Code d\u00e9partement</th>\n",
              "      <th>Code de la commune</th>\n",
              "      <th>Nom de la commune</th>\n",
              "      <th>N\u00b0 de circonscription Lg</th>\n",
              "      <th>N\u00b0 de canton</th>\n",
              "      <th>N\u00b0 de bureau de vote</th>\n",
              "      <th>Inscrits</th>\n",
              "      <th>Votants</th>\n",
              "      <th>Exprim\u00e9s</th>\n",
              "      <th>N\u00b0 de d\u00e9p\u00f4t du candidat</th>\n",
              "      <th>Nom du candidat</th>\n",
              "      <th>Pr\u00e9nom du candidat</th>\n",
              "      <th>Code nuance du candidat</th>\n",
              "      <th>Nombre de voix du candidat</th>\n",
              "      <th>idbureau</th>\n",
              "    </tr>\n",
              "  </thead>\n",
              "  <tbody>\n",
              "    <tr>\n",
              "      <th>0</th>\n",
              "      <td>2</td>\n",
              "      <td>ZA</td>\n",
              "      <td>101</td>\n",
              "      <td>Les Abymes</td>\n",
              "      <td>1</td>\n",
              "      <td>1</td>\n",
              "      <td>0001</td>\n",
              "      <td>477</td>\n",
              "      <td>252</td>\n",
              "      <td>236</td>\n",
              "      <td>9</td>\n",
              "      <td>JALTON</td>\n",
              "      <td>Eric</td>\n",
              "      <td>SOC</td>\n",
              "      <td>182</td>\n",
              "      <td>0001-1-1-101-ZA</td>\n",
              "    </tr>\n",
              "    <tr>\n",
              "      <th>1</th>\n",
              "      <td>2</td>\n",
              "      <td>ZA</td>\n",
              "      <td>101</td>\n",
              "      <td>Les Abymes</td>\n",
              "      <td>1</td>\n",
              "      <td>1</td>\n",
              "      <td>0001</td>\n",
              "      <td>477</td>\n",
              "      <td>252</td>\n",
              "      <td>236</td>\n",
              "      <td>17</td>\n",
              "      <td>DURIMEL</td>\n",
              "      <td>Harry</td>\n",
              "      <td>VEC</td>\n",
              "      <td>54</td>\n",
              "      <td>0001-1-1-101-ZA</td>\n",
              "    </tr>\n",
              "  </tbody>\n",
              "</table>\n",
              "</div>"
            ],
            "text/plain": [
              "   N\u00b0 tour Code d\u00e9partement  Code de la commune Nom de la commune  \\\n",
              "0        2               ZA                 101        Les Abymes   \n",
              "1        2               ZA                 101        Les Abymes   \n",
              "\n",
              "   N\u00b0 de circonscription Lg  N\u00b0 de canton N\u00b0 de bureau de vote  Inscrits  \\\n",
              "0                         1             1                 0001       477   \n",
              "1                         1             1                 0001       477   \n",
              "\n",
              "   Votants  Exprim\u00e9s  N\u00b0 de d\u00e9p\u00f4t du candidat Nom du candidat  \\\n",
              "0      252       236                        9          JALTON   \n",
              "1      252       236                       17         DURIMEL   \n",
              "\n",
              "  Pr\u00e9nom du candidat Code nuance du candidat  Nombre de voix du candidat  \\\n",
              "0               Eric                     SOC                         182   \n",
              "1              Harry                     VEC                          54   \n",
              "\n",
              "          idbureau  \n",
              "0  0001-1-1-101-ZA  \n",
              "1  0001-1-1-101-ZA  "
            ]
          },
          "execution_count": null,
          "metadata": {},
          "output_type": "execute_result"
        }
      ],
      "source": [
        "cols = [\"N\u00b0 de bureau de vote\", \"N\u00b0 de canton\", \"N\u00b0 de circonscription Lg\",\n",
        "        \"Code de la commune\", \"Code d\u00e9partement\"]\n",
        "t2[\"idbureau\"] = t2.apply(lambda row: \"-\".join(str(row[c]) for c in cols), axis=1)\n",
        "t2.head(n=2)"
      ]
    },
    {
      "cell_type": "code",
      "execution_count": null,
      "metadata": {
        "collapsed": false
      },
      "outputs": [
        {
          "data": {
            "text/html": [
              "<div>\n",
              "<table border=\"1\" class=\"dataframe\">\n",
              "  <thead>\n",
              "    <tr style=\"text-align: right;\">\n",
              "      <th></th>\n",
              "      <th>N\u00b0 tour</th>\n",
              "      <th>Code d\u00e9partement</th>\n",
              "      <th>Code de la commune</th>\n",
              "      <th>Nom de la commune</th>\n",
              "      <th>N\u00b0 de circonscription Lg</th>\n",
              "      <th>N\u00b0 de canton</th>\n",
              "      <th>N\u00b0 de bureau de vote</th>\n",
              "      <th>Inscrits</th>\n",
              "      <th>Votants</th>\n",
              "      <th>Exprim\u00e9s</th>\n",
              "      <th>N\u00b0 de d\u00e9p\u00f4t du candidat</th>\n",
              "      <th>Nom du candidat</th>\n",
              "      <th>Pr\u00e9nom du candidat</th>\n",
              "      <th>Code nuance du candidat</th>\n",
              "      <th>Nombre de voix du candidat</th>\n",
              "      <th>idbureau</th>\n",
              "      <th>idcirc</th>\n",
              "    </tr>\n",
              "  </thead>\n",
              "  <tbody>\n",
              "    <tr>\n",
              "      <th>0</th>\n",
              "      <td>2</td>\n",
              "      <td>ZA</td>\n",
              "      <td>101</td>\n",
              "      <td>Les Abymes</td>\n",
              "      <td>1</td>\n",
              "      <td>1</td>\n",
              "      <td>0001</td>\n",
              "      <td>477</td>\n",
              "      <td>252</td>\n",
              "      <td>236</td>\n",
              "      <td>9</td>\n",
              "      <td>JALTON</td>\n",
              "      <td>Eric</td>\n",
              "      <td>SOC</td>\n",
              "      <td>182</td>\n",
              "      <td>0001-1-1-101-ZA</td>\n",
              "      <td>ZA001</td>\n",
              "    </tr>\n",
              "    <tr>\n",
              "      <th>1</th>\n",
              "      <td>2</td>\n",
              "      <td>ZA</td>\n",
              "      <td>101</td>\n",
              "      <td>Les Abymes</td>\n",
              "      <td>1</td>\n",
              "      <td>1</td>\n",
              "      <td>0001</td>\n",
              "      <td>477</td>\n",
              "      <td>252</td>\n",
              "      <td>236</td>\n",
              "      <td>17</td>\n",
              "      <td>DURIMEL</td>\n",
              "      <td>Harry</td>\n",
              "      <td>VEC</td>\n",
              "      <td>54</td>\n",
              "      <td>0001-1-1-101-ZA</td>\n",
              "      <td>ZA001</td>\n",
              "    </tr>\n",
              "  </tbody>\n",
              "</table>\n",
              "</div>"
            ],
            "text/plain": [
              "   N\u00b0 tour Code d\u00e9partement  Code de la commune Nom de la commune  \\\n",
              "0        2               ZA                 101        Les Abymes   \n",
              "1        2               ZA                 101        Les Abymes   \n",
              "\n",
              "   N\u00b0 de circonscription Lg  N\u00b0 de canton N\u00b0 de bureau de vote  Inscrits  \\\n",
              "0                         1             1                 0001       477   \n",
              "1                         1             1                 0001       477   \n",
              "\n",
              "   Votants  Exprim\u00e9s  N\u00b0 de d\u00e9p\u00f4t du candidat Nom du candidat  \\\n",
              "0      252       236                        9          JALTON   \n",
              "1      252       236                       17         DURIMEL   \n",
              "\n",
              "  Pr\u00e9nom du candidat Code nuance du candidat  Nombre de voix du candidat  \\\n",
              "0               Eric                     SOC                         182   \n",
              "1              Harry                     VEC                          54   \n",
              "\n",
              "          idbureau idcirc  \n",
              "0  0001-1-1-101-ZA  ZA001  \n",
              "1  0001-1-1-101-ZA  ZA001  "
            ]
          },
          "execution_count": null,
          "metadata": {},
          "output_type": "execute_result"
        }
      ],
      "source": [
        "t2[\"idcirc\"] = t2.apply(lambda row: str(row[\"Code d\u00e9partement\"]) + \"%03d\" % row[\"N\u00b0 de circonscription Lg\"],\n",
        "                        axis=1)\n",
        "t2.head(n=2)"
      ]
    },
    {
      "cell_type": "code",
      "execution_count": null,
      "metadata": {
        "collapsed": false
      },
      "outputs": [
        {
          "data": {
            "text/plain": [
              "541"
            ]
          },
          "execution_count": null,
          "metadata": {},
          "output_type": "execute_result"
        }
      ],
      "source": [
        "len(set(t2[\"idcirc\"]))"
      ]
    },
    {
      "cell_type": "markdown",
      "metadata": {},
      "source": [
        "541 < 577 est inf\u00e9rieur au nombre de d\u00e9put\u00e9s. Cela signifie que 577 - 541 d\u00e9put\u00e9s ont \u00e9t\u00e9 \u00e9lus au premier tour. Il faut aller r\u00e9cup\u00e9rer les donn\u00e9es du premier tour pour ces circonscriptions."
      ]
    },
    {
      "cell_type": "code",
      "execution_count": null,
      "metadata": {
        "collapsed": false
      },
      "outputs": [
        {
          "data": {
            "text/html": [
              "<div>\n",
              "<table border=\"1\" class=\"dataframe\">\n",
              "  <thead>\n",
              "    <tr style=\"text-align: right;\">\n",
              "      <th></th>\n",
              "      <th>N\u00b0 tour</th>\n",
              "      <th>Code d\u00e9partement</th>\n",
              "      <th>Code de la commune</th>\n",
              "      <th>Nom de la commune</th>\n",
              "      <th>N\u00b0 de circonscription Lg</th>\n",
              "      <th>N\u00b0 de canton</th>\n",
              "      <th>N\u00b0 de bureau de vote</th>\n",
              "      <th>Inscrits</th>\n",
              "      <th>Votants</th>\n",
              "      <th>Exprim\u00e9s</th>\n",
              "      <th>N\u00b0 de d\u00e9p\u00f4t du candidat</th>\n",
              "      <th>Nom du candidat</th>\n",
              "      <th>Pr\u00e9nom du candidat</th>\n",
              "      <th>Code nuance du candidat</th>\n",
              "      <th>Nombre de voix du candidat</th>\n",
              "      <th>idcirc</th>\n",
              "      <th>idbureau</th>\n",
              "      <th>elu</th>\n",
              "    </tr>\n",
              "  </thead>\n",
              "  <tbody>\n",
              "    <tr>\n",
              "      <th>688</th>\n",
              "      <td>1</td>\n",
              "      <td>ZA</td>\n",
              "      <td>104</td>\n",
              "      <td>Baillif</td>\n",
              "      <td>4</td>\n",
              "      <td>36</td>\n",
              "      <td>0001</td>\n",
              "      <td>813</td>\n",
              "      <td>386</td>\n",
              "      <td>357</td>\n",
              "      <td>3</td>\n",
              "      <td>GUILLE</td>\n",
              "      <td>Marc</td>\n",
              "      <td>FN</td>\n",
              "      <td>4</td>\n",
              "      <td>ZA004</td>\n",
              "      <td>0001-36-4-104-ZA</td>\n",
              "      <td>True</td>\n",
              "    </tr>\n",
              "    <tr>\n",
              "      <th>689</th>\n",
              "      <td>1</td>\n",
              "      <td>ZA</td>\n",
              "      <td>104</td>\n",
              "      <td>Baillif</td>\n",
              "      <td>4</td>\n",
              "      <td>36</td>\n",
              "      <td>0001</td>\n",
              "      <td>813</td>\n",
              "      <td>386</td>\n",
              "      <td>357</td>\n",
              "      <td>18</td>\n",
              "      <td>MOLINIE</td>\n",
              "      <td>Louis</td>\n",
              "      <td>DVD</td>\n",
              "      <td>6</td>\n",
              "      <td>ZA004</td>\n",
              "      <td>0001-36-4-104-ZA</td>\n",
              "      <td>True</td>\n",
              "    </tr>\n",
              "  </tbody>\n",
              "</table>\n",
              "</div>"
            ],
            "text/plain": [
              "     N\u00b0 tour Code d\u00e9partement  Code de la commune Nom de la commune  \\\n",
              "688        1               ZA                 104           Baillif   \n",
              "689        1               ZA                 104           Baillif   \n",
              "\n",
              "     N\u00b0 de circonscription Lg  N\u00b0 de canton N\u00b0 de bureau de vote  Inscrits  \\\n",
              "688                         4            36                 0001       813   \n",
              "689                         4            36                 0001       813   \n",
              "\n",
              "     Votants  Exprim\u00e9s  N\u00b0 de d\u00e9p\u00f4t du candidat Nom du candidat  \\\n",
              "688      386       357                        3          GUILLE   \n",
              "689      386       357                       18         MOLINIE   \n",
              "\n",
              "    Pr\u00e9nom du candidat Code nuance du candidat  Nombre de voix du candidat  \\\n",
              "688               Marc                      FN                           4   \n",
              "689              Louis                     DVD                           6   \n",
              "\n",
              "    idcirc          idbureau   elu  \n",
              "688  ZA004  0001-36-4-104-ZA  True  \n",
              "689  ZA004  0001-36-4-104-ZA  True  "
            ]
          },
          "execution_count": null,
          "metadata": {},
          "output_type": "execute_result"
        }
      ],
      "source": [
        "t2circ = set(t2[\"idcirc\"])\n",
        "t1 = tour[\"T1\"]\n",
        "t1[\"idcirc\"] = t1.apply(lambda row: str(row[\"Code d\u00e9partement\"]) + \"%03d\" % row[\"N\u00b0 de circonscription Lg\"],\n",
        "                        axis=1)\n",
        "t1[\"idbureau\"] = t1.apply(lambda row: \"-\".join(str(row[c]) for c in cols), axis=1)\n",
        "t1[\"elu\"] = t1[\"idcirc\"].apply(lambda r: r not in t2circ)\n",
        "t1nott2 = t1[t1[\"elu\"]].copy()\n",
        "t1nott2.head(n=2)"
      ]
    },
    {
      "cell_type": "code",
      "execution_count": null,
      "metadata": {
        "collapsed": false
      },
      "outputs": [
        {
          "data": {
            "text/plain": [
              "577"
            ]
          },
          "execution_count": null,
          "metadata": {},
          "output_type": "execute_result"
        }
      ],
      "source": [
        "len(set(t1nott2[\"idcirc\"])) + 541"
      ]
    },
    {
      "cell_type": "markdown",
      "metadata": {},
      "source": [
        "Il ne reste plus qu'\u00e0 les ajouter aux donn\u00e9es du second tour."
      ]
    },
    {
      "cell_type": "code",
      "execution_count": null,
      "metadata": {
        "collapsed": false
      },
      "outputs": [],
      "source": [
        "import pandas\n",
        "t1t2 = pandas.concat([t1nott2, t2], axis=0)"
      ]
    },
    {
      "cell_type": "code",
      "execution_count": null,
      "metadata": {
        "collapsed": false
      },
      "outputs": [
        {
          "data": {
            "text/html": [
              "<div>\n",
              "<table border=\"1\" class=\"dataframe\">\n",
              "  <thead>\n",
              "    <tr style=\"text-align: right;\">\n",
              "      <th></th>\n",
              "      <th>Code d\u00e9partement</th>\n",
              "      <th>idcirc</th>\n",
              "      <th>idbureau</th>\n",
              "      <th>Inscrits</th>\n",
              "    </tr>\n",
              "  </thead>\n",
              "  <tbody>\n",
              "    <tr>\n",
              "      <th>0</th>\n",
              "      <td>01</td>\n",
              "      <td>01001</td>\n",
              "      <td>0001-11-1-108-01</td>\n",
              "      <td>897</td>\n",
              "    </tr>\n",
              "    <tr>\n",
              "      <th>1</th>\n",
              "      <td>01</td>\n",
              "      <td>01001</td>\n",
              "      <td>0001-11-1-147-01</td>\n",
              "      <td>373</td>\n",
              "    </tr>\n",
              "    <tr>\n",
              "      <th>2</th>\n",
              "      <td>01</td>\n",
              "      <td>01001</td>\n",
              "      <td>0001-11-1-232-01</td>\n",
              "      <td>854</td>\n",
              "    </tr>\n",
              "    <tr>\n",
              "      <th>3</th>\n",
              "      <td>01</td>\n",
              "      <td>01001</td>\n",
              "      <td>0001-11-1-29-01</td>\n",
              "      <td>411</td>\n",
              "    </tr>\n",
              "    <tr>\n",
              "      <th>4</th>\n",
              "      <td>01</td>\n",
              "      <td>01001</td>\n",
              "      <td>0001-11-1-296-01</td>\n",
              "      <td>290</td>\n",
              "    </tr>\n",
              "  </tbody>\n",
              "</table>\n",
              "</div>"
            ],
            "text/plain": [
              "  Code d\u00e9partement idcirc          idbureau  Inscrits\n",
              "0               01  01001  0001-11-1-108-01       897\n",
              "1               01  01001  0001-11-1-147-01       373\n",
              "2               01  01001  0001-11-1-232-01       854\n",
              "3               01  01001   0001-11-1-29-01       411\n",
              "4               01  01001  0001-11-1-296-01       290"
            ]
          },
          "execution_count": null,
          "metadata": {},
          "output_type": "execute_result"
        }
      ],
      "source": [
        "statbu = t1t2[[\"Code d\u00e9partement\", \"idcirc\", \"idbureau\", \n",
        "               \"Inscrits\"]].groupby([\"Code d\u00e9partement\", \"idcirc\", \"idbureau\"], as_index=False).max()\n",
        "statbu.head()"
      ]
    },
    {
      "cell_type": "code",
      "execution_count": null,
      "metadata": {
        "collapsed": false
      },
      "outputs": [
        {
          "data": {
            "text/html": [
              "<div>\n",
              "<table border=\"1\" class=\"dataframe\">\n",
              "  <thead>\n",
              "    <tr style=\"text-align: right;\">\n",
              "      <th></th>\n",
              "      <th>Code d\u00e9partement</th>\n",
              "      <th>idcirc</th>\n",
              "      <th>idbureau</th>\n",
              "      <th>Inscrits</th>\n",
              "    </tr>\n",
              "  </thead>\n",
              "  <tbody>\n",
              "    <tr>\n",
              "      <th>67921</th>\n",
              "      <td>ZZ</td>\n",
              "      <td>ZZ001</td>\n",
              "      <td>0001-1-1-1-ZZ</td>\n",
              "      <td>156645</td>\n",
              "    </tr>\n",
              "    <tr>\n",
              "      <th>67928</th>\n",
              "      <td>ZZ</td>\n",
              "      <td>ZZ008</td>\n",
              "      <td>0001-8-8-8-ZZ</td>\n",
              "      <td>109389</td>\n",
              "    </tr>\n",
              "    <tr>\n",
              "      <th>67926</th>\n",
              "      <td>ZZ</td>\n",
              "      <td>ZZ006</td>\n",
              "      <td>0001-6-6-6-ZZ</td>\n",
              "      <td>106689</td>\n",
              "    </tr>\n",
              "    <tr>\n",
              "      <th>67929</th>\n",
              "      <td>ZZ</td>\n",
              "      <td>ZZ009</td>\n",
              "      <td>0001-9-9-9-ZZ</td>\n",
              "      <td>97068</td>\n",
              "    </tr>\n",
              "    <tr>\n",
              "      <th>67924</th>\n",
              "      <td>ZZ</td>\n",
              "      <td>ZZ004</td>\n",
              "      <td>0001-4-4-4-ZZ</td>\n",
              "      <td>96964</td>\n",
              "    </tr>\n",
              "  </tbody>\n",
              "</table>\n",
              "</div>"
            ],
            "text/plain": [
              "      Code d\u00e9partement idcirc       idbureau  Inscrits\n",
              "67921               ZZ  ZZ001  0001-1-1-1-ZZ    156645\n",
              "67928               ZZ  ZZ008  0001-8-8-8-ZZ    109389\n",
              "67926               ZZ  ZZ006  0001-6-6-6-ZZ    106689\n",
              "67929               ZZ  ZZ009  0001-9-9-9-ZZ     97068\n",
              "67924               ZZ  ZZ004  0001-4-4-4-ZZ     96964"
            ]
          },
          "execution_count": null,
          "metadata": {},
          "output_type": "execute_result"
        }
      ],
      "source": [
        "statbu.sort_values(\"Inscrits\", ascending=False).head(n=5)"
      ]
    },
    {
      "cell_type": "code",
      "execution_count": null,
      "metadata": {
        "collapsed": false
      },
      "outputs": [
        {
          "data": {
            "text/plain": [
              "('nombre de bureaux de vote', 67932)"
            ]
          },
          "execution_count": null,
          "metadata": {},
          "output_type": "execute_result"
        }
      ],
      "source": [
        "\"nombre de bureaux de vote\", statbu.shape[0]"
      ]
    },
    {
      "cell_type": "markdown",
      "metadata": {},
      "source": [
        "A priori, le d\u00e9partement ``ZZ`` est une erreur. On v\u00e9rifie."
      ]
    },
    {
      "cell_type": "code",
      "execution_count": null,
      "metadata": {
        "collapsed": false
      },
      "outputs": [
        {
          "data": {
            "text/html": [
              "<div>\n",
              "<table border=\"1\" class=\"dataframe\">\n",
              "  <thead>\n",
              "    <tr style=\"text-align: right;\">\n",
              "      <th></th>\n",
              "      <th>Code de la commune</th>\n",
              "      <th>Code d\u00e9partement</th>\n",
              "      <th>Code nuance du candidat</th>\n",
              "      <th>Exprim\u00e9s</th>\n",
              "      <th>Inscrits</th>\n",
              "      <th>Nom de la commune</th>\n",
              "      <th>Nom du candidat</th>\n",
              "      <th>Nombre de voix du candidat</th>\n",
              "      <th>N\u00b0 de bureau de vote</th>\n",
              "      <th>N\u00b0 de canton</th>\n",
              "      <th>N\u00b0 de circonscription Lg</th>\n",
              "      <th>N\u00b0 de d\u00e9p\u00f4t du candidat</th>\n",
              "      <th>N\u00b0 tour</th>\n",
              "      <th>Pr\u00e9nom du candidat</th>\n",
              "      <th>Votants</th>\n",
              "      <th>elu</th>\n",
              "      <th>idbureau</th>\n",
              "      <th>idcirc</th>\n",
              "    </tr>\n",
              "  </thead>\n",
              "  <tbody>\n",
              "    <tr>\n",
              "      <th>3789</th>\n",
              "      <td>1</td>\n",
              "      <td>ZZ</td>\n",
              "      <td>UMP</td>\n",
              "      <td>29223</td>\n",
              "      <td>156645</td>\n",
              "      <td>Am\u00e9rique du Nord</td>\n",
              "      <td>LEFEBVRE</td>\n",
              "      <td>13441</td>\n",
              "      <td>0001</td>\n",
              "      <td>1</td>\n",
              "      <td>1</td>\n",
              "      <td>117</td>\n",
              "      <td>2</td>\n",
              "      <td>Fr\u00e9d\u00e9ric</td>\n",
              "      <td>29869</td>\n",
              "      <td>NaN</td>\n",
              "      <td>0001-1-1-1-ZZ</td>\n",
              "      <td>ZZ001</td>\n",
              "    </tr>\n",
              "    <tr>\n",
              "      <th>3790</th>\n",
              "      <td>1</td>\n",
              "      <td>ZZ</td>\n",
              "      <td>SOC</td>\n",
              "      <td>29223</td>\n",
              "      <td>156645</td>\n",
              "      <td>Am\u00e9rique du Nord</td>\n",
              "      <td>NARASSIGUIN</td>\n",
              "      <td>15782</td>\n",
              "      <td>0001</td>\n",
              "      <td>1</td>\n",
              "      <td>1</td>\n",
              "      <td>143</td>\n",
              "      <td>2</td>\n",
              "      <td>Corinne</td>\n",
              "      <td>29869</td>\n",
              "      <td>NaN</td>\n",
              "      <td>0001-1-1-1-ZZ</td>\n",
              "      <td>ZZ001</td>\n",
              "    </tr>\n",
              "  </tbody>\n",
              "</table>\n",
              "</div>"
            ],
            "text/plain": [
              "      Code de la commune Code d\u00e9partement Code nuance du candidat  Exprim\u00e9s  \\\n",
              "3789                   1               ZZ                     UMP     29223   \n",
              "3790                   1               ZZ                     SOC     29223   \n",
              "\n",
              "      Inscrits Nom de la commune Nom du candidat  Nombre de voix du candidat  \\\n",
              "3789    156645  Am\u00e9rique du Nord        LEFEBVRE                       13441   \n",
              "3790    156645  Am\u00e9rique du Nord     NARASSIGUIN                       15782   \n",
              "\n",
              "     N\u00b0 de bureau de vote  N\u00b0 de canton  N\u00b0 de circonscription Lg  \\\n",
              "3789                 0001             1                         1   \n",
              "3790                 0001             1                         1   \n",
              "\n",
              "      N\u00b0 de d\u00e9p\u00f4t du candidat  N\u00b0 tour Pr\u00e9nom du candidat  Votants  elu  \\\n",
              "3789                      117        2           Fr\u00e9d\u00e9ric    29869  NaN   \n",
              "3790                      143        2            Corinne    29869  NaN   \n",
              "\n",
              "           idbureau idcirc  \n",
              "3789  0001-1-1-1-ZZ  ZZ001  \n",
              "3790  0001-1-1-1-ZZ  ZZ001  "
            ]
          },
          "execution_count": null,
          "metadata": {},
          "output_type": "execute_result"
        }
      ],
      "source": [
        "t1t2[t1t2[\"Code d\u00e9partement\"] == \"ZZ\"].head(n=2)"
      ]
    },
    {
      "cell_type": "markdown",
      "metadata": {},
      "source": [
        "Ce bureau de vote n'est pas en France. Il est bien plus volumineux que les autres et nous ne pourrons pas le rapprocher g\u00e9ographiquement des autres. On n'en tiendra plus compte. On enl\u00e8ve \u00e9galement le bureau de vote ``ZW``."
      ]
    },
    {
      "cell_type": "code",
      "execution_count": null,
      "metadata": {
        "collapsed": false
      },
      "outputs": [
        {
          "data": {
            "text/plain": [
              "<matplotlib.text.Text at 0x184520a6128>"
            ]
          },
          "execution_count": null,
          "metadata": {},
          "output_type": "execute_result"
        },
        {
          "data": {
            "image/png": "[encoded data removed]",
            "text/plain": [
              "<matplotlib.figure.Figure at 0x18450c5f5f8>"
            ]
          },
          "metadata": {},
          "output_type": "display_data"
        }
      ],
      "source": [
        "fig, ax = plt.subplots(figsize=(12,4))\n",
        "statbu[(statbu[\"Code d\u00e9partement\"] != \"ZZ\") & (statbu[\"Code d\u00e9partement\"] != \"ZW\")].hist( \\\n",
        "        bins=200, ax=ax)\n",
        "ax.set_xlim(0, 2000)\n",
        "ax.set_xlabel(\"nombre d'inscrits\")\n",
        "ax.set_ylabel(\"nombre de bureaux de vote\\navec ce nombre d'inscrits\")\n",
        "ax.set_title(\"distribution des inscrits par bureaux de vote\")"
      ]
    },
    {
      "cell_type": "code",
      "execution_count": null,
      "metadata": {
        "collapsed": false
      },
      "outputs": [
        {
          "data": {
            "text/html": [
              "<div>\n",
              "<table border=\"1\" class=\"dataframe\">\n",
              "  <thead>\n",
              "    <tr style=\"text-align: right;\">\n",
              "      <th></th>\n",
              "      <th>nombre de bureaux de vote</th>\n",
              "    </tr>\n",
              "    <tr>\n",
              "      <th>idcirc</th>\n",
              "      <th></th>\n",
              "    </tr>\n",
              "  </thead>\n",
              "  <tbody>\n",
              "    <tr>\n",
              "      <th>01001</th>\n",
              "      <td>117</td>\n",
              "    </tr>\n",
              "    <tr>\n",
              "      <th>01002</th>\n",
              "      <td>98</td>\n",
              "    </tr>\n",
              "    <tr>\n",
              "      <th>01003</th>\n",
              "      <td>106</td>\n",
              "    </tr>\n",
              "    <tr>\n",
              "      <th>01004</th>\n",
              "      <td>113</td>\n",
              "    </tr>\n",
              "    <tr>\n",
              "      <th>01005</th>\n",
              "      <td>145</td>\n",
              "    </tr>\n",
              "  </tbody>\n",
              "</table>\n",
              "</div>"
            ],
            "text/plain": [
              "        nombre de bureaux de vote\n",
              "idcirc                           \n",
              "01001                         117\n",
              "01002                          98\n",
              "01003                         106\n",
              "01004                         113\n",
              "01005                         145"
            ]
          },
          "execution_count": null,
          "metadata": {},
          "output_type": "execute_result"
        }
      ],
      "source": [
        "nbbur = statbu[[\"idcirc\",\"idbureau\"]].groupby(\"idcirc\").count()\n",
        "nbbur.columns=[\"nombre de bureaux de vote\"]\n",
        "nbbur.head()"
      ]
    },
    {
      "cell_type": "code",
      "execution_count": null,
      "metadata": {
        "collapsed": false
      },
      "outputs": [
        {
          "data": {
            "text/plain": [
              "<matplotlib.text.Text at 0x18451862fd0>"
            ]
          },
          "execution_count": null,
          "metadata": {},
          "output_type": "execute_result"
        },
        {
          "data": {
            "image/png": "[encoded data removed]",
            "text/plain": [
              "<matplotlib.figure.Figure at 0x1845119a0f0>"
            ]
          },
          "metadata": {},
          "output_type": "display_data"
        }
      ],
      "source": [
        "ax = nbbur[nbbur[nbbur.columns[0]] > 0].sort_values(nbbur.columns[0]).plot(figsize=(10,4))\n",
        "ax.set_title(\"nombre de bureaux de vote par circonscription\")"
      ]
    },
    {
      "cell_type": "code",
      "execution_count": null,
      "metadata": {
        "collapsed": false
      },
      "outputs": [
        {
          "data": {
            "text/plain": [
              "<matplotlib.text.Text at 0x18454829d68>"
            ]
          },
          "execution_count": null,
          "metadata": {},
          "output_type": "execute_result"
        },
        {
          "data": {
            "image/png": "[encoded data removed]",
            "text/plain": [
              "<matplotlib.figure.Figure at 0x1845483ecf8>"
            ]
          },
          "metadata": {},
          "output_type": "display_data"
        }
      ],
      "source": [
        "t1t2noz = t1t2[(t1t2[\"Code d\u00e9partement\"] != \"ZZ\") & (t1t2[\"Code d\u00e9partement\"] != \"ZW\")]\n",
        "elu = t1t2noz[[\"Code nuance du candidat\", \"Exprim\u00e9s\"]].groupby(\"Code nuance du candidat\").sum()\n",
        "ax = (elu.sort_values(\"Exprim\u00e9s\")/1000000).plot(kind=\"bar\")\n",
        "ax.set_ylabel(\"Votes exprim\u00e9s en millions\")"
      ]
    },
    {
      "cell_type": "markdown",
      "metadata": {},
      "source": [
        "## Evaluation d'une solution\n",
        "\n",
        "Dans la suite, on se sert des deux colonnes ``idbureau`` et ``idcirc`` comme identifiant de bureaux et circonscription."
      ]
    },
    {
      "cell_type": "code",
      "execution_count": null,
      "metadata": {
        "collapsed": false
      },
      "outputs": [
        {
          "data": {
            "text/html": [
              "<div>\n",
              "<table border=\"1\" class=\"dataframe\">\n",
              "  <thead>\n",
              "    <tr style=\"text-align: right;\">\n",
              "      <th>Code nuance du candidat</th>\n",
              "      <th>ALLI</th>\n",
              "      <th>AUT</th>\n",
              "      <th>CEN</th>\n",
              "      <th>DVD</th>\n",
              "      <th>DVG</th>\n",
              "      <th>ECO</th>\n",
              "      <th>EXD</th>\n",
              "      <th>EXG</th>\n",
              "      <th>FG</th>\n",
              "      <th>FN</th>\n",
              "      <th>NCE</th>\n",
              "      <th>PRV</th>\n",
              "      <th>RDG</th>\n",
              "      <th>REG</th>\n",
              "      <th>SOC</th>\n",
              "      <th>UMP</th>\n",
              "      <th>VEC</th>\n",
              "      <th>winner</th>\n",
              "      <th>nbwinner</th>\n",
              "      <th>total</th>\n",
              "    </tr>\n",
              "    <tr>\n",
              "      <th>idcirc</th>\n",
              "      <th></th>\n",
              "      <th></th>\n",
              "      <th></th>\n",
              "      <th></th>\n",
              "      <th></th>\n",
              "      <th></th>\n",
              "      <th></th>\n",
              "      <th></th>\n",
              "      <th></th>\n",
              "      <th></th>\n",
              "      <th></th>\n",
              "      <th></th>\n",
              "      <th></th>\n",
              "      <th></th>\n",
              "      <th></th>\n",
              "      <th></th>\n",
              "      <th></th>\n",
              "      <th></th>\n",
              "      <th></th>\n",
              "      <th></th>\n",
              "    </tr>\n",
              "  </thead>\n",
              "  <tbody>\n",
              "    <tr>\n",
              "      <th>01001</th>\n",
              "      <td>NaN</td>\n",
              "      <td>NaN</td>\n",
              "      <td>NaN</td>\n",
              "      <td>NaN</td>\n",
              "      <td>NaN</td>\n",
              "      <td>NaN</td>\n",
              "      <td>NaN</td>\n",
              "      <td>NaN</td>\n",
              "      <td>NaN</td>\n",
              "      <td>NaN</td>\n",
              "      <td>NaN</td>\n",
              "      <td>NaN</td>\n",
              "      <td>NaN</td>\n",
              "      <td>NaN</td>\n",
              "      <td>22743.0</td>\n",
              "      <td>24233.0</td>\n",
              "      <td>NaN</td>\n",
              "      <td>UMP</td>\n",
              "      <td>24233.0</td>\n",
              "      <td>46976.0</td>\n",
              "    </tr>\n",
              "    <tr>\n",
              "      <th>01002</th>\n",
              "      <td>NaN</td>\n",
              "      <td>NaN</td>\n",
              "      <td>NaN</td>\n",
              "      <td>NaN</td>\n",
              "      <td>19529.0</td>\n",
              "      <td>NaN</td>\n",
              "      <td>NaN</td>\n",
              "      <td>NaN</td>\n",
              "      <td>NaN</td>\n",
              "      <td>8530.0</td>\n",
              "      <td>NaN</td>\n",
              "      <td>NaN</td>\n",
              "      <td>NaN</td>\n",
              "      <td>NaN</td>\n",
              "      <td>NaN</td>\n",
              "      <td>22327.0</td>\n",
              "      <td>NaN</td>\n",
              "      <td>UMP</td>\n",
              "      <td>22327.0</td>\n",
              "      <td>50386.0</td>\n",
              "    </tr>\n",
              "    <tr>\n",
              "      <th>01003</th>\n",
              "      <td>NaN</td>\n",
              "      <td>NaN</td>\n",
              "      <td>NaN</td>\n",
              "      <td>NaN</td>\n",
              "      <td>NaN</td>\n",
              "      <td>NaN</td>\n",
              "      <td>NaN</td>\n",
              "      <td>NaN</td>\n",
              "      <td>NaN</td>\n",
              "      <td>NaN</td>\n",
              "      <td>NaN</td>\n",
              "      <td>NaN</td>\n",
              "      <td>NaN</td>\n",
              "      <td>NaN</td>\n",
              "      <td>15653.0</td>\n",
              "      <td>19266.0</td>\n",
              "      <td>NaN</td>\n",
              "      <td>UMP</td>\n",
              "      <td>19266.0</td>\n",
              "      <td>34919.0</td>\n",
              "    </tr>\n",
              "    <tr>\n",
              "      <th>01004</th>\n",
              "      <td>NaN</td>\n",
              "      <td>NaN</td>\n",
              "      <td>NaN</td>\n",
              "      <td>NaN</td>\n",
              "      <td>NaN</td>\n",
              "      <td>NaN</td>\n",
              "      <td>NaN</td>\n",
              "      <td>NaN</td>\n",
              "      <td>NaN</td>\n",
              "      <td>NaN</td>\n",
              "      <td>NaN</td>\n",
              "      <td>NaN</td>\n",
              "      <td>19780.0</td>\n",
              "      <td>NaN</td>\n",
              "      <td>NaN</td>\n",
              "      <td>26175.0</td>\n",
              "      <td>NaN</td>\n",
              "      <td>UMP</td>\n",
              "      <td>26175.0</td>\n",
              "      <td>45955.0</td>\n",
              "    </tr>\n",
              "    <tr>\n",
              "      <th>01005</th>\n",
              "      <td>NaN</td>\n",
              "      <td>NaN</td>\n",
              "      <td>NaN</td>\n",
              "      <td>NaN</td>\n",
              "      <td>NaN</td>\n",
              "      <td>NaN</td>\n",
              "      <td>NaN</td>\n",
              "      <td>NaN</td>\n",
              "      <td>NaN</td>\n",
              "      <td>NaN</td>\n",
              "      <td>NaN</td>\n",
              "      <td>NaN</td>\n",
              "      <td>NaN</td>\n",
              "      <td>NaN</td>\n",
              "      <td>17012.0</td>\n",
              "      <td>22008.0</td>\n",
              "      <td>NaN</td>\n",
              "      <td>UMP</td>\n",
              "      <td>22008.0</td>\n",
              "      <td>39020.0</td>\n",
              "    </tr>\n",
              "  </tbody>\n",
              "</table>\n",
              "</div>"
            ],
            "text/plain": [
              "Code nuance du candidat  ALLI  AUT  CEN  DVD      DVG  ECO  EXD  EXG  FG  \\\n",
              "idcirc                                                                     \n",
              "01001                     NaN  NaN  NaN  NaN      NaN  NaN  NaN  NaN NaN   \n",
              "01002                     NaN  NaN  NaN  NaN  19529.0  NaN  NaN  NaN NaN   \n",
              "01003                     NaN  NaN  NaN  NaN      NaN  NaN  NaN  NaN NaN   \n",
              "01004                     NaN  NaN  NaN  NaN      NaN  NaN  NaN  NaN NaN   \n",
              "01005                     NaN  NaN  NaN  NaN      NaN  NaN  NaN  NaN NaN   \n",
              "\n",
              "Code nuance du candidat      FN  NCE  PRV      RDG  REG      SOC      UMP  \\\n",
              "idcirc                                                                      \n",
              "01001                       NaN  NaN  NaN      NaN  NaN  22743.0  24233.0   \n",
              "01002                    8530.0  NaN  NaN      NaN  NaN      NaN  22327.0   \n",
              "01003                       NaN  NaN  NaN      NaN  NaN  15653.0  19266.0   \n",
              "01004                       NaN  NaN  NaN  19780.0  NaN      NaN  26175.0   \n",
              "01005                       NaN  NaN  NaN      NaN  NaN  17012.0  22008.0   \n",
              "\n",
              "Code nuance du candidat  VEC winner  nbwinner    total  \n",
              "idcirc                                                  \n",
              "01001                    NaN    UMP   24233.0  46976.0  \n",
              "01002                    NaN    UMP   22327.0  50386.0  \n",
              "01003                    NaN    UMP   19266.0  34919.0  \n",
              "01004                    NaN    UMP   26175.0  45955.0  \n",
              "01005                    NaN    UMP   22008.0  39020.0  "
            ]
          },
          "execution_count": null,
          "metadata": {},
          "output_type": "execute_result"
        }
      ],
      "source": [
        "import numpy\n",
        "\n",
        "def agg_circonscription(data_vote, solution=None, \n",
        "                 col_circ=\"idcirc\", col_place=\"idbureau\", col_vote=\"Nombre de voix du candidat\",\n",
        "                 col_nuance=\"Code nuance du candidat\"):\n",
        "    \"\"\"\n",
        "    Calcul la nuance gagnante dans chaque circonscription.\n",
        "    \n",
        "    @param     data_vote    dataframe de type\n",
        "    @param     solution     dictionnaire ``{ circonscription : liste de bureaux }``, \n",
        "                            si None consid\u00e8re la solution officielle\n",
        "    @param     col_circ     colonne contenant la circonscription (si solution = None)\n",
        "    @param     col_place    colonne contenant l'identifiant du bureaux de votes\n",
        "    @param     col_vote     colonne contenant les votes\n",
        "    @param     col_nuance   colonne contenant le parti ou la nuance\n",
        "    @return                 matrice de resultat, une ligne par circoncription, une colonne par nuance/parti\n",
        "    \"\"\"\n",
        "    if solution is None:\n",
        "        agg = data_vote[[col_circ, col_nuance, col_vote]].groupby([col_circ, col_nuance], as_index=False).sum()\n",
        "    else:\n",
        "        rev = {}\n",
        "        for k, v in solution.items():\n",
        "            for place in v:\n",
        "                if place in rev:\n",
        "                    raise ValueError(\"Un bureaux est associ\u00e9 \u00e0 deux circonscriptions : {0}\".format([rev[place], k]))\n",
        "                rev[place] = k\n",
        "        keep = data_vote[[col_place, col_vote, col_nuance]].copy()\n",
        "        keep[col_circ] = keep[col_place].apply(lambda r: rev[r])\n",
        "        agg = keep[[col_circ, col_nuance, col_vote]].groupby([col_circ, col_nuance], as_index=False).sum()\n",
        "        \n",
        "    # les donn\u00e9es sont maintenant agr\u00e9g\u00e9es par circonscription, il faut d\u00e9terminer le gagnant\n",
        "    piv = agg.pivot(col_circ, col_nuance, col_vote)\n",
        "    gagnant = []\n",
        "    votes = []\n",
        "    sums = []\n",
        "    \n",
        "    for row in piv.values:\n",
        "        mx = max((r, i) for i, r in enumerate(row) if not numpy.isnan(r))\n",
        "        gagnant.append(piv.columns[mx[1]])\n",
        "        votes.append(mx[0])\n",
        "        sums.append(sum(r for r in row if not numpy.isnan(r)))\n",
        "        \n",
        "    piv[\"winner\"] = gagnant\n",
        "    piv[\"nbwinner\"] = votes\n",
        "    piv[\"total\"] = sums\n",
        "    return piv\n",
        "     \n",
        "score = agg_circonscription(t1t2noz)\n",
        "score.head()"
      ]
    },
    {
      "cell_type": "code",
      "execution_count": null,
      "metadata": {
        "collapsed": false
      },
      "outputs": [
        {
          "data": {
            "text/plain": [
              "(565, 20)"
            ]
          },
          "execution_count": null,
          "metadata": {},
          "output_type": "execute_result"
        }
      ],
      "source": [
        "score.shape"
      ]
    },
    {
      "cell_type": "code",
      "execution_count": null,
      "metadata": {
        "collapsed": false
      },
      "outputs": [
        {
          "data": {
            "text/plain": [
              "565"
            ]
          },
          "execution_count": null,
          "metadata": {},
          "output_type": "execute_result"
        }
      ],
      "source": [
        "len(set(t1t2noz[\"idcirc\"]))"
      ]
    },
    {
      "cell_type": "code",
      "execution_count": null,
      "metadata": {
        "collapsed": false
      },
      "outputs": [
        {
          "data": {
            "text/plain": [
              "577"
            ]
          },
          "execution_count": null,
          "metadata": {},
          "output_type": "execute_result"
        }
      ],
      "source": [
        "len(set(t1t2[\"idcirc\"]))"
      ]
    },
    {
      "cell_type": "markdown",
      "metadata": {},
      "source": [
        "Le processus ne s'appliquera qu'aux circonscription de la m\u00e9tropole, soit 565. Le r\u00e9sultat d'une nouvelle r\u00e9partition peut \u00eatre calcul\u00e9e comme ceci :"
      ]
    },
    {
      "cell_type": "code",
      "execution_count": null,
      "metadata": {
        "collapsed": false
      },
      "outputs": [
        {
          "data": {
            "text/html": [
              "<div>\n",
              "<table border=\"1\" class=\"dataframe\">\n",
              "  <thead>\n",
              "    <tr style=\"text-align: right;\">\n",
              "      <th>Code nuance du candidat</th>\n",
              "      <th>nbwinner</th>\n",
              "    </tr>\n",
              "    <tr>\n",
              "      <th>winner</th>\n",
              "      <th></th>\n",
              "    </tr>\n",
              "  </thead>\n",
              "  <tbody>\n",
              "    <tr>\n",
              "      <th>SOC</th>\n",
              "      <td>273</td>\n",
              "    </tr>\n",
              "    <tr>\n",
              "      <th>UMP</th>\n",
              "      <td>191</td>\n",
              "    </tr>\n",
              "    <tr>\n",
              "      <th>DVG</th>\n",
              "      <td>22</td>\n",
              "    </tr>\n",
              "    <tr>\n",
              "      <th>VEC</th>\n",
              "      <td>16</td>\n",
              "    </tr>\n",
              "    <tr>\n",
              "      <th>DVD</th>\n",
              "      <td>14</td>\n",
              "    </tr>\n",
              "    <tr>\n",
              "      <th>NCE</th>\n",
              "      <td>12</td>\n",
              "    </tr>\n",
              "    <tr>\n",
              "      <th>RDG</th>\n",
              "      <td>12</td>\n",
              "    </tr>\n",
              "    <tr>\n",
              "      <th>FG</th>\n",
              "      <td>10</td>\n",
              "    </tr>\n",
              "    <tr>\n",
              "      <th>PRV</th>\n",
              "      <td>6</td>\n",
              "    </tr>\n",
              "    <tr>\n",
              "      <th>ALLI</th>\n",
              "      <td>2</td>\n",
              "    </tr>\n",
              "    <tr>\n",
              "      <th>CEN</th>\n",
              "      <td>2</td>\n",
              "    </tr>\n",
              "    <tr>\n",
              "      <th>FN</th>\n",
              "      <td>2</td>\n",
              "    </tr>\n",
              "    <tr>\n",
              "      <th>REG</th>\n",
              "      <td>2</td>\n",
              "    </tr>\n",
              "    <tr>\n",
              "      <th>EXD</th>\n",
              "      <td>1</td>\n",
              "    </tr>\n",
              "  </tbody>\n",
              "</table>\n",
              "</div>"
            ],
            "text/plain": [
              "Code nuance du candidat  nbwinner\n",
              "winner                           \n",
              "SOC                           273\n",
              "UMP                           191\n",
              "DVG                            22\n",
              "VEC                            16\n",
              "DVD                            14\n",
              "NCE                            12\n",
              "RDG                            12\n",
              "FG                             10\n",
              "PRV                             6\n",
              "ALLI                            2\n",
              "CEN                             2\n",
              "FN                              2\n",
              "REG                             2\n",
              "EXD                             1"
            ]
          },
          "execution_count": null,
          "metadata": {},
          "output_type": "execute_result"
        }
      ],
      "source": [
        "count = score[[\"winner\", \"nbwinner\"]].groupby([\"winner\"]).count()\n",
        "count.sort_values(\"nbwinner\", ascending=False)"
      ]
    },
    {
      "cell_type": "markdown",
      "metadata": {},
      "source": [
        "## Visualisation d'une solution"
      ]
    },
    {
      "cell_type": "markdown",
      "metadata": {},
      "source": [
        "### Premi\u00e8re carte : circonscriptions actuelles\n",
        "\n",
        "On reprend la m\u00eame signature que la fonction pr\u00e9c\u00e9dente avec le dataframe ``geo`` qui contient la d\u00e9finition des circonscriptions. On commence par cr\u00e9er une fonction qui extrait les contours qui sont disponibles sous formes de cha\u00eenes de caract\u00e8res. Le r\u00e9sultat est inspir\u00e9 de ce [notebook](http://www.xavierdupre.fr/app/ensae_teaching_cs/helpsphinx3/notebooks/td1a_cenonce_session_12.html#cartographie)."
      ]
    },
    {
      "cell_type": "code",
      "execution_count": null,
      "metadata": {
        "collapsed": false
      },
      "outputs": [
        {
          "data": {
            "text/plain": [
              "[(5.294455999999968, 46.193934), (5.279780999999957, 46.201967)]"
            ]
          },
          "execution_count": null,
          "metadata": {},
          "output_type": "execute_result"
        }
      ],
      "source": [
        "def process_boundary(bound_string):\n",
        "    ext = bound_string.split(\"<coordinates>\")[-1].split(\"</coordinates>\")[0]\n",
        "    spl = ext.split(\" \")\n",
        "    return [(float(ll[0]), float(ll[1])) for ll in [_.split(\",\") for _ in spl]]\n",
        "\n",
        "s = \"\"\"\n",
        "    <Polygon><outerBoundaryIs><LinearRing><coordinates>5.294455999999968,46.193934 5.279780999999957,46.201967</coordinates></LinearRing></outerBoundaryIs></Polygon>\n",
        "    \"\"\"\n",
        "r = process_boundary(s)\n",
        "r"
      ]
    },
    {
      "cell_type": "markdown",
      "metadata": {},
      "source": [
        "Certaines circonscriptions n'ont pas de contours."
      ]
    },
    {
      "cell_type": "code",
      "execution_count": null,
      "metadata": {
        "collapsed": false
      },
      "outputs": [
        {
          "data": {
            "text/html": [
              "<div>\n",
              "<table border=\"1\" class=\"dataframe\">\n",
              "  <thead>\n",
              "    <tr style=\"text-align: right;\">\n",
              "      <th></th>\n",
              "      <th>code_circonscription</th>\n",
              "      <th>department</th>\n",
              "      <th>numero</th>\n",
              "      <th>communes</th>\n",
              "      <th>kml_shape</th>\n",
              "      <th>simple_form</th>\n",
              "    </tr>\n",
              "  </thead>\n",
              "  <tbody>\n",
              "    <tr>\n",
              "      <th>575</th>\n",
              "      <td>98702</td>\n",
              "      <td>987</td>\n",
              "      <td>2</td>\n",
              "      <td>NaN</td>\n",
              "      <td>NaN</td>\n",
              "      <td>True</td>\n",
              "    </tr>\n",
              "  </tbody>\n",
              "</table>\n",
              "</div>"
            ],
            "text/plain": [
              "    code_circonscription department  numero communes kml_shape simple_form\n",
              "575                98702        987       2      NaN       NaN        True"
            ]
          },
          "execution_count": null,
          "metadata": {},
          "output_type": "execute_result"
        }
      ],
      "source": [
        "geo[geo.code_circonscription==\"98702\"]"
      ]
    },
    {
      "cell_type": "code",
      "execution_count": null,
      "metadata": {
        "collapsed": false,
        "scrolled": false
      },
      "outputs": [
        {
          "data": {
            "text/plain": [
              "array([<matplotlib.axes._subplots.AxesSubplot object at 0x0000018450FC4898>,\n",
              "       <matplotlib.axes._subplots.AxesSubplot object at 0x00000184510AA128>], dtype=object)"
            ]
          },
          "execution_count": null,
          "metadata": {},
          "output_type": "execute_result"
        },
        {
          "data": {
            "image/png": "[encoded data removed]",
            "text/plain": [
              "<matplotlib.figure.Figure at 0x18454861208>"
            ]
          },
          "metadata": {},
          "output_type": "display_data"
        }
      ],
      "source": [
        "from mpl_toolkits.basemap import Basemap\n",
        "import numpy\n",
        "from matplotlib.collections import LineCollection\n",
        "from matplotlib import cm\n",
        "import matplotlib.patches as mpatches\n",
        "\n",
        "def agg_circonscription_viz(thewinner, geo, data_vote, solution=None, \n",
        "                 col_circ=\"idcirc\", col_place=\"idbureau\", col_vote=\"Nombre de voix du candidat\",\n",
        "                 col_nuance=\"Code nuance du candidat\", axes=None, figsize=(14,6), **kwargs):\n",
        "    \"\"\"\n",
        "    Visualise la nuance gagnante dans chaque circonscription.\n",
        "    \n",
        "    @param     thewinner    parti qu'on souhaite influencer\n",
        "    @param     geo          shapes pour chaque circonscription\n",
        "    @param     axes         None ou deux syst\u00e8mes d'axes\n",
        "    @param     figsize      dimension du graphiques\n",
        "    @param     kwargs       options additionnelles\n",
        "    \n",
        "    @param     data_vote    dataframe de type\n",
        "    @param     solution     dictionnaire ``{ circonscription : liste de bureaux }``, \n",
        "                            si None consid\u00e8re la solution officielle\n",
        "    @param     col_circ     colonne contenant la circonscription (si solution = None)\n",
        "    @param     col_place    colonne contenant l'identifiant du bureaux de votes\n",
        "    @param     col_vote     colonne contenant les votes\n",
        "    @param     col_nuance   colonne contenant le parti ou la nuance\n",
        "    @return                 matrice de resultat, une ligne par circoncription, une colonne par nuance/parti\n",
        "    \"\"\"\n",
        "    # on transforme les dataframes en dictionnaires\n",
        "    score = agg_circonscription(data_vote, solution=solution, \n",
        "                 col_circ=col_circ, col_place=col_place, col_vote=col_vote,\n",
        "                 col_nuance=col_nuance)\n",
        "    winner = score[[\"winner\"]].to_dict(\"index\")\n",
        "    shapes = geo.set_index(\"code_circonscription\")[[\"kml_shape\"]].to_dict(\"index\")\n",
        "    \n",
        "    if axes is None:\n",
        "        # on cr\u00e9\u00e9 des axes si non d\u00e9finis\n",
        "        fig, axes = plt.subplots(1, 2, figsize=figsize)\n",
        "        \n",
        "    # on dessine la distribution des circonscriptions\n",
        "    count = score[[\"winner\", \"nbwinner\"]].groupby([\"winner\"]).count()\n",
        "    count.sort_values(\"nbwinner\", ascending=False)\n",
        "    count.plot(ax=axes[1], kind=\"bar\", legend=False)\n",
        "    axes[1].set_xlabel(\"parti/nuance\")\n",
        "    axes[1].set_ylabel(\"nombre de circonscriptions\")\n",
        "\n",
        "    # on calcule le nombre de places le parti consid\u00e9r\u00e9\n",
        "    count = count.reset_index(drop=False)\n",
        "    count[\"iswin\"] = count[\"winner\"] == thewinner\n",
        "    ratio = count[[\"nbwinner\", \"iswin\"]].groupby(\"iswin\").sum().sort_index()\n",
        "    nbcirc = ratio.ix[1,0]\n",
        "    axes[1].set_title(\"{0}={1} circonccriptions\".format(thewinner, nbcirc))\n",
        "    \n",
        "    x1 = -5.0\n",
        "    x2 = 9.\n",
        "    y1 = 42.\n",
        "    y2 = 52.    \n",
        "    m = Basemap(resolution='i',projection='merc', \n",
        "                llcrnrlat=y1, urcrnrlat=y2, llcrnrlon=x1, urcrnrlon=x2, lat_ts=(x1+x2)/2,\n",
        "                ax=axes[0])\n",
        "    m.drawcountries(linewidth=0.5)\n",
        "    m.drawcoastlines(linewidth=0.5)\n",
        "    \n",
        "    for circ, vals in shapes.items():\n",
        "        if circ.startswith(\"Z\"):\n",
        "            # outside\n",
        "            continue\n",
        "        sh = vals[\"kml_shape\"]\n",
        "        if isinstance(sh, float):\n",
        "            # NaN\n",
        "            continue\n",
        "        geo_points = process_boundary(sh)\n",
        "        lons = [_[0] for _ in geo_points]\n",
        "        lats = [_[1] for _ in geo_points]\n",
        "        data = numpy.array(m(lons, lats)).T\n",
        "        segs = [data,]\n",
        "        lines = LineCollection(segs,antialiaseds=(1,))\n",
        "        # pour changer les couleurs c'est ici, il faudra utiliser le champ records\n",
        "        # pour les changer en fonction du nom du d\u00e9partements\n",
        "        if circ in winner:\n",
        "            win = winner[circ][\"winner\"]\n",
        "            color = (0.5, 1.0, 0.5) if win == thewinner else (1.0, 0.5, 0.5)\n",
        "        else:\n",
        "            color = \"black\"            \n",
        "        lines.set_facecolors(color)\n",
        "        lines.set_edgecolors('k')\n",
        "        lines.set_linewidth(0.1)\n",
        "        axes[0].add_collection(lines)  \n",
        "\n",
        "    red_patch = mpatches.Patch(color=(1.0, 0.5, 0.5), label='perdu')\n",
        "    green_patch = mpatches.Patch(color=(0.5, 1.0, 0.5), label='gagn\u00e9')\n",
        "    axes[0].legend(handles=[red_patch, green_patch])        \n",
        "\n",
        "    return axes\n",
        "    \n",
        "agg_circonscription_viz(\"SOC\", geo, t1t2noz)"
      ]
    },
    {
      "cell_type": "markdown",
      "metadata": {},
      "source": [
        "Certaines parties du territoires manquent. Les contours manquent ou les r\u00e9sultats manquent pour une certaine circonscription. La coh\u00e9rence des donn\u00e9es devraient \u00eatre v\u00e9rifi\u00e9es car celles-ci viennent de sources diff\u00e9rentes."
      ]
    },
    {
      "cell_type": "markdown",
      "metadata": {},
      "source": [
        "### Seconde carte : nouvelles circonscriptions\n",
        "\n",
        "Si on change les circonscriptions, les contours des anciennes circonscriptions ne sont plus valables ! Si on ne dispose que de la position des bureaux de vote, il faut reconstruire le contour de chaque circonscription en fonction de la position des bureaux de vote. La m\u00e9thode :\n",
        "\n",
        "* construire un [graphe de Vorono\u00ef](https://fr.wikipedia.org/wiki/Diagramme_de_Vorono%C3%AF)\n",
        "* ne garder que les fronti\u00e8res entre bureaux de circonscriptions diff\u00e9rentes\n",
        "\n",
        "Si on dispose de zones pour les bureaux de vote, il suffit de fusionner les bureaux de votes :\n",
        "\n",
        "* [Merging Lots of Shapefiles (quickly)](http://geospatialpython.com/2011/02/merging-lots-of-shapefiles-quickly.html)\n",
        "\n",
        "Le probl\u00e8me principal devient l'association de la location des bureaux de vote avec les r\u00e9sultats des votes."
      ]
    },
    {
      "cell_type": "code",
      "execution_count": null,
      "metadata": {
        "collapsed": false
      },
      "outputs": [],
      "source": [
        "cols = [\"city\", \"zip\", \"n\"]\n",
        "bureau_geo[\"idbureaugeo\"] = bureau_geo.apply(lambda row: \"-\".join(str(row[_]) for _ in cols), axis=1)"
      ]
    },
    {
      "cell_type": "code",
      "execution_count": null,
      "metadata": {
        "collapsed": false
      },
      "outputs": [
        {
          "data": {
            "text/plain": [
              "array([<matplotlib.axes._subplots.AxesSubplot object at 0x00000184323B5C18>,\n",
              "       <matplotlib.axes._subplots.AxesSubplot object at 0x000001843AA6F4A8>], dtype=object)"
            ]
          },
          "execution_count": null,
          "metadata": {},
          "output_type": "execute_result"
        },
        {
          "data": {
            "image/png": "[encoded data removed]",
            "text/plain": [
              "<matplotlib.figure.Figure at 0x18424394358>"
            ]
          },
          "metadata": {},
          "output_type": "display_data"
        }
      ],
      "source": [
        "def agg_bureau_viz(thewinner, bureau_geo, data_vote, solution=None, \n",
        "                 col_circ=\"idcirc\", col_place=\"idbureau\", col_vote=\"Nombre de voix du candidat\",\n",
        "                 col_nuance=\"Code nuance du candidat\", axes=None, figsize=(14,6), **kwargs):\n",
        "    \"\"\"\n",
        "    Visualise la nuance gagnante dans chaque circonscription.\n",
        "    \n",
        "    @param     thewinner    parti qu'on souhaite influencer\n",
        "    @param     bureau_geo   positions des bureaux de votes\n",
        "    @param     axes         None ou deux syst\u00e8mes d'axes\n",
        "    @param     figsize      dimension du graphiques\n",
        "    @param     kwargs       options additionnelles\n",
        "    \n",
        "    @param     data_vote    dataframe de type\n",
        "    @param     solution     dictionnaire ``{ circonscription : liste de bureaux }``, \n",
        "                            si None consid\u00e8re la solution officielle\n",
        "    @param     col_circ     colonne contenant la circonscription (si solution = None)\n",
        "    @param     col_place    colonne contenant l'identifiant du bureaux de votes\n",
        "    @param     col_vote     colonne contenant les votes\n",
        "    @param     col_nuance   colonne contenant le parti ou la nuance\n",
        "    @return                 matrice de resultat, une ligne par circoncription, une colonne par nuance/parti\n",
        "    \"\"\"\n",
        "    # on transforme les dataframes en dictionnaires\n",
        "    score = agg_circonscription(data_vote, solution=solution, \n",
        "                 col_circ=col_circ, col_place=col_place, col_vote=col_vote,\n",
        "                 col_nuance=col_nuance)\n",
        "    winner = score[[\"winner\"]].to_dict(\"index\")\n",
        "    buhsapes = bureau_geo.set_index(\"idbureaugeo\")[[\"latitude\", \"longitude\", \"zip\", \"n\"]].to_dict(\"index\")\n",
        "    \n",
        "    if axes is None:\n",
        "        # on cr\u00e9\u00e9 des axes si non d\u00e9finis\n",
        "        fig, axes = plt.subplots(1, 2, figsize=figsize)\n",
        "        \n",
        "    # on dessine la distribution des circonscriptions\n",
        "    count = score[[\"winner\", \"nbwinner\"]].groupby([\"winner\"]).count()\n",
        "    count.sort_values(\"nbwinner\", ascending=False)\n",
        "    count.plot(ax=axes[1], kind=\"bar\", legend=False)\n",
        "    axes[1].set_xlabel(\"parti/nuance\")\n",
        "    axes[1].set_ylabel(\"nombre de circonscriptions\")\n",
        "\n",
        "    # on calcule le nombre de places le parti consid\u00e9r\u00e9\n",
        "    count = count.reset_index(drop=False)\n",
        "    count[\"iswin\"] = count[\"winner\"] == thewinner\n",
        "    ratio = count[[\"nbwinner\", \"iswin\"]].groupby(\"iswin\").sum().sort_index()\n",
        "    nbcirc = ratio.ix[1,0]\n",
        "    axes[1].set_title(\"{0}={1} circonccriptions\".format(thewinner, nbcirc))\n",
        "    \n",
        "    x1 = -5.0\n",
        "    x2 = 9.\n",
        "    y1 = 42.\n",
        "    y2 = 52.    \n",
        "    m = Basemap(resolution='i',projection='merc', \n",
        "                llcrnrlat=y1, urcrnrlat=y2, llcrnrlon=x1, urcrnrlon=x2, lat_ts=(x1+x2)/2,\n",
        "                ax=axes[0])\n",
        "    m.drawcountries(linewidth=0.5)\n",
        "    m.drawcoastlines(linewidth=0.5)\n",
        "    \n",
        "    lons = bureau_geo[\"longitude\"]\n",
        "    lats = bureau_geo[\"latitude\"]\n",
        "    data = [m(x, y) for x,y in zip(lons, lats)]\n",
        "    xs = [_[0] for _ in data]\n",
        "    ys = [_[1] for _ in data]\n",
        "    axes[0].plot(xs, ys, \".\", color=(0.4, 0.4, 0.4))\n",
        "        \n",
        "    red_patch = mpatches.Patch(color=(1.0, 0.5, 0.5), label='perdu')\n",
        "    green_patch = mpatches.Patch(color=(0.5, 1.0, 0.5), label='gagn\u00e9')\n",
        "    axes[0].legend(handles=[red_patch, green_patch])        \n",
        "\n",
        "    return axes\n",
        "    \n",
        "agg_bureau_viz(\"SOC\", bureau_geo, t1t2noz)"
      ]
    },
    {
      "cell_type": "markdown",
      "metadata": {},
      "source": [
        "### Autres sources pour les bureaux de votes"
      ]
    },
    {
      "cell_type": "markdown",
      "metadata": {},
      "source": [
        "La faible densit\u00e9 des bureaux de votes obligent \u00e0 changer de jeu de donn\u00e9es et d'utiliser celui de [cartelec](http://www.cartelec.net/?page_id=3609) uilis\u00e9 pour l'ann\u00e9e 2007."
      ]
    },
    {
      "cell_type": "code",
      "execution_count": null,
      "metadata": {
        "collapsed": false
      },
      "outputs": [],
      "source": [
        "from pyensae.datasource import download_data\n",
        "shp_vote = download_data(\"base_cartelec_2007_2010.zip\")\n",
        "import shapefile\n",
        "r = shapefile.Reader(\"fond0710.shp\")\n",
        "shapes = r.shapes()\n",
        "records = r.records()"
      ]
    },
    {
      "cell_type": "code",
      "execution_count": null,
      "metadata": {
        "collapsed": false
      },
      "outputs": [
        {
          "data": {
            "text/plain": [
              "({'BUREAU': '01001',\n",
              "  'CANTON': '04',\n",
              "  'CODE': b\"L'Abergement-Cl\\xe9menciat\",\n",
              "  'CODEARRT': '01',\n",
              "  'CODECANT': 'CHATILLON-SUR-CHALARONNE',\n",
              "  'CODEDEP': '82',\n",
              "  'CODEREG': '10',\n",
              "  'DeletionFlag': '01001',\n",
              "  'NOM': '012'},\n",
              " [[846774.7025280485, 6563840.655779875],\n",
              "  [847430.4726776106, 6566444.631470905],\n",
              "  [848975.0615885032, 6566530.102978201],\n",
              "  [849532.5253064571, 6565971.4588501565],\n",
              "  [848969.0813380895, 6564398.911644492]])"
            ]
          },
          "execution_count": null,
          "metadata": {},
          "output_type": "execute_result"
        }
      ],
      "source": [
        "{k[0]:v for k,v in zip(r.fields, records[0])}, shapes[0].points[:5]"
      ]
    },
    {
      "cell_type": "code",
      "execution_count": null,
      "metadata": {
        "collapsed": false
      },
      "outputs": [
        {
          "data": {
            "text/plain": [
              "{'bbox': [846774.7025280485, 6559575.068823495, 850941.7401535356, 6566530.102978201],\n",
              " 'parts': [0],\n",
              " 'points': [[846774.7025280485, 6563840.655779875],\n",
              "  [847430.4726776106, 6566444.631470905],\n",
              "  [848975.0615885032, 6566530.102978201],\n",
              "  [849532.5253064571, 6565971.4588501565],\n",
              "  [848969.0813380895, 6564398.911644492],\n",
              "  [850941.7401535356, 6563209.5425065085],\n",
              "  [849896.4212796891, 6562719.844144765],\n",
              "  [849632.2745031306, 6561522.415193593],\n",
              "  [849891.0276243397, 6560738.406460746],\n",
              "  [848732.0257644501, 6559575.068823495],\n",
              "  [848585.9032087281, 6560169.582690463],\n",
              "  [847664.0345600601, 6560616.395794825],\n",
              "  [847793.2580021, 6562243.125831007],\n",
              "  [846774.7025280485, 6563840.655779875]],\n",
              " 'shapeType': 5}"
            ]
          },
          "execution_count": null,
          "metadata": {},
          "output_type": "execute_result"
        }
      ],
      "source": [
        "shapes[0].__dict__"
      ]
    },
    {
      "cell_type": "markdown",
      "metadata": {},
      "source": [
        "### Conversion des coordoonn\u00e9es\n",
        "\n",
        "Voir ce [notebook](http://www.xavierdupre.fr/app/ensae_teaching_cs/helpsphinx3/notebooks/td1a_cenonce_session_12.html#cartographie). La fonction qui suit est assez longue ex\u00e9cut\u00e9e un grand nombre de fois. Il faudrait l'acc\u00e9l\u00e9rer avec [numba](http://numba.pydata.org/) ou [cython](http://cython.org/)."
      ]
    },
    {
      "cell_type": "code",
      "execution_count": null,
      "metadata": {
        "collapsed": false
      },
      "outputs": [
        {
          "data": {
            "text/plain": [
              "((-4.1615802638173065, 41.303505287589545),\n",
              " (10.699505053975292, 50.85243395553585))"
            ]
          },
          "execution_count": null,
          "metadata": {},
          "output_type": "execute_result"
        }
      ],
      "source": [
        "import math\n",
        "def lambert932WGPS(lambertE, lambertN):\n",
        "    class constantes:\n",
        "        GRS80E = 0.081819191042816\n",
        "        LONG_0 = 3\n",
        "        XS = 700000\n",
        "        YS = 12655612.0499\n",
        "        n = 0.7256077650532670\n",
        "        C = 11754255.4261\n",
        "    delX = lambertE - constantes.XS\n",
        "    delY = lambertN - constantes.YS\n",
        "    gamma = math.atan(-delX / delY)\n",
        "    R = math.sqrt(delX * delX + delY * delY)\n",
        "    latiso = math.log(constantes.C / R) / constantes.n\n",
        "    sinPhiit0 = math.tanh(latiso + constantes.GRS80E * math.atanh(constantes.GRS80E * math.sin(1)))\n",
        "    sinPhiit1 = math.tanh(latiso + constantes.GRS80E * math.atanh(constantes.GRS80E * sinPhiit0))\n",
        "    sinPhiit2 = math.tanh(latiso + constantes.GRS80E * math.atanh(constantes.GRS80E * sinPhiit1))\n",
        "    sinPhiit3 = math.tanh(latiso + constantes.GRS80E * math.atanh(constantes.GRS80E * sinPhiit2))\n",
        "    sinPhiit4 = math.tanh(latiso + constantes.GRS80E * math.atanh(constantes.GRS80E * sinPhiit3))\n",
        "    sinPhiit5 = math.tanh(latiso + constantes.GRS80E * math.atanh(constantes.GRS80E * sinPhiit4))\n",
        "    sinPhiit6 = math.tanh(latiso + constantes.GRS80E * math.atanh(constantes.GRS80E * sinPhiit5))\n",
        "    longRad = math.asin(sinPhiit6)\n",
        "    latRad = gamma / constantes.n + constantes.LONG_0 / 180 * math.pi\n",
        "    longitude = latRad / math.pi * 180\n",
        "    latitude = longRad / math.pi * 180\n",
        "    return longitude, latitude\n",
        "lambert932WGPS(99217.1, 6049646.300000001), lambert932WGPS(1242417.2, 7110480.100000001)"
      ]
    },
    {
      "cell_type": "code",
      "execution_count": null,
      "metadata": {
        "collapsed": false
      },
      "outputs": [],
      "source": [
        "for shape in shapes:\n",
        "    x1, y1 = lambert932WGPS(shape.bbox[0], shape.bbox[1])\n",
        "    x2, y2 = lambert932WGPS(shape.bbox[2], shape.bbox[3])\n",
        "    shape.bbox = [x1, y1, x2, y2]\n",
        "    shape.points = [lambert932WGPS(x,y) for x,y in shape.points]"
      ]
    },
    {
      "cell_type": "markdown",
      "metadata": {},
      "source": [
        "On r\u00e9\u00e9crit la fonction qui dessine les bureaux de votes."
      ]
    },
    {
      "cell_type": "code",
      "execution_count": null,
      "metadata": {
        "collapsed": false
      },
      "outputs": [
        {
          "data": {
            "text/plain": [
              "array([<matplotlib.axes._subplots.AxesSubplot object at 0x000001848195DF98>,\n",
              "       <matplotlib.axes._subplots.AxesSubplot object at 0x00000184A77688D0>], dtype=object)"
            ]
          },
          "execution_count": null,
          "metadata": {},
          "output_type": "execute_result"
        },
        {
          "data": {
            "image/png": "[encoded data removed]",
            "text/plain": [
              "<matplotlib.figure.Figure at 0x1840f306b70>"
            ]
          },
          "metadata": {},
          "output_type": "display_data"
        }
      ],
      "source": [
        "def agg_bureau_shape_viz(thewinner, b_records, b_shapes, data_vote, solution=None, \n",
        "                 col_circ=\"idcirc\", col_place=\"idbureau\", col_vote=\"Nombre de voix du candidat\",\n",
        "                 col_nuance=\"Code nuance du candidat\", axes=None, figsize=(14,6), **kwargs):\n",
        "    \"\"\"\n",
        "    Visualise la nuance gagnante dans chaque circonscription.\n",
        "    \n",
        "    @param     thewinner    parti qu'on souhaite influencer\n",
        "    @param     b_records    records des bureaux de vote\n",
        "    @param     b_shapes     shapefile des bureaux de vote\n",
        "    @param     axes         None ou deux syst\u00e8mes d'axes\n",
        "    @param     figsize      dimension du graphiques\n",
        "    @param     kwargs       options additionnelles\n",
        "    \n",
        "    @param     data_vote    dataframe de type\n",
        "    @param     solution     dictionnaire ``{ circonscription : liste de bureaux }``, \n",
        "                            si None consid\u00e8re la solution officielle\n",
        "    @param     col_circ     colonne contenant la circonscription (si solution = None)\n",
        "    @param     col_place    colonne contenant l'identifiant du bureaux de votes\n",
        "    @param     col_vote     colonne contenant les votes\n",
        "    @param     col_nuance   colonne contenant le parti ou la nuance\n",
        "    @return                 matrice de resultat, une ligne par circoncription, une colonne par nuance/parti\n",
        "    \"\"\"\n",
        "    # on transforme les dataframes en dictionnaires\n",
        "    score = agg_circonscription(data_vote, solution=solution, \n",
        "                 col_circ=col_circ, col_place=col_place, col_vote=col_vote,\n",
        "                 col_nuance=col_nuance)\n",
        "    winner = score[[\"winner\"]].to_dict(\"index\")\n",
        "    buhsapes = bureau_geo.set_index(\"idbureaugeo\")[[\"latitude\", \"longitude\", \"zip\", \"n\"]].to_dict(\"index\")\n",
        "    \n",
        "    if axes is None:\n",
        "        # on cr\u00e9\u00e9 des axes si non d\u00e9finis\n",
        "        fig, axes = plt.subplots(1, 2, figsize=figsize)\n",
        "        \n",
        "    # on dessine la distribution des circonscriptions\n",
        "    count = score[[\"winner\", \"nbwinner\"]].groupby([\"winner\"]).count()\n",
        "    count.sort_values(\"nbwinner\", ascending=False)\n",
        "    count.plot(ax=axes[1], kind=\"bar\", legend=False)\n",
        "    axes[1].set_xlabel(\"parti/nuance\")\n",
        "    axes[1].set_ylabel(\"nombre de circonscriptions\")\n",
        "\n",
        "    # on calcule le nombre de places le parti consid\u00e9r\u00e9\n",
        "    count = count.reset_index(drop=False)\n",
        "    count[\"iswin\"] = count[\"winner\"] == thewinner\n",
        "    ratio = count[[\"nbwinner\", \"iswin\"]].groupby(\"iswin\").sum().sort_index()\n",
        "    nbcirc = ratio.ix[1,0]\n",
        "    axes[1].set_title(\"{0}={1} circonccriptions\".format(thewinner, nbcirc))\n",
        "    \n",
        "    x1 = -5.0\n",
        "    x2 = 9.\n",
        "    y1 = 42.\n",
        "    y2 = 52.    \n",
        "    m = Basemap(resolution='i',projection='merc', \n",
        "                llcrnrlat=y1, urcrnrlat=y2, llcrnrlon=x1, urcrnrlon=x2, lat_ts=(x1+x2)/2,\n",
        "                ax=axes[0])\n",
        "    m.drawcountries(linewidth=0.5)\n",
        "    m.drawcoastlines(linewidth=0.5)\n",
        "    \n",
        "    lons = []\n",
        "    lats = []\n",
        "    for shape in b_shapes:\n",
        "        x1, y1, x2, y2 = shape.bbox\n",
        "        x = (x1+x2) / 2\n",
        "        y = (y1+y2) / 2\n",
        "        lons.append(x)\n",
        "        lats.append(y)\n",
        "    data = [m(x, y) for x,y in zip(lons, lats)]\n",
        "    xs = [_[0] for _ in data]\n",
        "    ys = [_[1] for _ in data]\n",
        "    axes[0].plot(xs, ys, \".\", color=(0.4, 0.4, 0.4))\n",
        "        \n",
        "    red_patch = mpatches.Patch(color=(1.0, 0.5, 0.5), label='perdu')\n",
        "    green_patch = mpatches.Patch(color=(0.5, 1.0, 0.5), label='gagn\u00e9')\n",
        "    axes[0].legend(handles=[red_patch, green_patch])        \n",
        "\n",
        "    return axes\n",
        "    \n",
        "agg_bureau_shape_viz(\"SOC\", records, shapes, t1t2noz)"
      ]
    },
    {
      "cell_type": "markdown",
      "metadata": {},
      "source": [
        "La France est recouvert de gris. La densit\u00e9 des bureaux de votes est plus conforme \u00e0 celle attendue. La conversion des coordonn\u00e9es a fonctionn\u00e9."
      ]
    },
    {
      "cell_type": "markdown",
      "metadata": {},
      "source": [
        "### Fusionner les shapefiles\n",
        "\n",
        "On s'inspire de [Merging Lots of Shapefiles (quickly)](http://geospatialpython.com/2011/02/merging-lots-of-shapefiles-quickly.html) pour \u00e9crire la derni\u00e8re fonction de visualisation qui fusionne les shapefiles pour obtenir les circonscriptions."
      ]
    },
    {
      "cell_type": "code",
      "execution_count": null,
      "metadata": {
        "collapsed": true
      },
      "outputs": [],
      "source": []
    },
    {
      "cell_type": "code",
      "execution_count": null,
      "metadata": {
        "collapsed": true
      },
      "outputs": [],
      "source": []
    },
    {
      "cell_type": "code",
      "execution_count": null,
      "metadata": {
        "collapsed": true
      },
      "outputs": [],
      "source": []
    },
    {
      "cell_type": "markdown",
      "metadata": {},
      "source": [
        "## Construction des bureaux sur les fronti\u00e8res"
      ]
    },
    {
      "cell_type": "code",
      "execution_count": null,
      "metadata": {
        "collapsed": true
      },
      "outputs": [],
      "source": []
    }
  ],
  "metadata": {
    "kernelspec": {
      "display_name": "Python 3",
      "language": "python",
      "name": "python3"
    },
    "language_info": {
      "codemirror_mode": {
        "name": "ipython",
        "version": 3
      },
      "file_extension": ".py",
      "mimetype": "text/x-python",
      "name": "python",
      "nbconvert_exporter": "python",
      "pygments_lexer": "ipython3",
      "version": "3.5.0"
    }
  },
  "nbformat": 4,
  "nbformat_minor": 1
}