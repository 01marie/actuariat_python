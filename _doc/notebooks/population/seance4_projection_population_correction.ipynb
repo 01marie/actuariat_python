{
 "cells": [
  {
   "cell_type": "markdown",
   "metadata": {},
   "source": [
    "# Evolutation d'une population (correction)"
   ]
  },
  {
   "cell_type": "code",
   "execution_count": 1,
   "metadata": {
    "collapsed": false
   },
   "outputs": [
    {
     "data": {
      "text/html": [
       "<div id=\"my_id_menu_nb\">run previous cell, wait for 2 seconds</div>\n",
       "<script>\n",
       "function repeat_indent_string(n){\n",
       "    var a = \"\" ;\n",
       "    for ( ; n > 0 ; --n) {\n",
       "        a += \"    \";\n",
       "    }\n",
       "    return a;\n",
       "}\n",
       "var update_menu_string = function(begin, lfirst, llast, sformat, send) {\n",
       "    var anchors = document.getElementsByClassName(\"section\");\n",
       "    if (anchors.length == 0) {\n",
       "        anchors = document.getElementsByClassName(\"text_cell_render rendered_html\");\n",
       "    }\n",
       "    var i,t;\n",
       "    var text_menu = begin;\n",
       "    var text_memo = \"<pre>\\nlength:\" + anchors.length + \"\\n\";\n",
       "    var ind = \"\";\n",
       "    var memo_level = 1;\n",
       "    var href;\n",
       "    var tags = [];\n",
       "    for (i = 0; i <= llast; i++) {\n",
       "        tags.push(\"h\" + i);\n",
       "    }\n",
       "\n",
       "    for (i = 0; i < anchors.length; i++) {\n",
       "        text_memo += \"**\" + anchors[i].id + \"--\\n\";\n",
       "\n",
       "        var child = null;\n",
       "        for(t = 0; t < tags.length; t++) {\n",
       "            var r = anchors[i].getElementsByTagName(tags[t]);\n",
       "            if (r.length > 0) {\n",
       "child = r[0];\n",
       "break;\n",
       "            }\n",
       "        }\n",
       "        if (child == null){\n",
       "            text_memo += \"null\\n\";\n",
       "            continue;\n",
       "        }\n",
       "\n",
       "        if (anchors[i].hasAttribute(\"id\")) {\n",
       "            // when converted in RST\n",
       "            href = anchors[i].id;\n",
       "            text_memo += \"#1-\" + href;\n",
       "            // passer à child suivant (le chercher)\n",
       "        }\n",
       "        else if (child.hasAttribute(\"id\")) {\n",
       "            // in a notebook\n",
       "            href = child.id;\n",
       "            text_memo += \"#2-\" + href;\n",
       "        }\n",
       "        else {\n",
       "            text_memo += \"#3-\" + \"*\" + \"\\n\";\n",
       "            continue;\n",
       "        }\n",
       "        var title = child.textContent;\n",
       "        var level = parseInt(child.tagName.substring(1,2));\n",
       "\n",
       "        text_memo += \"--\" + level + \"?\" + lfirst + \"--\" + title + \"\\n\";\n",
       "\n",
       "        if ((level < lfirst) || (level > llast)) {\n",
       "            continue ;\n",
       "        }\n",
       "        if (title.endsWith('¶')) {\n",
       "            title = title.substring(0,title.length-1).replace(\"<\", \"&lt;\").replace(\">\", \"&gt;\").replace(\"&\", \"&amp;\")\n",
       "        }\n",
       "\n",
       "        if (title.length == 0) {\n",
       "            continue;\n",
       "        }\n",
       "        while (level > memo_level) {\n",
       "            text_menu += \"<ul>\\n\";\n",
       "            memo_level += 1;\n",
       "        }\n",
       "        while (level < memo_level) {\n",
       "            text_menu += \"</ul>\\n\";\n",
       "            memo_level -= 1;\n",
       "        }\n",
       "        text_menu += repeat_indent_string(level-2) + sformat.replace(\"__HREF__\", href).replace(\"__TITLE__\", title);\n",
       "    }\n",
       "    while (1 < memo_level) {\n",
       "        text_menu += \"</ul>\\n\";\n",
       "        memo_level -= 1;\n",
       "    }\n",
       "    text_menu += send;\n",
       "    //text_menu += \"\\n\" + text_memo;\n",
       "    return text_menu;\n",
       "};\n",
       "var update_menu = function() {\n",
       "    var sbegin = \"\";\n",
       "    var sformat = '<li><a href=\"#__HREF__\">__TITLE__</a></li>';\n",
       "    var send = \"\";\n",
       "    var text_menu = update_menu_string(sbegin, 2, 4, sformat, send);\n",
       "    var menu = document.getElementById(\"my_id_menu_nb\");\n",
       "    menu.innerHTML=text_menu;\n",
       "};\n",
       "window.setTimeout(update_menu,2000);\n",
       "            </script>"
      ],
      "text/plain": [
       "<IPython.core.display.HTML object>"
      ]
     },
     "execution_count": 1,
     "metadata": {},
     "output_type": "execute_result"
    }
   ],
   "source": [
    "from pyquickhelper.ipythonhelper import add_notebook_menu\n",
    "add_notebook_menu()"
   ]
  },
  {
   "cell_type": "markdown",
   "metadata": {},
   "source": [
    "### Exercice 1 : pyramides des âges\n",
    "\n",
    "[comment]: <> (RST: .. index:: pyramide des âges, population pyramid)"
   ]
  },
  {
   "cell_type": "code",
   "execution_count": 2,
   "metadata": {
    "collapsed": false
   },
   "outputs": [
    {
     "data": {
      "text/html": [
       "<div>\n",
       "<table border=\"1\" class=\"dataframe\">\n",
       "  <thead>\n",
       "    <tr style=\"text-align: right;\">\n",
       "      <th></th>\n",
       "      <th>naissance</th>\n",
       "      <th>age</th>\n",
       "      <th>hommes</th>\n",
       "      <th>femmes</th>\n",
       "      <th>ensemble</th>\n",
       "    </tr>\n",
       "  </thead>\n",
       "  <tbody>\n",
       "    <tr>\n",
       "      <th>8</th>\n",
       "      <td>2015</td>\n",
       "      <td>0</td>\n",
       "      <td>391371</td>\n",
       "      <td>374179</td>\n",
       "      <td>765550</td>\n",
       "    </tr>\n",
       "    <tr>\n",
       "      <th>9</th>\n",
       "      <td>2014</td>\n",
       "      <td>1</td>\n",
       "      <td>403204</td>\n",
       "      <td>385442</td>\n",
       "      <td>788646</td>\n",
       "    </tr>\n",
       "    <tr>\n",
       "      <th>10</th>\n",
       "      <td>2013</td>\n",
       "      <td>2</td>\n",
       "      <td>405502</td>\n",
       "      <td>386831</td>\n",
       "      <td>792333</td>\n",
       "    </tr>\n",
       "  </tbody>\n",
       "</table>\n",
       "</div>"
      ],
      "text/plain": [
       "    naissance  age  hommes  femmes  ensemble\n",
       "8        2015    0  391371  374179    765550\n",
       "9        2014    1  403204  385442    788646\n",
       "10       2013    2  405502  386831    792333"
      ]
     },
     "execution_count": 2,
     "metadata": {},
     "output_type": "execute_result"
    }
   ],
   "source": [
    "from actuariat_python.data import population_france_2015\n",
    "population = population_france_2015()\n",
    "df = population\n",
    "df.head(n=3)"
   ]
  },
  {
   "cell_type": "code",
   "execution_count": 3,
   "metadata": {
    "collapsed": false
   },
   "outputs": [],
   "source": [
    "hommes = df[\"hommes\"]\n",
    "femmes = df[\"femmes\"]\n",
    "somme = hommes - femmes"
   ]
  },
  {
   "cell_type": "markdown",
   "metadata": {},
   "source": [
    "Je reprends ici le code exposé à [Damien Vergnaud's Homepage](http://www.di.ens.fr/~vergnaud/TPc_20150304_Python.html) en l'adaptant un peu avec les fonctions de matplotlib via l'interface [pyplot](http://matplotlib.org/api/pyplot_api.html). Puis j'ajoute la différence par âge. On commence souvent par la [gallerie](http://matplotlib.org/gallery.html) pour voir si un graphe ou juste une partie est similaire à ce qu'on veut obtenir."
   ]
  },
  {
   "cell_type": "code",
   "execution_count": 4,
   "metadata": {
    "collapsed": false
   },
   "outputs": [
    {
     "data": {
      "text/plain": [
       "<matplotlib.legend.Legend at 0xb1d9d68>"
      ]
     },
     "execution_count": 4,
     "metadata": {},
     "output_type": "execute_result"
    }
   ],
   "source": [
    "from matplotlib import pyplot as plt\n",
    "from numpy import arange\n",
    "plt.style.use('ggplot')\n",
    "fig, ax = plt.subplots(figsize=(8,8))\n",
    "ValH = ax.barh(arange(len(hommes)),hommes,1.0,label=\"Hommes\",color='b',linewidth=0,align='center')\n",
    "ValF = ax.barh(arange(len(femmes)),-femmes,1.0,label=\"Femmes\",color='r',linewidth=0,align='center')\n",
    "diff, = ax.plot(somme,arange(len(femmes)),'y',linewidth=2)\n",
    "ax.set_title(\"Pyramide des âges\")\n",
    "ax.set_ylabel(\"Ages\")\n",
    "ax.set_xlabel(\"Habitants\")\n",
    "ax.set_ylim([0,110])\n",
    "ax.legend((ValH[0],ValF[0],diff),('Hommes','Femmes','différence'))"
   ]
  },
  {
   "cell_type": "markdown",
   "metadata": {},
   "source": [
    "Le même en utilisant la fonction insérée dans le module [actuariat_python](http://www.xavierdupre.fr/app/actuariat_python/helpsphinx/index.html)."
   ]
  },
  {
   "cell_type": "code",
   "execution_count": 5,
   "metadata": {
    "collapsed": false
   },
   "outputs": [
    {
     "data": {
      "text/plain": [
       "<matplotlib.axes._subplots.AxesSubplot at 0xb201518>"
      ]
     },
     "execution_count": 5,
     "metadata": {},
     "output_type": "execute_result"
    }
   ],
   "source": [
    "from actuariat_python.plots import plot_population_pyramid\n",
    "plot_population_pyramid(df[\"hommes\"], df[\"femmes\"], figsize=(8,4))"
   ]
  },
  {
   "cell_type": "markdown",
   "metadata": {},
   "source": [
    "### Exercice 2 : calcul de l'espérance de vie\n",
    "\n",
    "Le premier objectif est de calculer l'[espérance de vie](https://en.wikipedia.org/wiki/Life_expectancy) à l'âge $t$ à partir de la table de mortalité. On récupère cette table.\n",
    "\n",
    "[comment]: <> (RST: .. index:: table de mortalité, mortality table)"
   ]
  },
  {
   "cell_type": "code",
   "execution_count": 6,
   "metadata": {
    "collapsed": false
   },
   "outputs": [
    {
     "data": {
      "text/html": [
       "<div>\n",
       "<table border=\"1\" class=\"dataframe\">\n",
       "  <thead>\n",
       "    <tr style=\"text-align: right;\">\n",
       "      <th></th>\n",
       "      <th>Age</th>\n",
       "      <th>Homme</th>\n",
       "      <th>Femme</th>\n",
       "    </tr>\n",
       "  </thead>\n",
       "  <tbody>\n",
       "    <tr>\n",
       "      <th>0</th>\n",
       "      <td>0</td>\n",
       "      <td>100000</td>\n",
       "      <td>100000</td>\n",
       "    </tr>\n",
       "    <tr>\n",
       "      <th>1</th>\n",
       "      <td>1</td>\n",
       "      <td>99511</td>\n",
       "      <td>99616</td>\n",
       "    </tr>\n",
       "    <tr>\n",
       "      <th>2</th>\n",
       "      <td>2</td>\n",
       "      <td>99473</td>\n",
       "      <td>99583</td>\n",
       "    </tr>\n",
       "    <tr>\n",
       "      <th>109</th>\n",
       "      <td>109</td>\n",
       "      <td>2</td>\n",
       "      <td>20</td>\n",
       "    </tr>\n",
       "    <tr>\n",
       "      <th>110</th>\n",
       "      <td>110</td>\n",
       "      <td>1</td>\n",
       "      <td>9</td>\n",
       "    </tr>\n",
       "    <tr>\n",
       "      <th>111</th>\n",
       "      <td>111</td>\n",
       "      <td>0</td>\n",
       "      <td>4</td>\n",
       "    </tr>\n",
       "  </tbody>\n",
       "</table>\n",
       "</div>"
      ],
      "text/plain": [
       "     Age   Homme   Femme\n",
       "0      0  100000  100000\n",
       "1      1   99511   99616\n",
       "2      2   99473   99583\n",
       "109  109       2      20\n",
       "110  110       1       9\n",
       "111  111       0       4"
      ]
     },
     "execution_count": 6,
     "metadata": {},
     "output_type": "execute_result"
    }
   ],
   "source": [
    "from actuariat_python.data import table_mortalite_france_00_02\n",
    "df=table_mortalite_france_00_02()\n",
    "import pandas\n",
    "pandas.concat([ df.head(n=3), df.tail(n=3) ])"
   ]
  },
  {
   "cell_type": "markdown",
   "metadata": {},
   "source": [
    "On note $P_t$ la population l'âge $t$. La probabilité de mourir à la date $t+d$ lorsqu'on a l'âge $t$ correspond à la probabilité de rester en vie à jusqu'à l'âge $t+d$ puis de mourir dans l'année qui suit :\n",
    "\n",
    "$$m_{t+d} = \\frac{P_{t+d}}{P_t}\\frac{P_{t+d} - P_{t+d+1}}{P_{t+d}} $$.\n",
    "\n",
    "L'espérance de vie s'exprime :\n",
    "\n",
    "$$\\mathbb{E}(t) = \\sum_{d=1}^\\infty d m_{t+d} = \\sum_{d=1}^\\infty d \\frac{P_{t+d}}{P_t}\\frac{P_{t+d} - P_{t+d+1}}{P_{t+d}} = \\sum_{d=1}^\\infty d \\frac{P_{t+d} - P_{t+d+1}}{P_{t}} $$"
   ]
  },
  {
   "cell_type": "markdown",
   "metadata": {},
   "source": [
    "On crée une matrice allant de 0 à 120 ans et on pose $\\mathbb{E}(120)=0$. On utilise le module [numpy](http://www.numpy.org/)."
   ]
  },
  {
   "cell_type": "code",
   "execution_count": 7,
   "metadata": {
    "collapsed": false
   },
   "outputs": [
    {
     "data": {
      "text/plain": [
       "(120, 2)"
      ]
     },
     "execution_count": 7,
     "metadata": {},
     "output_type": "execute_result"
    }
   ],
   "source": [
    "import numpy\n",
    "hf = df[[\"Homme\", \"Femme\"]].as_matrix()\n",
    "hf = numpy.vstack([hf, numpy.zeros((8,2))])\n",
    "hf.shape"
   ]
  },
  {
   "cell_type": "code",
   "execution_count": 8,
   "metadata": {
    "collapsed": false
   },
   "outputs": [
    {
     "data": {
      "text/plain": [
       "array([[ 75.00752,  82.48836]])"
      ]
     },
     "execution_count": 8,
     "metadata": {},
     "output_type": "execute_result"
    }
   ],
   "source": [
    "nb = hf.shape[0]\n",
    "esp = numpy.zeros ((nb,2))\n",
    "for t in range(0,nb):\n",
    "    for i in (0,1):\n",
    "        if hf[t,i] == 0:\n",
    "            esp[t,i] = 0\n",
    "        else:\n",
    "            somme  = 0.0\n",
    "            for d in range(1,nb-t):\n",
    "                if hf[t+d,i] > 0:\n",
    "                    somme += d * (hf[t+d,i] - hf[t+d+1,i]) / hf[t,i]\n",
    "            esp[t,i] = somme\n",
    "esp[:1]            "
   ]
  },
  {
   "cell_type": "markdown",
   "metadata": {},
   "source": [
    "Enfin, on dessine le résultat avec matplotlib :"
   ]
  },
  {
   "cell_type": "code",
   "execution_count": 9,
   "metadata": {
    "collapsed": false
   },
   "outputs": [
    {
     "data": {
      "text/plain": [
       "<matplotlib.text.Text at 0xb217f60>"
      ]
     },
     "execution_count": 9,
     "metadata": {},
     "output_type": "execute_result"
    }
   ],
   "source": [
    "from matplotlib import pyplot as plt\n",
    "plt.style.use('ggplot')\n",
    "h = plt.plot(esp)\n",
    "plt.legend(h, [\"Homme\", \"Femme\"])\n",
    "plt.title(\"Espérance de vie\")"
   ]
  },
  {
   "cell_type": "markdown",
   "metadata": {},
   "source": [
    "Le calcul implémenté ci-dessus n'est pas le plus efficace. On fait deux boucles imbriquées dont le coût global est en $O(n^2)$ mais surtout on effectue les mêmes calculs plusieurs fois. Pour le réduire à un coût linéaire $O(n)$, il faut s'intéresser à la quantité :\n",
    "\n",
    "$$P_{t+1} \\mathbb{E}(t+1) - P_t \\mathbb{E}(t) = \\sum_{d=1}^\\infty d (P_{t+d+1} - P_{t+d+2}) - \\sum_{d=1}^\\infty d (P_{t+d} - P_{t+d+1})$$"
   ]
  },
  {
   "cell_type": "markdown",
   "metadata": {},
   "source": [
    "L'implémentation devra utiliser la fonction [numpy.cumsum](http://docs.scipy.org/doc/numpy/reference/generated/numpy.cumsum.html) et cette astuce [Pandas Dataframe cumsum by row in reverse column order?](http://stackoverflow.com/questions/26389959/pandas-dataframe-cumsum-by-row-in-reverse-column-order)."
   ]
  },
  {
   "cell_type": "code",
   "execution_count": 10,
   "metadata": {
    "collapsed": true
   },
   "outputs": [],
   "source": [
    "# à suivre"
   ]
  },
  {
   "cell_type": "markdown",
   "metadata": {},
   "source": [
    "[numpy](http://www.numpy.org/) et [pandas](http://pandas.pydata.org/) ont plusieurs fonction en commun dès qu'il s'agit de parcourir les données. Il existe aussi la fonction [DataFrame.cumsum](http://pandas.pydata.org/pandas-docs/dev/generated/pandas.DataFrame.cumsum.html)."
   ]
  },
  {
   "cell_type": "markdown",
   "metadata": {},
   "source": [
    "### Exercice 3 : simulation de la pyramide en 2016\n",
    "\n",
    "L'objectif est d'estimer la population française en 2016. Si $P(a,2015)$ désigne le nombre de personnes d'âge $a$ en 2015, on peut estimer $P(a,2016)$ en utilisant la probabilité de mourir $m(a)$ :\n",
    "\n",
    "$$ P(a+1, 2016) = P(a,2015) * (1 - m(a))$$\n",
    "\n",
    "On commence par calculer les coefficients $m(a)$ avec la table ``hf`` obtenue lors de l'exercice précédent tout en gardant la même dimension (on aura besoin de la fonction [nan_to_num](http://docs.scipy.org/doc/numpy/reference/generated/numpy.nan_to_num.html) :"
   ]
  },
  {
   "cell_type": "code",
   "execution_count": 11,
   "metadata": {
    "collapsed": false
   },
   "outputs": [],
   "source": [
    "mortalite = (hf[:-1] - hf[1:]) / hf[:-1]\n",
    "mortalite = numpy.nan_to_num(mortalite)  # les divisions nulles deviennent nan, on les remplace par 0\n",
    "mortalite = numpy.vstack([mortalite, numpy.zeros((1,2))])\n",
    "m = mortalite"
   ]
  },
  {
   "cell_type": "markdown",
   "metadata": {},
   "source": [
    "La population a été obtenue lors de l'exercice 1, on la convertit en un objet [numpy](http://www.numpy.org/) :"
   ]
  },
  {
   "cell_type": "code",
   "execution_count": 12,
   "metadata": {
    "collapsed": false
   },
   "outputs": [
    {
     "data": {
      "text/plain": [
       "(120, 2)"
      ]
     },
     "execution_count": 12,
     "metadata": {},
     "output_type": "execute_result"
    }
   ],
   "source": [
    "pop = population[[\"hommes\",\"femmes\"]].as_matrix()\n",
    "pop = numpy.vstack( [pop, numpy.zeros((m.shape[0] - pop.shape[0],2))])\n",
    "pop.shape"
   ]
  },
  {
   "cell_type": "markdown",
   "metadata": {},
   "source": [
    "Ensuite on calcule la population en 2016 :"
   ]
  },
  {
   "cell_type": "code",
   "execution_count": 13,
   "metadata": {
    "collapsed": false
   },
   "outputs": [
    {
     "data": {
      "text/plain": [
       "array([[      0.        ,       0.        ],\n",
       "       [ 389457.19581   ,  372742.15264   ],\n",
       "       [ 403050.02956457,  385314.31382509],\n",
       "       [ 405391.93441436,  386749.4253236 ],\n",
       "       [ 412291.77032761,  391786.09193267]])"
      ]
     },
     "execution_count": 13,
     "metadata": {},
     "output_type": "execute_result"
    }
   ],
   "source": [
    "pop_next = pop * (1-m)\n",
    "pop_next = numpy.vstack([numpy.zeros((1,2)), pop_next[:-1]])\n",
    "pop_next[:5]"
   ]
  },
  {
   "cell_type": "code",
   "execution_count": 14,
   "metadata": {
    "collapsed": false
   },
   "outputs": [
    {
     "data": {
      "text/plain": [
       "array([[ 391371.,  374179.],\n",
       "       [ 403204.,  385442.],\n",
       "       [ 405502.,  386831.],\n",
       "       [ 412383.,  391853.],\n",
       "       [ 416626.,  399632.]])"
      ]
     },
     "execution_count": 14,
     "metadata": {},
     "output_type": "execute_result"
    }
   ],
   "source": [
    "pop[:5]"
   ]
  },
  {
   "cell_type": "code",
   "execution_count": 15,
   "metadata": {
    "collapsed": false
   },
   "outputs": [
    {
     "data": {
      "text/plain": [
       "<matplotlib.axes._subplots.AxesSubplot at 0xb547978>"
      ]
     },
     "execution_count": 15,
     "metadata": {},
     "output_type": "execute_result"
    }
   ],
   "source": [
    "from actuariat_python.plots import plot_population_pyramid\n",
    "plot_population_pyramid(pop_next[:,0], pop_next[:,1])"
   ]
  },
  {
   "cell_type": "markdown",
   "metadata": {},
   "source": [
    "### Exercice 4 : simulation jusqu'en 2100\n",
    "\n",
    "Il s'agit de répéter l'itération effectuée lors de l'exercice précédent. Le plus est de recopier le code dans une fonction et de l'appeler un grand nombre de fois.\n",
    "\n",
    "[comment]: <> (RST: .. index:: simulation)"
   ]
  },
  {
   "cell_type": "code",
   "execution_count": 16,
   "metadata": {
    "collapsed": false
   },
   "outputs": [
    {
     "data": {
      "text/plain": [
       "<matplotlib.axes._subplots.AxesSubplot at 0xc9bf748>"
      ]
     },
     "execution_count": 16,
     "metadata": {},
     "output_type": "execute_result"
    }
   ],
   "source": [
    "def iteration(pop, mortalite):\n",
    "    pop_next = pop * (1-mortalite)\n",
    "    pop_next = numpy.vstack([numpy.zeros((1,2)), pop_next[:-1]]) # aucune naissance\n",
    "    return pop_next\n",
    "\n",
    "popt = pop\n",
    "for year in range(2016, 2051):\n",
    "    popt = iteration(popt, mortalite)\n",
    "                             \n",
    "plot_population_pyramid(popt[:,0], popt[:,1], title=\"Pyramide des âges en 2050\")"
   ]
  },
  {
   "cell_type": "markdown",
   "metadata": {},
   "source": [
    "### Exercice 5 : simulation avec les naissances\n",
    "\n",
    "Dans l'exercice précédent, la seconde ligne de la fonction *iteration* correspond à cas où il n'y a pas de naissance. On veut remplacer cette ligne par quelque chose proche de la réalité :\n",
    "\n",
    "* les naissances sont calculées à partir de la population féminines et de la table de fécondité\n",
    "* on garde la même proportion homme/femme que celle actuellement observée"
   ]
  },
  {
   "cell_type": "code",
   "execution_count": 17,
   "metadata": {
    "collapsed": false
   },
   "outputs": [
    {
     "data": {
      "text/plain": [
       "0.5112285285089152"
      ]
     },
     "execution_count": 17,
     "metadata": {},
     "output_type": "execute_result"
    }
   ],
   "source": [
    "ratio = pop[0,0] / (pop[0,1] + pop[0,0])\n",
    "ratio"
   ]
  },
  {
   "cell_type": "markdown",
   "metadata": {},
   "source": [
    "Il y a un peu plus de garçons qui naissent chaque année."
   ]
  },
  {
   "cell_type": "code",
   "execution_count": 18,
   "metadata": {
    "collapsed": false
   },
   "outputs": [
    {
     "data": {
      "text/html": [
       "<div>\n",
       "<table border=\"1\" class=\"dataframe\">\n",
       "  <thead>\n",
       "    <tr style=\"text-align: right;\">\n",
       "      <th></th>\n",
       "      <th>age</th>\n",
       "      <th>2005</th>\n",
       "      <th>2015</th>\n",
       "    </tr>\n",
       "  </thead>\n",
       "  <tbody>\n",
       "    <tr>\n",
       "      <th>3</th>\n",
       "      <td>15</td>\n",
       "      <td>0.8</td>\n",
       "      <td>0.8</td>\n",
       "    </tr>\n",
       "    <tr>\n",
       "      <th>4</th>\n",
       "      <td>16</td>\n",
       "      <td>2.3</td>\n",
       "      <td>2.3</td>\n",
       "    </tr>\n",
       "    <tr>\n",
       "      <th>5</th>\n",
       "      <td>17</td>\n",
       "      <td>5.8</td>\n",
       "      <td>5.0</td>\n",
       "    </tr>\n",
       "    <tr>\n",
       "      <th>6</th>\n",
       "      <td>18</td>\n",
       "      <td>11.9</td>\n",
       "      <td>9.5</td>\n",
       "    </tr>\n",
       "    <tr>\n",
       "      <th>7</th>\n",
       "      <td>19</td>\n",
       "      <td>22.3</td>\n",
       "      <td>17.2</td>\n",
       "    </tr>\n",
       "  </tbody>\n",
       "</table>\n",
       "</div>"
      ],
      "text/plain": [
       "   age  2005  2015\n",
       "3   15   0.8   0.8\n",
       "4   16   2.3   2.3\n",
       "5   17   5.8   5.0\n",
       "6   18  11.9   9.5\n",
       "7   19  22.3  17.2"
      ]
     },
     "execution_count": 18,
     "metadata": {},
     "output_type": "execute_result"
    }
   ],
   "source": [
    "from actuariat_python.data import fecondite_france\n",
    "df=fecondite_france()\n",
    "df.head()"
   ]
  },
  {
   "cell_type": "code",
   "execution_count": 20,
   "metadata": {
    "collapsed": false
   },
   "outputs": [
    {
     "data": {
      "text/plain": [
       "<matplotlib.axes._subplots.AxesSubplot at 0xd06cf98>"
      ]
     },
     "execution_count": 20,
     "metadata": {},
     "output_type": "execute_result"
    }
   ],
   "source": [
    "from matplotlib import pyplot as plt\n",
    "df.plot(x=\"age\", y=[\"2005\",\"2015\"])"
   ]
  },
  {
   "cell_type": "markdown",
   "metadata": {},
   "source": [
    "On convertit ces données en une matrice numpy sur 120 lignes comme les précédentes. On se sert des méthodes [fillna](http://pandas.pydata.org/pandas-docs/stable/generated/pandas.DataFrame.fillna.html) et [merge](http://pandas.pydata.org/pandas-docs/stable/generated/pandas.DataFrame.merge.html?highlight=merge#pandas.DataFrame.merge)."
   ]
  },
  {
   "cell_type": "code",
   "execution_count": 21,
   "metadata": {
    "collapsed": false
   },
   "outputs": [
    {
     "data": {
      "text/html": [
       "<div>\n",
       "<table border=\"1\" class=\"dataframe\">\n",
       "  <thead>\n",
       "    <tr style=\"text-align: right;\">\n",
       "      <th></th>\n",
       "      <th>age</th>\n",
       "      <th>2005</th>\n",
       "      <th>2015</th>\n",
       "    </tr>\n",
       "  </thead>\n",
       "  <tbody>\n",
       "    <tr>\n",
       "      <th>13</th>\n",
       "      <td>13</td>\n",
       "      <td>0.0</td>\n",
       "      <td>0.0</td>\n",
       "    </tr>\n",
       "    <tr>\n",
       "      <th>14</th>\n",
       "      <td>14</td>\n",
       "      <td>0.0</td>\n",
       "      <td>0.0</td>\n",
       "    </tr>\n",
       "    <tr>\n",
       "      <th>15</th>\n",
       "      <td>15</td>\n",
       "      <td>0.8</td>\n",
       "      <td>0.8</td>\n",
       "    </tr>\n",
       "    <tr>\n",
       "      <th>16</th>\n",
       "      <td>16</td>\n",
       "      <td>2.3</td>\n",
       "      <td>2.3</td>\n",
       "    </tr>\n",
       "  </tbody>\n",
       "</table>\n",
       "</div>"
      ],
      "text/plain": [
       "    age  2005  2015\n",
       "13   13   0.0   0.0\n",
       "14   14   0.0   0.0\n",
       "15   15   0.8   0.8\n",
       "16   16   2.3   2.3"
      ]
     },
     "execution_count": 21,
     "metadata": {},
     "output_type": "execute_result"
    }
   ],
   "source": [
    "ages = pandas.DataFrame(dict(age=range(0,120)))\n",
    "merge = ages.merge(df, left_on=\"age\", right_on=\"age\", how=\"outer\")\n",
    "fecondite = merge.fillna(0.0)\n",
    "fecondite[13:17]"
   ]
  },
  {
   "cell_type": "code",
   "execution_count": 27,
   "metadata": {
    "collapsed": false
   },
   "outputs": [
    {
     "data": {
      "text/plain": [
       "(120, 1)"
      ]
     },
     "execution_count": 27,
     "metadata": {},
     "output_type": "execute_result"
    }
   ],
   "source": [
    "mat_fec = fecondite[[\"2015\"]].as_matrix() / 1000 # les chiffres sont pour 1000 femmes\n",
    "mat_fec.shape"
   ]
  },
  {
   "cell_type": "markdown",
   "metadata": {},
   "source": [
    "Il faut maintenant coder une fonction qui calcule le naissances pour l'année suivantes."
   ]
  },
  {
   "cell_type": "code",
   "execution_count": 28,
   "metadata": {
    "collapsed": false
   },
   "outputs": [
    {
     "data": {
      "text/plain": [
       "801294.71230000001"
      ]
     },
     "execution_count": 28,
     "metadata": {},
     "output_type": "execute_result"
    }
   ],
   "source": [
    "def naissances(pop, fec):\n",
    "    # on suppose que pop est une matrice avec deux colonnes homme, femme\n",
    "    # et que fec est une matrice avec une colonne fécondité\n",
    "    n = pop[:,1] * fec[:,0]\n",
    "    return n.sum()\n",
    "\n",
    "nais = naissances(pop, mat_fec)\n",
    "nais"
   ]
  },
  {
   "cell_type": "markdown",
   "metadata": {},
   "source": [
    "Et on reprend la fonction *iteration* et le code de l'exercice précédent :"
   ]
  },
  {
   "cell_type": "code",
   "execution_count": 29,
   "metadata": {
    "collapsed": false
   },
   "outputs": [
    {
     "data": {
      "text/plain": [
       "<matplotlib.axes._subplots.AxesSubplot at 0xd43f3c8>"
      ]
     },
     "execution_count": 29,
     "metadata": {},
     "output_type": "execute_result"
    }
   ],
   "source": [
    "def iteration(pop, mortalite, fec, ratio):\n",
    "    pop_next = pop * (1-mortalite)\n",
    "    nais = naissances(pop, fec)\n",
    "    row = numpy.array([[nais*ratio, nais*(1-ratio)]])\n",
    "    pop_next = numpy.vstack([row, pop_next[:-1]]) # aucune naissance\n",
    "    return pop_next\n",
    "\n",
    "popt = pop\n",
    "for year in range(2016, 2051):\n",
    "    popt = iteration(popt, m, mat_fec, ratio)\n",
    "                             \n",
    "plot_population_pyramid(popt[:,0], popt[:,1], title=\"Pyramide des âges en 2050\")"
   ]
  },
  {
   "cell_type": "markdown",
   "metadata": {
    "collapsed": true
   },
   "source": [
    "On va plus loin et on stocke la population dans un vecteur :"
   ]
  },
  {
   "cell_type": "code",
   "execution_count": 30,
   "metadata": {
    "collapsed": false
   },
   "outputs": [
    {
     "data": {
      "text/plain": [
       "<matplotlib.axes._subplots.AxesSubplot at 0xe85c860>"
      ]
     },
     "execution_count": 30,
     "metadata": {},
     "output_type": "execute_result"
    }
   ],
   "source": [
    "total = [[2015, pop[:,0].sum(),pop[:,1].sum()]]\n",
    "popt = pop\n",
    "for year in range(2016, 2101):\n",
    "    popt = iteration(popt, m, mat_fec, ratio)\n",
    "    total.append([year, popt[:,0].sum(),popt[:,1].sum()])\n",
    "                             \n",
    "plot_population_pyramid(popt[:,0], popt[:,1], title=\"Pyramide des âges en 2101\")"
   ]
  },
  {
   "cell_type": "code",
   "execution_count": 31,
   "metadata": {
    "collapsed": false
   },
   "outputs": [
    {
     "data": {
      "text/plain": [
       "<matplotlib.axes._subplots.AxesSubplot at 0xed1aba8>"
      ]
     },
     "execution_count": 31,
     "metadata": {},
     "output_type": "execute_result"
    }
   ],
   "source": [
    "df = pandas.DataFrame(data=total, columns=[\"année\",\"hommes\",\"femmes\"])\n",
    "df.plot(x=\"année\", y=[\"hommes\", \"femmes\"], title=\"projection population française\")"
   ]
  },
  {
   "cell_type": "markdown",
   "metadata": {},
   "source": [
    "Le code suivant permet de combiner les deux graphes sur la même ligne avec la fonction [subplots](http://matplotlib.org/api/pyplot_api.html?highlight=subplots#matplotlib.pyplot.subplots) :\n",
    "\n",
    "[comment]: <> (RST: .. index:: subplots)"
   ]
  },
  {
   "cell_type": "code",
   "execution_count": 32,
   "metadata": {
    "collapsed": false
   },
   "outputs": [
    {
     "data": {
      "text/plain": [
       "<matplotlib.axes._subplots.AxesSubplot at 0xf2c22e8>"
      ]
     },
     "execution_count": 32,
     "metadata": {},
     "output_type": "execute_result"
    }
   ],
   "source": [
    "from matplotlib import pyplot as plt\n",
    "fig, ax = plt.subplots(1,2,figsize=(14,6))\n",
    "plot_population_pyramid(popt[:,0], popt[:,1], title=\"Pyramide des âges en 2050\", ax=ax[0])\n",
    "df.plot(x=\"année\", y=[\"hommes\", \"femmes\"], title=\"projection population française\", ax=ax[1])"
   ]
  },
  {
   "cell_type": "markdown",
   "metadata": {
    "collapsed": true
   },
   "source": [
    "### Autre représentation d'une pyramide avec le module pygal\n",
    "\n",
    "Le code suivant utilise le module [pygal](http://pygal.org/) et le notebook [Interactive plots in IPython notebook using pygal](http://ino.pm/blog/ipython-pygal/#.VYM21kbrPtQ) ou celui-ci [pygal.ipynb\n",
    "](https://github.com/yaph/ipython-notebooks/blob/master/pygal.ipynb)."
   ]
  },
  {
   "cell_type": "code",
   "execution_count": 33,
   "metadata": {
    "collapsed": false
   },
   "outputs": [
    {
     "data": {
      "text/html": [
       "<div>\n",
       "<table border=\"1\" class=\"dataframe\">\n",
       "  <thead>\n",
       "    <tr style=\"text-align: right;\">\n",
       "      <th></th>\n",
       "      <th>naissance</th>\n",
       "      <th>age</th>\n",
       "      <th>hommes</th>\n",
       "      <th>femmes</th>\n",
       "      <th>ensemble</th>\n",
       "    </tr>\n",
       "  </thead>\n",
       "  <tbody>\n",
       "    <tr>\n",
       "      <th>8</th>\n",
       "      <td>2015</td>\n",
       "      <td>0</td>\n",
       "      <td>391371</td>\n",
       "      <td>374179</td>\n",
       "      <td>765550</td>\n",
       "    </tr>\n",
       "    <tr>\n",
       "      <th>9</th>\n",
       "      <td>2014</td>\n",
       "      <td>1</td>\n",
       "      <td>403204</td>\n",
       "      <td>385442</td>\n",
       "      <td>788646</td>\n",
       "    </tr>\n",
       "    <tr>\n",
       "      <th>10</th>\n",
       "      <td>2013</td>\n",
       "      <td>2</td>\n",
       "      <td>405502</td>\n",
       "      <td>386831</td>\n",
       "      <td>792333</td>\n",
       "    </tr>\n",
       "  </tbody>\n",
       "</table>\n",
       "</div>"
      ],
      "text/plain": [
       "    naissance  age  hommes  femmes  ensemble\n",
       "8        2015    0  391371  374179    765550\n",
       "9        2014    1  403204  385442    788646\n",
       "10       2013    2  405502  386831    792333"
      ]
     },
     "execution_count": 33,
     "metadata": {},
     "output_type": "execute_result"
    }
   ],
   "source": [
    "from actuariat_python.data import population_france_2015\n",
    "population = population_france_2015()\n",
    "population.head(n=3)"
   ]
  },
  {
   "cell_type": "code",
   "execution_count": 34,
   "metadata": {
    "collapsed": false
   },
   "outputs": [
    {
     "data": {
      "image/svg+xml": [
       "<svg class=\"pygal-chart\" id=\"chart-bd0e4496-71fd-4a97-bd9e-ce9ca0fba0ac\" viewBox=\"0 0 800 600\" xmlns=\"http://www.w3.org/2000/svg\" xmlns:xlink=\"http://www.w3.org/1999/xlink\"><!--Generated with pygal 2.0.10 (lxml) ©Kozea 2011-2015 on 2016-01-23--><!--http://pygal.org--><!--http://github.com/Kozea/pygal--><defs><style type=\"text/css\">#chart-bd0e4496-71fd-4a97-bd9e-ce9ca0fba0ac{-webkit-user-select:none;-webkit-font-smoothing:antialiased;font-family:Consolas,&quot;Liberation Mono&quot;,Menlo,Courier,monospace}#chart-bd0e4496-71fd-4a97-bd9e-ce9ca0fba0ac .title{font-family:Consolas,&quot;Liberation Mono&quot;,Menlo,Courier,monospace;font-size:16px}#chart-bd0e4496-71fd-4a97-bd9e-ce9ca0fba0ac .legends .legend text{font-family:Consolas,&quot;Liberation Mono&quot;,Menlo,Courier,monospace;font-size:14px}#chart-bd0e4496-71fd-4a97-bd9e-ce9ca0fba0ac .axis text{font-family:Consolas,&quot;Liberation Mono&quot;,Menlo,Courier,monospace;font-size:10px}#chart-bd0e4496-71fd-4a97-bd9e-ce9ca0fba0ac .axis text.major{font-family:Consolas,&quot;Liberation Mono&quot;,Menlo,Courier,monospace;font-size:10px}#chart-bd0e4496-71fd-4a97-bd9e-ce9ca0fba0ac .text-overlay text.value{font-family:Consolas,&quot;Liberation Mono&quot;,Menlo,Courier,monospace;font-size:16px}#chart-bd0e4496-71fd-4a97-bd9e-ce9ca0fba0ac .text-overlay text.label{font-family:Consolas,&quot;Liberation Mono&quot;,Menlo,Courier,monospace;font-size:10px}#chart-bd0e4496-71fd-4a97-bd9e-ce9ca0fba0ac .tooltip{font-family:Consolas,&quot;Liberation Mono&quot;,Menlo,Courier,monospace;font-size:14px}#chart-bd0e4496-71fd-4a97-bd9e-ce9ca0fba0ac text.no_data{font-family:Consolas,&quot;Liberation Mono&quot;,Menlo,Courier,monospace;font-size:64px}\n",
       "#chart-bd0e4496-71fd-4a97-bd9e-ce9ca0fba0ac{background-color:rgba(249,249,249,1)}#chart-bd0e4496-71fd-4a97-bd9e-ce9ca0fba0ac path,#chart-bd0e4496-71fd-4a97-bd9e-ce9ca0fba0ac line,#chart-bd0e4496-71fd-4a97-bd9e-ce9ca0fba0ac rect,#chart-bd0e4496-71fd-4a97-bd9e-ce9ca0fba0ac circle{-webkit-transition:150ms;-moz-transition:150ms;transition:150ms}#chart-bd0e4496-71fd-4a97-bd9e-ce9ca0fba0ac .graph &gt; .background{fill:rgba(249,249,249,1)}#chart-bd0e4496-71fd-4a97-bd9e-ce9ca0fba0ac .plot &gt; .background{fill:rgba(255,255,255,1)}#chart-bd0e4496-71fd-4a97-bd9e-ce9ca0fba0ac .graph{fill:rgba(0,0,0,.87)}#chart-bd0e4496-71fd-4a97-bd9e-ce9ca0fba0ac text.no_data{fill:rgba(0,0,0,1)}#chart-bd0e4496-71fd-4a97-bd9e-ce9ca0fba0ac .title{fill:rgba(0,0,0,1)}#chart-bd0e4496-71fd-4a97-bd9e-ce9ca0fba0ac .legends .legend text{fill:rgba(0,0,0,.87)}#chart-bd0e4496-71fd-4a97-bd9e-ce9ca0fba0ac .legends .legend:hover text{fill:rgba(0,0,0,1)}#chart-bd0e4496-71fd-4a97-bd9e-ce9ca0fba0ac .axis .line{stroke:rgba(0,0,0,1)}#chart-bd0e4496-71fd-4a97-bd9e-ce9ca0fba0ac .axis .guide.line{stroke:rgba(0,0,0,.54)}#chart-bd0e4496-71fd-4a97-bd9e-ce9ca0fba0ac .axis .major.line{stroke:rgba(0,0,0,.87)}#chart-bd0e4496-71fd-4a97-bd9e-ce9ca0fba0ac .axis text.major{fill:rgba(0,0,0,1)}#chart-bd0e4496-71fd-4a97-bd9e-ce9ca0fba0ac .axis.y .guides:hover .guide.line,#chart-bd0e4496-71fd-4a97-bd9e-ce9ca0fba0ac .line-graph .axis.x .guides:hover .guide.line,#chart-bd0e4496-71fd-4a97-bd9e-ce9ca0fba0ac .stackedline-graph .axis.x .guides:hover .guide.line,#chart-bd0e4496-71fd-4a97-bd9e-ce9ca0fba0ac .xy-graph .axis.x .guides:hover .guide.line{stroke:rgba(0,0,0,1)}#chart-bd0e4496-71fd-4a97-bd9e-ce9ca0fba0ac .axis .guides:hover text{fill:rgba(0,0,0,1)}#chart-bd0e4496-71fd-4a97-bd9e-ce9ca0fba0ac .reactive{fill-opacity:.7}#chart-bd0e4496-71fd-4a97-bd9e-ce9ca0fba0ac .reactive.active,#chart-bd0e4496-71fd-4a97-bd9e-ce9ca0fba0ac .active .reactive{fill-opacity:.8;stroke-width:4}#chart-bd0e4496-71fd-4a97-bd9e-ce9ca0fba0ac .series text{fill:rgba(0,0,0,1)}#chart-bd0e4496-71fd-4a97-bd9e-ce9ca0fba0ac .tooltip rect{fill:rgba(255,255,255,1);stroke:rgba(0,0,0,1);-webkit-transition:opacity 150ms;-moz-transition:opacity 150ms;transition:opacity 150ms}#chart-bd0e4496-71fd-4a97-bd9e-ce9ca0fba0ac .tooltip .label{fill:rgba(0,0,0,.87)}#chart-bd0e4496-71fd-4a97-bd9e-ce9ca0fba0ac .tooltip .label{fill:rgba(0,0,0,.87)}#chart-bd0e4496-71fd-4a97-bd9e-ce9ca0fba0ac .tooltip .legend{font-size:.8em;fill:rgba(0,0,0,.54)}#chart-bd0e4496-71fd-4a97-bd9e-ce9ca0fba0ac .tooltip .x_label{font-size:.6em;fill:rgba(0,0,0,1)}#chart-bd0e4496-71fd-4a97-bd9e-ce9ca0fba0ac .tooltip .xlink{font-size:.5em;text-decoration:underline}#chart-bd0e4496-71fd-4a97-bd9e-ce9ca0fba0ac .tooltip .value{font-size:1.5em}#chart-bd0e4496-71fd-4a97-bd9e-ce9ca0fba0ac .map-element{fill:rgba(255,255,255,1);stroke:rgba(0,0,0,.54) !important}#chart-bd0e4496-71fd-4a97-bd9e-ce9ca0fba0ac .map-element .reactive{fill-opacity:inherit}#chart-bd0e4496-71fd-4a97-bd9e-ce9ca0fba0ac .color-0,#chart-bd0e4496-71fd-4a97-bd9e-ce9ca0fba0ac .color-0 a:visited{stroke:#F44336;fill:#F44336}#chart-bd0e4496-71fd-4a97-bd9e-ce9ca0fba0ac .color-1,#chart-bd0e4496-71fd-4a97-bd9e-ce9ca0fba0ac .color-1 a:visited{stroke:#3F51B5;fill:#3F51B5}#chart-bd0e4496-71fd-4a97-bd9e-ce9ca0fba0ac .text-overlay .color-0 text{fill:black}#chart-bd0e4496-71fd-4a97-bd9e-ce9ca0fba0ac .text-overlay .color-1 text{fill:black}\n",
       "#chart-bd0e4496-71fd-4a97-bd9e-ce9ca0fba0ac text.no_data{text-anchor:middle}#chart-bd0e4496-71fd-4a97-bd9e-ce9ca0fba0ac .guide.line{fill:none}#chart-bd0e4496-71fd-4a97-bd9e-ce9ca0fba0ac .centered{text-anchor:middle}#chart-bd0e4496-71fd-4a97-bd9e-ce9ca0fba0ac .title{text-anchor:middle}#chart-bd0e4496-71fd-4a97-bd9e-ce9ca0fba0ac .legends .legend text{fill-opacity:1}#chart-bd0e4496-71fd-4a97-bd9e-ce9ca0fba0ac .axis.x text{text-anchor:middle}#chart-bd0e4496-71fd-4a97-bd9e-ce9ca0fba0ac .axis.x:not(.web) text[transform]{text-anchor:start}#chart-bd0e4496-71fd-4a97-bd9e-ce9ca0fba0ac .axis.x:not(.web) text[transform].backwards{text-anchor:end}#chart-bd0e4496-71fd-4a97-bd9e-ce9ca0fba0ac .axis.y text{text-anchor:end}#chart-bd0e4496-71fd-4a97-bd9e-ce9ca0fba0ac .axis.y text[transform].backwards{text-anchor:start}#chart-bd0e4496-71fd-4a97-bd9e-ce9ca0fba0ac .axis.y2 text{text-anchor:start}#chart-bd0e4496-71fd-4a97-bd9e-ce9ca0fba0ac .axis.y2 text[transform].backwards{text-anchor:end}#chart-bd0e4496-71fd-4a97-bd9e-ce9ca0fba0ac .axis .guide.line{stroke-dasharray:4,4}#chart-bd0e4496-71fd-4a97-bd9e-ce9ca0fba0ac .axis .major.guide.line{stroke-dasharray:6,6}#chart-bd0e4496-71fd-4a97-bd9e-ce9ca0fba0ac .horizontal .axis.y .guide.line,#chart-bd0e4496-71fd-4a97-bd9e-ce9ca0fba0ac .horizontal .axis.y2 .guide.line,#chart-bd0e4496-71fd-4a97-bd9e-ce9ca0fba0ac .vertical .axis.x .guide.line{opacity:0}#chart-bd0e4496-71fd-4a97-bd9e-ce9ca0fba0ac .horizontal .axis.always_show .guide.line,#chart-bd0e4496-71fd-4a97-bd9e-ce9ca0fba0ac .vertical .axis.always_show .guide.line{opacity:1 !important}#chart-bd0e4496-71fd-4a97-bd9e-ce9ca0fba0ac .axis.y .guides:hover .guide.line,#chart-bd0e4496-71fd-4a97-bd9e-ce9ca0fba0ac .axis.y2 .guides:hover .guide.line,#chart-bd0e4496-71fd-4a97-bd9e-ce9ca0fba0ac .axis.x .guides:hover .guide.line{opacity:1}#chart-bd0e4496-71fd-4a97-bd9e-ce9ca0fba0ac .axis .guides:hover text{opacity:1}#chart-bd0e4496-71fd-4a97-bd9e-ce9ca0fba0ac .nofill{fill:none}#chart-bd0e4496-71fd-4a97-bd9e-ce9ca0fba0ac .subtle-fill{fill-opacity:.2}#chart-bd0e4496-71fd-4a97-bd9e-ce9ca0fba0ac .dot{stroke-width:1px;fill-opacity:1}#chart-bd0e4496-71fd-4a97-bd9e-ce9ca0fba0ac .dot.active{stroke-width:5px}#chart-bd0e4496-71fd-4a97-bd9e-ce9ca0fba0ac .dot.negative{fill:transparent}#chart-bd0e4496-71fd-4a97-bd9e-ce9ca0fba0ac text,#chart-bd0e4496-71fd-4a97-bd9e-ce9ca0fba0ac tspan{stroke:none !important}#chart-bd0e4496-71fd-4a97-bd9e-ce9ca0fba0ac .series text.active{opacity:1}#chart-bd0e4496-71fd-4a97-bd9e-ce9ca0fba0ac .tooltip rect{fill-opacity:.95;stroke-width:.5}#chart-bd0e4496-71fd-4a97-bd9e-ce9ca0fba0ac .tooltip text{fill-opacity:1}#chart-bd0e4496-71fd-4a97-bd9e-ce9ca0fba0ac .showable{visibility:hidden}#chart-bd0e4496-71fd-4a97-bd9e-ce9ca0fba0ac .showable.shown{visibility:visible}</style><script type=\"text/javascript\">window.pygal = window.pygal || {};window.pygal.config = window.pygal.config || {};window.pygal.config['bd0e4496-71fd-4a97-bd9e-ce9ca0fba0ac'] = {&quot;strict&quot;: false, &quot;margin_bottom&quot;: null, &quot;value_formatter&quot;: null, &quot;legends&quot;: [&quot;hommes&quot;, &quot;femmes&quot;], &quot;fill&quot;: false, &quot;y_labels_major_every&quot;: null, &quot;x_labels_major&quot;: null, &quot;defs&quot;: [], &quot;disable_xml_declaration&quot;: false, &quot;no_data_text&quot;: &quot;No data&quot;, &quot;explicit_size&quot;: false, &quot;interpolate&quot;: null, &quot;truncate_legend&quot;: null, &quot;y_labels_major_count&quot;: null, &quot;half_pie&quot;: false, &quot;xrange&quot;: null, &quot;style&quot;: {&quot;background&quot;: &quot;rgba(249, 249, 249, 1)&quot;, &quot;major_label_font_size&quot;: 10, &quot;foreground_strong&quot;: &quot;rgba(0, 0, 0, 1)&quot;, &quot;value_font_size&quot;: 16, &quot;major_guide_stroke_dasharray&quot;: &quot;6,6&quot;, &quot;guide_stroke_dasharray&quot;: &quot;4,4&quot;, &quot;opacity&quot;: &quot;.7&quot;, &quot;tooltip_font_family&quot;: &quot;Consolas, \\&quot;Liberation Mono\\&quot;, Menlo, Courier, monospace&quot;, &quot;no_data_font_size&quot;: 64, &quot;value_font_family&quot;: &quot;Consolas, \\&quot;Liberation Mono\\&quot;, Menlo, Courier, monospace&quot;, &quot;plot_background&quot;: &quot;rgba(255, 255, 255, 1)&quot;, &quot;value_label_font_family&quot;: &quot;Consolas, \\&quot;Liberation Mono\\&quot;, Menlo, Courier, monospace&quot;, &quot;legend_font_family&quot;: &quot;Consolas, \\&quot;Liberation Mono\\&quot;, Menlo, Courier, monospace&quot;, &quot;label_font_size&quot;: 10, &quot;legend_font_size&quot;: 14, &quot;no_data_font_family&quot;: &quot;Consolas, \\&quot;Liberation Mono\\&quot;, Menlo, Courier, monospace&quot;, &quot;tooltip_font_size&quot;: 14, &quot;title_font_family&quot;: &quot;Consolas, \\&quot;Liberation Mono\\&quot;, Menlo, Courier, monospace&quot;, &quot;foreground_subtle&quot;: &quot;rgba(0, 0, 0, .54)&quot;, &quot;value_label_font_size&quot;: 10, &quot;opacity_hover&quot;: &quot;.8&quot;, &quot;label_font_family&quot;: &quot;Consolas, \\&quot;Liberation Mono\\&quot;, Menlo, Courier, monospace&quot;, &quot;colors&quot;: [&quot;#F44336&quot;, &quot;#3F51B5&quot;, &quot;#009688&quot;, &quot;#FFC107&quot;, &quot;#FF5722&quot;, &quot;#9C27B0&quot;, &quot;#03A9F4&quot;, &quot;#8BC34A&quot;, &quot;#FF9800&quot;, &quot;#E91E63&quot;, &quot;#2196F3&quot;, &quot;#4CAF50&quot;, &quot;#FFEB3B&quot;, &quot;#673AB7&quot;, &quot;#00BCD4&quot;, &quot;#CDDC39&quot;, &quot;#795548&quot;, &quot;#9E9E9E&quot;, &quot;#607D8B&quot;], &quot;transition&quot;: &quot;150ms&quot;, &quot;font_family&quot;: &quot;Consolas, \\&quot;Liberation Mono\\&quot;, Menlo, Courier, monospace&quot;, &quot;title_font_size&quot;: 16, &quot;foreground&quot;: &quot;rgba(0, 0, 0, .87)&quot;, &quot;major_label_font_family&quot;: &quot;Consolas, \\&quot;Liberation Mono\\&quot;, Menlo, Courier, monospace&quot;, &quot;value_colors&quot;: []}, &quot;min_scale&quot;: 4, &quot;stroke_style&quot;: null, &quot;inner_radius&quot;: 0, &quot;show_y_labels&quot;: true, &quot;logarithmic&quot;: false, &quot;range&quot;: null, &quot;include_x_axis&quot;: false, &quot;pretty_print&quot;: false, &quot;x_title&quot;: null, &quot;legend_at_bottom_columns&quot;: null, &quot;y_title&quot;: null, &quot;interpolation_parameters&quot;: {}, &quot;margin_left&quot;: null, &quot;interpolation_precision&quot;: 250, &quot;missing_value_fill_truncation&quot;: &quot;x&quot;, &quot;dots_size&quot;: 2.5, &quot;legend_at_bottom&quot;: true, &quot;order_min&quot;: null, &quot;margin_right&quot;: null, &quot;stack_from_top&quot;: false, &quot;height&quot;: 600, &quot;show_only_major_dots&quot;: false, &quot;force_uri_protocol&quot;: null, &quot;max_scale&quot;: 16, &quot;truncate_label&quot;: null, &quot;margin&quot;: 20, &quot;x_labels&quot;: [&quot;0&quot;, &quot;&quot;, &quot;&quot;, &quot;&quot;, &quot;&quot;, &quot;5&quot;, &quot;&quot;, &quot;&quot;, &quot;&quot;, &quot;&quot;, &quot;10&quot;, &quot;&quot;, &quot;&quot;, &quot;&quot;, &quot;&quot;, &quot;15&quot;, &quot;&quot;, &quot;&quot;, &quot;&quot;, &quot;&quot;, &quot;20&quot;, &quot;&quot;, &quot;&quot;, &quot;&quot;, &quot;&quot;, &quot;25&quot;, &quot;&quot;, &quot;&quot;, &quot;&quot;, &quot;&quot;, &quot;30&quot;, &quot;&quot;, &quot;&quot;, &quot;&quot;, &quot;&quot;, &quot;35&quot;, &quot;&quot;, &quot;&quot;, &quot;&quot;, &quot;&quot;, &quot;40&quot;, &quot;&quot;, &quot;&quot;, &quot;&quot;, &quot;&quot;, &quot;45&quot;, &quot;&quot;, &quot;&quot;, &quot;&quot;, &quot;&quot;, &quot;50&quot;, &quot;&quot;, &quot;&quot;, &quot;&quot;, &quot;&quot;, &quot;55&quot;, &quot;&quot;, &quot;&quot;, &quot;&quot;, &quot;&quot;, &quot;60&quot;, &quot;&quot;, &quot;&quot;, &quot;&quot;, &quot;&quot;, &quot;65&quot;, &quot;&quot;, &quot;&quot;, &quot;&quot;, &quot;&quot;, &quot;70&quot;, &quot;&quot;, &quot;&quot;, &quot;&quot;, &quot;&quot;, &quot;75&quot;, &quot;&quot;, &quot;&quot;, &quot;&quot;, &quot;&quot;, &quot;80&quot;, &quot;&quot;, &quot;&quot;, &quot;&quot;, &quot;&quot;, &quot;85&quot;, &quot;&quot;, &quot;&quot;, &quot;&quot;, &quot;&quot;, &quot;90&quot;, &quot;&quot;, &quot;&quot;, &quot;&quot;, &quot;&quot;, &quot;95&quot;, &quot;&quot;, &quot;&quot;, &quot;&quot;, &quot;&quot;, &quot;100&quot;], &quot;box_mode&quot;: &quot;extremes&quot;, &quot;show_dots&quot;: true, &quot;show_minor_y_labels&quot;: true, &quot;y_labels&quot;: null, &quot;x_labels_major_count&quot;: null, &quot;show_y_guides&quot;: true, &quot;spacing&quot;: 10, &quot;no_prefix&quot;: false, &quot;margin_top&quot;: null, &quot;y_label_rotation&quot;: 0, &quot;js&quot;: [&quot;//kozea.github.io/pygal.js/2.0.x/pygal-tooltips.min.js&quot;], &quot;title&quot;: &quot;Population fran\\u00e7aise en 2015&quot;, &quot;inverse_y_axis&quot;: false, &quot;human_readable&quot;: true, &quot;show_minor_x_labels&quot;: true, &quot;legend_box_size&quot;: 12, &quot;x_labels_major_every&quot;: null, &quot;css&quot;: [&quot;file://style.css&quot;, &quot;file://graph.css&quot;], &quot;secondary_range&quot;: null, &quot;print_labels&quot;: false, &quot;x_label_rotation&quot;: 0, &quot;print_zeroes&quot;: true, &quot;tooltip_fancy_mode&quot;: true, &quot;dynamic_print_values&quot;: false, &quot;x_value_formatter&quot;: null, &quot;rounded_bars&quot;: null, &quot;print_values&quot;: false, &quot;show_legend&quot;: true, &quot;zero&quot;: 0, &quot;stroke&quot;: true, &quot;show_x_guides&quot;: false, &quot;y_labels_major&quot;: null, &quot;width&quot;: 800, &quot;show_x_labels&quot;: true, &quot;tooltip_border_radius&quot;: 0}</script><script type=\"text/javascript\" xlink:href=\"//kozea.github.io/pygal.js/2.0.x/pygal-tooltips.min.js\"/></defs><title>Population française en 2015</title><g class=\"graph pyramid-graph horizontal\"><rect class=\"background\" height=\"600\" width=\"800\" x=\"0\" y=\"0\"/><g class=\"plot\" transform=\"translate(48, 46)\"><rect class=\"background\" height=\"469.0\" width=\"732.0\" x=\"0\" y=\"0\"/><g class=\"axis y\"><path class=\"line\" d=\"M0.000000 469.000000 h732.000000\"/><g class=\"guides\"><path class=\"axis guide line\" d=\"M0.000000 457.748286 h732.000000\"/><text class=\"\" x=\"-5\" y=\"461.2482863670983\">0</text><title>4.95m</title></g><g class=\"guides\"><path class=\"guide line\" d=\"M0.000000 453.283321 h732.000000\"/><text class=\"\" x=\"-5\" y=\"456.7833206397563\"/><title>14.851m</title></g><g class=\"guides\"><path class=\"guide line\" d=\"M0.000000 448.818355 h732.000000\"/><text class=\"\" x=\"-5\" y=\"452.3183549124143\"/><title>24.752m</title></g><g class=\"guides\"><path class=\"guide line\" d=\"M0.000000 444.353389 h732.000000\"/><text class=\"\" x=\"-5\" y=\"447.85338918507233\"/><title>34.653m</title></g><g class=\"guides\"><path class=\"guide line\" d=\"M0.000000 439.888423 h732.000000\"/><text class=\"\" x=\"-5\" y=\"443.38842345773037\"/><title>44.554m</title></g><g class=\"guides\"><path class=\"guide line\" d=\"M0.000000 435.423458 h732.000000\"/><text class=\"\" x=\"-5\" y=\"438.9234577303884\">5</text><title>54.455m</title></g><g class=\"guides\"><path class=\"guide line\" d=\"M0.000000 430.958492 h732.000000\"/><text class=\"\" x=\"-5\" y=\"434.45849200304644\"/><title>64.356m</title></g><g class=\"guides\"><path class=\"guide line\" d=\"M0.000000 426.493526 h732.000000\"/><text class=\"\" x=\"-5\" y=\"429.9935262757045\"/><title>74.257m</title></g><g class=\"guides\"><path class=\"guide line\" d=\"M0.000000 422.028561 h732.000000\"/><text class=\"\" x=\"-5\" y=\"425.5285605483625\"/><title>84.158m</title></g><g class=\"guides\"><path class=\"guide line\" d=\"M0.000000 417.563595 h732.000000\"/><text class=\"\" x=\"-5\" y=\"421.06359482102056\"/><title>94.059m</title></g><g class=\"guides\"><path class=\"guide line\" d=\"M0.000000 413.098629 h732.000000\"/><text class=\"\" x=\"-5\" y=\"416.5986290936786\">10</text><title>103.96m</title></g><g class=\"guides\"><path class=\"guide line\" d=\"M0.000000 408.633663 h732.000000\"/><text class=\"\" x=\"-5\" y=\"412.13366336633663\"/><title>113.861m</title></g><g class=\"guides\"><path class=\"guide line\" d=\"M0.000000 404.168698 h732.000000\"/><text class=\"\" x=\"-5\" y=\"407.6686976389947\"/><title>123.762m</title></g><g class=\"guides\"><path class=\"guide line\" d=\"M0.000000 399.703732 h732.000000\"/><text class=\"\" x=\"-5\" y=\"403.2037319116527\"/><title>133.663m</title></g><g class=\"guides\"><path class=\"guide line\" d=\"M0.000000 395.238766 h732.000000\"/><text class=\"\" x=\"-5\" y=\"398.73876618431075\"/><title>143.564m</title></g><g class=\"guides\"><path class=\"guide line\" d=\"M0.000000 390.773800 h732.000000\"/><text class=\"\" x=\"-5\" y=\"394.2738004569688\">15</text><title>153.465m</title></g><g class=\"guides\"><path class=\"guide line\" d=\"M0.000000 386.308835 h732.000000\"/><text class=\"\" x=\"-5\" y=\"389.8088347296268\"/><title>163.366m</title></g><g class=\"guides\"><path class=\"guide line\" d=\"M0.000000 381.843869 h732.000000\"/><text class=\"\" x=\"-5\" y=\"385.34386900228486\"/><title>173.267m</title></g><g class=\"guides\"><path class=\"guide line\" d=\"M0.000000 377.378903 h732.000000\"/><text class=\"\" x=\"-5\" y=\"380.8789032749429\"/><title>183.168m</title></g><g class=\"guides\"><path class=\"guide line\" d=\"M0.000000 372.913938 h732.000000\"/><text class=\"\" x=\"-5\" y=\"376.41393754760094\"/><title>193.069m</title></g><g class=\"guides\"><path class=\"guide line\" d=\"M0.000000 368.448972 h732.000000\"/><text class=\"\" x=\"-5\" y=\"371.948971820259\">20</text><title>202.97m</title></g><g class=\"guides\"><path class=\"guide line\" d=\"M0.000000 363.984006 h732.000000\"/><text class=\"\" x=\"-5\" y=\"367.484006092917\"/><title>212.871m</title></g><g class=\"guides\"><path class=\"guide line\" d=\"M0.000000 359.519040 h732.000000\"/><text class=\"\" x=\"-5\" y=\"363.01904036557505\"/><title>222.772m</title></g><g class=\"guides\"><path class=\"guide line\" d=\"M0.000000 355.054075 h732.000000\"/><text class=\"\" x=\"-5\" y=\"358.55407463823303\"/><title>232.673m</title></g><g class=\"guides\"><path class=\"guide line\" d=\"M0.000000 350.589109 h732.000000\"/><text class=\"\" x=\"-5\" y=\"354.08910891089107\"/><title>242.574m</title></g><g class=\"guides\"><path class=\"guide line\" d=\"M0.000000 346.124143 h732.000000\"/><text class=\"\" x=\"-5\" y=\"349.6241431835491\">25</text><title>252.475m</title></g><g class=\"guides\"><path class=\"guide line\" d=\"M0.000000 341.659177 h732.000000\"/><text class=\"\" x=\"-5\" y=\"345.15917745620715\"/><title>262.376m</title></g><g class=\"guides\"><path class=\"guide line\" d=\"M0.000000 337.194212 h732.000000\"/><text class=\"\" x=\"-5\" y=\"340.6942117288652\"/><title>272.277m</title></g><g class=\"guides\"><path class=\"guide line\" d=\"M0.000000 332.729246 h732.000000\"/><text class=\"\" x=\"-5\" y=\"336.2292460015232\"/><title>282.178m</title></g><g class=\"guides\"><path class=\"guide line\" d=\"M0.000000 328.264280 h732.000000\"/><text class=\"\" x=\"-5\" y=\"331.76428027418126\"/><title>292.079m</title></g><g class=\"guides\"><path class=\"guide line\" d=\"M0.000000 323.799315 h732.000000\"/><text class=\"\" x=\"-5\" y=\"327.2993145468393\">30</text><title>301.98m</title></g><g class=\"guides\"><path class=\"guide line\" d=\"M0.000000 319.334349 h732.000000\"/><text class=\"\" x=\"-5\" y=\"322.83434881949734\"/><title>311.881m</title></g><g class=\"guides\"><path class=\"guide line\" d=\"M0.000000 314.869383 h732.000000\"/><text class=\"\" x=\"-5\" y=\"318.3693830921553\"/><title>321.782m</title></g><g class=\"guides\"><path class=\"guide line\" d=\"M0.000000 310.404417 h732.000000\"/><text class=\"\" x=\"-5\" y=\"313.9044173648134\"/><title>331.683m</title></g><g class=\"guides\"><path class=\"guide line\" d=\"M0.000000 305.939452 h732.000000\"/><text class=\"\" x=\"-5\" y=\"309.4394516374714\"/><title>341.584m</title></g><g class=\"guides\"><path class=\"guide line\" d=\"M0.000000 301.474486 h732.000000\"/><text class=\"\" x=\"-5\" y=\"304.9744859101295\">35</text><title>351.485m</title></g><g class=\"guides\"><path class=\"guide line\" d=\"M0.000000 297.009520 h732.000000\"/><text class=\"\" x=\"-5\" y=\"300.50952018278747\"/><title>361.386m</title></g><g class=\"guides\"><path class=\"guide line\" d=\"M0.000000 292.544554 h732.000000\"/><text class=\"\" x=\"-5\" y=\"296.04455445544556\"/><title>371.287m</title></g><g class=\"guides\"><path class=\"guide line\" d=\"M0.000000 288.079589 h732.000000\"/><text class=\"\" x=\"-5\" y=\"291.57958872810354\"/><title>381.188m</title></g><g class=\"guides\"><path class=\"guide line\" d=\"M0.000000 283.614623 h732.000000\"/><text class=\"\" x=\"-5\" y=\"287.11462300076164\"/><title>391.089m</title></g><g class=\"guides\"><path class=\"guide line\" d=\"M0.000000 279.149657 h732.000000\"/><text class=\"\" x=\"-5\" y=\"282.6496572734196\">40</text><title>400.99m</title></g><g class=\"guides\"><path class=\"guide line\" d=\"M0.000000 274.684692 h732.000000\"/><text class=\"\" x=\"-5\" y=\"278.1846915460777\"/><title>410.891m</title></g><g class=\"guides\"><path class=\"guide line\" d=\"M0.000000 270.219726 h732.000000\"/><text class=\"\" x=\"-5\" y=\"273.7197258187357\"/><title>420.792m</title></g><g class=\"guides\"><path class=\"guide line\" d=\"M0.000000 265.754760 h732.000000\"/><text class=\"\" x=\"-5\" y=\"269.25476009139373\"/><title>430.693m</title></g><g class=\"guides\"><path class=\"guide line\" d=\"M0.000000 261.289794 h732.000000\"/><text class=\"\" x=\"-5\" y=\"264.7897943640518\"/><title>440.594m</title></g><g class=\"guides\"><path class=\"guide line\" d=\"M0.000000 256.824829 h732.000000\"/><text class=\"\" x=\"-5\" y=\"260.3248286367098\">45</text><title>450.495m</title></g><g class=\"guides\"><path class=\"guide line\" d=\"M0.000000 252.359863 h732.000000\"/><text class=\"\" x=\"-5\" y=\"255.85986290936785\"/><title>460.396m</title></g><g class=\"guides\"><path class=\"guide line\" d=\"M0.000000 247.894897 h732.000000\"/><text class=\"\" x=\"-5\" y=\"251.39489718202591\"/><title>470.297m</title></g><g class=\"guides\"><path class=\"guide line\" d=\"M0.000000 243.429931 h732.000000\"/><text class=\"\" x=\"-5\" y=\"246.92993145468395\"/><title>480.198m</title></g><g class=\"guides\"><path class=\"guide line\" d=\"M0.000000 238.964966 h732.000000\"/><text class=\"\" x=\"-5\" y=\"242.46496572734196\"/><title>490.099m</title></g><g class=\"guides\"><path class=\"guide line\" d=\"M0.000000 234.500000 h732.000000\"/><text class=\"\" x=\"-5\" y=\"238.0\">50</text><title>500m</title></g><g class=\"guides\"><path class=\"guide line\" d=\"M0.000000 230.035034 h732.000000\"/><text class=\"\" x=\"-5\" y=\"233.53503427265804\"/><title>509.901m</title></g><g class=\"guides\"><path class=\"guide line\" d=\"M0.000000 225.570069 h732.000000\"/><text class=\"\" x=\"-5\" y=\"229.07006854531605\"/><title>519.802m</title></g><g class=\"guides\"><path class=\"guide line\" d=\"M0.000000 221.105103 h732.000000\"/><text class=\"\" x=\"-5\" y=\"224.60510281797406\"/><title>529.703m</title></g><g class=\"guides\"><path class=\"guide line\" d=\"M0.000000 216.640137 h732.000000\"/><text class=\"\" x=\"-5\" y=\"220.14013709063215\"/><title>539.604m</title></g><g class=\"guides\"><path class=\"guide line\" d=\"M0.000000 212.175171 h732.000000\"/><text class=\"\" x=\"-5\" y=\"215.67517136329013\">55</text><title>549.505m</title></g><g class=\"guides\"><path class=\"guide line\" d=\"M0.000000 207.710206 h732.000000\"/><text class=\"\" x=\"-5\" y=\"211.21020563594817\"/><title>559.406m</title></g><g class=\"guides\"><path class=\"guide line\" d=\"M0.000000 203.245240 h732.000000\"/><text class=\"\" x=\"-5\" y=\"206.74523990860627\"/><title>569.307m</title></g><g class=\"guides\"><path class=\"guide line\" d=\"M0.000000 198.780274 h732.000000\"/><text class=\"\" x=\"-5\" y=\"202.2802741812643\"/><title>579.208m</title></g><g class=\"guides\"><path class=\"guide line\" d=\"M0.000000 194.315308 h732.000000\"/><text class=\"\" x=\"-5\" y=\"197.81530845392234\"/><title>589.109m</title></g><g class=\"guides\"><path class=\"guide line\" d=\"M0.000000 189.850343 h732.000000\"/><text class=\"\" x=\"-5\" y=\"193.35034272658038\">60</text><title>599.01m</title></g><g class=\"guides\"><path class=\"guide line\" d=\"M0.000000 185.385377 h732.000000\"/><text class=\"\" x=\"-5\" y=\"188.88537699923836\"/><title>608.911m</title></g><g class=\"guides\"><path class=\"guide line\" d=\"M0.000000 180.920411 h732.000000\"/><text class=\"\" x=\"-5\" y=\"184.42041127189646\"/><title>618.812m</title></g><g class=\"guides\"><path class=\"guide line\" d=\"M0.000000 176.455446 h732.000000\"/><text class=\"\" x=\"-5\" y=\"179.9554455445545\"/><title>628.713m</title></g><g class=\"guides\"><path class=\"guide line\" d=\"M0.000000 171.990480 h732.000000\"/><text class=\"\" x=\"-5\" y=\"175.49047981721247\"/><title>638.614m</title></g><g class=\"guides\"><path class=\"guide line\" d=\"M0.000000 167.525514 h732.000000\"/><text class=\"\" x=\"-5\" y=\"171.0255140898705\">65</text><title>648.515m</title></g><g class=\"guides\"><path class=\"guide line\" d=\"M0.000000 163.060548 h732.000000\"/><text class=\"\" x=\"-5\" y=\"166.56054836252855\"/><title>658.416m</title></g><g class=\"guides\"><path class=\"guide line\" d=\"M0.000000 158.595583 h732.000000\"/><text class=\"\" x=\"-5\" y=\"162.0955826351866\"/><title>668.317m</title></g><g class=\"guides\"><path class=\"guide line\" d=\"M0.000000 154.130617 h732.000000\"/><text class=\"\" x=\"-5\" y=\"157.63061690784463\"/><title>678.218m</title></g><g class=\"guides\"><path class=\"guide line\" d=\"M0.000000 149.665651 h732.000000\"/><text class=\"\" x=\"-5\" y=\"153.16565118050266\"/><title>688.119m</title></g><g class=\"guides\"><path class=\"guide line\" d=\"M0.000000 145.200685 h732.000000\"/><text class=\"\" x=\"-5\" y=\"148.7006854531607\">70</text><title>698.02m</title></g><g class=\"guides\"><path class=\"guide line\" d=\"M0.000000 140.735720 h732.000000\"/><text class=\"\" x=\"-5\" y=\"144.2357197258188\"/><title>707.921m</title></g><g class=\"guides\"><path class=\"guide line\" d=\"M0.000000 136.270754 h732.000000\"/><text class=\"\" x=\"-5\" y=\"139.77075399847678\"/><title>717.822m</title></g><g class=\"guides\"><path class=\"guide line\" d=\"M0.000000 131.805788 h732.000000\"/><text class=\"\" x=\"-5\" y=\"135.30578827113482\"/><title>727.723m</title></g><g class=\"guides\"><path class=\"guide line\" d=\"M0.000000 127.340823 h732.000000\"/><text class=\"\" x=\"-5\" y=\"130.84082254379285\"/><title>737.624m</title></g><g class=\"guides\"><path class=\"guide line\" d=\"M0.000000 122.875857 h732.000000\"/><text class=\"\" x=\"-5\" y=\"126.37585681645083\">75</text><title>747.525m</title></g><g class=\"guides\"><path class=\"guide line\" d=\"M0.000000 118.410891 h732.000000\"/><text class=\"\" x=\"-5\" y=\"121.91089108910893\"/><title>757.426m</title></g><g class=\"guides\"><path class=\"guide line\" d=\"M0.000000 113.945925 h732.000000\"/><text class=\"\" x=\"-5\" y=\"117.44592536176697\"/><title>767.327m</title></g><g class=\"guides\"><path class=\"guide line\" d=\"M0.000000 109.480960 h732.000000\"/><text class=\"\" x=\"-5\" y=\"112.98095963442495\"/><title>777.228m</title></g><g class=\"guides\"><path class=\"guide line\" d=\"M0.000000 105.015994 h732.000000\"/><text class=\"\" x=\"-5\" y=\"108.51599390708299\"/><title>787.129m</title></g><g class=\"guides\"><path class=\"guide line\" d=\"M0.000000 100.551028 h732.000000\"/><text class=\"\" x=\"-5\" y=\"104.05102817974108\">80</text><title>797.03m</title></g><g class=\"guides\"><path class=\"guide line\" d=\"M0.000000 96.086062 h732.000000\"/><text class=\"\" x=\"-5\" y=\"99.58606245239906\"/><title>806.931m</title></g><g class=\"guides\"><path class=\"guide line\" d=\"M0.000000 91.621097 h732.000000\"/><text class=\"\" x=\"-5\" y=\"95.12109672505716\"/><title>816.832m</title></g><g class=\"guides\"><path class=\"guide line\" d=\"M0.000000 87.156131 h732.000000\"/><text class=\"\" x=\"-5\" y=\"90.65613099771514\"/><title>826.733m</title></g><g class=\"guides\"><path class=\"guide line\" d=\"M0.000000 82.691165 h732.000000\"/><text class=\"\" x=\"-5\" y=\"86.19116527037318\"/><title>836.634m</title></g><g class=\"guides\"><path class=\"guide line\" d=\"M0.000000 78.226200 h732.000000\"/><text class=\"\" x=\"-5\" y=\"81.72619954303127\">85</text><title>846.535m</title></g><g class=\"guides\"><path class=\"guide line\" d=\"M0.000000 73.761234 h732.000000\"/><text class=\"\" x=\"-5\" y=\"77.26123381568925\"/><title>856.436m</title></g><g class=\"guides\"><path class=\"guide line\" d=\"M0.000000 69.296268 h732.000000\"/><text class=\"\" x=\"-5\" y=\"72.79626808834729\"/><title>866.337m</title></g><g class=\"guides\"><path class=\"guide line\" d=\"M0.000000 64.831302 h732.000000\"/><text class=\"\" x=\"-5\" y=\"68.33130236100533\"/><title>876.238m</title></g><g class=\"guides\"><path class=\"guide line\" d=\"M0.000000 60.366337 h732.000000\"/><text class=\"\" x=\"-5\" y=\"63.866336633663366\"/><title>886.139m</title></g><g class=\"guides\"><path class=\"guide line\" d=\"M0.000000 55.901371 h732.000000\"/><text class=\"\" x=\"-5\" y=\"59.401370906321404\">90</text><title>896.04m</title></g><g class=\"guides\"><path class=\"guide line\" d=\"M0.000000 51.436405 h732.000000\"/><text class=\"\" x=\"-5\" y=\"54.93640517897944\"/><title>905.941m</title></g><g class=\"guides\"><path class=\"guide line\" d=\"M0.000000 46.971439 h732.000000\"/><text class=\"\" x=\"-5\" y=\"50.47143945163742\"/><title>915.842m</title></g><g class=\"guides\"><path class=\"guide line\" d=\"M0.000000 42.506474 h732.000000\"/><text class=\"\" x=\"-5\" y=\"46.00647372429552\"/><title>925.743m</title></g><g class=\"guides\"><path class=\"guide line\" d=\"M0.000000 38.041508 h732.000000\"/><text class=\"\" x=\"-5\" y=\"41.541507996953555\"/><title>935.644m</title></g><g class=\"guides\"><path class=\"guide line\" d=\"M0.000000 33.576542 h732.000000\"/><text class=\"\" x=\"-5\" y=\"37.07654226961159\">95</text><title>945.545m</title></g><g class=\"guides\"><path class=\"guide line\" d=\"M0.000000 29.111577 h732.000000\"/><text class=\"\" x=\"-5\" y=\"32.61157654226963\"/><title>955.446m</title></g><g class=\"guides\"><path class=\"guide line\" d=\"M0.000000 24.646611 h732.000000\"/><text class=\"\" x=\"-5\" y=\"28.14661081492767\"/><title>965.347m</title></g><g class=\"guides\"><path class=\"guide line\" d=\"M0.000000 20.181645 h732.000000\"/><text class=\"\" x=\"-5\" y=\"23.681645087585707\"/><title>975.248m</title></g><g class=\"guides\"><path class=\"guide line\" d=\"M0.000000 15.716679 h732.000000\"/><text class=\"\" x=\"-5\" y=\"19.216679360243745\"/><title>985.149m</title></g><g class=\"guides\"><path class=\"guide line\" d=\"M0.000000 11.251714 h732.000000\"/><text class=\"\" x=\"-5\" y=\"14.751713632901726\">100</text><title>995.05m</title></g></g><g class=\"axis x\"><g class=\"guides\"><path class=\"guide line\" d=\"M67.294326 0.000000 v469.000000\"/><text class=\"\" x=\"67.2943259633\" y=\"484.0\">400k</text></g><g class=\"guides\"><path class=\"guide line\" d=\"M141.970744 0.000000 v469.000000\"/><text class=\"\" x=\"141.970744472\" y=\"484.0\">300k</text></g><g class=\"guides\"><path class=\"guide line\" d=\"M216.647163 0.000000 v469.000000\"/><text class=\"\" x=\"216.647162982\" y=\"484.0\">200k</text></g><g class=\"guides\"><path class=\"guide line\" d=\"M291.323581 0.000000 v469.000000\"/><text class=\"\" x=\"291.323581491\" y=\"484.0\">100k</text></g><g class=\"guides\"><path class=\"axis major line\" d=\"M366.000000 0.000000 v469.000000\"/><text class=\"major\" x=\"366.0\" y=\"484.0\">0</text></g><g class=\"guides\"><path class=\"guide line\" d=\"M440.676419 0.000000 v469.000000\"/><text class=\"\" x=\"440.676418509\" y=\"484.0\">100k</text></g><g class=\"guides\"><path class=\"guide line\" d=\"M515.352837 0.000000 v469.000000\"/><text class=\"\" x=\"515.352837018\" y=\"484.0\">200k</text></g><g class=\"guides\"><path class=\"guide line\" d=\"M590.029256 0.000000 v469.000000\"/><text class=\"\" x=\"590.029255528\" y=\"484.0\">300k</text></g><g class=\"guides\"><path class=\"guide line\" d=\"M664.705674 0.000000 v469.000000\"/><text class=\"\" x=\"664.705674037\" y=\"484.0\">400k</text></g></g><g class=\"series serie-0 color-0\"><g class=\"bars\"><g class=\"bar\"><rect class=\"rect reactive tooltip-trigger\" height=\"3.929169840060929\" rx=\"0\" ry=\"0\" width=\"292.261845884\" x=\"366.0\" y=\"455.7837014470678\"/><desc class=\"value\">391.371k</desc><desc class=\"x centered\">512.130922942</desc><desc class=\"y centered\">457.7482863670983</desc><desc class=\"x_label\">0</desc></g><g class=\"bar\"><rect class=\"rect reactive tooltip-trigger\" height=\"3.929169840060929\" rx=\"0\" ry=\"0\" width=\"301.098306486\" x=\"366.0\" y=\"451.31873571972585\"/><desc class=\"value\">403.204k</desc><desc class=\"x centered\">516.549153243</desc><desc class=\"y centered\">453.2833206397563</desc></g><g class=\"bar\"><rect class=\"rect reactive tooltip-trigger\" height=\"3.929169840060929\" rx=\"0\" ry=\"0\" width=\"302.814370583\" x=\"366.0\" y=\"446.8537699923839\"/><desc class=\"value\">405.502k</desc><desc class=\"x centered\">517.407185292</desc><desc class=\"y centered\">448.81835491241435</desc></g><g class=\"bar\"><rect class=\"rect reactive tooltip-trigger\" height=\"3.929169840060929\" rx=\"0\" ry=\"0\" width=\"307.952854941\" x=\"366.0\" y=\"442.3888042650419\"/><desc class=\"value\">412.383k</desc><desc class=\"x centered\">519.97642747</desc><desc class=\"y centered\">444.3533891850724</desc></g><g class=\"bar\"><rect class=\"rect reactive tooltip-trigger\" height=\"3.929169840060929\" rx=\"0\" ry=\"0\" width=\"311.121375378\" x=\"366.0\" y=\"437.92383853769996\"/><desc class=\"value\">416.626k</desc><desc class=\"x centered\">521.560687689</desc><desc class=\"y centered\">439.8884234577304</desc></g><g class=\"bar\"><rect class=\"rect reactive tooltip-trigger\" height=\"3.929169840060929\" rx=\"0\" ry=\"0\" width=\"320.106442053\" x=\"366.0\" y=\"433.458872810358\"/><desc class=\"value\">428.658k</desc><desc class=\"x centered\">526.053221027</desc><desc class=\"y centered\">435.42345773038846</desc><desc class=\"x_label\">5</desc></g><g class=\"bar\"><rect class=\"rect reactive tooltip-trigger\" height=\"3.929169840060929\" rx=\"0\" ry=\"0\" width=\"319.610590634\" x=\"366.0\" y=\"428.99390708301604\"/><desc class=\"value\">427.994k</desc><desc class=\"x centered\">525.805295317</desc><desc class=\"y centered\">430.9584920030465</desc></g><g class=\"bar\"><rect class=\"rect reactive tooltip-trigger\" height=\"3.929169840060929\" rx=\"0\" ry=\"0\" width=\"321.013760538\" x=\"366.0\" y=\"424.5289413556741\"/><desc class=\"value\">429.873k</desc><desc class=\"x centered\">526.506880269</desc><desc class=\"y centered\">426.49352627570454</desc></g><g class=\"bar\"><rect class=\"rect reactive tooltip-trigger\" height=\"3.929169840060929\" rx=\"0\" ry=\"0\" width=\"319.564291255\" x=\"366.0\" y=\"420.0639756283321\"/><desc class=\"value\">427.932k</desc><desc class=\"x centered\">525.782145627</desc><desc class=\"y centered\">422.0285605483626</desc></g><g class=\"bar\"><rect class=\"rect reactive tooltip-trigger\" height=\"3.929169840060929\" rx=\"0\" ry=\"0\" width=\"324.978331597\" x=\"366.0\" y=\"415.59900990099015\"/><desc class=\"value\">435.182k</desc><desc class=\"x centered\">528.489165798</desc><desc class=\"y centered\">417.5635948210206</desc></g><g class=\"bar\"><rect class=\"rect reactive tooltip-trigger\" height=\"3.929169840060929\" rx=\"0\" ry=\"0\" width=\"318.518821396\" x=\"366.0\" y=\"411.13404417364814\"/><desc class=\"value\">426.532k</desc><desc class=\"x centered\">525.259410698</desc><desc class=\"y centered\">413.0986290936786</desc><desc class=\"x_label\">10</desc></g><g class=\"bar\"><rect class=\"rect reactive tooltip-trigger\" height=\"3.929169840060929\" rx=\"0\" ry=\"0\" width=\"316.333042626\" x=\"366.0\" y=\"406.66907844630623\"/><desc class=\"value\">423.605k</desc><desc class=\"x centered\">524.166521313</desc><desc class=\"y centered\">408.6336633663367</desc></g><g class=\"bar\"><rect class=\"rect reactive tooltip-trigger\" height=\"3.929169840060929\" rx=\"0\" ry=\"0\" width=\"314.710324052\" x=\"366.0\" y=\"402.20411271896427\"/><desc class=\"value\">421.432k</desc><desc class=\"x centered\">523.355162026</desc><desc class=\"y centered\">404.16869763899473</desc></g><g class=\"bar\"><rect class=\"rect reactive tooltip-trigger\" height=\"3.929169840060929\" rx=\"0\" ry=\"0\" width=\"316.974513061\" x=\"366.0\" y=\"397.7391469916223\"/><desc class=\"value\">424.464k</desc><desc class=\"x centered\">524.48725653</desc><desc class=\"y centered\">399.70373191165277</desc></g><g class=\"bar\"><rect class=\"rect reactive tooltip-trigger\" height=\"3.929169840060929\" rx=\"0\" ry=\"0\" width=\"321.133242808\" x=\"366.0\" y=\"393.2741812642803\"/><desc class=\"value\">430.033k</desc><desc class=\"x centered\">526.566621404</desc><desc class=\"y centered\">395.23876618431075</desc></g><g class=\"bar\"><rect class=\"rect reactive tooltip-trigger\" height=\"3.929169840060929\" rx=\"0\" ry=\"0\" width=\"328.299191928\" x=\"366.0\" y=\"388.8092155369384\"/><desc class=\"value\">439.629k</desc><desc class=\"x centered\">530.149595964</desc><desc class=\"y centered\">390.77380045696884</desc><desc class=\"x_label\">15</desc></g><g class=\"bar\"><rect class=\"rect reactive tooltip-trigger\" height=\"3.929169840060929\" rx=\"0\" ry=\"0\" width=\"315.33984626\" x=\"366.0\" y=\"384.34424980959636\"/><desc class=\"value\">422.275k</desc><desc class=\"x centered\">523.66992313</desc><desc class=\"y centered\">386.3088347296268</desc></g><g class=\"bar\"><rect class=\"rect reactive tooltip-trigger\" height=\"3.929169840060929\" rx=\"0\" ry=\"0\" width=\"310.909294349\" x=\"366.0\" y=\"379.8792840822544\"/><desc class=\"value\">416.342k</desc><desc class=\"x centered\">521.454647175</desc><desc class=\"y centered\">381.84386900228486</desc></g><g class=\"bar\"><rect class=\"rect reactive tooltip-trigger\" height=\"3.929169840060929\" rx=\"0\" ry=\"0\" width=\"303.300514068\" x=\"366.0\" y=\"375.41431835491244\"/><desc class=\"value\">406.153k</desc><desc class=\"x centered\">517.650257034</desc><desc class=\"y centered\">377.3789032749429</desc></g><g class=\"bar\"><rect class=\"rect reactive tooltip-trigger\" height=\"3.929169840060929\" rx=\"0\" ry=\"0\" width=\"300.492680732\" x=\"366.0\" y=\"370.9493526275705\"/><desc class=\"value\">402.393k</desc><desc class=\"x centered\">516.246340366</desc><desc class=\"y centered\">372.91393754760094</desc></g><g class=\"bar\"><rect class=\"rect reactive tooltip-trigger\" height=\"3.929169840060929\" rx=\"0\" ry=\"0\" width=\"291.880249385\" x=\"366.0\" y=\"366.4843869002285\"/><desc class=\"value\">390.86k</desc><desc class=\"x centered\">511.940124692</desc><desc class=\"y centered\">368.448971820259</desc><desc class=\"x_label\">20</desc></g><g class=\"bar\"><rect class=\"rect reactive tooltip-trigger\" height=\"3.929169840060929\" rx=\"0\" ry=\"0\" width=\"279.368962228\" x=\"366.0\" y=\"362.01942117288655\"/><desc class=\"value\">374.106k</desc><desc class=\"x centered\">505.684481114</desc><desc class=\"y centered\">363.984006092917</desc></g><g class=\"bar\"><rect class=\"rect reactive tooltip-trigger\" height=\"3.929169840060929\" rx=\"0\" ry=\"0\" width=\"274.474669759\" x=\"366.0\" y=\"357.5544554455446\"/><desc class=\"value\">367.552k</desc><desc class=\"x centered\">503.237334879</desc><desc class=\"y centered\">359.51904036557505</desc></g><g class=\"bar\"><rect class=\"rect reactive tooltip-trigger\" height=\"3.929169840060929\" rx=\"0\" ry=\"0\" width=\"286.643192155\" x=\"366.0\" y=\"353.0894897182026\"/><desc class=\"value\">383.847k</desc><desc class=\"x centered\">509.321596077</desc><desc class=\"y centered\">355.0540746382331</desc></g><g class=\"bar\"><rect class=\"rect reactive tooltip-trigger\" height=\"3.929169840060929\" rx=\"0\" ry=\"0\" width=\"287.507945081\" x=\"366.0\" y=\"348.62452399086067\"/><desc class=\"value\">385.005k</desc><desc class=\"x centered\">509.753972541</desc><desc class=\"y centered\">350.5891089108911</desc></g><g class=\"bar\"><rect class=\"rect reactive tooltip-trigger\" height=\"3.929169840060929\" rx=\"0\" ry=\"0\" width=\"291.879502621\" x=\"366.0\" y=\"344.1595582635187\"/><desc class=\"value\">390.859k</desc><desc class=\"x centered\">511.93975131</desc><desc class=\"y centered\">346.12414318354917</desc><desc class=\"x_label\">25</desc></g><g class=\"bar\"><rect class=\"rect reactive tooltip-trigger\" height=\"3.929169840060929\" rx=\"0\" ry=\"0\" width=\"289.618300668\" x=\"366.0\" y=\"339.69459253617674\"/><desc class=\"value\">387.831k</desc><desc class=\"x centered\">510.809150334</desc><desc class=\"y centered\">341.6591774562072</desc></g><g class=\"bar\"><rect class=\"rect reactive tooltip-trigger\" height=\"3.929169840060929\" rx=\"0\" ry=\"0\" width=\"291.662194243\" x=\"366.0\" y=\"335.2296268088347\"/><desc class=\"value\">390.568k</desc><desc class=\"x centered\">511.831097121</desc><desc class=\"y centered\">337.1942117288652</desc></g><g class=\"bar\"><rect class=\"rect reactive tooltip-trigger\" height=\"3.929169840060929\" rx=\"0\" ry=\"0\" width=\"291.842164412\" x=\"366.0\" y=\"330.76466108149276\"/><desc class=\"value\">390.809k</desc><desc class=\"x centered\">511.921082206</desc><desc class=\"y centered\">332.7292460015232</desc></g><g class=\"bar\"><rect class=\"rect reactive tooltip-trigger\" height=\"3.929169840060929\" rx=\"0\" ry=\"0\" width=\"295.313871108\" x=\"366.0\" y=\"326.29969535415086\"/><desc class=\"value\">395.458k</desc><desc class=\"x centered\">513.656935554</desc><desc class=\"y centered\">328.2642802741813</desc></g><g class=\"bar\"><rect class=\"rect reactive tooltip-trigger\" height=\"3.929169840060929\" rx=\"0\" ry=\"0\" width=\"295.629005594\" x=\"366.0\" y=\"321.8347296268089\"/><desc class=\"value\">395.88k</desc><desc class=\"x centered\">513.814502797</desc><desc class=\"y centered\">323.79931454683935</desc><desc class=\"x_label\">30</desc></g><g class=\"bar\"><rect class=\"rect reactive tooltip-trigger\" height=\"3.929169840060929\" rx=\"0\" ry=\"0\" width=\"293.453681523\" x=\"366.0\" y=\"317.3697638994669\"/><desc class=\"value\">392.967k</desc><desc class=\"x centered\">512.726840761</desc><desc class=\"y centered\">319.33434881949734</desc></g><g class=\"bar\"><rect class=\"rect reactive tooltip-trigger\" height=\"3.929169840060929\" rx=\"0\" ry=\"0\" width=\"291.544205502\" x=\"366.0\" y=\"312.90479817212497\"/><desc class=\"value\">390.41k</desc><desc class=\"x centered\">511.772102751</desc><desc class=\"y centered\">314.86938309215543</desc></g><g class=\"bar\"><rect class=\"rect reactive tooltip-trigger\" height=\"3.929169840060929\" rx=\"0\" ry=\"0\" width=\"310.207336015\" x=\"366.0\" y=\"308.43983244478295\"/><desc class=\"value\">415.402k</desc><desc class=\"x centered\">521.103668008</desc><desc class=\"y centered\">310.4044173648134</desc></g><g class=\"bar\"><rect class=\"rect reactive tooltip-trigger\" height=\"3.929169840060929\" rx=\"0\" ry=\"0\" width=\"312.873284156\" x=\"366.0\" y=\"303.974866717441\"/><desc class=\"value\">418.972k</desc><desc class=\"x centered\">522.436642078</desc><desc class=\"y centered\">305.93945163747145</desc></g><g class=\"bar\"><rect class=\"rect reactive tooltip-trigger\" height=\"3.929169840060929\" rx=\"0\" ry=\"0\" width=\"318.672654818\" x=\"366.0\" y=\"299.509900990099\"/><desc class=\"value\">426.738k</desc><desc class=\"x centered\">525.336327409</desc><desc class=\"y centered\">301.4744859101295</desc><desc class=\"x_label\">35</desc></g><g class=\"bar\"><rect class=\"rect reactive tooltip-trigger\" height=\"3.929169840060929\" rx=\"0\" ry=\"0\" width=\"301.632989642\" x=\"366.0\" y=\"295.0449352627571\"/><desc class=\"value\">403.92k</desc><desc class=\"x centered\">516.816494821</desc><desc class=\"y centered\">297.0095201827876</desc></g><g class=\"bar\"><rect class=\"rect reactive tooltip-trigger\" height=\"3.929169840060929\" rx=\"0\" ry=\"0\" width=\"297.750562644\" x=\"366.0\" y=\"290.5799695354151\"/><desc class=\"value\">398.721k</desc><desc class=\"x centered\">514.875281322</desc><desc class=\"y centered\">292.54455445544556</desc></g><g class=\"bar\"><rect class=\"rect reactive tooltip-trigger\" height=\"3.929169840060929\" rx=\"0\" ry=\"0\" width=\"302.435761141\" x=\"366.0\" y=\"286.11500380807314\"/><desc class=\"value\">404.995k</desc><desc class=\"x centered\">517.217880571</desc><desc class=\"y centered\">288.0795887281036</desc></g><g class=\"bar\"><rect class=\"rect reactive tooltip-trigger\" height=\"3.929169840060929\" rx=\"0\" ry=\"0\" width=\"295.060718049\" x=\"366.0\" y=\"281.6500380807312\"/><desc class=\"value\">395.119k</desc><desc class=\"x centered\">513.530359025</desc><desc class=\"y centered\">283.61462300076164</desc></g><g class=\"bar\"><rect class=\"rect reactive tooltip-trigger\" height=\"3.929169840060929\" rx=\"0\" ry=\"0\" width=\"303.245253518\" x=\"366.0\" y=\"277.1850723533892\"/><desc class=\"value\">406.079k</desc><desc class=\"x centered\">517.622626759</desc><desc class=\"y centered\">279.1496572734197</desc><desc class=\"x_label\">40</desc></g><g class=\"bar\"><rect class=\"rect reactive tooltip-trigger\" height=\"3.929169840060929\" rx=\"0\" ry=\"0\" width=\"322.485632747\" x=\"366.0\" y=\"272.72010662604725\"/><desc class=\"value\">431.844k</desc><desc class=\"x centered\">527.242816373</desc><desc class=\"y centered\">274.6846915460777</desc></g><g class=\"bar\"><rect class=\"rect reactive tooltip-trigger\" height=\"3.929169840060929\" rx=\"0\" ry=\"0\" width=\"338.959997434\" x=\"366.0\" y=\"268.2551408987053\"/><desc class=\"value\">453.905k</desc><desc class=\"x centered\">535.479998717</desc><desc class=\"y centered\">270.21972581873575</desc></g><g class=\"bar\"><rect class=\"rect reactive tooltip-trigger\" height=\"3.929169840060929\" rx=\"0\" ry=\"0\" width=\"348.454357283\" x=\"366.0\" y=\"263.79017517136333\"/><desc class=\"value\">466.619k</desc><desc class=\"x centered\">540.227178642</desc><desc class=\"y centered\">265.7547600913938</desc></g><g class=\"bar\"><rect class=\"rect reactive tooltip-trigger\" height=\"3.929169840060929\" rx=\"0\" ry=\"0\" width=\"345.354539151\" x=\"366.0\" y=\"259.32520944402137\"/><desc class=\"value\">462.468k</desc><desc class=\"x centered\">538.677269576</desc><desc class=\"y centered\">261.28979436405183</desc></g><g class=\"bar\"><rect class=\"rect reactive tooltip-trigger\" height=\"3.929169840060929\" rx=\"0\" ry=\"0\" width=\"338.572426822\" x=\"366.0\" y=\"254.8602437166794\"/><desc class=\"value\">453.386k</desc><desc class=\"x centered\">535.286213411</desc><desc class=\"y centered\">256.82482863670987</desc><desc class=\"x_label\">45</desc></g><g class=\"bar\"><rect class=\"rect reactive tooltip-trigger\" height=\"3.929169840060929\" rx=\"0\" ry=\"0\" width=\"331.575246408\" x=\"366.0\" y=\"250.39527798933742\"/><desc class=\"value\">444.016k</desc><desc class=\"x centered\">531.787623204</desc><desc class=\"y centered\">252.35986290936788</desc></g><g class=\"bar\"><rect class=\"rect reactive tooltip-trigger\" height=\"3.929169840060929\" rx=\"0\" ry=\"0\" width=\"327.931783949\" x=\"366.0\" y=\"245.93031226199543\"/><desc class=\"value\">439.137k</desc><desc class=\"x centered\">529.965891974</desc><desc class=\"y centered\">247.8948971820259</desc></g><g class=\"bar\"><rect class=\"rect reactive tooltip-trigger\" height=\"3.929169840060929\" rx=\"0\" ry=\"0\" width=\"326.027535277\" x=\"366.0\" y=\"241.46534653465346\"/><desc class=\"value\">436.587k</desc><desc class=\"x centered\">529.013767638</desc><desc class=\"y centered\">243.42993145468392</desc></g><g class=\"bar\"><rect class=\"rect reactive tooltip-trigger\" height=\"3.929169840060929\" rx=\"0\" ry=\"0\" width=\"334.139634619\" x=\"366.0\" y=\"237.00038080731153\"/><desc class=\"value\">447.45k</desc><desc class=\"x centered\">533.06981731</desc><desc class=\"y centered\">238.964965727342</desc></g><g class=\"bar\"><rect class=\"rect reactive tooltip-trigger\" height=\"3.929169840060929\" rx=\"0\" ry=\"0\" width=\"335.170915959\" x=\"366.0\" y=\"232.53541507996954\"/><desc class=\"value\">448.831k</desc><desc class=\"x centered\">533.585457979</desc><desc class=\"y centered\">234.5</desc><desc class=\"x_label\">50</desc></g><g class=\"bar\"><rect class=\"rect reactive tooltip-trigger\" height=\"3.929169840060929\" rx=\"0\" ry=\"0\" width=\"337.364909135\" x=\"366.0\" y=\"228.07044935262758\"/><desc class=\"value\">451.769k</desc><desc class=\"x centered\">534.682454567</desc><desc class=\"y centered\">230.03503427265804</desc></g><g class=\"bar\"><rect class=\"rect reactive tooltip-trigger\" height=\"3.929169840060929\" rx=\"0\" ry=\"0\" width=\"333.624367332\" x=\"366.0\" y=\"223.6054836252856\"/><desc class=\"value\">446.76k</desc><desc class=\"x centered\">532.812183666</desc><desc class=\"y centered\">225.57006854531605</desc></g><g class=\"bar\"><rect class=\"rect reactive tooltip-trigger\" height=\"3.929169840060929\" rx=\"0\" ry=\"0\" width=\"321.302011513\" x=\"366.0\" y=\"219.14051789794365\"/><desc class=\"value\">430.259k</desc><desc class=\"x centered\">526.651005757</desc><desc class=\"y centered\">221.1051028179741</desc></g><g class=\"bar\"><rect class=\"rect reactive tooltip-trigger\" height=\"3.929169840060929\" rx=\"0\" ry=\"0\" width=\"320.078811778\" x=\"366.0\" y=\"214.67555217060166\"/><desc class=\"value\">428.621k</desc><desc class=\"x centered\">526.039405889</desc><desc class=\"y centered\">216.64013709063212</desc></g><g class=\"bar\"><rect class=\"rect reactive tooltip-trigger\" height=\"3.929169840060929\" rx=\"0\" ry=\"0\" width=\"318.813046484\" x=\"366.0\" y=\"210.21058644325967\"/><desc class=\"value\">426.926k</desc><desc class=\"x centered\">525.406523242</desc><desc class=\"y centered\">212.17517136329013</desc><desc class=\"x_label\">55</desc></g><g class=\"bar\"><rect class=\"rect reactive tooltip-trigger\" height=\"3.929169840060929\" rx=\"0\" ry=\"0\" width=\"315.00977649\" x=\"366.0\" y=\"205.74562071591774\"/><desc class=\"value\">421.833k</desc><desc class=\"x centered\">523.504888245</desc><desc class=\"y centered\">207.7102056359482</desc></g><g class=\"bar\"><rect class=\"rect reactive tooltip-trigger\" height=\"3.929169840060929\" rx=\"0\" ry=\"0\" width=\"307.178460481\" x=\"366.0\" y=\"201.28065498857583\"/><desc class=\"value\">411.346k</desc><desc class=\"x centered\">519.58923024</desc><desc class=\"y centered\">203.2452399086063</desc></g><g class=\"bar\"><rect class=\"rect reactive tooltip-trigger\" height=\"3.929169840060929\" rx=\"0\" ry=\"0\" width=\"304.452771205\" x=\"366.0\" y=\"196.81568926123387\"/><desc class=\"value\">407.696k</desc><desc class=\"x centered\">518.226385603</desc><desc class=\"y centered\">198.78027418126433</desc></g><g class=\"bar\"><rect class=\"rect reactive tooltip-trigger\" height=\"3.929169840060929\" rx=\"0\" ry=\"0\" width=\"299.799683568\" x=\"366.0\" y=\"192.35072353389185\"/><desc class=\"value\">401.465k</desc><desc class=\"x centered\">515.899841784</desc><desc class=\"y centered\">194.3153084539223</desc></g><g class=\"bar\"><rect class=\"rect reactive tooltip-trigger\" height=\"3.929169840060929\" rx=\"0\" ry=\"0\" width=\"294.445384361\" x=\"366.0\" y=\"187.8857578065499\"/><desc class=\"value\">394.295k</desc><desc class=\"x centered\">513.22269218</desc><desc class=\"y centered\">189.85034272658035</desc><desc class=\"x_label\">60</desc></g><g class=\"bar\"><rect class=\"rect reactive tooltip-trigger\" height=\"3.929169840060929\" rx=\"0\" ry=\"0\" width=\"294.664933031\" x=\"366.0\" y=\"183.42079207920793\"/><desc class=\"value\">394.589k</desc><desc class=\"x centered\">513.332466516</desc><desc class=\"y centered\">185.3853769992384</desc></g><g class=\"bar\"><rect class=\"rect reactive tooltip-trigger\" height=\"3.929169840060929\" rx=\"0\" ry=\"0\" width=\"285.58950789\" x=\"366.0\" y=\"178.95582635186597\"/><desc class=\"value\">382.436k</desc><desc class=\"x centered\">508.794753945</desc><desc class=\"y centered\">180.92041127189643</desc></g><g class=\"bar\"><rect class=\"rect reactive tooltip-trigger\" height=\"3.929169840060929\" rx=\"0\" ry=\"0\" width=\"288.965628771\" x=\"366.0\" y=\"174.490860624524\"/><desc class=\"value\">386.957k</desc><desc class=\"x centered\">510.482814385</desc><desc class=\"y centered\">176.45544554455446</desc></g><g class=\"bar\"><rect class=\"rect reactive tooltip-trigger\" height=\"3.929169840060929\" rx=\"0\" ry=\"0\" width=\"280.377840642\" x=\"366.0\" y=\"170.02589489718198\"/><desc class=\"value\">375.457k</desc><desc class=\"x centered\">506.188920321</desc><desc class=\"y centered\">171.99047981721245</desc></g><g class=\"bar\"><rect class=\"rect reactive tooltip-trigger\" height=\"3.929169840060929\" rx=\"0\" ry=\"0\" width=\"291.111082274\" x=\"366.0\" y=\"165.56092916984008\"/><desc class=\"value\">389.83k</desc><desc class=\"x centered\">511.555541137</desc><desc class=\"y centered\">167.52551408987054</desc><desc class=\"x_label\">65</desc></g><g class=\"bar\"><rect class=\"rect reactive tooltip-trigger\" height=\"3.929169840060929\" rx=\"0\" ry=\"0\" width=\"282.79885013\" x=\"366.0\" y=\"161.09596344249812\"/><desc class=\"value\">378.699k</desc><desc class=\"x centered\">507.399425065</desc><desc class=\"y centered\">163.06054836252858</desc></g><g class=\"bar\"><rect class=\"rect reactive tooltip-trigger\" height=\"3.929169840060929\" rx=\"0\" ry=\"0\" width=\"282.090170918\" x=\"366.0\" y=\"156.6309977151561\"/><desc class=\"value\">377.75k</desc><desc class=\"x centered\">507.045085459</desc><desc class=\"y centered\">158.59558263518656</desc></g><g class=\"bar\"><rect class=\"rect reactive tooltip-trigger\" height=\"3.929169840060929\" rx=\"0\" ry=\"0\" width=\"274.342492498\" x=\"366.0\" y=\"152.16603198781414\"/><desc class=\"value\">367.375k</desc><desc class=\"x centered\">503.171246249</desc><desc class=\"y centered\">154.1306169078446</desc></g><g class=\"bar\"><rect class=\"rect reactive tooltip-trigger\" height=\"3.929169840060929\" rx=\"0\" ry=\"0\" width=\"258.004785657\" x=\"366.0\" y=\"147.70106626047223\"/><desc class=\"value\">345.497k</desc><desc class=\"x centered\">495.002392828</desc><desc class=\"y centered\">149.6656511805027</desc></g><g class=\"bar\"><rect class=\"rect reactive tooltip-trigger\" height=\"3.929169840060929\" rx=\"0\" ry=\"0\" width=\"193.435073629\" x=\"366.0\" y=\"143.23610053313027\"/><desc class=\"value\">259.031k</desc><desc class=\"x centered\">462.717536814</desc><desc class=\"y centered\">145.20068545316073</desc><desc class=\"x_label\">70</desc></g><g class=\"bar\"><rect class=\"rect reactive tooltip-trigger\" height=\"3.929169840060929\" rx=\"0\" ry=\"0\" width=\"186.359482975\" x=\"366.0\" y=\"138.7711348057883\"/><desc class=\"value\">249.556k</desc><desc class=\"x centered\">459.179741487</desc><desc class=\"y centered\">140.73571972581877</desc></g><g class=\"bar\"><rect class=\"rect reactive tooltip-trigger\" height=\"3.929169840060929\" rx=\"0\" ry=\"0\" width=\"179.318243474\" x=\"366.0\" y=\"134.30616907844635\"/><desc class=\"value\">240.127k</desc><desc class=\"x centered\">455.659121737</desc><desc class=\"y centered\">136.2707539984768</desc></g><g class=\"bar\"><rect class=\"rect reactive tooltip-trigger\" height=\"3.929169840060929\" rx=\"0\" ry=\"0\" width=\"165.200666554\" x=\"366.0\" y=\"129.84120335110433\"/><desc class=\"value\">221.222k</desc><desc class=\"x centered\">448.600333277</desc><desc class=\"y centered\">131.8057882711348</desc></g><g class=\"bar\"><rect class=\"rect reactive tooltip-trigger\" height=\"3.929169840060929\" rx=\"0\" ry=\"0\" width=\"144.393576065\" x=\"366.0\" y=\"125.37623762376242\"/><desc class=\"value\">193.359k</desc><desc class=\"x centered\">438.196788033</desc><desc class=\"y centered\">127.34082254379288</desc></g><g class=\"bar\"><rect class=\"rect reactive tooltip-trigger\" height=\"3.929169840060929\" rx=\"0\" ry=\"0\" width=\"147.801807806\" x=\"366.0\" y=\"120.91127189642046\"/><desc class=\"value\">197.923k</desc><desc class=\"x centered\">439.900903903</desc><desc class=\"y centered\">122.87585681645092</desc><desc class=\"x_label\">75</desc></g><g class=\"bar\"><rect class=\"rect reactive tooltip-trigger\" height=\"3.929169840060929\" rx=\"0\" ry=\"0\" width=\"150.487171816\" x=\"366.0\" y=\"116.44630616907844\"/><desc class=\"value\">201.519k</desc><desc class=\"x centered\">441.243585908</desc><desc class=\"y centered\">118.4108910891089</desc></g><g class=\"bar\"><rect class=\"rect reactive tooltip-trigger\" height=\"3.929169840060929\" rx=\"0\" ry=\"0\" width=\"144.537701553\" x=\"366.0\" y=\"111.98134044173648\"/><desc class=\"value\">193.552k</desc><desc class=\"x centered\">438.268850776</desc><desc class=\"y centered\">113.94592536176694</desc></g><g class=\"bar\"><rect class=\"rect reactive tooltip-trigger\" height=\"3.929169840060929\" rx=\"0\" ry=\"0\" width=\"137.154444055\" x=\"366.0\" y=\"107.51637471439452\"/><desc class=\"value\">183.665k</desc><desc class=\"x centered\">434.577222027</desc><desc class=\"y centered\">109.48095963442498</desc></g><g class=\"bar\"><rect class=\"rect reactive tooltip-trigger\" height=\"3.929169840060929\" rx=\"0\" ry=\"0\" width=\"132.953895514\" x=\"366.0\" y=\"103.05140898705255\"/><desc class=\"value\">178.04k</desc><desc class=\"x centered\">432.476947757</desc><desc class=\"y centered\">105.01599390708301</desc></g><g class=\"bar\"><rect class=\"rect reactive tooltip-trigger\" height=\"3.929169840060929\" rx=\"0\" ry=\"0\" width=\"124.310846835\" x=\"366.0\" y=\"98.58644325971059\"/><desc class=\"value\">166.466k</desc><desc class=\"x centered\">428.155423418</desc><desc class=\"y centered\">100.55102817974105</desc><desc class=\"x_label\">80</desc></g><g class=\"bar\"><rect class=\"rect reactive tooltip-trigger\" height=\"3.929169840060929\" rx=\"0\" ry=\"0\" width=\"119.94003606\" x=\"366.0\" y=\"94.12147753236857\"/><desc class=\"value\">160.613k</desc><desc class=\"x centered\">425.97001803</desc><desc class=\"y centered\">96.08606245239903</desc></g><g class=\"bar\"><rect class=\"rect reactive tooltip-trigger\" height=\"3.929169840060929\" rx=\"0\" ry=\"0\" width=\"108.443601431\" x=\"366.0\" y=\"89.65651180502661\"/><desc class=\"value\">145.218k</desc><desc class=\"x centered\">420.221800715</desc><desc class=\"y centered\">91.62109672505707</desc></g><g class=\"bar\"><rect class=\"rect reactive tooltip-trigger\" height=\"3.929169840060929\" rx=\"0\" ry=\"0\" width=\"105.496869956\" x=\"366.0\" y=\"85.19154607768476\"/><desc class=\"value\">141.272k</desc><desc class=\"x centered\">418.748434978</desc><desc class=\"y centered\">87.15613099771522</desc></g><g class=\"bar\"><rect class=\"rect reactive tooltip-trigger\" height=\"3.929169840060929\" rx=\"0\" ry=\"0\" width=\"95.0698016398\" x=\"366.0\" y=\"80.72658035034274\"/><desc class=\"value\">127.309k</desc><desc class=\"x centered\">413.53490082</desc><desc class=\"y centered\">82.6911652703732</desc></g><g class=\"bar\"><rect class=\"rect reactive tooltip-trigger\" height=\"3.929169840060929\" rx=\"0\" ry=\"0\" width=\"86.8046156392\" x=\"366.0\" y=\"76.26161462300078\"/><desc class=\"value\">116.241k</desc><desc class=\"x centered\">409.40230782</desc><desc class=\"y centered\">78.22619954303124</desc><desc class=\"x_label\">85</desc></g><g class=\"bar\"><rect class=\"rect reactive tooltip-trigger\" height=\"3.929169840060929\" rx=\"0\" ry=\"0\" width=\"72.8012936404\" x=\"366.0\" y=\"71.79664889565882\"/><desc class=\"value\">97.489k</desc><desc class=\"x centered\">402.40064682</desc><desc class=\"y centered\">73.76123381568928</desc></g><g class=\"bar\"><rect class=\"rect reactive tooltip-trigger\" height=\"3.929169840060929\" rx=\"0\" ry=\"0\" width=\"64.3128251485\" x=\"366.0\" y=\"67.33168316831686\"/><desc class=\"value\">86.122k</desc><desc class=\"x centered\">398.156412574</desc><desc class=\"y centered\">69.29626808834732</desc></g><g class=\"bar\"><rect class=\"rect reactive tooltip-trigger\" height=\"3.929169840060929\" rx=\"0\" ry=\"0\" width=\"54.2173201302\" x=\"366.0\" y=\"62.86671744097489\"/><desc class=\"value\">72.603k</desc><desc class=\"x centered\">393.108660065</desc><desc class=\"y centered\">64.83130236100536</desc></g><g class=\"bar\"><rect class=\"rect reactive tooltip-trigger\" height=\"3.929169840060929\" rx=\"0\" ry=\"0\" width=\"45.6496946347\" x=\"366.0\" y=\"58.401751713632926\"/><desc class=\"value\">61.13k</desc><desc class=\"x centered\">388.824847317</desc><desc class=\"y centered\">60.366336633663394</desc></g><g class=\"bar\"><rect class=\"rect reactive tooltip-trigger\" height=\"3.929169840060929\" rx=\"0\" ry=\"0\" width=\"37.787761294\" x=\"366.0\" y=\"53.93678598629091\"/><desc class=\"value\">50.602k</desc><desc class=\"x centered\">384.893880647</desc><desc class=\"y centered\">55.901370906321375</desc><desc class=\"x_label\">90</desc></g><g class=\"bar\"><rect class=\"rect reactive tooltip-trigger\" height=\"3.929169840060929\" rx=\"0\" ry=\"0\" width=\"29.956445285\" x=\"366.0\" y=\"49.471820258949\"/><desc class=\"value\">40.115k</desc><desc class=\"x centered\">380.978222642</desc><desc class=\"y centered\">51.43640517897947</desc></g><g class=\"bar\"><rect class=\"rect reactive tooltip-trigger\" height=\"3.929169840060929\" rx=\"0\" ry=\"0\" width=\"23.7471010859\" x=\"366.0\" y=\"45.00685453160698\"/><desc class=\"value\">31.8k</desc><desc class=\"x centered\">377.873550543</desc><desc class=\"y centered\">46.97143945163745</desc></g><g class=\"bar\"><rect class=\"rect reactive tooltip-trigger\" height=\"3.929169840060929\" rx=\"0\" ry=\"0\" width=\"18.7086831291\" x=\"366.0\" y=\"40.54188880426502\"/><desc class=\"value\">25.053k</desc><desc class=\"x centered\">375.354341565</desc><desc class=\"y centered\">42.50647372429549</desc></g><g class=\"bar\"><rect class=\"rect reactive tooltip-trigger\" height=\"3.929169840060929\" rx=\"0\" ry=\"0\" width=\"14.3169629566\" x=\"366.0\" y=\"36.07692307692306\"/><desc class=\"value\">19.172k</desc><desc class=\"x centered\">373.158481478</desc><desc class=\"y centered\">38.04150799695353</desc></g><g class=\"bar\"><rect class=\"rect reactive tooltip-trigger\" height=\"3.929169840060929\" rx=\"0\" ry=\"0\" width=\"10.5308685382\" x=\"366.0\" y=\"31.611957349581097\"/><desc class=\"value\">14.102k</desc><desc class=\"x centered\">371.265434269</desc><desc class=\"y centered\">33.576542269611565</desc><desc class=\"x_label\">95</desc></g><g class=\"bar\"><rect class=\"rect reactive tooltip-trigger\" height=\"3.929169840060929\" rx=\"0\" ry=\"0\" width=\"4.48879951659\" x=\"366.0\" y=\"27.146991622239195\"/><desc class=\"value\">6.011k</desc><desc class=\"x centered\">368.244399758</desc><desc class=\"y centered\">29.11157654226966</desc></g><g class=\"bar\"><rect class=\"rect reactive tooltip-trigger\" height=\"3.929169840060929\" rx=\"0\" ry=\"0\" width=\"2.7249425114\" x=\"366.0\" y=\"22.682025894897233\"/><desc class=\"value\">3.649k</desc><desc class=\"x centered\">367.362471256</desc><desc class=\"y centered\">24.646610814927698</desc></g><g class=\"bar\"><rect class=\"rect reactive tooltip-trigger\" height=\"3.929169840060929\" rx=\"0\" ry=\"0\" width=\"1.50323630459\" x=\"366.0\" y=\"18.217060167555214\"/><desc class=\"value\">2.013k</desc><desc class=\"x centered\">366.751618152</desc><desc class=\"y centered\">20.18164508758568</desc></g><g class=\"bar\"><rect class=\"rect reactive tooltip-trigger\" height=\"3.929169840060929\" rx=\"0\" ry=\"0\" width=\"0.988715781062\" x=\"366.0\" y=\"13.752094440213252\"/><desc class=\"value\">1.324k</desc><desc class=\"x centered\">366.494357891</desc><desc class=\"y centered\">15.716679360243717</desc></g><g class=\"bar\"><rect class=\"rect reactive tooltip-trigger\" height=\"3.929169840060929\" rx=\"0\" ry=\"0\" width=\"2.61740846875\" x=\"366.0\" y=\"9.287128712871345\"/><desc class=\"value\">3.505k</desc><desc class=\"x centered\">367.308704234</desc><desc class=\"y centered\">11.25171363290181</desc><desc class=\"x_label\">100</desc></g></g></g><g class=\"series serie-1 color-1\"><g class=\"bars\"><g class=\"bar\"><rect class=\"rect reactive tooltip-trigger\" height=\"3.929169840060929\" rx=\"0\" ry=\"0\" width=\"279.423476013\" x=\"86.5765239866\" y=\"455.7837014470678\"/><desc class=\"value\">374.179k</desc><desc class=\"x centered\">226.288261993</desc><desc class=\"y centered\">457.7482863670983</desc><desc class=\"x_label\">0</desc></g><g class=\"bar\"><rect class=\"rect reactive tooltip-trigger\" height=\"3.929169840060929\" rx=\"0\" ry=\"0\" width=\"287.83428103\" x=\"78.1657189699\" y=\"451.31873571972585\"/><desc class=\"value\">385.442k</desc><desc class=\"x centered\">222.082859485</desc><desc class=\"y centered\">453.2833206397563</desc></g><g class=\"bar\"><rect class=\"rect reactive tooltip-trigger\" height=\"3.929169840060929\" rx=\"0\" ry=\"0\" width=\"288.871536483\" x=\"77.1284635168\" y=\"446.8537699923839\"/><desc class=\"value\">386.831k</desc><desc class=\"x centered\">221.564231758</desc><desc class=\"y centered\">448.81835491241435</desc></g><g class=\"bar\"><rect class=\"rect reactive tooltip-trigger\" height=\"3.929169840060929\" rx=\"0\" ry=\"0\" width=\"292.621786221\" x=\"73.3782137792\" y=\"442.3888042650419\"/><desc class=\"value\">391.853k</desc><desc class=\"x centered\">219.68910689</desc><desc class=\"y centered\">444.3533891850724</desc></g><g class=\"bar\"><rect class=\"rect reactive tooltip-trigger\" height=\"3.929169840060929\" rx=\"0\" ry=\"0\" width=\"298.430864817\" x=\"67.5691351834\" y=\"437.92383853769996\"/><desc class=\"value\">399.632k</desc><desc class=\"x centered\">216.784567592</desc><desc class=\"y centered\">439.8884234577304</desc></g><g class=\"bar\"><rect class=\"rect reactive tooltip-trigger\" height=\"3.929169840060929\" rx=\"0\" ry=\"0\" width=\"304.803003608\" x=\"61.196996392\" y=\"433.458872810358\"/><desc class=\"value\">408.165k</desc><desc class=\"x centered\">213.598498196</desc><desc class=\"y centered\">435.42345773038846</desc><desc class=\"x_label\">5</desc></g><g class=\"bar\"><rect class=\"rect reactive tooltip-trigger\" height=\"3.929169840060929\" rx=\"0\" ry=\"0\" width=\"303.935263625\" x=\"62.0647363751\" y=\"428.99390708301604\"/><desc class=\"value\">407.003k</desc><desc class=\"x centered\">214.032368188</desc><desc class=\"y centered\">430.9584920030465</desc></g><g class=\"bar\"><rect class=\"rect reactive tooltip-trigger\" height=\"3.929169840060929\" rx=\"0\" ry=\"0\" width=\"306.12552298\" x=\"59.8744770202\" y=\"424.5289413556741\"/><desc class=\"value\">409.936k</desc><desc class=\"x centered\">212.93723851</desc><desc class=\"y centered\">426.49352627570454</desc></g><g class=\"bar\"><rect class=\"rect reactive tooltip-trigger\" height=\"3.929169840060929\" rx=\"0\" ry=\"0\" width=\"305.165931002\" x=\"60.8340689981\" y=\"420.0639756283321\"/><desc class=\"value\">408.651k</desc><desc class=\"x centered\">213.417034499</desc><desc class=\"y centered\">422.0285605483626</desc></g><g class=\"bar\"><rect class=\"rect reactive tooltip-trigger\" height=\"3.929169840060929\" rx=\"0\" ry=\"0\" width=\"309.733140758\" x=\"56.2668592421\" y=\"415.59900990099015\"/><desc class=\"value\">414.767k</desc><desc class=\"x centered\">211.133429621</desc><desc class=\"y centered\">417.5635948210206</desc></g><g class=\"bar\"><rect class=\"rect reactive tooltip-trigger\" height=\"3.929169840060929\" rx=\"0\" ry=\"0\" width=\"303.55068007\" x=\"62.4493199304\" y=\"411.13404417364814\"/><desc class=\"value\">406.488k</desc><desc class=\"x centered\">214.224659965</desc><desc class=\"y centered\">413.0986290936786</desc><desc class=\"x_label\">10</desc></g><g class=\"bar\"><rect class=\"rect reactive tooltip-trigger\" height=\"3.929169840060929\" rx=\"0\" ry=\"0\" width=\"302.134815175\" x=\"63.8651848254\" y=\"406.66907844630623\"/><desc class=\"value\">404.592k</desc><desc class=\"x centered\">214.932592413</desc><desc class=\"y centered\">408.6336633663367</desc></g><g class=\"bar\"><rect class=\"rect reactive tooltip-trigger\" height=\"3.929169840060929\" rx=\"0\" ry=\"0\" width=\"300.560636272\" x=\"65.4393637275\" y=\"402.20411271896427\"/><desc class=\"value\">402.484k</desc><desc class=\"x centered\">215.719681864</desc><desc class=\"y centered\">404.16869763899473</desc></g><g class=\"bar\"><rect class=\"rect reactive tooltip-trigger\" height=\"3.929169840060929\" rx=\"0\" ry=\"0\" width=\"301.774128073\" x=\"64.2258719268\" y=\"397.7391469916223\"/><desc class=\"value\">404.109k</desc><desc class=\"x centered\">215.112935963</desc><desc class=\"y centered\">399.70373191165277</desc></g><g class=\"bar\"><rect class=\"rect reactive tooltip-trigger\" height=\"3.929169840060929\" rx=\"0\" ry=\"0\" width=\"307.0320947\" x=\"58.9679052995\" y=\"393.2741812642803\"/><desc class=\"value\">411.15k</desc><desc class=\"x centered\">212.48395265</desc><desc class=\"y centered\">395.23876618431075</desc></g><g class=\"bar\"><rect class=\"rect reactive tooltip-trigger\" height=\"3.929169840060929\" rx=\"0\" ry=\"0\" width=\"313.302673563\" x=\"52.6973264373\" y=\"388.8092155369384\"/><desc class=\"value\">419.547k</desc><desc class=\"x centered\">209.348663219</desc><desc class=\"y centered\">390.77380045696884</desc><desc class=\"x_label\">15</desc></g><g class=\"bar\"><rect class=\"rect reactive tooltip-trigger\" height=\"3.929169840060929\" rx=\"0\" ry=\"0\" width=\"298.75794753\" x=\"67.2420524703\" y=\"384.34424980959636\"/><desc class=\"value\">400.07k</desc><desc class=\"x centered\">216.621026235</desc><desc class=\"y centered\">386.3088347296268</desc></g><g class=\"bar\"><rect class=\"rect reactive tooltip-trigger\" height=\"3.929169840060929\" rx=\"0\" ry=\"0\" width=\"297.430200809\" x=\"68.5697991914\" y=\"379.8792840822544\"/><desc class=\"value\">398.292k</desc><desc class=\"x centered\">217.284899596</desc><desc class=\"y centered\">381.84386900228486</desc></g><g class=\"bar\"><rect class=\"rect reactive tooltip-trigger\" height=\"3.929169840060929\" rx=\"0\" ry=\"0\" width=\"288.156136394\" x=\"77.8438636061\" y=\"375.41431835491244\"/><desc class=\"value\">385.873k</desc><desc class=\"x centered\">221.921931803</desc><desc class=\"y centered\">377.3789032749429</desc></g><g class=\"bar\"><rect class=\"rect reactive tooltip-trigger\" height=\"3.929169840060929\" rx=\"0\" ry=\"0\" width=\"287.363072829\" x=\"78.6369271707\" y=\"370.9493526275705\"/><desc class=\"value\">384.811k</desc><desc class=\"x centered\">222.318463585</desc><desc class=\"y centered\">372.91393754760094</desc></g><g class=\"bar\"><rect class=\"rect reactive tooltip-trigger\" height=\"3.929169840060929\" rx=\"0\" ry=\"0\" width=\"281.417336388\" x=\"84.5826636124\" y=\"366.4843869002285\"/><desc class=\"value\">376.849k</desc><desc class=\"x centered\">225.291331806</desc><desc class=\"y centered\">368.448971820259</desc><desc class=\"x_label\">20</desc></g><g class=\"bar\"><rect class=\"rect reactive tooltip-trigger\" height=\"3.929169840060929\" rx=\"0\" ry=\"0\" width=\"271.339006946\" x=\"94.6609930544\" y=\"362.01942117288655\"/><desc class=\"value\">363.353k</desc><desc class=\"x centered\">230.330496527</desc><desc class=\"y centered\">363.984006092917</desc></g><g class=\"bar\"><rect class=\"rect reactive tooltip-trigger\" height=\"3.929169840060929\" rx=\"0\" ry=\"0\" width=\"269.309301891\" x=\"96.6906981094\" y=\"357.5544554455446\"/><desc class=\"value\">360.635k</desc><desc class=\"x centered\">231.345349055</desc><desc class=\"y centered\">359.51904036557505</desc></g><g class=\"bar\"><rect class=\"rect reactive tooltip-trigger\" height=\"3.929169840060929\" rx=\"0\" ry=\"0\" width=\"282.231309349\" x=\"83.7686906506\" y=\"353.0894897182026\"/><desc class=\"value\">377.939k</desc><desc class=\"x centered\">224.884345325</desc><desc class=\"y centered\">355.0540746382331</desc></g><g class=\"bar\"><rect class=\"rect reactive tooltip-trigger\" height=\"3.929169840060929\" rx=\"0\" ry=\"0\" width=\"287.810384576\" x=\"78.1896154238\" y=\"348.62452399086067\"/><desc class=\"value\">385.41k</desc><desc class=\"x centered\">222.094807712</desc><desc class=\"y centered\">350.5891089108911</desc></g><g class=\"bar\"><rect class=\"rect reactive tooltip-trigger\" height=\"3.929169840060929\" rx=\"0\" ry=\"0\" width=\"293.718036044\" x=\"72.2819639555\" y=\"344.1595582635187\"/><desc class=\"value\">393.321k</desc><desc class=\"x centered\">219.140981978</desc><desc class=\"y centered\">346.12414318354917</desc><desc class=\"x_label\">25</desc></g><g class=\"bar\"><rect class=\"rect reactive tooltip-trigger\" height=\"3.929169840060929\" rx=\"0\" ry=\"0\" width=\"295.87991836\" x=\"70.1200816397\" y=\"339.69459253617674\"/><desc class=\"value\">396.216k</desc><desc class=\"x centered\">218.06004082</desc><desc class=\"y centered\">341.6591774562072</desc></g><g class=\"bar\"><rect class=\"rect reactive tooltip-trigger\" height=\"3.929169840060929\" rx=\"0\" ry=\"0\" width=\"300.054330155\" x=\"65.945669845\" y=\"335.2296268088347\"/><desc class=\"value\">401.806k</desc><desc class=\"x centered\">215.972834923</desc><desc class=\"y centered\">337.1942117288652</desc></g><g class=\"bar\"><rect class=\"rect reactive tooltip-trigger\" height=\"3.929169840060929\" rx=\"0\" ry=\"0\" width=\"300.258196778\" x=\"65.7418032225\" y=\"330.76466108149276\"/><desc class=\"value\">402.079k</desc><desc class=\"x centered\">215.870901611</desc><desc class=\"y centered\">332.7292460015232</desc></g><g class=\"bar\"><rect class=\"rect reactive tooltip-trigger\" height=\"3.929169840060929\" rx=\"0\" ry=\"0\" width=\"307.27105924\" x=\"58.7289407603\" y=\"326.29969535415086\"/><desc class=\"value\">411.47k</desc><desc class=\"x centered\">212.36447038</desc><desc class=\"y centered\">328.2642802741813</desc></g><g class=\"bar\"><rect class=\"rect reactive tooltip-trigger\" height=\"3.929169840060929\" rx=\"0\" ry=\"0\" width=\"306.278609638\" x=\"59.7213903623\" y=\"321.8347296268089\"/><desc class=\"value\">410.141k</desc><desc class=\"x centered\">212.860695181</desc><desc class=\"y centered\">323.79931454683935</desc><desc class=\"x_label\">30</desc></g><g class=\"bar\"><rect class=\"rect reactive tooltip-trigger\" height=\"3.929169840060929\" rx=\"0\" ry=\"0\" width=\"307.273299532\" x=\"58.7267004677\" y=\"317.3697638994669\"/><desc class=\"value\">411.473k</desc><desc class=\"x centered\">212.363350234</desc><desc class=\"y centered\">319.33434881949734</desc></g><g class=\"bar\"><rect class=\"rect reactive tooltip-trigger\" height=\"3.929169840060929\" rx=\"0\" ry=\"0\" width=\"302.653069519\" x=\"63.3469304809\" y=\"312.90479817212497\"/><desc class=\"value\">405.286k</desc><desc class=\"x centered\">214.67346524</desc><desc class=\"y centered\">314.86938309215543</desc></g><g class=\"bar\"><rect class=\"rect reactive tooltip-trigger\" height=\"3.929169840060929\" rx=\"0\" ry=\"0\" width=\"322.326571975\" x=\"43.6734280247\" y=\"308.43983244478295\"/><desc class=\"value\">431.631k</desc><desc class=\"x centered\">204.836714012</desc><desc class=\"y centered\">310.4044173648134</desc></g><g class=\"bar\"><rect class=\"rect reactive tooltip-trigger\" height=\"3.929169840060929\" rx=\"0\" ry=\"0\" width=\"326.564458726\" x=\"39.4355412743\" y=\"303.974866717441\"/><desc class=\"value\">437.306k</desc><desc class=\"x centered\">202.717770637</desc><desc class=\"y centered\">305.93945163747145</desc></g><g class=\"bar\"><rect class=\"rect reactive tooltip-trigger\" height=\"3.929169840060929\" rx=\"0\" ry=\"0\" width=\"329.407389978\" x=\"36.5926100216\" y=\"299.509900990099\"/><desc class=\"value\">441.113k</desc><desc class=\"x centered\">201.296305011</desc><desc class=\"y centered\">301.4744859101295</desc><desc class=\"x_label\">35</desc></g><g class=\"bar\"><rect class=\"rect reactive tooltip-trigger\" height=\"3.929169840060929\" rx=\"0\" ry=\"0\" width=\"311.970446256\" x=\"54.0295537435\" y=\"295.0449352627571\"/><desc class=\"value\">417.763k</desc><desc class=\"x centered\">210.014776872</desc><desc class=\"y centered\">297.0095201827876</desc></g><g class=\"bar\"><rect class=\"rect reactive tooltip-trigger\" height=\"3.929169840060929\" rx=\"0\" ry=\"0\" width=\"305.672237119\" x=\"60.3277628806\" y=\"290.5799695354151\"/><desc class=\"value\">409.329k</desc><desc class=\"x centered\">213.16388144</desc><desc class=\"y centered\">292.54455445544556</desc></g><g class=\"bar\"><rect class=\"rect reactive tooltip-trigger\" height=\"3.929169840060929\" rx=\"0\" ry=\"0\" width=\"307.578726084\" x=\"58.421273916\" y=\"286.11500380807314\"/><desc class=\"value\">411.882k</desc><desc class=\"x centered\">212.210636958</desc><desc class=\"y centered\">288.0795887281036</desc></g><g class=\"bar\"><rect class=\"rect reactive tooltip-trigger\" height=\"3.929169840060929\" rx=\"0\" ry=\"0\" width=\"301.113241769\" x=\"64.8867582306\" y=\"281.6500380807312\"/><desc class=\"value\">403.224k</desc><desc class=\"x centered\">215.443379115</desc><desc class=\"y centered\">283.61462300076164</desc></g><g class=\"bar\"><rect class=\"rect reactive tooltip-trigger\" height=\"3.929169840060929\" rx=\"0\" ry=\"0\" width=\"309.304498116\" x=\"56.6955018843\" y=\"277.1850723533892\"/><desc class=\"value\">414.193k</desc><desc class=\"x centered\">211.347750942</desc><desc class=\"y centered\">279.1496572734197</desc><desc class=\"x_label\">40</desc></g><g class=\"bar\"><rect class=\"rect reactive tooltip-trigger\" height=\"3.929169840060929\" rx=\"0\" ry=\"0\" width=\"325.315122244\" x=\"40.6848777559\" y=\"272.72010662604725\"/><desc class=\"value\">435.633k</desc><desc class=\"x centered\">203.342438878</desc><desc class=\"y centered\">274.6846915460777</desc></g><g class=\"bar\"><rect class=\"rect reactive tooltip-trigger\" height=\"3.929169840060929\" rx=\"0\" ry=\"0\" width=\"343.822925807\" x=\"22.1770741926\" y=\"268.2551408987053\"/><desc class=\"value\">460.417k</desc><desc class=\"x centered\">194.088537096</desc><desc class=\"y centered\">270.21972581873575</desc></g><g class=\"bar\"><rect class=\"rect reactive tooltip-trigger\" height=\"3.929169840060929\" rx=\"0\" ry=\"0\" width=\"351.923076923\" x=\"14.0769230769\" y=\"263.79017517136333\"/><desc class=\"value\">471.264k</desc><desc class=\"x centered\">190.038461538</desc><desc class=\"y centered\">265.7547600913938</desc></g><g class=\"bar\"><rect class=\"rect reactive tooltip-trigger\" height=\"3.929169840060929\" rx=\"0\" ry=\"0\" width=\"349.346740485\" x=\"16.6532595155\" y=\"259.32520944402137\"/><desc class=\"value\">467.814k</desc><desc class=\"x centered\">191.326629758</desc><desc class=\"y centered\">261.28979436405183</desc></g><g class=\"bar\"><rect class=\"rect reactive tooltip-trigger\" height=\"3.929169840060929\" rx=\"0\" ry=\"0\" width=\"343.023888129\" x=\"22.9761118707\" y=\"254.8602437166794\"/><desc class=\"value\">459.347k</desc><desc class=\"x centered\">194.488055935</desc><desc class=\"y centered\">256.82482863670987</desc><desc class=\"x_label\">45</desc></g><g class=\"bar\"><rect class=\"rect reactive tooltip-trigger\" height=\"3.929169840060929\" rx=\"0\" ry=\"0\" width=\"338.93610098\" x=\"27.0638990199\" y=\"250.39527798933742\"/><desc class=\"value\">453.873k</desc><desc class=\"x centered\">196.53194951</desc><desc class=\"y centered\">252.35986290936788</desc></g><g class=\"bar\"><rect class=\"rect reactive tooltip-trigger\" height=\"3.929169840060929\" rx=\"0\" ry=\"0\" width=\"338.227421768\" x=\"27.7725782315\" y=\"245.93031226199543\"/><desc class=\"value\">452.924k</desc><desc class=\"x centered\">196.886289116</desc><desc class=\"y centered\">247.8948971820259</desc></g><g class=\"bar\"><rect class=\"rect reactive tooltip-trigger\" height=\"3.929169840060929\" rx=\"0\" ry=\"0\" width=\"335.182117422\" x=\"30.8178825783\" y=\"241.46534653465346\"/><desc class=\"value\">448.846k</desc><desc class=\"x centered\">198.408941289</desc><desc class=\"y centered\">243.42993145468392</desc></g><g class=\"bar\"><rect class=\"rect reactive tooltip-trigger\" height=\"3.929169840060929\" rx=\"0\" ry=\"0\" width=\"343.363665834\" x=\"22.6363341664\" y=\"237.00038080731153\"/><desc class=\"value\">459.802k</desc><desc class=\"x centered\">194.318167083</desc><desc class=\"y centered\">238.964965727342</desc></g><g class=\"bar\"><rect class=\"rect reactive tooltip-trigger\" height=\"3.929169840060929\" rx=\"0\" ry=\"0\" width=\"344.304588707\" x=\"21.6954112932\" y=\"232.53541507996954\"/><desc class=\"value\">461.062k</desc><desc class=\"x centered\">193.847705647</desc><desc class=\"y centered\">234.5</desc><desc class=\"x_label\">50</desc></g><g class=\"bar\"><rect class=\"rect reactive tooltip-trigger\" height=\"3.929169840060929\" rx=\"0\" ry=\"0\" width=\"349.849312781\" x=\"16.1506872189\" y=\"228.07044935262758\"/><desc class=\"value\">468.487k</desc><desc class=\"x centered\">191.075343609</desc><desc class=\"y centered\">230.03503427265804</desc></g><g class=\"bar\"><rect class=\"rect reactive tooltip-trigger\" height=\"3.929169840060929\" rx=\"0\" ry=\"0\" width=\"346.237961182\" x=\"19.762038818\" y=\"223.6054836252856\"/><desc class=\"value\">463.651k</desc><desc class=\"x centered\">192.881019409</desc><desc class=\"y centered\">225.57006854531605</desc></g><g class=\"bar\"><rect class=\"rect reactive tooltip-trigger\" height=\"3.929169840060929\" rx=\"0\" ry=\"0\" width=\"334.013431472\" x=\"31.986568528\" y=\"219.14051789794365\"/><desc class=\"value\">447.281k</desc><desc class=\"x centered\">198.993284264</desc><desc class=\"y centered\">221.1051028179741</desc></g><g class=\"bar\"><rect class=\"rect reactive tooltip-trigger\" height=\"3.929169840060929\" rx=\"0\" ry=\"0\" width=\"334.701201286\" x=\"31.2987987135\" y=\"214.67555217060166\"/><desc class=\"value\">448.202k</desc><desc class=\"x centered\">198.649399357</desc><desc class=\"y centered\">216.64013709063212</desc></g><g class=\"bar\"><rect class=\"rect reactive tooltip-trigger\" height=\"3.929169840060929\" rx=\"0\" ry=\"0\" width=\"332.613995389\" x=\"33.3860046108\" y=\"210.21058644325967\"/><desc class=\"value\">445.407k</desc><desc class=\"x centered\">199.693002305</desc><desc class=\"y centered\">212.17517136329013</desc><desc class=\"x_label\">55</desc></g><g class=\"bar\"><rect class=\"rect reactive tooltip-trigger\" height=\"3.929169840060929\" rx=\"0\" ry=\"0\" width=\"331.742521585\" x=\"34.2574784148\" y=\"205.74562071591774\"/><desc class=\"value\">444.24k</desc><desc class=\"x centered\">200.128739207</desc><desc class=\"y centered\">207.7102056359482</desc></g><g class=\"bar\"><rect class=\"rect reactive tooltip-trigger\" height=\"3.929169840060929\" rx=\"0\" ry=\"0\" width=\"324.377186428\" x=\"41.6228135724\" y=\"201.28065498857583\"/><desc class=\"value\">434.377k</desc><desc class=\"x centered\">203.811406786</desc><desc class=\"y centered\">203.2452399086063</desc></g><g class=\"bar\"><rect class=\"rect reactive tooltip-trigger\" height=\"3.929169840060929\" rx=\"0\" ry=\"0\" width=\"324.529526321\" x=\"41.4704736786\" y=\"196.81568926123387\"/><desc class=\"value\">434.581k</desc><desc class=\"x centered\">203.735236839</desc><desc class=\"y centered\">198.78027418126433</desc></g><g class=\"bar\"><rect class=\"rect reactive tooltip-trigger\" height=\"3.929169840060929\" rx=\"0\" ry=\"0\" width=\"322.328812268\" x=\"43.6711877321\" y=\"192.35072353389185\"/><desc class=\"value\">431.634k</desc><desc class=\"x centered\">204.835593866</desc><desc class=\"y centered\">194.3153084539223</desc></g><g class=\"bar\"><rect class=\"rect reactive tooltip-trigger\" height=\"3.929169840060929\" rx=\"0\" ry=\"0\" width=\"319.435101051\" x=\"46.5648989493\" y=\"187.8857578065499\"/><desc class=\"value\">427.759k</desc><desc class=\"x centered\">206.282449475</desc><desc class=\"y centered\">189.85034272658035</desc><desc class=\"x_label\">60</desc></g><g class=\"bar\"><rect class=\"rect reactive tooltip-trigger\" height=\"3.929169840060929\" rx=\"0\" ry=\"0\" width=\"318.515834339\" x=\"47.4841656612\" y=\"183.42079207920793\"/><desc class=\"value\">426.528k</desc><desc class=\"x centered\">206.742082831</desc><desc class=\"y centered\">185.3853769992384</desc></g><g class=\"bar\"><rect class=\"rect reactive tooltip-trigger\" height=\"3.929169840060929\" rx=\"0\" ry=\"0\" width=\"311.7568717\" x=\"54.2431283005\" y=\"178.95582635186597\"/><desc class=\"value\">417.477k</desc><desc class=\"x centered\">210.12156415</desc><desc class=\"y centered\">180.92041127189643</desc></g><g class=\"bar\"><rect class=\"rect reactive tooltip-trigger\" height=\"3.929169840060929\" rx=\"0\" ry=\"0\" width=\"317.161204107\" x=\"48.8387958929\" y=\"174.490860624524\"/><desc class=\"value\">424.714k</desc><desc class=\"x centered\">207.419397946</desc><desc class=\"y centered\">176.45544554455446</desc></g><g class=\"bar\"><rect class=\"rect reactive tooltip-trigger\" height=\"3.929169840060929\" rx=\"0\" ry=\"0\" width=\"308.740691156\" x=\"57.259308844\" y=\"170.02589489718198\"/><desc class=\"value\">413.438k</desc><desc class=\"x centered\">211.629654422</desc><desc class=\"y centered\">171.99047981721245</desc></g><g class=\"bar\"><rect class=\"rect reactive tooltip-trigger\" height=\"3.929169840060929\" rx=\"0\" ry=\"0\" width=\"320.340179243\" x=\"45.659820757\" y=\"165.56092916984008\"/><desc class=\"value\">428.971k</desc><desc class=\"x centered\">205.829910379</desc><desc class=\"y centered\">167.52551408987054</desc><desc class=\"x_label\">65</desc></g><g class=\"bar\"><rect class=\"rect reactive tooltip-trigger\" height=\"3.929169840060929\" rx=\"0\" ry=\"0\" width=\"315.136726401\" x=\"50.8632735987\" y=\"161.09596344249812\"/><desc class=\"value\">422.003k</desc><desc class=\"x centered\">208.431636799</desc><desc class=\"y centered\">163.06054836252858</desc></g><g class=\"bar\"><rect class=\"rect reactive tooltip-trigger\" height=\"3.929169840060929\" rx=\"0\" ry=\"0\" width=\"312.21015756\" x=\"53.7898424401\" y=\"156.6309977151561\"/><desc class=\"value\">418.084k</desc><desc class=\"x centered\">209.89492122</desc><desc class=\"y centered\">158.59558263518656</desc></g><g class=\"bar\"><rect class=\"rect reactive tooltip-trigger\" height=\"3.929169840060929\" rx=\"0\" ry=\"0\" width=\"305.386226437\" x=\"60.6137735635\" y=\"152.16603198781414\"/><desc class=\"value\">408.946k</desc><desc class=\"x centered\">213.306886782</desc><desc class=\"y centered\">154.1306169078446</desc></g><g class=\"bar\"><rect class=\"rect reactive tooltip-trigger\" height=\"3.929169840060929\" rx=\"0\" ry=\"0\" width=\"290.500975935\" x=\"75.4990240649\" y=\"147.70106626047223\"/><desc class=\"value\">389.013k</desc><desc class=\"x centered\">220.749512032</desc><desc class=\"y centered\">149.6656511805027</desc></g><g class=\"bar\"><rect class=\"rect reactive tooltip-trigger\" height=\"3.929169840060929\" rx=\"0\" ry=\"0\" width=\"219.824226401\" x=\"146.175773599\" y=\"143.23610053313027\"/><desc class=\"value\">294.369k</desc><desc class=\"x centered\">256.087886799</desc><desc class=\"y centered\">145.20068545316073</desc><desc class=\"x_label\">70</desc></g><g class=\"bar\"><rect class=\"rect reactive tooltip-trigger\" height=\"3.929169840060929\" rx=\"0\" ry=\"0\" width=\"214.783568152\" x=\"151.216431848\" y=\"138.7711348057883\"/><desc class=\"value\">287.619k</desc><desc class=\"x centered\">258.608215924</desc><desc class=\"y centered\">140.73571972581877</desc></g><g class=\"bar\"><rect class=\"rect reactive tooltip-trigger\" height=\"3.929169840060929\" rx=\"0\" ry=\"0\" width=\"208.039540796\" x=\"157.960459204\" y=\"134.30616907844635\"/><desc class=\"value\">278.588k</desc><desc class=\"x centered\">261.980229602</desc><desc class=\"y centered\">136.2707539984768</desc></g><g class=\"bar\"><rect class=\"rect reactive tooltip-trigger\" height=\"3.929169840060929\" rx=\"0\" ry=\"0\" width=\"192.486683113\" x=\"173.513316887\" y=\"129.84120335110433\"/><desc class=\"value\">257.761k</desc><desc class=\"x centered\">269.756658443</desc><desc class=\"y centered\">131.8057882711348</desc></g><g class=\"bar\"><rect class=\"rect reactive tooltip-trigger\" height=\"3.929169840060929\" rx=\"0\" ry=\"0\" width=\"172.893831189\" x=\"193.106168811\" y=\"125.37623762376242\"/><desc class=\"value\">231.524k</desc><desc class=\"x centered\">279.553084405</desc><desc class=\"y centered\">127.34082254379288</desc></g><g class=\"bar\"><rect class=\"rect reactive tooltip-trigger\" height=\"3.929169840060929\" rx=\"0\" ry=\"0\" width=\"180.778167455\" x=\"185.221832545\" y=\"120.91127189642046\"/><desc class=\"value\">242.082k</desc><desc class=\"x centered\">275.610916272</desc><desc class=\"y centered\">122.87585681645092</desc><desc class=\"x_label\">75</desc></g><g class=\"bar\"><rect class=\"rect reactive tooltip-trigger\" height=\"3.929169840060929\" rx=\"0\" ry=\"0\" width=\"188.983612321\" x=\"177.016387679\" y=\"116.44630616907844\"/><desc class=\"value\">253.07k</desc><desc class=\"x centered\">271.508193839</desc><desc class=\"y centered\">118.4108910891089</desc></g><g class=\"bar\"><rect class=\"rect reactive tooltip-trigger\" height=\"3.929169840060929\" rx=\"0\" ry=\"0\" width=\"185.918892106\" x=\"180.081107894\" y=\"111.98134044173648\"/><desc class=\"value\">248.966k</desc><desc class=\"x centered\">273.040553947</desc><desc class=\"y centered\">113.94592536176694</desc></g><g class=\"bar\"><rect class=\"rect reactive tooltip-trigger\" height=\"3.929169840060929\" rx=\"0\" ry=\"0\" width=\"182.486763911\" x=\"183.513236089\" y=\"107.51637471439452\"/><desc class=\"value\">244.37k</desc><desc class=\"x centered\">274.756618045</desc><desc class=\"y centered\">109.48095963442498</desc></g><g class=\"bar\"><rect class=\"rect reactive tooltip-trigger\" height=\"3.929169840060929\" rx=\"0\" ry=\"0\" width=\"181.931171357\" x=\"184.068828643\" y=\"103.05140898705255\"/><desc class=\"value\">243.626k</desc><desc class=\"x centered\">275.034414321</desc><desc class=\"y centered\">105.01599390708301</desc></g><g class=\"bar\"><rect class=\"rect reactive tooltip-trigger\" height=\"3.929169840060929\" rx=\"0\" ry=\"0\" width=\"177.83666333\" x=\"188.16333667\" y=\"98.58644325971059\"/><desc class=\"value\">238.143k</desc><desc class=\"x centered\">277.081668335</desc><desc class=\"y centered\">100.55102817974105</desc><desc class=\"x_label\">80</desc></g><g class=\"bar\"><rect class=\"rect reactive tooltip-trigger\" height=\"3.929169840060929\" rx=\"0\" ry=\"0\" width=\"177.714194004\" x=\"188.285805996\" y=\"94.12147753236857\"/><desc class=\"value\">237.979k</desc><desc class=\"x centered\">277.142902998</desc><desc class=\"y centered\">96.08606245239903</desc></g><g class=\"bar\"><rect class=\"rect reactive tooltip-trigger\" height=\"3.929169840060929\" rx=\"0\" ry=\"0\" width=\"167.240826308\" x=\"198.759173692\" y=\"89.65651180502661\"/><desc class=\"value\">223.954k</desc><desc class=\"x centered\">282.379586846</desc><desc class=\"y centered\">91.62109672505707</desc></g><g class=\"bar\"><rect class=\"rect reactive tooltip-trigger\" height=\"3.929169840060929\" rx=\"0\" ry=\"0\" width=\"168.213860041\" x=\"197.786139959\" y=\"85.19154607768476\"/><desc class=\"value\">225.257k</desc><desc class=\"x centered\">281.893069979</desc><desc class=\"y centered\">87.15613099771522</desc></g><g class=\"bar\"><rect class=\"rect reactive tooltip-trigger\" height=\"3.929169840060929\" rx=\"0\" ry=\"0\" width=\"157.520943675\" x=\"208.479056325\" y=\"80.72658035034274\"/><desc class=\"value\">210.938k</desc><desc class=\"x centered\">287.239528163</desc><desc class=\"y centered\">82.6911652703732</desc></g><g class=\"bar\"><rect class=\"rect reactive tooltip-trigger\" height=\"3.929169840060929\" rx=\"0\" ry=\"0\" width=\"151.558778421\" x=\"214.441221579\" y=\"76.26161462300078\"/><desc class=\"value\">202.954k</desc><desc class=\"x centered\">290.220610789</desc><desc class=\"y centered\">78.22619954303124</desc><desc class=\"x_label\">85</desc></g><g class=\"bar\"><rect class=\"rect reactive tooltip-trigger\" height=\"3.929169840060929\" rx=\"0\" ry=\"0\" width=\"134.603497599\" x=\"231.396502401\" y=\"71.79664889565882\"/><desc class=\"value\">180.249k</desc><desc class=\"x centered\">298.698251201</desc><desc class=\"y centered\">73.76123381568928</desc></g><g class=\"bar\"><rect class=\"rect reactive tooltip-trigger\" height=\"3.929169840060929\" rx=\"0\" ry=\"0\" width=\"123.47297742\" x=\"242.52702258\" y=\"67.33168316831686\"/><desc class=\"value\">165.344k</desc><desc class=\"x centered\">304.26351129</desc><desc class=\"y centered\">69.29626808834732</desc></g><g class=\"bar\"><rect class=\"rect reactive tooltip-trigger\" height=\"3.929169840060929\" rx=\"0\" ry=\"0\" width=\"111.482931664\" x=\"254.517068336\" y=\"62.86671744097489\"/><desc class=\"value\">149.288k</desc><desc class=\"x centered\">310.258534168</desc><desc class=\"y centered\">64.83130236100536</desc></g><g class=\"bar\"><rect class=\"rect reactive tooltip-trigger\" height=\"3.929169840060929\" rx=\"0\" ry=\"0\" width=\"100.512219021\" x=\"265.487780979\" y=\"58.401751713632926\"/><desc class=\"value\">134.597k</desc><desc class=\"x centered\">315.74389049</desc><desc class=\"y centered\">60.366336633663394</desc></g><g class=\"bar\"><rect class=\"rect reactive tooltip-trigger\" height=\"3.929169840060929\" rx=\"0\" ry=\"0\" width=\"89.4967005265\" x=\"276.503299473\" y=\"53.93678598629091\"/><desc class=\"value\">119.846k</desc><desc class=\"x centered\">321.251649737</desc><desc class=\"y centered\">55.901370906321375</desc><desc class=\"x_label\">90</desc></g><g class=\"bar\"><rect class=\"rect reactive tooltip-trigger\" height=\"3.929169840060929\" rx=\"0\" ry=\"0\" width=\"75.6419846005\" x=\"290.3580154\" y=\"49.471820258949\"/><desc class=\"value\">101.293k</desc><desc class=\"x centered\">328.1790077</desc><desc class=\"y centered\">51.43640517897947</desc></g><g class=\"bar\"><rect class=\"rect reactive tooltip-trigger\" height=\"3.929169840060929\" rx=\"0\" ry=\"0\" width=\"64.3897418595\" x=\"301.61025814\" y=\"45.00685453160698\"/><desc class=\"value\">86.225k</desc><desc class=\"x centered\">333.80512907</desc><desc class=\"y centered\">46.97143945163745</desc></g><g class=\"bar\"><rect class=\"rect reactive tooltip-trigger\" height=\"3.929169840060929\" rx=\"0\" ry=\"0\" width=\"54.2300151214\" x=\"311.769984879\" y=\"40.54188880426502\"/><desc class=\"value\">72.62k</desc><desc class=\"x centered\">338.884992439</desc><desc class=\"y centered\">42.50647372429549</desc></g><g class=\"bar\"><rect class=\"rect reactive tooltip-trigger\" height=\"3.929169840060929\" rx=\"0\" ry=\"0\" width=\"43.7760632943\" x=\"322.223936706\" y=\"36.07692307692306\"/><desc class=\"value\">58.621k</desc><desc class=\"x centered\">344.111968353</desc><desc class=\"y centered\">38.04150799695353</desc></g><g class=\"bar\"><rect class=\"rect reactive tooltip-trigger\" height=\"3.929169840060929\" rx=\"0\" ry=\"0\" width=\"34.7028784454\" x=\"331.297121555\" y=\"31.611957349581097\"/><desc class=\"value\">46.471k</desc><desc class=\"x centered\">348.648560777</desc><desc class=\"y centered\">33.576542269611565</desc><desc class=\"x_label\">95</desc></g><g class=\"bar\"><rect class=\"rect reactive tooltip-trigger\" height=\"3.929169840060929\" rx=\"0\" ry=\"0\" width=\"15.8104913268\" x=\"350.189508673\" y=\"27.146991622239195\"/><desc class=\"value\">21.172k</desc><desc class=\"x centered\">358.094754337</desc><desc class=\"y centered\">29.11157654226966</desc></g><g class=\"bar\"><rect class=\"rect reactive tooltip-trigger\" height=\"3.929169840060929\" rx=\"0\" ry=\"0\" width=\"10.1888505414\" x=\"355.811149459\" y=\"22.682025894897233\"/><desc class=\"value\">13.644k</desc><desc class=\"x centered\">360.905574729</desc><desc class=\"y centered\">24.646610814927698</desc></g><g class=\"bar\"><rect class=\"rect reactive tooltip-trigger\" height=\"3.929169840060929\" rx=\"0\" ry=\"0\" width=\"7.07559065374\" x=\"358.924409346\" y=\"18.217060167555214\"/><desc class=\"value\">9.475k</desc><desc class=\"x centered\">362.462204673</desc><desc class=\"y centered\">20.18164508758568</desc></g><g class=\"bar\"><rect class=\"rect reactive tooltip-trigger\" height=\"3.929169840060929\" rx=\"0\" ry=\"0\" width=\"4.71432230048\" x=\"361.2856777\" y=\"13.752094440213252\"/><desc class=\"value\">6.313k</desc><desc class=\"x centered\">363.64283885</desc><desc class=\"y centered\">15.716679360243717</desc></g><g class=\"bar\"><rect class=\"rect reactive tooltip-trigger\" height=\"3.929169840060929\" rx=\"0\" ry=\"0\" width=\"13.3581177429\" x=\"352.641882257\" y=\"9.287128712871345\"/><desc class=\"value\">17.888k</desc><desc class=\"x centered\">359.320941129</desc><desc class=\"y centered\">11.25171363290181</desc><desc class=\"x_label\">100</desc></g></g></g></g><g class=\"titles\"><text class=\"title plot_title\" x=\"400.0\" y=\"26\">Population française en 2015</text></g><g class=\"plot overlay\" transform=\"translate(48, 46)\"><g class=\"series serie-0 color-0\"/><g class=\"series serie-1 color-1\"/></g><g class=\"plot text-overlay\" transform=\"translate(48, 46)\"><g class=\"series serie-0 color-0\"/><g class=\"series serie-1 color-1\"/></g><g class=\"plot tooltip-overlay\" transform=\"translate(48, 46)\"><g class=\"tooltip\" style=\"opacity: 0\" transform=\"translate(0 0)\"><rect class=\"tooltip-box\" height=\"0\" rx=\"0\" ry=\"0\" width=\"0\"/><g class=\"text\"/></g></g><g class=\"legends\" transform=\"translate(58, 545)\"><g class=\"legend reactive activate-serie\" id=\"activate-serie-0\"><rect class=\"color-0 reactive\" height=\"12\" width=\"12\" x=\"0.0\" y=\"1.0\"/><text x=\"17.0\" y=\"11.2\">hommes</text></g><g class=\"legend reactive activate-serie\" id=\"activate-serie-1\"><rect class=\"color-1 reactive\" height=\"12\" width=\"12\" x=\"366.0\" y=\"1.0\"/><text x=\"383.0\" y=\"11.2\">femmes</text></g></g></g></svg>"
      ],
      "text/plain": [
       "<IPython.core.display.SVG object>"
      ]
     },
     "execution_count": 34,
     "metadata": {},
     "output_type": "execute_result"
    }
   ],
   "source": [
    "from IPython.display import SVG\n",
    "import pygal\n",
    "pyramid_chart = pygal.Pyramid(human_readable=True, legend_at_bottom=True)\n",
    "pyramid_chart.title = 'Population française en 2015'\n",
    "pyramid_chart.x_labels = map(lambda x: str(x) if not x % 5 else '', population[\"age\"])\n",
    "pyramid_chart.add(\"hommes\", population[\"hommes\"])\n",
    "pyramid_chart.add(\"femmes\", population[\"femmes\"])\n",
    "SVG(pyramid_chart.render())"
   ]
  },
  {
   "cell_type": "code",
   "execution_count": null,
   "metadata": {
    "collapsed": true
   },
   "outputs": [],
   "source": []
  }
 ],
 "metadata": {
  "kernelspec": {
   "display_name": "Python 3",
   "language": "python",
   "name": "python3"
  },
  "language_info": {
   "codemirror_mode": {
    "name": "ipython",
    "version": 3
   },
   "file_extension": ".py",
   "mimetype": "text/x-python",
   "name": "python",
   "nbconvert_exporter": "python",
   "pygments_lexer": "ipython3",
   "version": "3.4.3"
  }
 },
 "nbformat": 4,
 "nbformat_minor": 0
}
