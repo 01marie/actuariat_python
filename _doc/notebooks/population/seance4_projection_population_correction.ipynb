{
 "cells": [
  {
   "cell_type": "markdown",
   "metadata": {},
   "source": [
    "# Evolutation d'une population (correction)"
   ]
  },
  {
   "cell_type": "code",
   "execution_count": 1,
   "metadata": {
    "collapsed": false
   },
   "outputs": [
    {
     "data": {
      "text/html": [
       "<div id=\"my_id_menu_nb\">run previous cell, wait for 2 seconds</div>\n",
       "<script>\n",
       "function repeat_indent_string(n){\n",
       "    var a = \"\" ;\n",
       "    for ( ; n > 0 ; --n) {\n",
       "        a += \"    \";\n",
       "    }\n",
       "    return a;\n",
       "}\n",
       "var update_menu = function() {\n",
       "    var anchors = document.getElementsByClassName(\"section\");\n",
       "    if (anchors.length == 0) {\n",
       "        anchors = document.getElementsByClassName(\"text_cell_render rendered_html\");\n",
       "    }\n",
       "    var i;\n",
       "    var text_menu = \"\";\n",
       "    var ind = \"\";\n",
       "    var memo_level = 0;\n",
       "    var href;\n",
       "    for (i = 0; i < anchors.length; i++) {\n",
       "        var child = anchors[i].children[0];\n",
       "        if (anchors[i].hasAttribute(\"id\")) {\n",
       "            href = anchors[i].id;\n",
       "        }\n",
       "        else if (child.hasAttribute(\"id\")) {\n",
       "            href = child.id;\n",
       "        }\n",
       "        else {\n",
       "            continue;\n",
       "        }\n",
       "        var title = child.textContent;\n",
       "        var level = parseInt(child.tagName.substring(1,2));\n",
       "        if ((level <= 1) || (level >= 5)) {\n",
       "            continue ;\n",
       "        }\n",
       "        if (title.endsWith('¶')) {\n",
       "            title = title.substring(0,title.length-1);\n",
       "        }\n",
       "        if (title.length == 0) {\n",
       "            continue;\n",
       "        }\n",
       "        if (level > memo_level) {\n",
       "            text_menu += \"<ul>\\n\";\n",
       "        }\n",
       "        text_menu += repeat_indent_string(level-2) + '<li><a href=\"#' + href + '\">' + title + '</a></li>';\n",
       "        if (level < memo_level) {\n",
       "            text_menu += \"</ul>\\n\";\n",
       "        }\n",
       "        memo_level = level;\n",
       "    }\n",
       "    text_menu += \"\";\n",
       "    var menu = document.getElementById(\"my_id_menu_nb\");\n",
       "    menu.innerHTML=text_menu;\n",
       "};\n",
       "window.setTimeout(update_menu,2000);\n",
       "            </script>"
      ],
      "text/plain": [
       "<IPython.core.display.HTML object>"
      ]
     },
     "execution_count": 1,
     "metadata": {},
     "output_type": "execute_result"
    }
   ],
   "source": [
    "from pyquickhelper.ipythonhelper import add_notebook_menu\n",
    "add_notebook_menu()"
   ]
  },
  {
   "cell_type": "markdown",
   "metadata": {},
   "source": [
    "### Exercice 1 : pyramides des âges"
   ]
  },
  {
   "cell_type": "code",
   "execution_count": 1,
   "metadata": {
    "collapsed": false
   },
   "outputs": [
    {
     "data": {
      "text/html": [
       "<div style=\"max-height:1000px;max-width:1500px;overflow:auto;\">\n",
       "<table border=\"1\" class=\"dataframe\">\n",
       "  <thead>\n",
       "    <tr style=\"text-align: right;\">\n",
       "      <th></th>\n",
       "      <th>naissance</th>\n",
       "      <th>age</th>\n",
       "      <th>hommes</th>\n",
       "      <th>femmes</th>\n",
       "      <th>ensemble</th>\n",
       "    </tr>\n",
       "  </thead>\n",
       "  <tbody>\n",
       "    <tr>\n",
       "      <th>10</th>\n",
       "      <td>2014</td>\n",
       "      <td>0</td>\n",
       "      <td>403837</td>\n",
       "      <td>386619</td>\n",
       "      <td>790456</td>\n",
       "    </tr>\n",
       "    <tr>\n",
       "      <th>11</th>\n",
       "      <td>2013</td>\n",
       "      <td>1</td>\n",
       "      <td>404502</td>\n",
       "      <td>386726</td>\n",
       "      <td>791228</td>\n",
       "    </tr>\n",
       "    <tr>\n",
       "      <th>12</th>\n",
       "      <td>2012</td>\n",
       "      <td>2</td>\n",
       "      <td>411217</td>\n",
       "      <td>393181</td>\n",
       "      <td>804398</td>\n",
       "    </tr>\n",
       "  </tbody>\n",
       "</table>\n",
       "</div>"
      ],
      "text/plain": [
       "    naissance  age  hommes  femmes  ensemble\n",
       "10       2014    0  403837  386619    790456\n",
       "11       2013    1  404502  386726    791228\n",
       "12       2012    2  411217  393181    804398"
      ]
     },
     "execution_count": 1,
     "metadata": {},
     "output_type": "execute_result"
    }
   ],
   "source": [
    "from actuariat_python.data import population_france_2015\n",
    "df = population_france_2015()\n",
    "df.head(n=3)"
   ]
  },
  {
   "cell_type": "code",
   "execution_count": 2,
   "metadata": {
    "collapsed": false
   },
   "outputs": [],
   "source": [
    "hommes = df[\"hommes\"]\n",
    "femmes = df[\"femmes\"]\n",
    "somme = hommes - femmes"
   ]
  },
  {
   "cell_type": "markdown",
   "metadata": {},
   "source": [
    "Je reprends ici le code exposé à [Damien Vergnaud's Homepage](http://www.di.ens.fr/~vergnaud/TPc_20150304_Python.html) en l'adaptant un peu avec les fonctions de matplotlib via l'interface [pyplot](http://matplotlib.org/api/pyplot_api.html). Puis j'ajoute la différence par âge. On commence souvent par la [gallerie](http://matplotlib.org/gallery.html) pour voir si un graphe ou juste une partie est similaire à ce qu'on veut obtenir."
   ]
  },
  {
   "cell_type": "code",
   "execution_count": 3,
   "metadata": {
    "collapsed": false
   },
   "outputs": [
    {
     "data": {
      "text/plain": [
       "<matplotlib.legend.Legend at 0x89c1a20>"
      ]
     },
     "execution_count": 3,
     "metadata": {},
     "output_type": "execute_result"
    },
    {
     "data": {
      "image/png": "[encoded data removed]",
      "text/plain": [
       "<matplotlib.figure.Figure at 0x597a0b8>"
      ]
     },
     "metadata": {},
     "output_type": "display_data"
    }
   ],
   "source": [
    "from matplotlib import pyplot as plt\n",
    "plt.style.use('ggplot')\n",
    "fig, ax = plt.subplots(figsize=(8,8))\n",
    "ValH = ax.barh(arange(len(hommes)),hommes,1.0,label=\"Hommes\",color='b',linewidth=0,align='center')\n",
    "ValF = ax.barh(arange(len(femmes)),-femmes,1.0,label=\"Femmes\",color='r',linewidth=0,align='center')\n",
    "diff, = ax.plot(somme,arange(len(femmes)),'y',linewidth=2)\n",
    "ax.set_title(\"Pyramide des âges\")\n",
    "ax.set_ylabel(\"Ages\")\n",
    "ax.set_xlabel(\"Habitants\")\n",
    "ax.set_ylim([0,110])\n",
    "ax.legend((ValH[0],ValF[0],diff),('Hommes','Femmes','différence'))"
   ]
  },
  {
   "cell_type": "markdown",
   "metadata": {},
   "source": [
    "Le même en utilisant la fonction insérée dans le module [actuariat_python](http://www.xavierdupre.fr/app/actuariat_python/helpsphinx/index.html)."
   ]
  },
  {
   "cell_type": "code",
   "execution_count": 8,
   "metadata": {
    "collapsed": false
   },
   "outputs": [
    {
     "data": {
      "text/plain": [
       "<matplotlib.axes._subplots.AxesSubplot at 0xa7750f0>"
      ]
     },
     "execution_count": 8,
     "metadata": {},
     "output_type": "execute_result"
    },
    {
     "data": {
      "image/png": "[encoded data removed]",
      "text/plain": [
       "<matplotlib.figure.Figure at 0xa73b828>"
      ]
     },
     "metadata": {},
     "output_type": "display_data"
    }
   ],
   "source": [
    "from actuariat_python.plots import plot_population_pyramid\n",
    "plot_population_pyramid(df[\"hommes\"], df[\"femmes\"], figsize=(8,4))"
   ]
  },
  {
   "cell_type": "markdown",
   "metadata": {},
   "source": [
    "### Exercice 2 : calcul de l'espérance de vie\n",
    "\n",
    "Le premier objectif est de calculer l'[espérance de vie](https://en.wikipedia.org/wiki/Life_expectancy) à l'âge $t$ à partir de la table de mortalité. On récupère cette table."
   ]
  },
  {
   "cell_type": "code",
   "execution_count": 1,
   "metadata": {
    "collapsed": false
   },
   "outputs": [
    {
     "data": {
      "text/html": [
       "<div style=\"max-height:1000px;max-width:1500px;overflow:auto;\">\n",
       "<table border=\"1\" class=\"dataframe\">\n",
       "  <thead>\n",
       "    <tr style=\"text-align: right;\">\n",
       "      <th></th>\n",
       "      <th>Age</th>\n",
       "      <th>Homme</th>\n",
       "      <th>Femme</th>\n",
       "    </tr>\n",
       "  </thead>\n",
       "  <tbody>\n",
       "    <tr>\n",
       "      <th>0</th>\n",
       "      <td>0</td>\n",
       "      <td>100000</td>\n",
       "      <td>100000</td>\n",
       "    </tr>\n",
       "    <tr>\n",
       "      <th>1</th>\n",
       "      <td>1</td>\n",
       "      <td>99511</td>\n",
       "      <td>99616</td>\n",
       "    </tr>\n",
       "    <tr>\n",
       "      <th>2</th>\n",
       "      <td>2</td>\n",
       "      <td>99473</td>\n",
       "      <td>99583</td>\n",
       "    </tr>\n",
       "    <tr>\n",
       "      <th>3</th>\n",
       "      <td>3</td>\n",
       "      <td>99446</td>\n",
       "      <td>99562</td>\n",
       "    </tr>\n",
       "    <tr>\n",
       "      <th>4</th>\n",
       "      <td>4</td>\n",
       "      <td>99424</td>\n",
       "      <td>99545</td>\n",
       "    </tr>\n",
       "  </tbody>\n",
       "</table>\n",
       "</div>"
      ],
      "text/plain": [
       "   Age   Homme   Femme\n",
       "0    0  100000  100000\n",
       "1    1   99511   99616\n",
       "2    2   99473   99583\n",
       "3    3   99446   99562\n",
       "4    4   99424   99545"
      ]
     },
     "execution_count": 1,
     "metadata": {},
     "output_type": "execute_result"
    }
   ],
   "source": [
    "from actuariat_python.data import table_mortalite_france_00_02\n",
    "df=table_mortalite_france_00_02()\n",
    "df.head()"
   ]
  },
  {
   "cell_type": "markdown",
   "metadata": {},
   "source": [
    "On note $P_t$ la population l'âge $t$. La probabilité de rester en vie à la date $t+d$ est $\\frac{P_{t+d}-P_t}{P_t}$. L'espérance de vie s'exprime :\n",
    "\n",
    "$$E(t) = \\sum_{d=1}^\\infty d \\frac{P_{t+d}-P_t}{P_t}$$\n",
    "\n",
    "Pour accélérer les calculs, on calcule la différence :\n",
    "\n",
    "$$\\begin{array}{rcl} P_{t+1}E(t+1) - P_t E(t) &=& \\sum_{d=1}^\\infty d \\left( P_{t+d+1}-P_{t+1} \\right) -  \\sum_{d=1}^\\infty d \\left( P_{t+d}-P_t \\right) \\\\ &=& \\sum_{d=2}^\\infty (d-1) \\left( P_{t+d}-P_{t+1} \\right) -  \\sum_{d=1}^\\infty d \\left( P_{t+d}-P_t \\right)\\end{array}$$"
   ]
  },
  {
   "cell_type": "markdown",
   "metadata": {},
   "source": [
    "### Exercice 3 : simulation de la pyramide en 2016\n",
    "\n",
    "On suppose qu'il n'y a pas de naissance, on calcule la population en janvier 2016 en appliquant les taux de mortalité de la table récupérée. On représente les deux pyramides sur le même graphique."
   ]
  },
  {
   "cell_type": "markdown",
   "metadata": {},
   "source": [
    "### Exercice 4 : simulation jusqu'en 2100\n",
    "\n",
    "On suppose toujours qu'il n'y a pas de naissance. On continue la simulation jusqu'en 2100. On trace le même graphique avec cette nouvelle année."
   ]
  },
  {
   "cell_type": "markdown",
   "metadata": {},
   "source": [
    "### Exercice 5 : simulation avec les naissances\n",
    "\n",
    "On reprend la même simulation mais on tient compte des naissances."
   ]
  },
  {
   "cell_type": "code",
   "execution_count": null,
   "metadata": {
    "collapsed": true
   },
   "outputs": [],
   "source": []
  }
 ],
 "metadata": {
  "kernelspec": {
   "display_name": "Python 3",
   "language": "python",
   "name": "python3"
  },
  "language_info": {
   "codemirror_mode": {
    "name": "ipython",
    "version": 3
   },
   "file_extension": ".py",
   "mimetype": "text/x-python",
   "name": "python",
   "nbconvert_exporter": "python",
   "pygments_lexer": "ipython3",
   "version": "3.4.3"
  }
 },
 "nbformat": 4,
 "nbformat_minor": 0
}
