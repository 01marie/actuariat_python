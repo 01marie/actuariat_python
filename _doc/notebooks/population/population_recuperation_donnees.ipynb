{
 "cells": [
  {
   "cell_type": "markdown",
   "metadata": {},
   "source": [
    "# Récupération des données"
   ]
  },
  {
   "cell_type": "code",
   "execution_count": 1,
   "metadata": {
    "collapsed": false
   },
   "outputs": [
    {
     "name": "stdout",
     "output_type": "stream",
     "text": [
      "Populating the interactive namespace from numpy and matplotlib\n"
     ]
    },
    {
     "data": {
      "text/html": [
       "<div id=\"my_id_menu_nb\">run previous cell, wait for 2 seconds</div>\n",
       "<script>\n",
       "function repeat_indent_string(n){\n",
       "    var a = \"\" ;\n",
       "    for ( ; n > 0 ; --n) {\n",
       "        a += \"    \";\n",
       "    }\n",
       "    return a;\n",
       "}\n",
       "var update_menu = function() {\n",
       "    var anchors = document.getElementsByClassName(\"section\");\n",
       "    if (anchors.length == 0) {\n",
       "        anchors = document.getElementsByClassName(\"text_cell_render rendered_html\");\n",
       "    }\n",
       "    var i;\n",
       "    var text_menu = \"\";\n",
       "    var ind = \"\";\n",
       "    var memo_level = 1;\n",
       "    var href;\n",
       "    for (i = 0; i < anchors.length; i++) {\n",
       "        var child = anchors[i].children[0];\n",
       "        if (anchors[i].hasAttribute(\"id\")) {\n",
       "            href = anchors[i].id;\n",
       "        }\n",
       "        else if (child.hasAttribute(\"id\")) {\n",
       "            href = child.id;\n",
       "        }\n",
       "        else {\n",
       "            continue;\n",
       "        }\n",
       "        var title = child.textContent;\n",
       "        var level = parseInt(child.tagName.substring(1,2));\n",
       "        if ((level <= 2) || (level > 4)) {\n",
       "            continue ;\n",
       "        }\n",
       "        if (title.endsWith('¶')) {\n",
       "            title = title.substring(0,title.length-1).replace(\"<\", \"&lt;\").replace(\">\", \"&gt;\").replace(\"&\", \"&amp;\")\n",
       "        }\n",
       "        if (title.length == 0) {\n",
       "            continue;\n",
       "        }\n",
       "        while (level > memo_level) {\n",
       "            text_menu += \"<ul>\\n\";\n",
       "            memo_level += 1;\n",
       "        }\n",
       "        while (level < memo_level) {\n",
       "            text_menu += \"</ul>\\n\";\n",
       "            memo_level -= 1;\n",
       "        }\n",
       "        text_menu += repeat_indent_string(level-2) + '<li><a href=\"#' + href + '\">' + title + '</a></li>';\n",
       "    }\n",
       "    while (1 < memo_level) {\n",
       "        text_menu += \"</ul>\\n\";\n",
       "        memo_level -= 1;\n",
       "    }\n",
       "    text_menu += \"\";\n",
       "    var menu = document.getElementById(\"my_id_menu_nb\");\n",
       "    menu.innerHTML=text_menu;\n",
       "};\n",
       "window.setTimeout(update_menu,2000);\n",
       "            </script>"
      ],
      "text/plain": [
       "<IPython.core.display.HTML object>"
      ]
     },
     "execution_count": 1,
     "metadata": {},
     "output_type": "execute_result"
    }
   ],
   "source": [
    "%pylab inline\n",
    "import matplotlib.pyplot as plt\n",
    "plt.style.use('ggplot')\n",
    "# le code qui suit n'est pas indispensable, il génère automatiquement un menu\n",
    "# dans le notebook\n",
    "from pyquickhelper.ipythonhelper import add_notebook_menu\n",
    "add_notebook_menu()"
   ]
  },
  {
   "cell_type": "markdown",
   "metadata": {},
   "source": [
    "Ce notebook donne quelques exemples de codes qui permettent de récupérer les données utilisées par d'autres notebooks. Le module [actuariat_python](http://www.xavierdupre.fr/app/actuariat_python/helpsphinx/index.html) est implémenté avec Python 3. Pour les utilisateurs de Python 2.7, il suffira de recopier le code chaque fonction dans le notebook (suivre les liens insérés dans le notebook)."
   ]
  },
  {
   "cell_type": "markdown",
   "metadata": {},
   "source": [
    "### Population française janvier 2015\n",
    "\n",
    "Les données sont disponibles sur le site de l'INSEE [Pyramide des âges au 1er janvier 2015](http://www.insee.fr/fr/themes/tableau.asp?ref_id=ccc). Elles sont disponibles au format Excel avec le lien suivant : ``http://www.insee.fr/fr/ffc/figure/ccc.xls``. Le format n'est pas le plus simple car la première feuille inclut deux tables."
   ]
  },
  {
   "cell_type": "code",
   "execution_count": 2,
   "metadata": {
    "collapsed": false
   },
   "outputs": [
    {
     "data": {
      "text/html": [
       "<div style=\"max-height:1000px;max-width:1500px;overflow:auto;\">\n",
       "<table border=\"1\" class=\"dataframe\">\n",
       "  <thead>\n",
       "    <tr style=\"text-align: right;\">\n",
       "      <th></th>\n",
       "      <th>Pyramide des âges au 1er janvier 2015</th>\n",
       "      <th>Unnamed: 1</th>\n",
       "      <th>Unnamed: 2</th>\n",
       "      <th>Unnamed: 3</th>\n",
       "      <th>Unnamed: 4</th>\n",
       "      <th>Unnamed: 5</th>\n",
       "      <th>Unnamed: 6</th>\n",
       "    </tr>\n",
       "  </thead>\n",
       "  <tbody>\n",
       "    <tr>\n",
       "      <th>0</th>\n",
       "      <td>Champ : France y compris Mayotte</td>\n",
       "      <td>NaN</td>\n",
       "      <td>NaN</td>\n",
       "      <td>NaN</td>\n",
       "      <td>NaN</td>\n",
       "      <td>NaN</td>\n",
       "      <td>NaN</td>\n",
       "    </tr>\n",
       "    <tr>\n",
       "      <th>1</th>\n",
       "      <td>Source : Insee, estimations de population (don...</td>\n",
       "      <td>NaN</td>\n",
       "      <td>NaN</td>\n",
       "      <td>NaN</td>\n",
       "      <td>NaN</td>\n",
       "      <td>NaN</td>\n",
       "      <td>NaN</td>\n",
       "    </tr>\n",
       "    <tr>\n",
       "      <th>2</th>\n",
       "      <td>NaN</td>\n",
       "      <td>NaN</td>\n",
       "      <td>NaN</td>\n",
       "      <td>NaN</td>\n",
       "      <td>NaN</td>\n",
       "      <td>NaN</td>\n",
       "      <td>NaN</td>\n",
       "    </tr>\n",
       "  </tbody>\n",
       "</table>\n",
       "</div>"
      ],
      "text/plain": [
       "               Pyramide des âges au 1er janvier 2015 Unnamed: 1 Unnamed: 2  \\\n",
       "0                   Champ : France y compris Mayotte        NaN        NaN   \n",
       "1  Source : Insee, estimations de population (don...        NaN        NaN   \n",
       "2                                                NaN        NaN        NaN   \n",
       "\n",
       "  Unnamed: 3 Unnamed: 4  Unnamed: 5  Unnamed: 6  \n",
       "0        NaN        NaN         NaN         NaN  \n",
       "1        NaN        NaN         NaN         NaN  \n",
       "2        NaN        NaN         NaN         NaN  "
      ]
     },
     "execution_count": 2,
     "metadata": {},
     "output_type": "execute_result"
    }
   ],
   "source": [
    "url = \"http://www.insee.fr/fr/ffc/figure/ccc.xls\"\n",
    "import pandas\n",
    "df=pandas.read_excel(url, sheetname=0)\n",
    "df.head(n=3)"
   ]
  },
  {
   "cell_type": "code",
   "execution_count": 3,
   "metadata": {
    "collapsed": false
   },
   "outputs": [
    {
     "data": {
      "text/html": [
       "<div style=\"max-height:1000px;max-width:1500px;overflow:auto;\">\n",
       "<table border=\"1\" class=\"dataframe\">\n",
       "  <thead>\n",
       "    <tr style=\"text-align: right;\">\n",
       "      <th></th>\n",
       "      <th>Pyramide des âges au 1er janvier 2015</th>\n",
       "      <th>Unnamed: 1</th>\n",
       "      <th>Unnamed: 2</th>\n",
       "      <th>Unnamed: 3</th>\n",
       "      <th>Unnamed: 4</th>\n",
       "      <th>Unnamed: 5</th>\n",
       "      <th>Unnamed: 6</th>\n",
       "    </tr>\n",
       "  </thead>\n",
       "  <tbody>\n",
       "    <tr>\n",
       "      <th>108</th>\n",
       "      <td>1916</td>\n",
       "      <td>98</td>\n",
       "      <td>1882</td>\n",
       "      <td>8903</td>\n",
       "      <td>10785</td>\n",
       "      <td>NaN</td>\n",
       "      <td>-1882</td>\n",
       "    </tr>\n",
       "    <tr>\n",
       "      <th>109</th>\n",
       "      <td>1915</td>\n",
       "      <td>99</td>\n",
       "      <td>1629</td>\n",
       "      <td>7198</td>\n",
       "      <td>8827</td>\n",
       "      <td>NaN</td>\n",
       "      <td>-1629</td>\n",
       "    </tr>\n",
       "    <tr>\n",
       "      <th>110</th>\n",
       "      <td>1914 ou avant</td>\n",
       "      <td>100 ou plus</td>\n",
       "      <td>3756</td>\n",
       "      <td>20458</td>\n",
       "      <td>24214</td>\n",
       "      <td>NaN</td>\n",
       "      <td>-3756</td>\n",
       "    </tr>\n",
       "  </tbody>\n",
       "</table>\n",
       "</div>"
      ],
      "text/plain": [
       "    Pyramide des âges au 1er janvier 2015   Unnamed: 1 Unnamed: 2 Unnamed: 3  \\\n",
       "108                                  1916           98       1882       8903   \n",
       "109                                  1915           99       1629       7198   \n",
       "110                         1914 ou avant  100 ou plus       3756      20458   \n",
       "\n",
       "    Unnamed: 4  Unnamed: 5  Unnamed: 6  \n",
       "108      10785         NaN       -1882  \n",
       "109       8827         NaN       -1629  \n",
       "110      24214         NaN       -3756  "
      ]
     },
     "execution_count": 3,
     "metadata": {},
     "output_type": "execute_result"
    }
   ],
   "source": [
    "df.tail(n=3)"
   ]
  },
  {
   "cell_type": "markdown",
   "metadata": {},
   "source": [
    "La récupération de ces données est implémentée dans la fonction [population_france_2015](http://www.xavierdupre.fr/app/actuariat_python/helpsphinx/actuariat_python/data/population.html#actuariat_python.data.population.population_france_2015) :"
   ]
  },
  {
   "cell_type": "code",
   "execution_count": 1,
   "metadata": {
    "collapsed": false
   },
   "outputs": [],
   "source": [
    "from actuariat_python.data import population_france_2015\n",
    "df = population_france_2015()"
   ]
  },
  {
   "cell_type": "code",
   "execution_count": 2,
   "metadata": {
    "collapsed": false
   },
   "outputs": [
    {
     "data": {
      "text/html": [
       "<div style=\"max-height:1000px;max-width:1500px;overflow:auto;\">\n",
       "<table border=\"1\" class=\"dataframe\">\n",
       "  <thead>\n",
       "    <tr style=\"text-align: right;\">\n",
       "      <th></th>\n",
       "      <th>naissance</th>\n",
       "      <th>age</th>\n",
       "      <th>hommes</th>\n",
       "      <th>femmes</th>\n",
       "      <th>ensemble</th>\n",
       "    </tr>\n",
       "  </thead>\n",
       "  <tbody>\n",
       "    <tr>\n",
       "      <th>10</th>\n",
       "      <td>2014</td>\n",
       "      <td>0</td>\n",
       "      <td>403837</td>\n",
       "      <td>386619</td>\n",
       "      <td>790456</td>\n",
       "    </tr>\n",
       "    <tr>\n",
       "      <th>11</th>\n",
       "      <td>2013</td>\n",
       "      <td>1</td>\n",
       "      <td>404502</td>\n",
       "      <td>386726</td>\n",
       "      <td>791228</td>\n",
       "    </tr>\n",
       "    <tr>\n",
       "      <th>12</th>\n",
       "      <td>2012</td>\n",
       "      <td>2</td>\n",
       "      <td>411217</td>\n",
       "      <td>393181</td>\n",
       "      <td>804398</td>\n",
       "    </tr>\n",
       "  </tbody>\n",
       "</table>\n",
       "</div>"
      ],
      "text/plain": [
       "    naissance  age  hommes  femmes  ensemble\n",
       "10       2014    0  403837  386619    790456\n",
       "11       2013    1  404502  386726    791228\n",
       "12       2012    2  411217  393181    804398"
      ]
     },
     "execution_count": 2,
     "metadata": {},
     "output_type": "execute_result"
    }
   ],
   "source": [
    "df.head(n=3)"
   ]
  },
  {
   "cell_type": "code",
   "execution_count": 3,
   "metadata": {
    "collapsed": false
   },
   "outputs": [
    {
     "data": {
      "text/html": [
       "<div style=\"max-height:1000px;max-width:1500px;overflow:auto;\">\n",
       "<table border=\"1\" class=\"dataframe\">\n",
       "  <thead>\n",
       "    <tr style=\"text-align: right;\">\n",
       "      <th></th>\n",
       "      <th>naissance</th>\n",
       "      <th>age</th>\n",
       "      <th>hommes</th>\n",
       "      <th>femmes</th>\n",
       "      <th>ensemble</th>\n",
       "    </tr>\n",
       "  </thead>\n",
       "  <tbody>\n",
       "    <tr>\n",
       "      <th>108</th>\n",
       "      <td>1916</td>\n",
       "      <td>98</td>\n",
       "      <td>1882</td>\n",
       "      <td>8903</td>\n",
       "      <td>10785</td>\n",
       "    </tr>\n",
       "    <tr>\n",
       "      <th>109</th>\n",
       "      <td>1915</td>\n",
       "      <td>99</td>\n",
       "      <td>1629</td>\n",
       "      <td>7198</td>\n",
       "      <td>8827</td>\n",
       "    </tr>\n",
       "    <tr>\n",
       "      <th>110</th>\n",
       "      <td>1914</td>\n",
       "      <td>100</td>\n",
       "      <td>3756</td>\n",
       "      <td>20458</td>\n",
       "      <td>24214</td>\n",
       "    </tr>\n",
       "  </tbody>\n",
       "</table>\n",
       "</div>"
      ],
      "text/plain": [
       "     naissance  age  hommes  femmes  ensemble\n",
       "108       1916   98    1882    8903     10785\n",
       "109       1915   99    1629    7198      8827\n",
       "110       1914  100    3756   20458     24214"
      ]
     },
     "execution_count": 3,
     "metadata": {},
     "output_type": "execute_result"
    }
   ],
   "source": [
    "df.tail(n=3)"
   ]
  },
  {
   "cell_type": "markdown",
   "metadata": {},
   "source": [
    "D'après cette table, il y a plus de personnes âgées de 110 ans que de 109 ans. C'est dû au fait que la dernière ligne aggrège toutes les personnes âgées de plus de 110 ans."
   ]
  },
  {
   "cell_type": "markdown",
   "metadata": {
    "collapsed": true
   },
   "source": [
    "### Table de mortalité 2000-2002 (France)\n",
    "\n",
    "On utilise quelques raccourcis afin d'éviter d'y passer trop de temps. Les données sont fournis au format Excel à l'adresse : http://www.institutdesactuaires.com/gene/main.php?base=314. La fonction [table_mortalite_france_00_02](http://www.xavierdupre.fr/app/actuariat_python/helpsphinx/actuariat_python/data/population.html#actuariat_python.data.population.table_mortalite_france_00_02) permet de les récupérer."
   ]
  },
  {
   "cell_type": "code",
   "execution_count": 1,
   "metadata": {
    "collapsed": false
   },
   "outputs": [
    {
     "data": {
      "text/html": [
       "<div style=\"max-height:1000px;max-width:1500px;overflow:auto;\">\n",
       "<table border=\"1\" class=\"dataframe\">\n",
       "  <thead>\n",
       "    <tr style=\"text-align: right;\">\n",
       "      <th></th>\n",
       "      <th>Age</th>\n",
       "      <th>Homme</th>\n",
       "      <th>Femme</th>\n",
       "    </tr>\n",
       "  </thead>\n",
       "  <tbody>\n",
       "    <tr>\n",
       "      <th>0</th>\n",
       "      <td>0</td>\n",
       "      <td>100000</td>\n",
       "      <td>100000</td>\n",
       "    </tr>\n",
       "    <tr>\n",
       "      <th>1</th>\n",
       "      <td>1</td>\n",
       "      <td>99511</td>\n",
       "      <td>99616</td>\n",
       "    </tr>\n",
       "    <tr>\n",
       "      <th>2</th>\n",
       "      <td>2</td>\n",
       "      <td>99473</td>\n",
       "      <td>99583</td>\n",
       "    </tr>\n",
       "    <tr>\n",
       "      <th>3</th>\n",
       "      <td>3</td>\n",
       "      <td>99446</td>\n",
       "      <td>99562</td>\n",
       "    </tr>\n",
       "    <tr>\n",
       "      <th>4</th>\n",
       "      <td>4</td>\n",
       "      <td>99424</td>\n",
       "      <td>99545</td>\n",
       "    </tr>\n",
       "  </tbody>\n",
       "</table>\n",
       "</div>"
      ],
      "text/plain": [
       "   Age   Homme   Femme\n",
       "0    0  100000  100000\n",
       "1    1   99511   99616\n",
       "2    2   99473   99583\n",
       "3    3   99446   99562\n",
       "4    4   99424   99545"
      ]
     },
     "execution_count": 1,
     "metadata": {},
     "output_type": "execute_result"
    }
   ],
   "source": [
    "from actuariat_python.data import table_mortalite_france_00_02\n",
    "df=table_mortalite_france_00_02()\n",
    "df.head()"
   ]
  },
  {
   "cell_type": "code",
   "execution_count": 6,
   "metadata": {
    "collapsed": false
   },
   "outputs": [
    {
     "data": {
      "text/plain": [
       "<matplotlib.axes._subplots.AxesSubplot at 0x973eb00>"
      ]
     },
     "execution_count": 6,
     "metadata": {},
     "output_type": "execute_result"
    },
    {
     "data": {
      "image/png": "[encoded data removed]",
      "text/plain": [
       "<matplotlib.figure.Figure at 0x973e1d0>"
      ]
     },
     "metadata": {},
     "output_type": "display_data"
    }
   ],
   "source": [
    "df.plot(x=\"Age\",y=[\"Homme\", \"Femme\"],xlim=[0,100])"
   ]
  },
  {
   "cell_type": "markdown",
   "metadata": {},
   "source": [
    "### Taux de fécondité (France)\n",
    "\n",
    "On procède de même pour cette table avec la fonction [fecondite_france](http://www.xavierdupre.fr/app/actuariat_python/helpsphinx/actuariat_python/data/population.html#actuariat_python.data.population.fecondite_france). Source : [INSEE : Fécondité selon l'âge détaillé de la mère](http://www.insee.fr/fr/themes/tableau.asp?reg_id=0&ref_id=bilandemo2)."
   ]
  },
  {
   "cell_type": "code",
   "execution_count": 2,
   "metadata": {
    "collapsed": false
   },
   "outputs": [
    {
     "data": {
      "text/html": [
       "<div style=\"max-height:1000px;max-width:1500px;overflow:auto;\">\n",
       "<table border=\"1\" class=\"dataframe\">\n",
       "  <thead>\n",
       "    <tr style=\"text-align: right;\">\n",
       "      <th></th>\n",
       "      <th>age</th>\n",
       "      <th>2004</th>\n",
       "      <th>2014</th>\n",
       "    </tr>\n",
       "  </thead>\n",
       "  <tbody>\n",
       "    <tr>\n",
       "      <th>3</th>\n",
       "      <td>15</td>\n",
       "      <td>0.7</td>\n",
       "      <td>0.8</td>\n",
       "    </tr>\n",
       "    <tr>\n",
       "      <th>4</th>\n",
       "      <td>16</td>\n",
       "      <td>2.5</td>\n",
       "      <td>2.3</td>\n",
       "    </tr>\n",
       "    <tr>\n",
       "      <th>5</th>\n",
       "      <td>17</td>\n",
       "      <td>6.0</td>\n",
       "      <td>5.2</td>\n",
       "    </tr>\n",
       "    <tr>\n",
       "      <th>6</th>\n",
       "      <td>18</td>\n",
       "      <td>12.0</td>\n",
       "      <td>9.9</td>\n",
       "    </tr>\n",
       "    <tr>\n",
       "      <th>7</th>\n",
       "      <td>19</td>\n",
       "      <td>22.5</td>\n",
       "      <td>18.6</td>\n",
       "    </tr>\n",
       "  </tbody>\n",
       "</table>\n",
       "</div>"
      ],
      "text/plain": [
       "   age  2004  2014\n",
       "3   15   0.7   0.8\n",
       "4   16   2.5   2.3\n",
       "5   17   6.0   5.2\n",
       "6   18  12.0   9.9\n",
       "7   19  22.5  18.6"
      ]
     },
     "execution_count": 2,
     "metadata": {},
     "output_type": "execute_result"
    }
   ],
   "source": [
    "from actuariat_python.data import fecondite_france\n",
    "df=fecondite_france()\n",
    "df.head()"
   ]
  },
  {
   "cell_type": "code",
   "execution_count": 3,
   "metadata": {
    "collapsed": false
   },
   "outputs": [
    {
     "data": {
      "text/plain": [
       "<matplotlib.axes._subplots.AxesSubplot at 0x8f0e8d0>"
      ]
     },
     "execution_count": 3,
     "metadata": {},
     "output_type": "execute_result"
    },
    {
     "data": {
      "image/png": "[encoded data removed]",
      "text/plain": [
       "<matplotlib.figure.Figure at 0x8eb9dd8>"
      ]
     },
     "metadata": {},
     "output_type": "display_data"
    }
   ],
   "source": [
    "df.plot(x=\"age\", y=[\"2004\",\"2014\"])"
   ]
  },
  {
   "cell_type": "markdown",
   "metadata": {
    "collapsed": true
   },
   "source": [
    "### Table de mortalité étendue 1960-2010\n",
    "\n",
    "[table de mortalité de 1960 à 2010](http://www.data-publica.com/opendata/7098--population-et-conditions-sociales-table-de-mortalite-de-1960-a-2010) qu'on récupère à l'aide de la fonction [table_mortalite_euro_stat](http://www.xavierdupre.fr/app/actuariat_python/helpsphinx/actuariat_python/data/population.html#actuariat_python.data.population.table_mortalite_euro_stat)."
   ]
  },
  {
   "cell_type": "code",
   "execution_count": 2,
   "metadata": {
    "collapsed": false
   },
   "outputs": [
    {
     "name": "stdout",
     "output_type": "stream",
     "text": [
      "    downloading of  http://ec.europa.eu/eurostat/estat-navtree-portlet-prod/BulkDownloadListing?file=data/demo_mlifetable.tsv.gz  to  demo_mlifetable.tsv.gz\n"
     ]
    },
    {
     "data": {
      "text/plain": [
       "'mortalite.txt'"
      ]
     },
     "execution_count": 2,
     "metadata": {},
     "output_type": "execute_result"
    }
   ],
   "source": [
    "from actuariat_python.data import table_mortalite_euro_stat \n",
    "table_mortalite_euro_stat()"
   ]
  },
  {
   "cell_type": "code",
   "execution_count": 3,
   "metadata": {
    "collapsed": false
   },
   "outputs": [
    {
     "data": {
      "text/plain": [
       "os.stat_result(st_mode=33206, st_ino=15762598696434557, st_dev=2797837379, st_nlink=1, st_uid=0, st_gid=0, st_size=104871002, st_atime=1442048416, st_mtime=1442048461, st_ctime=1442048416)"
      ]
     },
     "execution_count": 3,
     "metadata": {},
     "output_type": "execute_result"
    }
   ],
   "source": [
    "import os\n",
    "os.stat(\"mortalite.txt\")"
   ]
  },
  {
   "cell_type": "code",
   "execution_count": 4,
   "metadata": {
    "collapsed": false
   },
   "outputs": [
    {
     "data": {
      "text/html": [
       "<div>\n",
       "<table border=\"1\" class=\"dataframe\">\n",
       "  <thead>\n",
       "    <tr style=\"text-align: right;\">\n",
       "      <th></th>\n",
       "      <th>annee</th>\n",
       "      <th>valeur</th>\n",
       "      <th>age</th>\n",
       "      <th>age_num</th>\n",
       "      <th>indicateur</th>\n",
       "      <th>genre</th>\n",
       "      <th>pays</th>\n",
       "    </tr>\n",
       "  </thead>\n",
       "  <tbody>\n",
       "    <tr>\n",
       "      <th>0</th>\n",
       "      <td>2009</td>\n",
       "      <td>0.00080</td>\n",
       "      <td>Y01</td>\n",
       "      <td>1</td>\n",
       "      <td>DEATHRATE</td>\n",
       "      <td>F</td>\n",
       "      <td>AM</td>\n",
       "    </tr>\n",
       "    <tr>\n",
       "      <th>1</th>\n",
       "      <td>2008</td>\n",
       "      <td>0.00067</td>\n",
       "      <td>Y01</td>\n",
       "      <td>1</td>\n",
       "      <td>DEATHRATE</td>\n",
       "      <td>F</td>\n",
       "      <td>AM</td>\n",
       "    </tr>\n",
       "    <tr>\n",
       "      <th>2</th>\n",
       "      <td>2007</td>\n",
       "      <td>0.00052</td>\n",
       "      <td>Y01</td>\n",
       "      <td>1</td>\n",
       "      <td>DEATHRATE</td>\n",
       "      <td>F</td>\n",
       "      <td>AM</td>\n",
       "    </tr>\n",
       "    <tr>\n",
       "      <th>3</th>\n",
       "      <td>2006</td>\n",
       "      <td>0.00123</td>\n",
       "      <td>Y01</td>\n",
       "      <td>1</td>\n",
       "      <td>DEATHRATE</td>\n",
       "      <td>F</td>\n",
       "      <td>AM</td>\n",
       "    </tr>\n",
       "    <tr>\n",
       "      <th>4</th>\n",
       "      <td>2013</td>\n",
       "      <td>0.00016</td>\n",
       "      <td>Y01</td>\n",
       "      <td>1</td>\n",
       "      <td>DEATHRATE</td>\n",
       "      <td>F</td>\n",
       "      <td>AT</td>\n",
       "    </tr>\n",
       "  </tbody>\n",
       "</table>\n",
       "</div>"
      ],
      "text/plain": [
       "   annee   valeur  age  age_num indicateur genre pays\n",
       "0   2009  0.00080  Y01        1  DEATHRATE     F   AM\n",
       "1   2008  0.00067  Y01        1  DEATHRATE     F   AM\n",
       "2   2007  0.00052  Y01        1  DEATHRATE     F   AM\n",
       "3   2006  0.00123  Y01        1  DEATHRATE     F   AM\n",
       "4   2013  0.00016  Y01        1  DEATHRATE     F   AT"
      ]
     },
     "execution_count": 4,
     "metadata": {},
     "output_type": "execute_result"
    }
   ],
   "source": [
    "import pandas\n",
    "df = pandas.read_csv(\"mortalite.txt\", sep=\"\\t\", encoding=\"utf8\", low_memory=False)\n",
    "df.head()"
   ]
  },
  {
   "cell_type": "code",
   "execution_count": 5,
   "metadata": {
    "collapsed": false
   },
   "outputs": [
    {
     "data": {
      "text/html": [
       "<div>\n",
       "<table border=\"1\" class=\"dataframe\">\n",
       "  <thead>\n",
       "    <tr style=\"text-align: right;\">\n",
       "      <th></th>\n",
       "      <th>annee</th>\n",
       "      <th>valeur</th>\n",
       "      <th>age</th>\n",
       "      <th>age_num</th>\n",
       "      <th>indicateur</th>\n",
       "      <th>genre</th>\n",
       "      <th>pays</th>\n",
       "    </tr>\n",
       "  </thead>\n",
       "  <tbody>\n",
       "    <tr>\n",
       "      <th>86725</th>\n",
       "      <td>2000</td>\n",
       "      <td>0.00502</td>\n",
       "      <td>Y60</td>\n",
       "      <td>60</td>\n",
       "      <td>DEATHRATE</td>\n",
       "      <td>F</td>\n",
       "      <td>FR</td>\n",
       "    </tr>\n",
       "    <tr>\n",
       "      <th>88262</th>\n",
       "      <td>2000</td>\n",
       "      <td>0.00486</td>\n",
       "      <td>Y61</td>\n",
       "      <td>61</td>\n",
       "      <td>DEATHRATE</td>\n",
       "      <td>F</td>\n",
       "      <td>FR</td>\n",
       "    </tr>\n",
       "    <tr>\n",
       "      <th>481629</th>\n",
       "      <td>2000</td>\n",
       "      <td>25.80000</td>\n",
       "      <td>Y60</td>\n",
       "      <td>60</td>\n",
       "      <td>LIFEXP</td>\n",
       "      <td>F</td>\n",
       "      <td>FR</td>\n",
       "    </tr>\n",
       "    <tr>\n",
       "      <th>483151</th>\n",
       "      <td>2000</td>\n",
       "      <td>24.90000</td>\n",
       "      <td>Y61</td>\n",
       "      <td>61</td>\n",
       "      <td>LIFEXP</td>\n",
       "      <td>F</td>\n",
       "      <td>FR</td>\n",
       "    </tr>\n",
       "    <tr>\n",
       "      <th>874543</th>\n",
       "      <td>2000</td>\n",
       "      <td>0.00501</td>\n",
       "      <td>Y60</td>\n",
       "      <td>60</td>\n",
       "      <td>PROBDEATH</td>\n",
       "      <td>F</td>\n",
       "      <td>FR</td>\n",
       "    </tr>\n",
       "    <tr>\n",
       "      <th>876080</th>\n",
       "      <td>2000</td>\n",
       "      <td>0.00485</td>\n",
       "      <td>Y61</td>\n",
       "      <td>61</td>\n",
       "      <td>PROBDEATH</td>\n",
       "      <td>F</td>\n",
       "      <td>FR</td>\n",
       "    </tr>\n",
       "    <tr>\n",
       "      <th>1270123</th>\n",
       "      <td>2000</td>\n",
       "      <td>0.99499</td>\n",
       "      <td>Y60</td>\n",
       "      <td>60</td>\n",
       "      <td>PROBSURV</td>\n",
       "      <td>F</td>\n",
       "      <td>FR</td>\n",
       "    </tr>\n",
       "    <tr>\n",
       "      <th>1271660</th>\n",
       "      <td>2000</td>\n",
       "      <td>0.99515</td>\n",
       "      <td>Y61</td>\n",
       "      <td>61</td>\n",
       "      <td>PROBSURV</td>\n",
       "      <td>F</td>\n",
       "      <td>FR</td>\n",
       "    </tr>\n",
       "    <tr>\n",
       "      <th>1664949</th>\n",
       "      <td>2000</td>\n",
       "      <td>93076.00000</td>\n",
       "      <td>Y60</td>\n",
       "      <td>60</td>\n",
       "      <td>PYLIVED</td>\n",
       "      <td>F</td>\n",
       "      <td>FR</td>\n",
       "    </tr>\n",
       "    <tr>\n",
       "      <th>1666471</th>\n",
       "      <td>2000</td>\n",
       "      <td>92618.00000</td>\n",
       "      <td>Y61</td>\n",
       "      <td>61</td>\n",
       "      <td>PYLIVED</td>\n",
       "      <td>F</td>\n",
       "      <td>FR</td>\n",
       "    </tr>\n",
       "    <tr>\n",
       "      <th>2057109</th>\n",
       "      <td>2000</td>\n",
       "      <td>93310.00000</td>\n",
       "      <td>Y60</td>\n",
       "      <td>60</td>\n",
       "      <td>SURVIVORS</td>\n",
       "      <td>F</td>\n",
       "      <td>FR</td>\n",
       "    </tr>\n",
       "    <tr>\n",
       "      <th>2058631</th>\n",
       "      <td>2000</td>\n",
       "      <td>92843.00000</td>\n",
       "      <td>Y61</td>\n",
       "      <td>61</td>\n",
       "      <td>SURVIVORS</td>\n",
       "      <td>F</td>\n",
       "      <td>FR</td>\n",
       "    </tr>\n",
       "    <tr>\n",
       "      <th>2449314</th>\n",
       "      <td>2000</td>\n",
       "      <td>2405594.00000</td>\n",
       "      <td>Y60</td>\n",
       "      <td>60</td>\n",
       "      <td>TOTPYLIVED</td>\n",
       "      <td>F</td>\n",
       "      <td>FR</td>\n",
       "    </tr>\n",
       "    <tr>\n",
       "      <th>2450836</th>\n",
       "      <td>2000</td>\n",
       "      <td>2312517.00000</td>\n",
       "      <td>Y61</td>\n",
       "      <td>61</td>\n",
       "      <td>TOTPYLIVED</td>\n",
       "      <td>F</td>\n",
       "      <td>FR</td>\n",
       "    </tr>\n",
       "  </tbody>\n",
       "</table>\n",
       "</div>"
      ],
      "text/plain": [
       "         annee         valeur  age  age_num  indicateur genre pays\n",
       "86725     2000        0.00502  Y60       60   DEATHRATE     F   FR\n",
       "88262     2000        0.00486  Y61       61   DEATHRATE     F   FR\n",
       "481629    2000       25.80000  Y60       60      LIFEXP     F   FR\n",
       "483151    2000       24.90000  Y61       61      LIFEXP     F   FR\n",
       "874543    2000        0.00501  Y60       60   PROBDEATH     F   FR\n",
       "876080    2000        0.00485  Y61       61   PROBDEATH     F   FR\n",
       "1270123   2000        0.99499  Y60       60    PROBSURV     F   FR\n",
       "1271660   2000        0.99515  Y61       61    PROBSURV     F   FR\n",
       "1664949   2000    93076.00000  Y60       60     PYLIVED     F   FR\n",
       "1666471   2000    92618.00000  Y61       61     PYLIVED     F   FR\n",
       "2057109   2000    93310.00000  Y60       60   SURVIVORS     F   FR\n",
       "2058631   2000    92843.00000  Y61       61   SURVIVORS     F   FR\n",
       "2449314   2000  2405594.00000  Y60       60  TOTPYLIVED     F   FR\n",
       "2450836   2000  2312517.00000  Y61       61  TOTPYLIVED     F   FR"
      ]
     },
     "execution_count": 5,
     "metadata": {},
     "output_type": "execute_result"
    }
   ],
   "source": [
    "df [ ((df.age==\"Y60\") | (df.age==\"Y61\")) & (df.annee == 2000) & (df.pays==\"FR\") & (df.genre==\"F\")]"
   ]
  },
  {
   "cell_type": "code",
   "execution_count": null,
   "metadata": {
    "collapsed": true
   },
   "outputs": [],
   "source": []
  }
 ],
 "metadata": {
  "kernelspec": {
   "display_name": "Python 3",
   "language": "python",
   "name": "python3"
  },
  "language_info": {
   "codemirror_mode": {
    "name": "ipython",
    "version": 3
   },
   "file_extension": ".py",
   "mimetype": "text/x-python",
   "name": "python",
   "nbconvert_exporter": "python",
   "pygments_lexer": "ipython3",
   "version": "3.4.3"
  }
 },
 "nbformat": 4,
 "nbformat_minor": 0
}
