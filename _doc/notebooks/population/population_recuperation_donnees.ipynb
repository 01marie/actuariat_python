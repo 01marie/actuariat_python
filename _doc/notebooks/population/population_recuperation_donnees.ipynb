{
  "cells": [
    {
      "cell_type": "markdown",
      "metadata": {},
      "source": [
        "# R\u00e9cup\u00e9ration des donn\u00e9es\n",
        "\n",
        "Ce notebook donne quelques exemples de codes qui permettent de r\u00e9cup\u00e9rer les donn\u00e9es utilis\u00e9es par d'autres notebooks. Le module [actuariat_python](http://www.xavierdupre.fr/app/actuariat_python/helpsphinx/index.html) est impl\u00e9ment\u00e9 avec Python 3. Pour les utilisateurs de Python 2.7, il suffira de recopier le code chaque fonction dans le notebook (suivre les liens ins\u00e9r\u00e9s dans le notebook)."
      ]
    },
    {
      "cell_type": "code",
      "execution_count": null,
      "metadata": {
        "collapsed": false
      },
      "outputs": [
        {
          "name": "stdout",
          "output_type": "stream",
          "text": [
            "Populating the interactive namespace from numpy and matplotlib\n"
          ]
        },
        {
          "data": {
            "text/html": [
              "<div id=\"my_id_menu_nb\">run previous cell, wait for 2 seconds</div>\n",
              "<script>\n",
              "function repeat_indent_string(n){\n",
              "    var a = \"\" ;\n",
              "    for ( ; n > 0 ; --n) {\n",
              "        a += \"    \";\n",
              "    }\n",
              "    return a;\n",
              "}\n",
              "var update_menu_string = function(begin, lfirst, llast, sformat, send) {\n",
              "    var anchors = document.getElementsByClassName(\"section\");\n",
              "    if (anchors.length == 0) {\n",
              "        anchors = document.getElementsByClassName(\"text_cell_render rendered_html\");\n",
              "    }\n",
              "    var i,t;\n",
              "    var text_menu = begin;\n",
              "    var text_memo = \"<pre>\\nlength:\" + anchors.length + \"\\n\";\n",
              "    var ind = \"\";\n",
              "    var memo_level = 1;\n",
              "    var href;\n",
              "    var tags = [];\n",
              "    for (i = 0; i <= llast; i++) {\n",
              "        tags.push(\"h\" + i);\n",
              "    }\n",
              "\n",
              "    for (i = 0; i < anchors.length; i++) {\n",
              "        text_memo += \"**\" + anchors[i].id + \"--\\n\";\n",
              "\n",
              "        var child = null;\n",
              "        for(t = 0; t < tags.length; t++) {\n",
              "            var r = anchors[i].getElementsByTagName(tags[t]);\n",
              "            if (r.length > 0) {\n",
              "child = r[0];\n",
              "break;\n",
              "            }\n",
              "        }\n",
              "        if (child == null){\n",
              "            text_memo += \"null\\n\";\n",
              "            continue;\n",
              "        }\n",
              "\n",
              "        if (anchors[i].hasAttribute(\"id\")) {\n",
              "            // when converted in RST\n",
              "            href = anchors[i].id;\n",
              "            text_memo += \"#1-\" + href;\n",
              "            // passer \u00e0 child suivant (le chercher)\n",
              "        }\n",
              "        else if (child.hasAttribute(\"id\")) {\n",
              "            // in a notebook\n",
              "            href = child.id;\n",
              "            text_memo += \"#2-\" + href;\n",
              "        }\n",
              "        else {\n",
              "            text_memo += \"#3-\" + \"*\" + \"\\n\";\n",
              "            continue;\n",
              "        }\n",
              "        var title = child.textContent;\n",
              "        var level = parseInt(child.tagName.substring(1,2));\n",
              "\n",
              "        text_memo += \"--\" + level + \"?\" + lfirst + \"--\" + title + \"\\n\";\n",
              "\n",
              "        if ((level < lfirst) || (level > llast)) {\n",
              "            continue ;\n",
              "        }\n",
              "        if (title.endsWith('\u00b6')) {\n",
              "            title = title.substring(0,title.length-1).replace(\"<\", \"&lt;\").replace(\">\", \"&gt;\").replace(\"&\", \"&amp;\")\n",
              "        }\n",
              "\n",
              "        if (title.length == 0) {\n",
              "            continue;\n",
              "        }\n",
              "        while (level > memo_level) {\n",
              "            text_menu += \"<ul>\\n\";\n",
              "            memo_level += 1;\n",
              "        }\n",
              "        while (level < memo_level) {\n",
              "            text_menu += \"</ul>\\n\";\n",
              "            memo_level -= 1;\n",
              "        }\n",
              "        text_menu += repeat_indent_string(level-2) + sformat.replace(\"__HREF__\", href).replace(\"__TITLE__\", title);\n",
              "    }\n",
              "    while (1 < memo_level) {\n",
              "        text_menu += \"</ul>\\n\";\n",
              "        memo_level -= 1;\n",
              "    }\n",
              "    text_menu += send;\n",
              "    //text_menu += \"\\n\" + text_memo;\n",
              "    return text_menu;\n",
              "};\n",
              "var update_menu = function() {\n",
              "    var sbegin = \"\";\n",
              "    var sformat = '<li><a href=\"#__HREF__\">__TITLE__</a></li>';\n",
              "    var send = \"\";\n",
              "    var text_menu = update_menu_string(sbegin, 2, 4, sformat, send);\n",
              "    var menu = document.getElementById(\"my_id_menu_nb\");\n",
              "    menu.innerHTML=text_menu;\n",
              "};\n",
              "window.setTimeout(update_menu,2000);\n",
              "            </script>"
            ],
            "text/plain": [
              "<IPython.core.display.HTML object>"
            ]
          },
          "execution_count": null,
          "metadata": {},
          "output_type": "execute_result"
        }
      ],
      "source": [
        "%pylab inline\n",
        "import matplotlib.pyplot as plt\n",
        "plt.style.use('ggplot')\n",
        "# le code qui suit n'est pas indispensable, il g\u00e9n\u00e8re automatiquement un menu\n",
        "# dans le notebook\n",
        "from jyquickhelper import add_notebook_menu\n",
        "add_notebook_menu()"
      ]
    },
    {
      "cell_type": "markdown",
      "metadata": {},
      "source": [
        "### Population fran\u00e7aise janvier 2015\n",
        "\n",
        "Les donn\u00e9es sont disponibles sur le site de l'INSEE [Pyramide des \u00e2ges au 1er janvier 2016](https://www.insee.fr/fr/statistiques/1892086?sommaire=1912926). Elles sont disponibles au format Excel avec le lien suivant : ``https://www.insee.fr/fr/statistiques/fichier/1892086/pop-1janvier-fe.xls``. Le format n'est pas le plus simple car la premi\u00e8re feuille inclut deux tables."
      ]
    },
    {
      "cell_type": "code",
      "execution_count": null,
      "metadata": {
        "collapsed": false
      },
      "outputs": [
        {
          "data": {
            "text/html": [
              "<div>\n",
              "<table border=\"1\" class=\"dataframe\">\n",
              "  <thead>\n",
              "    <tr style=\"text-align: right;\">\n",
              "      <th></th>\n",
              "      <th>Population totale par sexe et \u00e2ge au 1er janvier 2016, France</th>\n",
              "      <th>Unnamed: 1</th>\n",
              "      <th>Unnamed: 2</th>\n",
              "      <th>Unnamed: 3</th>\n",
              "      <th>Unnamed: 4</th>\n",
              "    </tr>\n",
              "  </thead>\n",
              "  <tbody>\n",
              "    <tr>\n",
              "      <th>0</th>\n",
              "      <td>NaN</td>\n",
              "      <td>NaN</td>\n",
              "      <td>NaN</td>\n",
              "      <td>NaN</td>\n",
              "      <td>NaN</td>\n",
              "    </tr>\n",
              "    <tr>\n",
              "      <th>1</th>\n",
              "      <td>NaN</td>\n",
              "      <td>Hommes</td>\n",
              "      <td>Femmes</td>\n",
              "      <td>Ensemble</td>\n",
              "      <td>NaN</td>\n",
              "    </tr>\n",
              "    <tr>\n",
              "      <th>2</th>\n",
              "      <td>Population totale</td>\n",
              "      <td>32291287</td>\n",
              "      <td>34336315</td>\n",
              "      <td>66627602</td>\n",
              "      <td>NaN</td>\n",
              "    </tr>\n",
              "  </tbody>\n",
              "</table>\n",
              "</div>"
            ],
            "text/plain": [
              "  Population totale par sexe et \u00e2ge au 1er janvier 2016, France Unnamed: 1  \\\n",
              "0                                                NaN                   NaN   \n",
              "1                                                NaN                Hommes   \n",
              "2                                  Population totale              32291287   \n",
              "\n",
              "  Unnamed: 2 Unnamed: 3 Unnamed: 4  \n",
              "0        NaN        NaN        NaN  \n",
              "1     Femmes   Ensemble        NaN  \n",
              "2   34336315   66627602        NaN  "
            ]
          },
          "execution_count": null,
          "metadata": {},
          "output_type": "execute_result"
        }
      ],
      "source": [
        "url = \"https://www.insee.fr/fr/statistiques/fichier/1892086/pop-1janvier-fe.xls\"\n",
        "import pandas\n",
        "df=pandas.read_excel(url, sheetname=0)\n",
        "df.head(n=3)"
      ]
    },
    {
      "cell_type": "code",
      "execution_count": null,
      "metadata": {
        "collapsed": false
      },
      "outputs": [
        {
          "data": {
            "text/html": [
              "<div>\n",
              "<table border=\"1\" class=\"dataframe\">\n",
              "  <thead>\n",
              "    <tr style=\"text-align: right;\">\n",
              "      <th></th>\n",
              "      <th>Population totale par sexe et \u00e2ge au 1er janvier 2016, France</th>\n",
              "      <th>Unnamed: 1</th>\n",
              "      <th>Unnamed: 2</th>\n",
              "      <th>Unnamed: 3</th>\n",
              "      <th>Unnamed: 4</th>\n",
              "    </tr>\n",
              "  </thead>\n",
              "  <tbody>\n",
              "    <tr>\n",
              "      <th>109</th>\n",
              "      <td>NaN</td>\n",
              "      <td>NaN</td>\n",
              "      <td>NaN</td>\n",
              "      <td>NaN</td>\n",
              "      <td>NaN</td>\n",
              "    </tr>\n",
              "    <tr>\n",
              "      <th>110</th>\n",
              "      <td>Champ : France y compris Mayotte.</td>\n",
              "      <td>NaN</td>\n",
              "      <td>NaN</td>\n",
              "      <td>NaN</td>\n",
              "      <td>NaN</td>\n",
              "    </tr>\n",
              "    <tr>\n",
              "      <th>111</th>\n",
              "      <td>Source : Insee, estimations de population (r\u00e9s...</td>\n",
              "      <td>NaN</td>\n",
              "      <td>NaN</td>\n",
              "      <td>NaN</td>\n",
              "      <td>NaN</td>\n",
              "    </tr>\n",
              "  </tbody>\n",
              "</table>\n",
              "</div>"
            ],
            "text/plain": [
              "    Population totale par sexe et \u00e2ge au 1er janvier 2016, France Unnamed: 1  \\\n",
              "109                                                NaN                   NaN   \n",
              "110                  Champ : France y compris Mayotte.                   NaN   \n",
              "111  Source : Insee, estimations de population (r\u00e9s...                   NaN   \n",
              "\n",
              "    Unnamed: 2 Unnamed: 3 Unnamed: 4  \n",
              "109        NaN        NaN        NaN  \n",
              "110        NaN        NaN        NaN  \n",
              "111        NaN        NaN        NaN  "
            ]
          },
          "execution_count": null,
          "metadata": {},
          "output_type": "execute_result"
        }
      ],
      "source": [
        "df.tail(n=3)"
      ]
    },
    {
      "cell_type": "markdown",
      "metadata": {},
      "source": [
        "La r\u00e9cup\u00e9ration de ces donn\u00e9es est impl\u00e9ment\u00e9e dans la fonction [population_france_2015](http://www.xavierdupre.fr/app/actuariat_python/helpsphinx/actuariat_python/data/population.html#actuariat_python.data.population.population_france_2015) :"
      ]
    },
    {
      "cell_type": "code",
      "execution_count": null,
      "metadata": {
        "collapsed": false
      },
      "outputs": [],
      "source": [
        "from actuariat_python.data import population_france_2015\n",
        "df = population_france_2015()"
      ]
    },
    {
      "cell_type": "code",
      "execution_count": null,
      "metadata": {
        "collapsed": false
      },
      "outputs": [
        {
          "data": {
            "text/html": [
              "<div>\n",
              "<table border=\"1\" class=\"dataframe\">\n",
              "  <thead>\n",
              "    <tr style=\"text-align: right;\">\n",
              "      <th></th>\n",
              "      <th>naissance</th>\n",
              "      <th>age</th>\n",
              "      <th>hommes</th>\n",
              "      <th>femmes</th>\n",
              "      <th>ensemble</th>\n",
              "    </tr>\n",
              "  </thead>\n",
              "  <tbody>\n",
              "    <tr>\n",
              "      <th>0</th>\n",
              "      <td>2015</td>\n",
              "      <td>0</td>\n",
              "      <td>391371</td>\n",
              "      <td>374179</td>\n",
              "      <td>765550</td>\n",
              "    </tr>\n",
              "    <tr>\n",
              "      <th>1</th>\n",
              "      <td>2014</td>\n",
              "      <td>1</td>\n",
              "      <td>403204</td>\n",
              "      <td>385442</td>\n",
              "      <td>788646</td>\n",
              "    </tr>\n",
              "    <tr>\n",
              "      <th>2</th>\n",
              "      <td>2013</td>\n",
              "      <td>2</td>\n",
              "      <td>405502</td>\n",
              "      <td>386831</td>\n",
              "      <td>792333</td>\n",
              "    </tr>\n",
              "  </tbody>\n",
              "</table>\n",
              "</div>"
            ],
            "text/plain": [
              "   naissance  age  hommes  femmes  ensemble\n",
              "0       2015    0  391371  374179    765550\n",
              "1       2014    1  403204  385442    788646\n",
              "2       2013    2  405502  386831    792333"
            ]
          },
          "execution_count": null,
          "metadata": {},
          "output_type": "execute_result"
        }
      ],
      "source": [
        "df.head(n=3)"
      ]
    },
    {
      "cell_type": "code",
      "execution_count": null,
      "metadata": {
        "collapsed": false
      },
      "outputs": [
        {
          "data": {
            "text/html": [
              "<div>\n",
              "<table border=\"1\" class=\"dataframe\">\n",
              "  <thead>\n",
              "    <tr style=\"text-align: right;\">\n",
              "      <th></th>\n",
              "      <th>naissance</th>\n",
              "      <th>age</th>\n",
              "      <th>hommes</th>\n",
              "      <th>femmes</th>\n",
              "      <th>ensemble</th>\n",
              "    </tr>\n",
              "  </thead>\n",
              "  <tbody>\n",
              "    <tr>\n",
              "      <th>98</th>\n",
              "      <td>1917</td>\n",
              "      <td>98</td>\n",
              "      <td>2013</td>\n",
              "      <td>9475</td>\n",
              "      <td>11488</td>\n",
              "    </tr>\n",
              "    <tr>\n",
              "      <th>99</th>\n",
              "      <td>1916</td>\n",
              "      <td>99</td>\n",
              "      <td>1324</td>\n",
              "      <td>6313</td>\n",
              "      <td>7637</td>\n",
              "    </tr>\n",
              "    <tr>\n",
              "      <th>100</th>\n",
              "      <td>1915</td>\n",
              "      <td>100</td>\n",
              "      <td>3505</td>\n",
              "      <td>17888</td>\n",
              "      <td>21393</td>\n",
              "    </tr>\n",
              "  </tbody>\n",
              "</table>\n",
              "</div>"
            ],
            "text/plain": [
              "     naissance  age  hommes  femmes  ensemble\n",
              "98        1917   98    2013    9475     11488\n",
              "99        1916   99    1324    6313      7637\n",
              "100       1915  100    3505   17888     21393"
            ]
          },
          "execution_count": null,
          "metadata": {},
          "output_type": "execute_result"
        }
      ],
      "source": [
        "df.tail(n=3)"
      ]
    },
    {
      "cell_type": "markdown",
      "metadata": {},
      "source": [
        "D'apr\u00e8s cette table, il y a plus de personnes \u00e2g\u00e9es de 110 ans que de 109 ans. C'est d\u00fb au fait que la derni\u00e8re ligne aggr\u00e8ge toutes les personnes \u00e2g\u00e9es de plus de 110 ans."
      ]
    },
    {
      "cell_type": "markdown",
      "metadata": {
        "collapsed": true
      },
      "source": [
        "### Table de mortalit\u00e9 2000-2002 (France)\n",
        "\n",
        "On utilise quelques raccourcis afin d'\u00e9viter d'y passer trop de temps. Les donn\u00e9es sont fournis au format Excel \u00e0 l'adresse : http://www.institutdesactuaires.com/gene/main.php?base=314. La fonction [table_mortalite_france_00_02](http://www.xavierdupre.fr/app/actuariat_python/helpsphinx/actuariat_python/data/population.html#actuariat_python.data.population.table_mortalite_france_00_02) permet de les r\u00e9cup\u00e9rer."
      ]
    },
    {
      "cell_type": "code",
      "execution_count": null,
      "metadata": {
        "collapsed": false
      },
      "outputs": [
        {
          "data": {
            "text/html": [
              "<div>\n",
              "<table border=\"1\" class=\"dataframe\">\n",
              "  <thead>\n",
              "    <tr style=\"text-align: right;\">\n",
              "      <th></th>\n",
              "      <th>Age</th>\n",
              "      <th>Homme</th>\n",
              "      <th>Femme</th>\n",
              "    </tr>\n",
              "  </thead>\n",
              "  <tbody>\n",
              "    <tr>\n",
              "      <th>0</th>\n",
              "      <td>0.0</td>\n",
              "      <td>100000.0</td>\n",
              "      <td>100000.0</td>\n",
              "    </tr>\n",
              "    <tr>\n",
              "      <th>1</th>\n",
              "      <td>1.0</td>\n",
              "      <td>99511.0</td>\n",
              "      <td>99616.0</td>\n",
              "    </tr>\n",
              "    <tr>\n",
              "      <th>2</th>\n",
              "      <td>2.0</td>\n",
              "      <td>99473.0</td>\n",
              "      <td>99583.0</td>\n",
              "    </tr>\n",
              "    <tr>\n",
              "      <th>3</th>\n",
              "      <td>3.0</td>\n",
              "      <td>99446.0</td>\n",
              "      <td>99562.0</td>\n",
              "    </tr>\n",
              "    <tr>\n",
              "      <th>4</th>\n",
              "      <td>4.0</td>\n",
              "      <td>99424.0</td>\n",
              "      <td>99545.0</td>\n",
              "    </tr>\n",
              "  </tbody>\n",
              "</table>\n",
              "</div>"
            ],
            "text/plain": [
              "   Age     Homme     Femme\n",
              "0  0.0  100000.0  100000.0\n",
              "1  1.0   99511.0   99616.0\n",
              "2  2.0   99473.0   99583.0\n",
              "3  3.0   99446.0   99562.0\n",
              "4  4.0   99424.0   99545.0"
            ]
          },
          "execution_count": null,
          "metadata": {},
          "output_type": "execute_result"
        }
      ],
      "source": [
        "from actuariat_python.data import table_mortalite_france_00_02\n",
        "df=table_mortalite_france_00_02()\n",
        "df.head()"
      ]
    },
    {
      "cell_type": "code",
      "execution_count": null,
      "metadata": {
        "collapsed": false
      },
      "outputs": [
        {
          "data": {
            "text/plain": [
              "<matplotlib.axes._subplots.AxesSubplot at 0x2f0edd14208>"
            ]
          },
          "execution_count": null,
          "metadata": {},
          "output_type": "execute_result"
        }
      ],
      "source": [
        "df.plot(x=\"Age\",y=[\"Homme\", \"Femme\"],xlim=[0,100])"
      ]
    },
    {
      "cell_type": "markdown",
      "metadata": {},
      "source": [
        "### Taux de f\u00e9condit\u00e9 (France)\n",
        "\n",
        "On proc\u00e8de de m\u00eame pour cette table avec la fonction [fecondite_france](http://www.xavierdupre.fr/app/actuariat_python/helpsphinx/actuariat_python/data/population.html#actuariat_python.data.population.fecondite_france). Source : [INSEE : F\u00e9condit\u00e9 selon l'\u00e2ge d\u00e9taill\u00e9 de la m\u00e8re](http://www.insee.fr/fr/themes/tableau.asp?reg_id=0&ref_id=bilandemo2)."
      ]
    },
    {
      "cell_type": "code",
      "execution_count": null,
      "metadata": {
        "collapsed": false
      },
      "outputs": [
        {
          "data": {
            "text/html": [
              "<div>\n",
              "<table border=\"1\" class=\"dataframe\">\n",
              "  <thead>\n",
              "    <tr style=\"text-align: right;\">\n",
              "      <th></th>\n",
              "      <th>age</th>\n",
              "      <th>2005</th>\n",
              "      <th>2015</th>\n",
              "    </tr>\n",
              "  </thead>\n",
              "  <tbody>\n",
              "    <tr>\n",
              "      <th>3</th>\n",
              "      <td>15.0</td>\n",
              "      <td>0.1</td>\n",
              "      <td>0.0</td>\n",
              "    </tr>\n",
              "    <tr>\n",
              "      <th>4</th>\n",
              "      <td>16.0</td>\n",
              "      <td>0.2</td>\n",
              "      <td>0.2</td>\n",
              "    </tr>\n",
              "    <tr>\n",
              "      <th>5</th>\n",
              "      <td>17.0</td>\n",
              "      <td>0.5</td>\n",
              "      <td>0.5</td>\n",
              "    </tr>\n",
              "    <tr>\n",
              "      <th>6</th>\n",
              "      <td>18.0</td>\n",
              "      <td>1.0</td>\n",
              "      <td>1.1</td>\n",
              "    </tr>\n",
              "    <tr>\n",
              "      <th>7</th>\n",
              "      <td>19.0</td>\n",
              "      <td>2.0</td>\n",
              "      <td>2.1</td>\n",
              "    </tr>\n",
              "  </tbody>\n",
              "</table>\n",
              "</div>"
            ],
            "text/plain": [
              "    age  2005  2015\n",
              "3  15.0   0.1   0.0\n",
              "4  16.0   0.2   0.2\n",
              "5  17.0   0.5   0.5\n",
              "6  18.0   1.0   1.1\n",
              "7  19.0   2.0   2.1"
            ]
          },
          "execution_count": null,
          "metadata": {},
          "output_type": "execute_result"
        }
      ],
      "source": [
        "from actuariat_python.data import fecondite_france\n",
        "df=fecondite_france()\n",
        "df.head()"
      ]
    },
    {
      "cell_type": "code",
      "execution_count": null,
      "metadata": {
        "collapsed": false
      },
      "outputs": [
        {
          "data": {
            "text/plain": [
              "<matplotlib.axes._subplots.AxesSubplot at 0x2f0edd85e48>"
            ]
          },
          "execution_count": null,
          "metadata": {},
          "output_type": "execute_result"
        }
      ],
      "source": [
        "df.plot(x=\"age\", y=[\"2005\",\"2015\"])"
      ]
    },
    {
      "cell_type": "markdown",
      "metadata": {
        "collapsed": true
      },
      "source": [
        "### Table de mortalit\u00e9 \u00e9tendue 1960-2010\n",
        "\n",
        "[table de mortalit\u00e9 de 1960 \u00e0 2010](http://www.data-publica.com/opendata/7098--population-et-conditions-sociales-table-de-mortalite-de-1960-a-2010) qu'on r\u00e9cup\u00e8re \u00e0 l'aide de la fonction [table_mortalite_euro_stat](http://www.xavierdupre.fr/app/actuariat_python/helpsphinx/actuariat_python/data/population.html#actuariat_python.data.population.table_mortalite_euro_stat)."
      ]
    },
    {
      "cell_type": "code",
      "execution_count": null,
      "metadata": {
        "collapsed": false
      },
      "outputs": [
        {
          "data": {
            "text/plain": [
              "'mortalite.txt'"
            ]
          },
          "execution_count": null,
          "metadata": {},
          "output_type": "execute_result"
        }
      ],
      "source": [
        "from actuariat_python.data import table_mortalite_euro_stat \n",
        "table_mortalite_euro_stat()"
      ]
    },
    {
      "cell_type": "code",
      "execution_count": null,
      "metadata": {
        "collapsed": false
      },
      "outputs": [
        {
          "data": {
            "text/plain": [
              "os.stat_result(st_mode=33206, st_ino=9007199255282328, st_dev=311511962, st_nlink=1, st_uid=0, st_gid=0, st_size=105741052, st_atime=1480548419, st_mtime=1480548432, st_ctime=1480548419)"
            ]
          },
          "execution_count": null,
          "metadata": {},
          "output_type": "execute_result"
        }
      ],
      "source": [
        "import os\n",
        "os.stat(\"mortalite.txt\")"
      ]
    },
    {
      "cell_type": "code",
      "execution_count": null,
      "metadata": {
        "collapsed": false
      },
      "outputs": [
        {
          "data": {
            "text/html": [
              "<div>\n",
              "<table border=\"1\" class=\"dataframe\">\n",
              "  <thead>\n",
              "    <tr style=\"text-align: right;\">\n",
              "      <th></th>\n",
              "      <th>annee</th>\n",
              "      <th>valeur</th>\n",
              "      <th>age</th>\n",
              "      <th>age_num</th>\n",
              "      <th>indicateur</th>\n",
              "      <th>genre</th>\n",
              "      <th>pays</th>\n",
              "    </tr>\n",
              "  </thead>\n",
              "  <tbody>\n",
              "    <tr>\n",
              "      <th>0</th>\n",
              "      <td>2012</td>\n",
              "      <td>0.00000</td>\n",
              "      <td>Y01</td>\n",
              "      <td>1.0</td>\n",
              "      <td>DEATHRATE</td>\n",
              "      <td>F</td>\n",
              "      <td>AD</td>\n",
              "    </tr>\n",
              "    <tr>\n",
              "      <th>1</th>\n",
              "      <td>2014</td>\n",
              "      <td>0.00042</td>\n",
              "      <td>Y01</td>\n",
              "      <td>1.0</td>\n",
              "      <td>DEATHRATE</td>\n",
              "      <td>F</td>\n",
              "      <td>AL</td>\n",
              "    </tr>\n",
              "    <tr>\n",
              "      <th>2</th>\n",
              "      <td>2009</td>\n",
              "      <td>0.00080</td>\n",
              "      <td>Y01</td>\n",
              "      <td>1.0</td>\n",
              "      <td>DEATHRATE</td>\n",
              "      <td>F</td>\n",
              "      <td>AM</td>\n",
              "    </tr>\n",
              "    <tr>\n",
              "      <th>3</th>\n",
              "      <td>2008</td>\n",
              "      <td>0.00067</td>\n",
              "      <td>Y01</td>\n",
              "      <td>1.0</td>\n",
              "      <td>DEATHRATE</td>\n",
              "      <td>F</td>\n",
              "      <td>AM</td>\n",
              "    </tr>\n",
              "    <tr>\n",
              "      <th>4</th>\n",
              "      <td>2007</td>\n",
              "      <td>0.00052</td>\n",
              "      <td>Y01</td>\n",
              "      <td>1.0</td>\n",
              "      <td>DEATHRATE</td>\n",
              "      <td>F</td>\n",
              "      <td>AM</td>\n",
              "    </tr>\n",
              "  </tbody>\n",
              "</table>\n",
              "</div>"
            ],
            "text/plain": [
              "   annee   valeur  age  age_num indicateur genre pays\n",
              "0   2012  0.00000  Y01      1.0  DEATHRATE     F   AD\n",
              "1   2014  0.00042  Y01      1.0  DEATHRATE     F   AL\n",
              "2   2009  0.00080  Y01      1.0  DEATHRATE     F   AM\n",
              "3   2008  0.00067  Y01      1.0  DEATHRATE     F   AM\n",
              "4   2007  0.00052  Y01      1.0  DEATHRATE     F   AM"
            ]
          },
          "execution_count": null,
          "metadata": {},
          "output_type": "execute_result"
        }
      ],
      "source": [
        "import pandas\n",
        "df = pandas.read_csv(\"mortalite.txt\", sep=\"\\t\", encoding=\"utf8\", low_memory=False)\n",
        "df.head()"
      ]
    },
    {
      "cell_type": "code",
      "execution_count": null,
      "metadata": {
        "collapsed": false
      },
      "outputs": [
        {
          "data": {
            "text/html": [
              "<div>\n",
              "<table border=\"1\" class=\"dataframe\">\n",
              "  <thead>\n",
              "    <tr style=\"text-align: right;\">\n",
              "      <th></th>\n",
              "      <th>annee</th>\n",
              "      <th>valeur</th>\n",
              "      <th>age</th>\n",
              "      <th>age_num</th>\n",
              "      <th>indicateur</th>\n",
              "      <th>genre</th>\n",
              "      <th>pays</th>\n",
              "    </tr>\n",
              "  </thead>\n",
              "  <tbody>\n",
              "    <tr>\n",
              "      <th>87406</th>\n",
              "      <td>2000</td>\n",
              "      <td>5.020000e-03</td>\n",
              "      <td>Y60</td>\n",
              "      <td>60.0</td>\n",
              "      <td>DEATHRATE</td>\n",
              "      <td>F</td>\n",
              "      <td>FR</td>\n",
              "    </tr>\n",
              "    <tr>\n",
              "      <th>88955</th>\n",
              "      <td>2000</td>\n",
              "      <td>4.860000e-03</td>\n",
              "      <td>Y61</td>\n",
              "      <td>61.0</td>\n",
              "      <td>DEATHRATE</td>\n",
              "      <td>F</td>\n",
              "      <td>FR</td>\n",
              "    </tr>\n",
              "    <tr>\n",
              "      <th>485730</th>\n",
              "      <td>2000</td>\n",
              "      <td>2.580000e+01</td>\n",
              "      <td>Y60</td>\n",
              "      <td>60.0</td>\n",
              "      <td>LIFEXP</td>\n",
              "      <td>F</td>\n",
              "      <td>FR</td>\n",
              "    </tr>\n",
              "    <tr>\n",
              "      <th>487268</th>\n",
              "      <td>2000</td>\n",
              "      <td>2.490000e+01</td>\n",
              "      <td>Y61</td>\n",
              "      <td>61.0</td>\n",
              "      <td>LIFEXP</td>\n",
              "      <td>F</td>\n",
              "      <td>FR</td>\n",
              "    </tr>\n",
              "    <tr>\n",
              "      <th>882568</th>\n",
              "      <td>2000</td>\n",
              "      <td>5.010000e-03</td>\n",
              "      <td>Y60</td>\n",
              "      <td>60.0</td>\n",
              "      <td>PROBDEATH</td>\n",
              "      <td>F</td>\n",
              "      <td>FR</td>\n",
              "    </tr>\n",
              "    <tr>\n",
              "      <th>884117</th>\n",
              "      <td>2000</td>\n",
              "      <td>4.850000e-03</td>\n",
              "      <td>Y61</td>\n",
              "      <td>61.0</td>\n",
              "      <td>PROBDEATH</td>\n",
              "      <td>F</td>\n",
              "      <td>FR</td>\n",
              "    </tr>\n",
              "    <tr>\n",
              "      <th>1281364</th>\n",
              "      <td>2000</td>\n",
              "      <td>9.949900e-01</td>\n",
              "      <td>Y60</td>\n",
              "      <td>60.0</td>\n",
              "      <td>PROBSURV</td>\n",
              "      <td>F</td>\n",
              "      <td>FR</td>\n",
              "    </tr>\n",
              "    <tr>\n",
              "      <th>1282913</th>\n",
              "      <td>2000</td>\n",
              "      <td>9.951500e-01</td>\n",
              "      <td>Y61</td>\n",
              "      <td>61.0</td>\n",
              "      <td>PROBSURV</td>\n",
              "      <td>F</td>\n",
              "      <td>FR</td>\n",
              "    </tr>\n",
              "    <tr>\n",
              "      <th>1679610</th>\n",
              "      <td>2000</td>\n",
              "      <td>9.307600e+04</td>\n",
              "      <td>Y60</td>\n",
              "      <td>60.0</td>\n",
              "      <td>PYLIVED</td>\n",
              "      <td>F</td>\n",
              "      <td>FR</td>\n",
              "    </tr>\n",
              "    <tr>\n",
              "      <th>1681148</th>\n",
              "      <td>2000</td>\n",
              "      <td>9.261800e+04</td>\n",
              "      <td>Y61</td>\n",
              "      <td>61.0</td>\n",
              "      <td>PYLIVED</td>\n",
              "      <td>F</td>\n",
              "      <td>FR</td>\n",
              "    </tr>\n",
              "    <tr>\n",
              "      <th>2075898</th>\n",
              "      <td>2000</td>\n",
              "      <td>9.331000e+04</td>\n",
              "      <td>Y60</td>\n",
              "      <td>60.0</td>\n",
              "      <td>SURVIVORS</td>\n",
              "      <td>F</td>\n",
              "      <td>FR</td>\n",
              "    </tr>\n",
              "    <tr>\n",
              "      <th>2077436</th>\n",
              "      <td>2000</td>\n",
              "      <td>9.284300e+04</td>\n",
              "      <td>Y61</td>\n",
              "      <td>61.0</td>\n",
              "      <td>SURVIVORS</td>\n",
              "      <td>F</td>\n",
              "      <td>FR</td>\n",
              "    </tr>\n",
              "    <tr>\n",
              "      <th>2472219</th>\n",
              "      <td>2000</td>\n",
              "      <td>2.405594e+06</td>\n",
              "      <td>Y60</td>\n",
              "      <td>60.0</td>\n",
              "      <td>TOTPYLIVED</td>\n",
              "      <td>F</td>\n",
              "      <td>FR</td>\n",
              "    </tr>\n",
              "    <tr>\n",
              "      <th>2473757</th>\n",
              "      <td>2000</td>\n",
              "      <td>2.312517e+06</td>\n",
              "      <td>Y61</td>\n",
              "      <td>61.0</td>\n",
              "      <td>TOTPYLIVED</td>\n",
              "      <td>F</td>\n",
              "      <td>FR</td>\n",
              "    </tr>\n",
              "  </tbody>\n",
              "</table>\n",
              "</div>"
            ],
            "text/plain": [
              "         annee        valeur  age  age_num  indicateur genre pays\n",
              "87406     2000  5.020000e-03  Y60     60.0   DEATHRATE     F   FR\n",
              "88955     2000  4.860000e-03  Y61     61.0   DEATHRATE     F   FR\n",
              "485730    2000  2.580000e+01  Y60     60.0      LIFEXP     F   FR\n",
              "487268    2000  2.490000e+01  Y61     61.0      LIFEXP     F   FR\n",
              "882568    2000  5.010000e-03  Y60     60.0   PROBDEATH     F   FR\n",
              "884117    2000  4.850000e-03  Y61     61.0   PROBDEATH     F   FR\n",
              "1281364   2000  9.949900e-01  Y60     60.0    PROBSURV     F   FR\n",
              "1282913   2000  9.951500e-01  Y61     61.0    PROBSURV     F   FR\n",
              "1679610   2000  9.307600e+04  Y60     60.0     PYLIVED     F   FR\n",
              "1681148   2000  9.261800e+04  Y61     61.0     PYLIVED     F   FR\n",
              "2075898   2000  9.331000e+04  Y60     60.0   SURVIVORS     F   FR\n",
              "2077436   2000  9.284300e+04  Y61     61.0   SURVIVORS     F   FR\n",
              "2472219   2000  2.405594e+06  Y60     60.0  TOTPYLIVED     F   FR\n",
              "2473757   2000  2.312517e+06  Y61     61.0  TOTPYLIVED     F   FR"
            ]
          },
          "execution_count": null,
          "metadata": {},
          "output_type": "execute_result"
        }
      ],
      "source": [
        "df [ ((df.age==\"Y60\") | (df.age==\"Y61\")) & (df.annee == 2000) & (df.pays==\"FR\") & (df.genre==\"F\")]"
      ]
    },
    {
      "cell_type": "code",
      "execution_count": null,
      "metadata": {
        "collapsed": true
      },
      "outputs": [],
      "source": []
    }
  ],
  "metadata": {
    "kernelspec": {
      "display_name": "Python 3",
      "language": "python",
      "name": "python3"
    },
    "language_info": {
      "codemirror_mode": {
        "name": "ipython",
        "version": 3
      },
      "file_extension": ".py",
      "mimetype": "text/x-python",
      "name": "python",
      "nbconvert_exporter": "python",
      "pygments_lexer": "ipython3",
      "version": "3.5.2"
    }
  },
  "nbformat": 4,
  "nbformat_minor": 0
}