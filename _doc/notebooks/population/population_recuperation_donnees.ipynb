{
 "cells": [
  {
   "cell_type": "markdown",
   "metadata": {},
   "source": [
    "# Récupération des données"
   ]
  },
  {
   "cell_type": "code",
   "execution_count": 4,
   "metadata": {
    "collapsed": false
   },
   "outputs": [
    {
     "data": {
      "text/html": [
       "<div id=\"my_id_menu_nb\">run previous cell, wait for 2 seconds</div>\n",
       "<script>\n",
       "var update_menu = function() {\n",
       "    var els = document.getElementsByClassName(\"sphinxsidebar\");\n",
       "    var level;\n",
       "    if (els.length > 0) level = \"h2\";\n",
       "    else level = \"h3\";\n",
       "    var anchors = document.getElementsByTagName(level);\n",
       "    var menu = document.getElementById(\"my_id_menu_nb\");\n",
       "    var i;\n",
       "    var text_menu = \"<ul>\";\n",
       "    var href;\n",
       "    for (i = 0; i < anchors.length; i++) {\n",
       "var title = anchors[i].textContent;\n",
       "title = title.substring(0,title.length-1);\n",
       "if (anchors[i].hasAttribute(\"id\"))\n",
       "    href = anchors[i].id;\n",
       "else\n",
       "    href = anchors[i].parentNode.id;\n",
       "text_menu += '<li><a href=\"#' + href + '\">' + title + '</a></li>';\n",
       "    }\n",
       "    text_menu += \"</ul>\"\n",
       "    menu.innerHTML=text_menu;\n",
       "};\n",
       "window.setTimeout(update_menu,2000);\n",
       "</script>"
      ],
      "text/plain": [
       "<IPython.core.display.HTML object>"
      ]
     },
     "execution_count": 4,
     "metadata": {},
     "output_type": "execute_result"
    }
   ],
   "source": [
    "from pyquickhelper.ipythonhelper import add_notebook_menu\n",
    "add_notebook_menu()"
   ]
  },
  {
   "cell_type": "markdown",
   "metadata": {},
   "source": [
    "Ce notebook donne quelques exemples de codes qui permettent de récupérer les données utilisées par d'autres notebooks."
   ]
  },
  {
   "cell_type": "markdown",
   "metadata": {},
   "source": [
    "### Population française janvier 2015\n",
    "\n",
    "Les données sont disponibles sur le site de l'INSEE [Pyramide des âges au 1er janvier 2015](http://www.insee.fr/fr/themes/tableau.asp?ref_id=ccc). Elles sont disponibles au format Excel avec le lien suivant : ``http://www.insee.fr/fr/ffc/figure/ccc.xls``. Le format n'est pas le plus simple car la première feuille inclut deux tables."
   ]
  },
  {
   "cell_type": "code",
   "execution_count": 2,
   "metadata": {
    "collapsed": false
   },
   "outputs": [
    {
     "data": {
      "text/html": [
       "<div style=\"max-height:1000px;max-width:1500px;overflow:auto;\">\n",
       "<table border=\"1\" class=\"dataframe\">\n",
       "  <thead>\n",
       "    <tr style=\"text-align: right;\">\n",
       "      <th></th>\n",
       "      <th>Pyramide des âges au 1er janvier 2015</th>\n",
       "      <th>Unnamed: 1</th>\n",
       "      <th>Unnamed: 2</th>\n",
       "      <th>Unnamed: 3</th>\n",
       "      <th>Unnamed: 4</th>\n",
       "      <th>Unnamed: 5</th>\n",
       "      <th>Unnamed: 6</th>\n",
       "    </tr>\n",
       "  </thead>\n",
       "  <tbody>\n",
       "    <tr>\n",
       "      <th>0</th>\n",
       "      <td>Champ : France y compris Mayotte</td>\n",
       "      <td>NaN</td>\n",
       "      <td>NaN</td>\n",
       "      <td>NaN</td>\n",
       "      <td>NaN</td>\n",
       "      <td>NaN</td>\n",
       "      <td>NaN</td>\n",
       "    </tr>\n",
       "    <tr>\n",
       "      <th>1</th>\n",
       "      <td>Source : Insee, estimations de population (don...</td>\n",
       "      <td>NaN</td>\n",
       "      <td>NaN</td>\n",
       "      <td>NaN</td>\n",
       "      <td>NaN</td>\n",
       "      <td>NaN</td>\n",
       "      <td>NaN</td>\n",
       "    </tr>\n",
       "    <tr>\n",
       "      <th>2</th>\n",
       "      <td>NaN</td>\n",
       "      <td>NaN</td>\n",
       "      <td>NaN</td>\n",
       "      <td>NaN</td>\n",
       "      <td>NaN</td>\n",
       "      <td>NaN</td>\n",
       "      <td>NaN</td>\n",
       "    </tr>\n",
       "  </tbody>\n",
       "</table>\n",
       "</div>"
      ],
      "text/plain": [
       "               Pyramide des âges au 1er janvier 2015 Unnamed: 1 Unnamed: 2  \\\n",
       "0                   Champ : France y compris Mayotte        NaN        NaN   \n",
       "1  Source : Insee, estimations de population (don...        NaN        NaN   \n",
       "2                                                NaN        NaN        NaN   \n",
       "\n",
       "  Unnamed: 3 Unnamed: 4  Unnamed: 5  Unnamed: 6  \n",
       "0        NaN        NaN         NaN         NaN  \n",
       "1        NaN        NaN         NaN         NaN  \n",
       "2        NaN        NaN         NaN         NaN  "
      ]
     },
     "execution_count": 2,
     "metadata": {},
     "output_type": "execute_result"
    }
   ],
   "source": [
    "url = \"http://www.insee.fr/fr/ffc/figure/ccc.xls\"\n",
    "import pandas\n",
    "df=pandas.read_excel(url, sheetname=0)\n",
    "df.head(n=3)"
   ]
  },
  {
   "cell_type": "code",
   "execution_count": 3,
   "metadata": {
    "collapsed": false
   },
   "outputs": [
    {
     "data": {
      "text/html": [
       "<div style=\"max-height:1000px;max-width:1500px;overflow:auto;\">\n",
       "<table border=\"1\" class=\"dataframe\">\n",
       "  <thead>\n",
       "    <tr style=\"text-align: right;\">\n",
       "      <th></th>\n",
       "      <th>Pyramide des âges au 1er janvier 2015</th>\n",
       "      <th>Unnamed: 1</th>\n",
       "      <th>Unnamed: 2</th>\n",
       "      <th>Unnamed: 3</th>\n",
       "      <th>Unnamed: 4</th>\n",
       "      <th>Unnamed: 5</th>\n",
       "      <th>Unnamed: 6</th>\n",
       "    </tr>\n",
       "  </thead>\n",
       "  <tbody>\n",
       "    <tr>\n",
       "      <th>108</th>\n",
       "      <td>1916</td>\n",
       "      <td>98</td>\n",
       "      <td>1882</td>\n",
       "      <td>8903</td>\n",
       "      <td>10785</td>\n",
       "      <td>NaN</td>\n",
       "      <td>-1882</td>\n",
       "    </tr>\n",
       "    <tr>\n",
       "      <th>109</th>\n",
       "      <td>1915</td>\n",
       "      <td>99</td>\n",
       "      <td>1629</td>\n",
       "      <td>7198</td>\n",
       "      <td>8827</td>\n",
       "      <td>NaN</td>\n",
       "      <td>-1629</td>\n",
       "    </tr>\n",
       "    <tr>\n",
       "      <th>110</th>\n",
       "      <td>1914 ou avant</td>\n",
       "      <td>100 ou plus</td>\n",
       "      <td>3756</td>\n",
       "      <td>20458</td>\n",
       "      <td>24214</td>\n",
       "      <td>NaN</td>\n",
       "      <td>-3756</td>\n",
       "    </tr>\n",
       "  </tbody>\n",
       "</table>\n",
       "</div>"
      ],
      "text/plain": [
       "    Pyramide des âges au 1er janvier 2015   Unnamed: 1 Unnamed: 2 Unnamed: 3  \\\n",
       "108                                  1916           98       1882       8903   \n",
       "109                                  1915           99       1629       7198   \n",
       "110                         1914 ou avant  100 ou plus       3756      20458   \n",
       "\n",
       "    Unnamed: 4  Unnamed: 5  Unnamed: 6  \n",
       "108      10785         NaN       -1882  \n",
       "109       8827         NaN       -1629  \n",
       "110      24214         NaN       -3756  "
      ]
     },
     "execution_count": 3,
     "metadata": {},
     "output_type": "execute_result"
    }
   ],
   "source": [
    "df.tail(n=3)"
   ]
  },
  {
   "cell_type": "markdown",
   "metadata": {},
   "source": [
    "La récupération de ces données est implémentée dans la fonction *population_france_2015* :"
   ]
  },
  {
   "cell_type": "code",
   "execution_count": 1,
   "metadata": {
    "collapsed": false
   },
   "outputs": [],
   "source": [
    "from actuariat_python.data import population_france_2015\n",
    "df = population_france_2015()"
   ]
  },
  {
   "cell_type": "code",
   "execution_count": 2,
   "metadata": {
    "collapsed": false
   },
   "outputs": [
    {
     "data": {
      "text/html": [
       "<div style=\"max-height:1000px;max-width:1500px;overflow:auto;\">\n",
       "<table border=\"1\" class=\"dataframe\">\n",
       "  <thead>\n",
       "    <tr style=\"text-align: right;\">\n",
       "      <th></th>\n",
       "      <th>naissance</th>\n",
       "      <th>age</th>\n",
       "      <th>hommes</th>\n",
       "      <th>femmes</th>\n",
       "      <th>ensemble</th>\n",
       "    </tr>\n",
       "  </thead>\n",
       "  <tbody>\n",
       "    <tr>\n",
       "      <th>10</th>\n",
       "      <td>2014</td>\n",
       "      <td>0</td>\n",
       "      <td>403837</td>\n",
       "      <td>386619</td>\n",
       "      <td>790456</td>\n",
       "    </tr>\n",
       "    <tr>\n",
       "      <th>11</th>\n",
       "      <td>2013</td>\n",
       "      <td>1</td>\n",
       "      <td>404502</td>\n",
       "      <td>386726</td>\n",
       "      <td>791228</td>\n",
       "    </tr>\n",
       "    <tr>\n",
       "      <th>12</th>\n",
       "      <td>2012</td>\n",
       "      <td>2</td>\n",
       "      <td>411217</td>\n",
       "      <td>393181</td>\n",
       "      <td>804398</td>\n",
       "    </tr>\n",
       "  </tbody>\n",
       "</table>\n",
       "</div>"
      ],
      "text/plain": [
       "    naissance  age  hommes  femmes  ensemble\n",
       "10       2014    0  403837  386619    790456\n",
       "11       2013    1  404502  386726    791228\n",
       "12       2012    2  411217  393181    804398"
      ]
     },
     "execution_count": 2,
     "metadata": {},
     "output_type": "execute_result"
    }
   ],
   "source": [
    "df.head(n=3)"
   ]
  },
  {
   "cell_type": "code",
   "execution_count": 3,
   "metadata": {
    "collapsed": false
   },
   "outputs": [
    {
     "data": {
      "text/html": [
       "<div style=\"max-height:1000px;max-width:1500px;overflow:auto;\">\n",
       "<table border=\"1\" class=\"dataframe\">\n",
       "  <thead>\n",
       "    <tr style=\"text-align: right;\">\n",
       "      <th></th>\n",
       "      <th>naissance</th>\n",
       "      <th>age</th>\n",
       "      <th>hommes</th>\n",
       "      <th>femmes</th>\n",
       "      <th>ensemble</th>\n",
       "    </tr>\n",
       "  </thead>\n",
       "  <tbody>\n",
       "    <tr>\n",
       "      <th>108</th>\n",
       "      <td>1916</td>\n",
       "      <td>98</td>\n",
       "      <td>1882</td>\n",
       "      <td>8903</td>\n",
       "      <td>10785</td>\n",
       "    </tr>\n",
       "    <tr>\n",
       "      <th>109</th>\n",
       "      <td>1915</td>\n",
       "      <td>99</td>\n",
       "      <td>1629</td>\n",
       "      <td>7198</td>\n",
       "      <td>8827</td>\n",
       "    </tr>\n",
       "    <tr>\n",
       "      <th>110</th>\n",
       "      <td>1914</td>\n",
       "      <td>100</td>\n",
       "      <td>3756</td>\n",
       "      <td>20458</td>\n",
       "      <td>24214</td>\n",
       "    </tr>\n",
       "  </tbody>\n",
       "</table>\n",
       "</div>"
      ],
      "text/plain": [
       "     naissance  age  hommes  femmes  ensemble\n",
       "108       1916   98    1882    8903     10785\n",
       "109       1915   99    1629    7198      8827\n",
       "110       1914  100    3756   20458     24214"
      ]
     },
     "execution_count": 3,
     "metadata": {},
     "output_type": "execute_result"
    }
   ],
   "source": [
    "df.tail(n=3)"
   ]
  },
  {
   "cell_type": "markdown",
   "metadata": {},
   "source": [
    "D'après cette table, il y a plus de personnes âgées de 110 ans que de 109 ans. C'est dû au fait que la dernière ligne aggrège toutes les personnes âgées de plus de 110 ans."
   ]
  },
  {
   "cell_type": "code",
   "execution_count": null,
   "metadata": {
    "collapsed": true
   },
   "outputs": [],
   "source": []
  }
 ],
 "metadata": {
  "kernelspec": {
   "display_name": "Python 3",
   "language": "python",
   "name": "python3"
  },
  "language_info": {
   "codemirror_mode": {
    "name": "ipython",
    "version": 3
   },
   "file_extension": ".py",
   "mimetype": "text/x-python",
   "name": "python",
   "nbconvert_exporter": "python",
   "pygments_lexer": "ipython3",
   "version": "3.4.3"
  }
 },
 "nbformat": 4,
 "nbformat_minor": 0
}
