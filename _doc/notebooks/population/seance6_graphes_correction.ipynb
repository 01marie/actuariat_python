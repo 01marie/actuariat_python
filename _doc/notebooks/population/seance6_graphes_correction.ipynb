{
 "cells": [
  {
   "cell_type": "markdown",
   "metadata": {},
   "source": [
    "# Graphes"
   ]
  },
  {
   "cell_type": "markdown",
   "metadata": {},
   "source": [
    "Pour avoir des graphiques inclus dans le notebook, il faut ajouter cette ligne et l'exécuter en premier."
   ]
  },
  {
   "cell_type": "code",
   "execution_count": 1,
   "metadata": {
    "collapsed": false
   },
   "outputs": [
    {
     "name": "stdout",
     "output_type": "stream",
     "text": [
      "Populating the interactive namespace from numpy and matplotlib\n"
     ]
    }
   ],
   "source": [
    "%pylab inline"
   ]
  },
  {
   "cell_type": "markdown",
   "metadata": {},
   "source": [
    "On change le style pour un style plus moderne, celui de [ggplot](http://ggplot2.org/) :"
   ]
  },
  {
   "cell_type": "code",
   "execution_count": 2,
   "metadata": {
    "collapsed": true
   },
   "outputs": [],
   "source": [
    "import matplotlib.pyplot as plt\n",
    "plt.style.use('ggplot')"
   ]
  },
  {
   "cell_type": "code",
   "execution_count": 6,
   "metadata": {
    "collapsed": false
   },
   "outputs": [
    {
     "data": {
      "text/html": [
       "<b>Plan</b>\n",
       "<div id=\"my_menu_id\">run previous cell, wait for 2 seconds</div>\n",
       "<script>\n",
       "function repeat_indent_string(n){\n",
       "    var a = \"\" ;\n",
       "    for ( ; n > 0 ; --n) {\n",
       "        a += \"    \";\n",
       "    }\n",
       "    return a;\n",
       "}\n",
       "var update_menu_string = function(begin, lfirst, llast, sformat, send) {\n",
       "    var anchors = document.getElementsByClassName(\"section\");\n",
       "    if (anchors.length == 0) {\n",
       "        anchors = document.getElementsByClassName(\"text_cell_render rendered_html\");\n",
       "    }\n",
       "    var i,t;\n",
       "    var text_menu = begin;\n",
       "    var text_memo = \"<pre>\\nlength:\" + anchors.length + \"\\n\";\n",
       "    var ind = \"\";\n",
       "    var memo_level = 1;\n",
       "    var href;\n",
       "    var tags = [];\n",
       "    for (i = 0; i <= llast; i++) {\n",
       "        tags.push(\"h\" + i);\n",
       "    }\n",
       "\n",
       "    for (i = 0; i < anchors.length; i++) {\n",
       "        text_memo += \"**\" + anchors[i].id + \"--\\n\";\n",
       "\n",
       "        var child = null;\n",
       "        for(t = 0; t < tags.length; t++) {\n",
       "            var r = anchors[i].getElementsByTagName(tags[t]);\n",
       "            if (r.length > 0) {\n",
       "child = r[0];\n",
       "break;\n",
       "            }\n",
       "        }\n",
       "        if (child == null){\n",
       "            text_memo += \"null\\n\";\n",
       "            continue;\n",
       "        }\n",
       "\n",
       "        if (anchors[i].hasAttribute(\"id\")) {\n",
       "            // when converted in RST\n",
       "            href = anchors[i].id;\n",
       "            text_memo += \"#1-\" + href;\n",
       "            // passer à child suivant (le chercher)\n",
       "        }\n",
       "        else if (child.hasAttribute(\"id\")) {\n",
       "            // in a notebook\n",
       "            href = child.id;\n",
       "            text_memo += \"#2-\" + href;\n",
       "        }\n",
       "        else {\n",
       "            text_memo += \"#3-\" + \"*\" + \"\\n\";\n",
       "            continue;\n",
       "        }\n",
       "        var title = child.textContent;\n",
       "        var level = parseInt(child.tagName.substring(1,2));\n",
       "\n",
       "        text_memo += \"--\" + level + \"?\" + lfirst + \"--\" + title + \"\\n\";\n",
       "\n",
       "        if ((level < lfirst) || (level > llast)) {\n",
       "            continue ;\n",
       "        }\n",
       "        if (title.endsWith('¶')) {\n",
       "            title = title.substring(0,title.length-1).replace(\"<\", \"&lt;\").replace(\">\", \"&gt;\").replace(\"&\", \"&amp;\")\n",
       "        }\n",
       "\n",
       "        if (title.length == 0) {\n",
       "            continue;\n",
       "        }\n",
       "        while (level > memo_level) {\n",
       "            text_menu += \"<ul>\\n\";\n",
       "            memo_level += 1;\n",
       "        }\n",
       "        while (level < memo_level) {\n",
       "            text_menu += \"</ul>\\n\";\n",
       "            memo_level -= 1;\n",
       "        }\n",
       "        text_menu += repeat_indent_string(level-2) + sformat.replace(\"__HREF__\", href).replace(\"__TITLE__\", title);\n",
       "    }\n",
       "    while (1 < memo_level) {\n",
       "        text_menu += \"</ul>\\n\";\n",
       "        memo_level -= 1;\n",
       "    }\n",
       "    text_menu += send;\n",
       "    //text_menu += \"\\n\" + text_memo;\n",
       "    return text_menu;\n",
       "};\n",
       "var update_menu = function() {\n",
       "    var sbegin = \"\";\n",
       "    var sformat = '<li><a href=\"#__HREF__\">__TITLE__</a></li>';\n",
       "    var send = \"\";\n",
       "    var text_menu = update_menu_string(sbegin, 2, 4, sformat, send);\n",
       "    var menu = document.getElementById(\"my_menu_id\");\n",
       "    menu.innerHTML=text_menu;\n",
       "};\n",
       "window.setTimeout(update_menu,2000);\n",
       "            </script>"
      ],
      "text/plain": [
       "<IPython.core.display.HTML object>"
      ]
     },
     "execution_count": 6,
     "metadata": {},
     "output_type": "execute_result"
    }
   ],
   "source": [
    "import pyensae\n",
    "%nb_menu"
   ]
  },
  {
   "cell_type": "markdown",
   "metadata": {},
   "source": [
    "## Données\n",
    "\n",
    "Pour tous les exemples qui suivent, on utilise les résultat [élection présidentielle de 2012](https://www.data.gouv.fr/fr/datasets/election-presidentielle-2012-resultats-572124/)."
   ]
  },
  {
   "cell_type": "code",
   "execution_count": 4,
   "metadata": {
    "collapsed": true
   },
   "outputs": [],
   "source": [
    "from actuariat_python.data import elections_presidentielles\n",
    "dict_df = elections_presidentielles()"
   ]
  },
  {
   "cell_type": "code",
   "execution_count": 120,
   "metadata": {
    "collapsed": false
   },
   "outputs": [
    {
     "data": {
      "text/html": [
       "<div>\n",
       "<table border=\"1\" class=\"dataframe\">\n",
       "  <thead>\n",
       "    <tr style=\"text-align: right;\">\n",
       "      <th></th>\n",
       "      <th>Code du département</th>\n",
       "      <th>Libellé du départementT1</th>\n",
       "      <th>VotantsT1</th>\n",
       "      <th>rHollandeT1</th>\n",
       "      <th>rSarkozyT1</th>\n",
       "      <th>rNulT1</th>\n",
       "      <th>VotantsT2</th>\n",
       "      <th>rHollandeT2</th>\n",
       "      <th>rSarkozyT2</th>\n",
       "      <th>rNulT2</th>\n",
       "    </tr>\n",
       "  </thead>\n",
       "  <tbody>\n",
       "    <tr>\n",
       "      <th>0</th>\n",
       "      <td>1</td>\n",
       "      <td>AIN</td>\n",
       "      <td>327812</td>\n",
       "      <td>0.227459</td>\n",
       "      <td>0.304090</td>\n",
       "      <td>0.019685</td>\n",
       "      <td>326587</td>\n",
       "      <td>0.427692</td>\n",
       "      <td>0.572308</td>\n",
       "      <td>0.059748</td>\n",
       "    </tr>\n",
       "    <tr>\n",
       "      <th>1</th>\n",
       "      <td>2</td>\n",
       "      <td>AISNE</td>\n",
       "      <td>303140</td>\n",
       "      <td>0.271027</td>\n",
       "      <td>0.241958</td>\n",
       "      <td>0.017141</td>\n",
       "      <td>302076</td>\n",
       "      <td>0.524020</td>\n",
       "      <td>0.475980</td>\n",
       "      <td>0.069704</td>\n",
       "    </tr>\n",
       "    <tr>\n",
       "      <th>2</th>\n",
       "      <td>3</td>\n",
       "      <td>ALLIER</td>\n",
       "      <td>211009</td>\n",
       "      <td>0.296824</td>\n",
       "      <td>0.240238</td>\n",
       "      <td>0.023975</td>\n",
       "      <td>211132</td>\n",
       "      <td>0.568861</td>\n",
       "      <td>0.431139</td>\n",
       "      <td>0.070686</td>\n",
       "    </tr>\n",
       "    <tr>\n",
       "      <th>3</th>\n",
       "      <td>4</td>\n",
       "      <td>ALPES DE HAUTE PROVENCE</td>\n",
       "      <td>102899</td>\n",
       "      <td>0.243591</td>\n",
       "      <td>0.254673</td>\n",
       "      <td>0.020515</td>\n",
       "      <td>103581</td>\n",
       "      <td>0.510594</td>\n",
       "      <td>0.489406</td>\n",
       "      <td>0.064095</td>\n",
       "    </tr>\n",
       "    <tr>\n",
       "      <th>4</th>\n",
       "      <td>5</td>\n",
       "      <td>HAUTES ALPES</td>\n",
       "      <td>88619</td>\n",
       "      <td>0.244858</td>\n",
       "      <td>0.261071</td>\n",
       "      <td>0.020786</td>\n",
       "      <td>89405</td>\n",
       "      <td>0.508935</td>\n",
       "      <td>0.491065</td>\n",
       "      <td>0.067390</td>\n",
       "    </tr>\n",
       "  </tbody>\n",
       "</table>\n",
       "</div>"
      ],
      "text/plain": [
       "  Code du département Libellé du départementT1  VotantsT1  rHollandeT1  \\\n",
       "0                   1                      AIN     327812     0.227459   \n",
       "1                   2                    AISNE     303140     0.271027   \n",
       "2                   3                   ALLIER     211009     0.296824   \n",
       "3                   4  ALPES DE HAUTE PROVENCE     102899     0.243591   \n",
       "4                   5             HAUTES ALPES      88619     0.244858   \n",
       "\n",
       "   rSarkozyT1    rNulT1  VotantsT2  rHollandeT2  rSarkozyT2    rNulT2  \n",
       "0    0.304090  0.019685     326587     0.427692    0.572308  0.059748  \n",
       "1    0.241958  0.017141     302076     0.524020    0.475980  0.069704  \n",
       "2    0.240238  0.023975     211132     0.568861    0.431139  0.070686  \n",
       "3    0.254673  0.020515     103581     0.510594    0.489406  0.064095  \n",
       "4    0.261071  0.020786      89405     0.508935    0.491065  0.067390  "
      ]
     },
     "execution_count": 120,
     "metadata": {},
     "output_type": "execute_result"
    }
   ],
   "source": [
    "deps = dict_df[\"Départements T1\"].merge(dict_df[\"Départements T2\"], \n",
    "                                       on=\"Code du département\",\n",
    "                                       suffixes=(\"T1\", \"T2\"))\n",
    "deps[\"rHollandeT1\"] = deps[\"Voix.9\"] / (deps[\"VotantsT1\"] - deps[\"Blancs et nulsT1\"])\n",
    "deps[\"rSarkozyT1\"] = deps[\"Voix.2\"] / (deps[\"VotantsT1\"] - deps[\"Blancs et nulsT1\"])\n",
    "deps[\"rNulT1\"] = deps[\"Blancs et nulsT1\"] / deps[\"VotantsT1\"]\n",
    "deps[\"rHollandeT2\"] = deps[\"VoixT2\"] / (deps[\"VotantsT2\"] - deps[\"Blancs et nulsT2\"])\n",
    "deps[\"rSarkozyT2\"] = deps[\"Voix.1T2\"] / (deps[\"VotantsT2\"] - deps[\"Blancs et nulsT2\"])\n",
    "deps[\"rNulT2\"] = deps[\"Blancs et nulsT2\"] / deps[\"VotantsT2\"]\n",
    "data = deps[[\"Code du département\", \"Libellé du départementT1\", \n",
    "             \"VotantsT1\", \"rHollandeT1\", \"rSarkozyT1\", \"rNulT1\",\n",
    "             \"VotantsT2\", \"rHollandeT2\", \"rSarkozyT2\", \"rNulT2\"]]\n",
    "data_elections = data # parfois data est remplacé dans la suite\n",
    "data.head()\n"
   ]
  },
  {
   "cell_type": "markdown",
   "metadata": {},
   "source": [
    "## exercice 1 : centrer la carte de la France"
   ]
  },
  {
   "cell_type": "code",
   "execution_count": null,
   "metadata": {
    "collapsed": true
   },
   "outputs": [],
   "source": []
  },
  {
   "cell_type": "markdown",
   "metadata": {},
   "source": [
    "## exercice 2 : placer les plus grandes villes de France sur la carte"
   ]
  },
  {
   "cell_type": "code",
   "execution_count": null,
   "metadata": {
    "collapsed": true
   },
   "outputs": [],
   "source": []
  },
  {
   "cell_type": "markdown",
   "metadata": {},
   "source": [
    "## exercice 3 : résultats des élections par départements"
   ]
  },
  {
   "cell_type": "code",
   "execution_count": null,
   "metadata": {
    "collapsed": true
   },
   "outputs": [],
   "source": []
  },
  {
   "cell_type": "markdown",
   "metadata": {},
   "source": [
    "## exercice 4 : même code, widget différent "
   ]
  },
  {
   "cell_type": "code",
   "execution_count": null,
   "metadata": {
    "collapsed": true
   },
   "outputs": [],
   "source": []
  },
  {
   "cell_type": "code",
   "execution_count": null,
   "metadata": {
    "collapsed": true
   },
   "outputs": [],
   "source": []
  }
 ],
 "metadata": {
  "kernelspec": {
   "display_name": "Python 3",
   "language": "python",
   "name": "python3"
  },
  "language_info": {
   "codemirror_mode": {
    "name": "ipython",
    "version": 3
   },
   "file_extension": ".py",
   "mimetype": "text/x-python",
   "name": "python",
   "nbconvert_exporter": "python",
   "pygments_lexer": "ipython3",
   "version": "3.4.3"
  }
 },
 "nbformat": 4,
 "nbformat_minor": 0
}
