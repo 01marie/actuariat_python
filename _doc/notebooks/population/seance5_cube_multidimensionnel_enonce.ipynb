{
 "cells": [
  {
   "cell_type": "markdown",
   "metadata": {},
   "source": [
    "# Cube multidimensionnel"
   ]
  },
  {
   "cell_type": "code",
   "execution_count": 1,
   "metadata": {
    "collapsed": false
   },
   "outputs": [
    {
     "name": "stdout",
     "output_type": "stream",
     "text": [
      "Populating the interactive namespace from numpy and matplotlib\n"
     ]
    },
    {
     "data": {
      "text/html": [
       "<b>Plan</b>\n",
       "<div id=\"my_menu_id\">run previous cell, wait for 2 seconds</div>\n",
       "<script>\n",
       "function repeat_indent_string(n){\n",
       "    var a = \"\" ;\n",
       "    for ( ; n > 0 ; --n) {\n",
       "        a += \"    \";\n",
       "    }\n",
       "    return a;\n",
       "}\n",
       "var update_menu = function() {\n",
       "    var anchors = document.getElementsByClassName(\"section\");\n",
       "    if (anchors.length == 0) {\n",
       "        anchors = document.getElementsByClassName(\"text_cell_render rendered_html\");\n",
       "    }\n",
       "    var i;\n",
       "    var text_menu = \"\";\n",
       "    var ind = \"\";\n",
       "    var memo_level = 1;\n",
       "    var href;\n",
       "    for (i = 0; i < anchors.length; i++) {\n",
       "        var child = anchors[i].children[0];\n",
       "        if (anchors[i].hasAttribute(\"id\")) {\n",
       "            href = anchors[i].id;\n",
       "        }\n",
       "        else if (child.hasAttribute(\"id\")) {\n",
       "            href = child.id;\n",
       "        }\n",
       "        else {\n",
       "            continue;\n",
       "        }\n",
       "        var title = child.textContent;\n",
       "        var level = parseInt(child.tagName.substring(1,2));\n",
       "        if ((level <= 2) || (level > 4)) {\n",
       "            continue ;\n",
       "        }\n",
       "        if (title.endsWith('¶')) {\n",
       "            title = title.substring(0,title.length-1).replace(\"<\", \"&lt;\").replace(\">\", \"&gt;\").replace(\"&\", \"&amp;\")\n",
       "        }\n",
       "        if (title.length == 0) {\n",
       "            continue;\n",
       "        }\n",
       "        while (level > memo_level) {\n",
       "            text_menu += \"<ul>\\n\";\n",
       "            memo_level += 1;\n",
       "        }\n",
       "        while (level < memo_level) {\n",
       "            text_menu += \"</ul>\\n\";\n",
       "            memo_level -= 1;\n",
       "        }\n",
       "        text_menu += repeat_indent_string(level-2) + '<li><a href=\"#' + href + '\">' + title + '</a></li>';\n",
       "    }\n",
       "    while (1 < memo_level) {\n",
       "        text_menu += \"</ul>\\n\";\n",
       "        memo_level -= 1;\n",
       "    }\n",
       "    text_menu += \"\";\n",
       "    var menu = document.getElementById(\"my_menu_id\");\n",
       "    menu.innerHTML=text_menu;\n",
       "};\n",
       "window.setTimeout(update_menu,2000);\n",
       "            </script>"
      ],
      "text/plain": [
       "<IPython.core.display.HTML object>"
      ]
     },
     "execution_count": 1,
     "metadata": {},
     "output_type": "execute_result"
    }
   ],
   "source": [
    "%pylab inline\n",
    "import matplotlib.pyplot as plt\n",
    "plt.style.use('ggplot')\n",
    "import pyensae\n",
    "from pyquickhelper import NbImage\n",
    "%nb_menu"
   ]
  },
  {
   "cell_type": "markdown",
   "metadata": {},
   "source": [
    "### Représentation"
   ]
  },
  {
   "cell_type": "markdown",
   "metadata": {},
   "source": [
    "Le module [pandas](http://pandas.pydata.org/) manipule des tables et c'est la façon la plus commune de représenter les données. Lorsque les données sont multidimensionnelles, on distingue les coordonnées des valeurs :"
   ]
  },
  {
   "cell_type": "code",
   "execution_count": 2,
   "metadata": {
    "collapsed": false
   },
   "outputs": [
    {
     "data": {
      "image/png": "[encoded data removed]",
      "text/plain": [
       "<IPython.core.display.Image object>"
      ]
     },
     "execution_count": 2,
     "metadata": {},
     "output_type": "execute_result"
    }
   ],
   "source": [
    "NbImage(\"cube1.png\")"
   ]
  },
  {
   "cell_type": "markdown",
   "metadata": {
    "collapsed": true
   },
   "source": [
    "Dans cet exemple, il y a :\n",
    "    \n",
    "* 3 coordonnées : Age, Profession, Annéee\n",
    "* 2 valeurs : Espérance de vie, Population\n",
    "\n",
    "On peut représenter les donnés également comme ceci :"
   ]
  },
  {
   "cell_type": "code",
   "execution_count": 3,
   "metadata": {
    "collapsed": false
   },
   "outputs": [
    {
     "data": {
      "image/png": "[encoded data removed]",
      "text/plain": [
       "<IPython.core.display.Image object>"
      ]
     },
     "execution_count": 3,
     "metadata": {},
     "output_type": "execute_result"
    }
   ],
   "source": [
    "NbImage(\"cube2.png\")"
   ]
  },
  {
   "cell_type": "markdown",
   "metadata": {},
   "source": [
    "C'est assez simple. Prenons un exemple : [table de mortalité de 1960 à 2010](http://www.data-publica.com/opendata/7098--population-et-conditions-sociales-table-de-mortalite-de-1960-a-2010) qu'on récupère à l'aide de la fonction [table_mortalite_euro_stat](http://www.xavierdupre.fr/app/actuariat_python/helpsphinx/actuariat_python/data/population.html#actuariat_python.data.population.table_mortalite_euro_stat). C'est assez long (4-5 minutes) sur l'ensemble des données car elles doivent être prétraitées (voir la documentation de la fonction). Pour écouter, il faut utiliser le paramètre *stop_at*."
   ]
  },
  {
   "cell_type": "code",
   "execution_count": 4,
   "metadata": {
    "collapsed": false
   },
   "outputs": [
    {
     "data": {
      "text/plain": [
       "'mortalite.txt'"
      ]
     },
     "execution_count": 4,
     "metadata": {},
     "output_type": "execute_result"
    }
   ],
   "source": [
    "from actuariat_python.data import table_mortalite_euro_stat \n",
    "table_mortalite_euro_stat()"
   ]
  },
  {
   "cell_type": "code",
   "execution_count": 5,
   "metadata": {
    "collapsed": false
   },
   "outputs": [
    {
     "data": {
      "text/plain": [
       "os.stat_result(st_mode=33206, st_ino=28428972647837076, st_dev=2797837379, st_nlink=1, st_uid=0, st_gid=0, st_size=104871002, st_atime=1440348506, st_mtime=1440348555, st_ctime=1440348506)"
      ]
     },
     "execution_count": 5,
     "metadata": {},
     "output_type": "execute_result"
    }
   ],
   "source": [
    "import os\n",
    "os.stat(\"mortalite.txt\")"
   ]
  },
  {
   "cell_type": "code",
   "execution_count": 6,
   "metadata": {
    "collapsed": false
   },
   "outputs": [
    {
     "data": {
      "text/html": [
       "<div>\n",
       "<table border=\"1\" class=\"dataframe\">\n",
       "  <thead>\n",
       "    <tr style=\"text-align: right;\">\n",
       "      <th></th>\n",
       "      <th>annee</th>\n",
       "      <th>valeur</th>\n",
       "      <th>age</th>\n",
       "      <th>age_num</th>\n",
       "      <th>indicateur</th>\n",
       "      <th>genre</th>\n",
       "      <th>pays</th>\n",
       "    </tr>\n",
       "  </thead>\n",
       "  <tbody>\n",
       "    <tr>\n",
       "      <th>0</th>\n",
       "      <td>2009</td>\n",
       "      <td>0.00080</td>\n",
       "      <td>Y01</td>\n",
       "      <td>1</td>\n",
       "      <td>DEATHRATE</td>\n",
       "      <td>F</td>\n",
       "      <td>AM</td>\n",
       "    </tr>\n",
       "    <tr>\n",
       "      <th>1</th>\n",
       "      <td>2008</td>\n",
       "      <td>0.00067</td>\n",
       "      <td>Y01</td>\n",
       "      <td>1</td>\n",
       "      <td>DEATHRATE</td>\n",
       "      <td>F</td>\n",
       "      <td>AM</td>\n",
       "    </tr>\n",
       "    <tr>\n",
       "      <th>2</th>\n",
       "      <td>2007</td>\n",
       "      <td>0.00052</td>\n",
       "      <td>Y01</td>\n",
       "      <td>1</td>\n",
       "      <td>DEATHRATE</td>\n",
       "      <td>F</td>\n",
       "      <td>AM</td>\n",
       "    </tr>\n",
       "    <tr>\n",
       "      <th>3</th>\n",
       "      <td>2006</td>\n",
       "      <td>0.00123</td>\n",
       "      <td>Y01</td>\n",
       "      <td>1</td>\n",
       "      <td>DEATHRATE</td>\n",
       "      <td>F</td>\n",
       "      <td>AM</td>\n",
       "    </tr>\n",
       "    <tr>\n",
       "      <th>4</th>\n",
       "      <td>2013</td>\n",
       "      <td>0.00016</td>\n",
       "      <td>Y01</td>\n",
       "      <td>1</td>\n",
       "      <td>DEATHRATE</td>\n",
       "      <td>F</td>\n",
       "      <td>AT</td>\n",
       "    </tr>\n",
       "  </tbody>\n",
       "</table>\n",
       "</div>"
      ],
      "text/plain": [
       "   annee   valeur  age  age_num indicateur genre pays\n",
       "0   2009  0.00080  Y01        1  DEATHRATE     F   AM\n",
       "1   2008  0.00067  Y01        1  DEATHRATE     F   AM\n",
       "2   2007  0.00052  Y01        1  DEATHRATE     F   AM\n",
       "3   2006  0.00123  Y01        1  DEATHRATE     F   AM\n",
       "4   2013  0.00016  Y01        1  DEATHRATE     F   AT"
      ]
     },
     "execution_count": 6,
     "metadata": {},
     "output_type": "execute_result"
    }
   ],
   "source": [
    "import pandas\n",
    "df = pandas.read_csv(\"mortalite.txt\", sep=\"\\t\", encoding=\"utf8\", low_memory=False)\n",
    "df.head()"
   ]
  },
  {
   "cell_type": "markdown",
   "metadata": {},
   "source": [
    "### Cubes de données avec xray"
   ]
  },
  {
   "cell_type": "markdown",
   "metadata": {},
   "source": [
    "#### création\n",
    "\n",
    "Cette réprésentation sous forme de table n'est pas toujours très lisible. Les informations sont souvent répétées et les données sont vraiment multidimensionnelles. Le module [xray](http://xray.readthedocs.org/en/stable/) propose de distinguer les coordonnées des valeurs pour proposer des manipulations plus intuitives. Le module propose un DataFrame multidimensionnelle [DataSet](http://xray.readthedocs.org/en/stable/data-structures.html#dataset)."
   ]
  },
  {
   "cell_type": "code",
   "execution_count": 9,
   "metadata": {
    "collapsed": false
   },
   "outputs": [
    {
     "data": {
      "text/plain": [
       "Index(['annee', 'valeur', 'age', 'age_num', 'indicateur', 'genre', 'pays'], dtype='object')"
      ]
     },
     "execution_count": 9,
     "metadata": {},
     "output_type": "execute_result"
    }
   ],
   "source": [
    "from actuariat_python.data import table_mortalite_euro_stat \n",
    "table_mortalite_euro_stat()\n",
    "import pandas\n",
    "df = pandas.read_csv(\"mortalite.txt\", sep=\"\\t\", encoding=\"utf8\", low_memory=False)\n",
    "df.columns"
   ]
  },
  {
   "cell_type": "markdown",
   "metadata": {},
   "source": [
    "Dans ce cas-ci, pour reprendre la temrinologie du module [xray](http://xray.readthedocs.org/en/stable/), nous avons :\n",
    "\n",
    "* les **dimensions** : annee, age_num, pays, genre\n",
    "* les **valeurs** : une valeur par indicateur\n",
    "\n",
    "On peut passer d'un [DataFrame](http://pandas.pydata.org/pandas-docs/stable/generated/pandas.DataFrame.html) à un [DataSet](http://xray.readthedocs.org/en/stable/data-structures.html#dataset) de la façon suivante :\n",
    "\n",
    "* les colonnes indéxées représentent les dimensions\n",
    "* les colonnes non indéxées sont les valeurs\n",
    "\n",
    "On garde supprime les colonnes qui ne nous intéressent pas et les valeurs manquantes :"
   ]
  },
  {
   "cell_type": "code",
   "execution_count": 36,
   "metadata": {
    "collapsed": false
   },
   "outputs": [
    {
     "data": {
      "text/plain": [
       "(Index(['annee', 'valeur', 'age', 'age_num', 'indicateur', 'genre', 'pays'], dtype='object'),\n",
       " Index(['annee', 'age_num', 'indicateur', 'pays', 'genre', 'valeur'], dtype='object'))"
      ]
     },
     "execution_count": 36,
     "metadata": {},
     "output_type": "execute_result"
    }
   ],
   "source": [
    "df2 = df[[\"annee\", \"age_num\",\"indicateur\",\"pays\",\"genre\",\"valeur\"]].dropna().reset_index(drop=True)\n",
    "df.columns, df2.columns"
   ]
  },
  {
   "cell_type": "code",
   "execution_count": 37,
   "metadata": {
    "collapsed": false
   },
   "outputs": [
    {
     "data": {
      "text/html": [
       "<div>\n",
       "<table border=\"1\" class=\"dataframe\">\n",
       "  <thead>\n",
       "    <tr style=\"text-align: right;\">\n",
       "      <th></th>\n",
       "      <th>annee</th>\n",
       "      <th>age_num</th>\n",
       "      <th>indicateur</th>\n",
       "      <th>pays</th>\n",
       "      <th>genre</th>\n",
       "      <th>valeur</th>\n",
       "    </tr>\n",
       "  </thead>\n",
       "  <tbody>\n",
       "    <tr>\n",
       "      <th>0</th>\n",
       "      <td>2009</td>\n",
       "      <td>1</td>\n",
       "      <td>DEATHRATE</td>\n",
       "      <td>AM</td>\n",
       "      <td>F</td>\n",
       "      <td>0.00080</td>\n",
       "    </tr>\n",
       "    <tr>\n",
       "      <th>1</th>\n",
       "      <td>2008</td>\n",
       "      <td>1</td>\n",
       "      <td>DEATHRATE</td>\n",
       "      <td>AM</td>\n",
       "      <td>F</td>\n",
       "      <td>0.00067</td>\n",
       "    </tr>\n",
       "    <tr>\n",
       "      <th>2</th>\n",
       "      <td>2007</td>\n",
       "      <td>1</td>\n",
       "      <td>DEATHRATE</td>\n",
       "      <td>AM</td>\n",
       "      <td>F</td>\n",
       "      <td>0.00052</td>\n",
       "    </tr>\n",
       "    <tr>\n",
       "      <th>3</th>\n",
       "      <td>2006</td>\n",
       "      <td>1</td>\n",
       "      <td>DEATHRATE</td>\n",
       "      <td>AM</td>\n",
       "      <td>F</td>\n",
       "      <td>0.00123</td>\n",
       "    </tr>\n",
       "    <tr>\n",
       "      <th>4</th>\n",
       "      <td>2013</td>\n",
       "      <td>1</td>\n",
       "      <td>DEATHRATE</td>\n",
       "      <td>AT</td>\n",
       "      <td>F</td>\n",
       "      <td>0.00016</td>\n",
       "    </tr>\n",
       "  </tbody>\n",
       "</table>\n",
       "</div>"
      ],
      "text/plain": [
       "   annee  age_num indicateur pays genre   valeur\n",
       "0   2009        1  DEATHRATE   AM     F  0.00080\n",
       "1   2008        1  DEATHRATE   AM     F  0.00067\n",
       "2   2007        1  DEATHRATE   AM     F  0.00052\n",
       "3   2006        1  DEATHRATE   AM     F  0.00123\n",
       "4   2013        1  DEATHRATE   AT     F  0.00016"
      ]
     },
     "execution_count": 37,
     "metadata": {},
     "output_type": "execute_result"
    }
   ],
   "source": [
    "df2.head()"
   ]
  },
  {
   "cell_type": "markdown",
   "metadata": {},
   "source": [
    "L'opération complexe consiste à faire passer les valeurs de la colonne *indicateur* en tant que colonnes. C'est l'objet de la méthode [pivot_table](http://pandas.pydata.org/pandas-docs/stable/generated/pandas.DataFrame.pivot_table.html?highlight=pivot#pandas.DataFrame.pivot_table) :"
   ]
  },
  {
   "cell_type": "code",
   "execution_count": 38,
   "metadata": {
    "collapsed": false
   },
   "outputs": [
    {
     "data": {
      "text/html": [
       "<div>\n",
       "<table border=\"1\" class=\"dataframe\">\n",
       "  <thead>\n",
       "    <tr style=\"text-align: right;\">\n",
       "      <th></th>\n",
       "      <th></th>\n",
       "      <th></th>\n",
       "      <th>indicateur</th>\n",
       "      <th>DEATHRATE</th>\n",
       "      <th>LIFEXP</th>\n",
       "      <th>PROBDEATH</th>\n",
       "      <th>PROBSURV</th>\n",
       "      <th>PYLIVED</th>\n",
       "      <th>SURVIVORS</th>\n",
       "      <th>TOTPYLIVED</th>\n",
       "    </tr>\n",
       "    <tr>\n",
       "      <th>annee</th>\n",
       "      <th>age_num</th>\n",
       "      <th>pays</th>\n",
       "      <th>genre</th>\n",
       "      <th></th>\n",
       "      <th></th>\n",
       "      <th></th>\n",
       "      <th></th>\n",
       "      <th></th>\n",
       "      <th></th>\n",
       "      <th></th>\n",
       "    </tr>\n",
       "  </thead>\n",
       "  <tbody>\n",
       "    <tr>\n",
       "      <th rowspan=\"5\" valign=\"top\">1960</th>\n",
       "      <th rowspan=\"5\" valign=\"top\">1</th>\n",
       "      <th rowspan=\"3\" valign=\"top\">BE</th>\n",
       "      <th>F</th>\n",
       "      <td>0.00159</td>\n",
       "      <td>73.7</td>\n",
       "      <td>0.00159</td>\n",
       "      <td>0.99841</td>\n",
       "      <td>97316</td>\n",
       "      <td>97393</td>\n",
       "      <td>7179465</td>\n",
       "    </tr>\n",
       "    <tr>\n",
       "      <th>M</th>\n",
       "      <td>0.00207</td>\n",
       "      <td>68.2</td>\n",
       "      <td>0.00207</td>\n",
       "      <td>0.99793</td>\n",
       "      <td>96420</td>\n",
       "      <td>96520</td>\n",
       "      <td>6580601</td>\n",
       "    </tr>\n",
       "    <tr>\n",
       "      <th>T</th>\n",
       "      <td>0.00184</td>\n",
       "      <td>70.9</td>\n",
       "      <td>0.00184</td>\n",
       "      <td>0.99816</td>\n",
       "      <td>96856</td>\n",
       "      <td>96945</td>\n",
       "      <td>6874529</td>\n",
       "    </tr>\n",
       "    <tr>\n",
       "      <th rowspan=\"2\" valign=\"top\">BG</th>\n",
       "      <th>F</th>\n",
       "      <td>0.00652</td>\n",
       "      <td>73.2</td>\n",
       "      <td>0.00650</td>\n",
       "      <td>0.99350</td>\n",
       "      <td>95502</td>\n",
       "      <td>95813</td>\n",
       "      <td>7017023</td>\n",
       "    </tr>\n",
       "    <tr>\n",
       "      <th>M</th>\n",
       "      <td>0.00644</td>\n",
       "      <td>70.0</td>\n",
       "      <td>0.00642</td>\n",
       "      <td>0.99358</td>\n",
       "      <td>94801</td>\n",
       "      <td>95107</td>\n",
       "      <td>6653130</td>\n",
       "    </tr>\n",
       "  </tbody>\n",
       "</table>\n",
       "</div>"
      ],
      "text/plain": [
       "indicateur                DEATHRATE  LIFEXP  PROBDEATH  PROBSURV  PYLIVED  \\\n",
       "annee age_num pays genre                                                    \n",
       "1960  1       BE   F        0.00159    73.7    0.00159   0.99841    97316   \n",
       "                   M        0.00207    68.2    0.00207   0.99793    96420   \n",
       "                   T        0.00184    70.9    0.00184   0.99816    96856   \n",
       "              BG   F        0.00652    73.2    0.00650   0.99350    95502   \n",
       "                   M        0.00644    70.0    0.00642   0.99358    94801   \n",
       "\n",
       "indicateur                SURVIVORS  TOTPYLIVED  \n",
       "annee age_num pays genre                         \n",
       "1960  1       BE   F          97393     7179465  \n",
       "                   M          96520     6580601  \n",
       "                   T          96945     6874529  \n",
       "              BG   F          95813     7017023  \n",
       "                   M          95107     6653130  "
      ]
     },
     "execution_count": 38,
     "metadata": {},
     "output_type": "execute_result"
    }
   ],
   "source": [
    "piv = df2.pivot_table(index=[\"annee\", \"age_num\",\"pays\",\"genre\"],\n",
    "                columns=[\"indicateur\"],\n",
    "               values=\"valeur\")\n",
    "piv.head()"
   ]
  },
  {
   "cell_type": "markdown",
   "metadata": {},
   "source": [
    "Les données sont maintenant prêtes à passer sous *xray* :"
   ]
  },
  {
   "cell_type": "code",
   "execution_count": 39,
   "metadata": {
    "collapsed": false
   },
   "outputs": [
    {
     "data": {
      "text/plain": [
       "<xray.Dataset>\n",
       "Dimensions:     (age_num: 84, annee: 54, genre: 3, pays: 54)\n",
       "Coordinates:\n",
       "  * annee       (annee) int64 1960 1961 1962 1963 1964 1965 1966 1967 1968 ...\n",
       "  * age_num     (age_num) float64 1.0 2.0 3.0 4.0 5.0 6.0 7.0 8.0 9.0 10.0 ...\n",
       "  * pays        (pays) object 'AM' 'AT' 'AZ' 'BE' 'BG' 'BY' 'CH' 'CY' 'CZ' ...\n",
       "  * genre       (genre) object 'F' 'M' 'T'\n",
       "Data variables:\n",
       "    DEATHRATE   (annee, age_num, pays, genre) float64 nan nan nan nan nan ...\n",
       "    LIFEXP      (annee, age_num, pays, genre) float64 nan nan nan nan nan ...\n",
       "    PROBDEATH   (annee, age_num, pays, genre) float64 nan nan nan nan nan ...\n",
       "    PROBSURV    (annee, age_num, pays, genre) float64 nan nan nan nan nan ...\n",
       "    PYLIVED     (annee, age_num, pays, genre) float64 nan nan nan nan nan ...\n",
       "    SURVIVORS   (annee, age_num, pays, genre) float64 nan nan nan nan nan ...\n",
       "    TOTPYLIVED  (annee, age_num, pays, genre) float64 nan nan nan nan nan ..."
      ]
     },
     "execution_count": 39,
     "metadata": {},
     "output_type": "execute_result"
    }
   ],
   "source": [
    "import xray\n",
    "ds = xray.Dataset.from_dataframe(piv)\n",
    "ds"
   ]
  },
  {
   "cell_type": "markdown",
   "metadata": {},
   "source": [
    "#### sélection\n",
    "\n",
    "Il est facile ensuite d'extraire les données d'un pays avec la méthode [sel](http://xray.readthedocs.org/en/stable/indexing.html#indexing-and-selecting-data) :"
   ]
  },
  {
   "cell_type": "code",
   "execution_count": 43,
   "metadata": {
    "collapsed": false
   },
   "outputs": [
    {
     "data": {
      "text/plain": [
       "<xray.Dataset>\n",
       "Dimensions:     (age_num: 84, annee: 54, genre: 3, pays: 1)\n",
       "Coordinates:\n",
       "  * annee       (annee) int64 1960 1961 1962 1963 1964 1965 1966 1967 1968 ...\n",
       "  * age_num     (age_num) float64 1.0 2.0 3.0 4.0 5.0 6.0 7.0 8.0 9.0 10.0 ...\n",
       "  * pays        (pays) object 'FR'\n",
       "  * genre       (genre) object 'F' 'M' 'T'\n",
       "Data variables:\n",
       "    DEATHRATE   (annee, age_num, pays, genre) float64 nan nan nan nan nan ...\n",
       "    LIFEXP      (annee, age_num, pays, genre) float64 nan nan nan nan nan ...\n",
       "    PROBDEATH   (annee, age_num, pays, genre) float64 nan nan nan nan nan ...\n",
       "    PROBSURV    (annee, age_num, pays, genre) float64 nan nan nan nan nan ...\n",
       "    PYLIVED     (annee, age_num, pays, genre) float64 nan nan nan nan nan ...\n",
       "    SURVIVORS   (annee, age_num, pays, genre) float64 nan nan nan nan nan ...\n",
       "    TOTPYLIVED  (annee, age_num, pays, genre) float64 nan nan nan nan nan ..."
      ]
     },
     "execution_count": 43,
     "metadata": {},
     "output_type": "execute_result"
    }
   ],
   "source": [
    "ds.sel(pays=[\"FR\"])"
   ]
  },
  {
   "cell_type": "markdown",
   "metadata": {},
   "source": [
    "Ou de plusieurs pays :"
   ]
  },
  {
   "cell_type": "code",
   "execution_count": 44,
   "metadata": {
    "collapsed": false
   },
   "outputs": [
    {
     "data": {
      "text/plain": [
       "<xray.Dataset>\n",
       "Dimensions:     (age_num: 84, annee: 54, genre: 3, pays: 2)\n",
       "Coordinates:\n",
       "  * annee       (annee) int64 1960 1961 1962 1963 1964 1965 1966 1967 1968 ...\n",
       "  * age_num     (age_num) float64 1.0 2.0 3.0 4.0 5.0 6.0 7.0 8.0 9.0 10.0 ...\n",
       "  * pays        (pays) object 'FR' 'BE'\n",
       "  * genre       (genre) object 'F' 'M' 'T'\n",
       "Data variables:\n",
       "    DEATHRATE   (annee, age_num, pays, genre) float64 nan nan nan 0.00159 ...\n",
       "    LIFEXP      (annee, age_num, pays, genre) float64 nan nan nan 73.7 68.2 ...\n",
       "    PROBDEATH   (annee, age_num, pays, genre) float64 nan nan nan 0.00159 ...\n",
       "    PROBSURV    (annee, age_num, pays, genre) float64 nan nan nan 0.9984 ...\n",
       "    PYLIVED     (annee, age_num, pays, genre) float64 nan nan nan 9.732e+04 ...\n",
       "    SURVIVORS   (annee, age_num, pays, genre) float64 nan nan nan 9.739e+04 ...\n",
       "    TOTPYLIVED  (annee, age_num, pays, genre) float64 nan nan nan 7.179e+06 ..."
      ]
     },
     "execution_count": 44,
     "metadata": {},
     "output_type": "execute_result"
    }
   ],
   "source": [
    "ds.sel(pays=[\"FR\", \"BE\"])"
   ]
  },
  {
   "cell_type": "markdown",
   "metadata": {},
   "source": [
    "Ou plusieurs dimensions :"
   ]
  },
  {
   "cell_type": "code",
   "execution_count": 45,
   "metadata": {
    "collapsed": false
   },
   "outputs": [
    {
     "data": {
      "text/plain": [
       "<xray.Dataset>\n",
       "Dimensions:     (age_num: 84, genre: 3)\n",
       "Coordinates:\n",
       "    annee       int64 2000\n",
       "  * age_num     (age_num) float64 1.0 2.0 3.0 4.0 5.0 6.0 7.0 8.0 9.0 10.0 ...\n",
       "    pays        object 'FR'\n",
       "  * genre       (genre) object 'F' 'M' 'T'\n",
       "Data variables:\n",
       "    DEATHRATE   (age_num, genre) float64 0.00043 0.00046 0.00044 0.00021 ...\n",
       "    LIFEXP      (age_num, genre) float64 82.3 74.7 78.5 81.3 73.7 77.6 80.3 ...\n",
       "    PROBDEATH   (age_num, genre) float64 0.00043 0.00046 0.00044 0.00021 ...\n",
       "    PROBSURV    (age_num, genre) float64 0.9996 0.9995 0.9996 0.9998 0.9997 ...\n",
       "    PYLIVED     (age_num, genre) float64 9.957e+04 9.944e+04 9.951e+04 ...\n",
       "    SURVIVORS   (age_num, genre) float64 9.959e+04 9.947e+04 9.953e+04 ...\n",
       "    TOTPYLIVED  (age_num, genre) float64 8.196e+06 7.432e+06 7.817e+06 ..."
      ]
     },
     "execution_count": 45,
     "metadata": {},
     "output_type": "execute_result"
    }
   ],
   "source": [
    "ds.sel(pays=\"FR\", annee=2000)"
   ]
  },
  {
   "cell_type": "markdown",
   "metadata": {},
   "source": [
    "Pour accéder à la série ``LIFEXP`` pour les hommes, les années 2000 et 2010, le pays ``FR``, on fait la différence, puis on la récupère sous forme de DataFrame :"
   ]
  },
  {
   "cell_type": "code",
   "execution_count": 79,
   "metadata": {
    "collapsed": false
   },
   "outputs": [
    {
     "data": {
      "text/html": [
       "<div>\n",
       "<table border=\"1\" class=\"dataframe\">\n",
       "  <thead>\n",
       "    <tr style=\"text-align: right;\">\n",
       "      <th></th>\n",
       "      <th>pays</th>\n",
       "      <th>genre</th>\n",
       "      <th>LIFEXP</th>\n",
       "    </tr>\n",
       "    <tr>\n",
       "      <th>age_num</th>\n",
       "      <th></th>\n",
       "      <th></th>\n",
       "      <th></th>\n",
       "    </tr>\n",
       "  </thead>\n",
       "  <tbody>\n",
       "    <tr>\n",
       "      <th>1</th>\n",
       "      <td>FR</td>\n",
       "      <td>T</td>\n",
       "      <td>2.6</td>\n",
       "    </tr>\n",
       "    <tr>\n",
       "      <th>2</th>\n",
       "      <td>FR</td>\n",
       "      <td>T</td>\n",
       "      <td>2.6</td>\n",
       "    </tr>\n",
       "    <tr>\n",
       "      <th>3</th>\n",
       "      <td>FR</td>\n",
       "      <td>T</td>\n",
       "      <td>2.6</td>\n",
       "    </tr>\n",
       "    <tr>\n",
       "      <th>4</th>\n",
       "      <td>FR</td>\n",
       "      <td>T</td>\n",
       "      <td>2.6</td>\n",
       "    </tr>\n",
       "    <tr>\n",
       "      <th>5</th>\n",
       "      <td>FR</td>\n",
       "      <td>T</td>\n",
       "      <td>2.6</td>\n",
       "    </tr>\n",
       "  </tbody>\n",
       "</table>\n",
       "</div>"
      ],
      "text/plain": [
       "        pays genre  LIFEXP\n",
       "age_num                   \n",
       "1         FR     T     2.6\n",
       "2         FR     T     2.6\n",
       "3         FR     T     2.6\n",
       "4         FR     T     2.6\n",
       "5         FR     T     2.6"
      ]
     },
     "execution_count": 79,
     "metadata": {},
     "output_type": "execute_result"
    }
   ],
   "source": [
    "(ds.sel(pays=\"FR\", annee=2010, genre=\"T\")[\"LIFEXP\"] - \n",
    " ds.sel(pays=\"FR\", annee=2000, genre=\"T\")[\"LIFEXP\"]).to_dataframe().head()"
   ]
  },
  {
   "cell_type": "markdown",
   "metadata": {},
   "source": [
    "On a gagné presque deux ans et demi d'espérance de vie à la naissance en 10 ans."
   ]
  },
  {
   "cell_type": "code",
   "execution_count": 78,
   "metadata": {
    "collapsed": false
   },
   "outputs": [
    {
     "data": {
      "text/html": [
       "<div>\n",
       "<table border=\"1\" class=\"dataframe\">\n",
       "  <thead>\n",
       "    <tr style=\"text-align: right;\">\n",
       "      <th></th>\n",
       "      <th></th>\n",
       "      <th>annee</th>\n",
       "      <th>LIFEXP</th>\n",
       "    </tr>\n",
       "    <tr>\n",
       "      <th>age_num</th>\n",
       "      <th>genre</th>\n",
       "      <th></th>\n",
       "      <th></th>\n",
       "    </tr>\n",
       "  </thead>\n",
       "  <tbody>\n",
       "    <tr>\n",
       "      <th rowspan=\"2\" valign=\"top\">1</th>\n",
       "      <th>F</th>\n",
       "      <td>2010</td>\n",
       "      <td>2.6</td>\n",
       "    </tr>\n",
       "    <tr>\n",
       "      <th>M</th>\n",
       "      <td>2010</td>\n",
       "      <td>-0.3</td>\n",
       "    </tr>\n",
       "    <tr>\n",
       "      <th rowspan=\"2\" valign=\"top\">2</th>\n",
       "      <th>F</th>\n",
       "      <td>2010</td>\n",
       "      <td>2.7</td>\n",
       "    </tr>\n",
       "    <tr>\n",
       "      <th>M</th>\n",
       "      <td>2010</td>\n",
       "      <td>-0.4</td>\n",
       "    </tr>\n",
       "    <tr>\n",
       "      <th>3</th>\n",
       "      <th>F</th>\n",
       "      <td>2010</td>\n",
       "      <td>2.7</td>\n",
       "    </tr>\n",
       "  </tbody>\n",
       "</table>\n",
       "</div>"
      ],
      "text/plain": [
       "               annee  LIFEXP\n",
       "age_num genre               \n",
       "1       F       2010     2.6\n",
       "        M       2010    -0.3\n",
       "2       F       2010     2.7\n",
       "        M       2010    -0.4\n",
       "3       F       2010     2.7"
      ]
     },
     "execution_count": 78,
     "metadata": {},
     "output_type": "execute_result"
    }
   ],
   "source": [
    "(ds.sel(pays=\"FR\", annee=2010, genre=[\"F\",\"M\"])[\"LIFEXP\"] - \n",
    " ds.sel(pays=\"UK\", annee=2010, genre=[\"F\",\"M\"])[\"LIFEXP\"]).to_dataframe().head()"
   ]
  },
  {
   "cell_type": "markdown",
   "metadata": {},
   "source": [
    "#### Quelques graphes"
   ]
  },
  {
   "cell_type": "code",
   "execution_count": 102,
   "metadata": {
    "collapsed": false
   },
   "outputs": [
    {
     "data": {
      "text/plain": [
       "<matplotlib.axes._subplots.AxesSubplot at 0x74ae0160>"
      ]
     },
     "execution_count": 102,
     "metadata": {},
     "output_type": "execute_result"
    },
    {
     "data": {
      "image/png": "[encoded data removed]",
      "text/plain": [
       "<matplotlib.figure.Figure at 0x140c0ac8>"
      ]
     },
     "metadata": {},
     "output_type": "display_data"
    }
   ],
   "source": [
    "ds.sel(annee=2010,age_num=1,genre=\"T\")[\"LIFEXP\"].to_dataframe() \\\n",
    "            .sort(\"LIFEXP\", ascending=False) \\\n",
    "            .plot(y=\"LIFEXP\", kind=\"bar\", figsize=(16,6), ylim=[65,85])"
   ]
  },
  {
   "cell_type": "code",
   "execution_count": 108,
   "metadata": {
    "collapsed": false
   },
   "outputs": [
    {
     "data": {
      "text/plain": [
       "[<matplotlib.lines.Line2D at 0x148f8278>]"
      ]
     },
     "execution_count": 108,
     "metadata": {},
     "output_type": "execute_result"
    },
    {
     "data": {
      "image/png": "[encoded data removed]",
      "text/plain": [
       "<matplotlib.figure.Figure at 0x147fe080>"
      ]
     },
     "metadata": {},
     "output_type": "display_data"
    }
   ],
   "source": [
    "ds.sel(annee=2010,genre=\"T\",pays=\"FR\")[\"LIFEXP\"].plot()"
   ]
  },
  {
   "cell_type": "code",
   "execution_count": null,
   "metadata": {
    "collapsed": true
   },
   "outputs": [],
   "source": []
  }
 ],
 "metadata": {
  "kernelspec": {
   "display_name": "Python 3",
   "language": "python",
   "name": "python3"
  },
  "language_info": {
   "codemirror_mode": {
    "name": "ipython",
    "version": 3
   },
   "file_extension": ".py",
   "mimetype": "text/x-python",
   "name": "python",
   "nbconvert_exporter": "python",
   "pygments_lexer": "ipython3",
   "version": "3.4.3"
  }
 },
 "nbformat": 4,
 "nbformat_minor": 0
}
