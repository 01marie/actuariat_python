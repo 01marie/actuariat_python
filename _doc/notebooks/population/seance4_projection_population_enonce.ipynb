{
  "cells": [
    {
      "cell_type": "markdown",
      "metadata": {},
      "source": [
        "# Evolutation d'une population"
      ]
    },
    {
      "cell_type": "code",
      "execution_count": null,
      "metadata": {
        "collapsed": false
      },
      "outputs": [
        {
          "data": {
            "text/html": [
              "<div id=\"my_id_menu_nb\">run previous cell, wait for 2 seconds</div>\n",
              "<script>\n",
              "function repeat_indent_string(n){\n",
              "    var a = \"\" ;\n",
              "    for ( ; n > 0 ; --n) {\n",
              "        a += \"    \";\n",
              "    }\n",
              "    return a;\n",
              "}\n",
              "var update_menu = function() {\n",
              "    var anchors = document.getElementsByClassName(\"section\");\n",
              "    if (anchors.length == 0) {\n",
              "        anchors = document.getElementsByClassName(\"text_cell_render rendered_html\");\n",
              "    }\n",
              "    var i;\n",
              "    var text_menu = \"\";\n",
              "    var ind = \"\";\n",
              "    var memo_level = 0;\n",
              "    var href;\n",
              "    for (i = 0; i < anchors.length; i++) {\n",
              "        var child = anchors[i].children[0];\n",
              "        if (anchors[i].hasAttribute(\"id\")) {\n",
              "            href = anchors[i].id;\n",
              "        }\n",
              "        else if (child.hasAttribute(\"id\")) {\n",
              "            href = child.id;\n",
              "        }\n",
              "        else {\n",
              "            continue;\n",
              "        }\n",
              "        var title = child.textContent;\n",
              "        var level = parseInt(child.tagName.substring(1,2));\n",
              "        if ((level <= 1) || (level >= 5)) {\n",
              "            continue ;\n",
              "        }\n",
              "        if (title.endsWith('\u00b6')) {\n",
              "            title = title.substring(0,title.length-1);\n",
              "        }\n",
              "        if (title.length == 0) {\n",
              "            continue;\n",
              "        }\n",
              "        if (level > memo_level) {\n",
              "            text_menu += \"<ul>\\n\";\n",
              "        }\n",
              "        text_menu += repeat_indent_string(level-2) + '<li><a href=\"#' + href + '\">' + title + '</a></li>';\n",
              "        if (level < memo_level) {\n",
              "            text_menu += \"</ul>\\n\";\n",
              "        }\n",
              "        memo_level = level;\n",
              "    }\n",
              "    text_menu += \"\";\n",
              "    var menu = document.getElementById(\"my_id_menu_nb\");\n",
              "    menu.innerHTML=text_menu;\n",
              "};\n",
              "window.setTimeout(update_menu,2000);\n",
              "            </script>"
            ],
            "text/plain": [
              "<IPython.core.display.HTML object>"
            ]
          },
          "execution_count": null,
          "metadata": {},
          "output_type": "execute_result"
        }
      ],
      "source": [
        "from pyquickhelper.ipythonhelper import add_notebook_menu\n",
        "add_notebook_menu()"
      ]
    },
    {
      "cell_type": "markdown",
      "metadata": {},
      "source": [
        "Dans ce type d'exercice, on fait souvent un grand nombre de recherche internet pour trouver la fonction qui permet d'aller vite. Avec la pratique, on retient le nom de ces m\u00e9thodes. La correction propose une solution mais il n'existe pas une fa\u00e7on unique de r\u00e9pondre \u00e0 ces questions."
      ]
    },
    {
      "cell_type": "markdown",
      "metadata": {},
      "source": [
        "### Introduction"
      ]
    },
    {
      "cell_type": "markdown",
      "metadata": {},
      "source": [
        "A partir de donn\u00e9es r\u00e9cup\u00e9r\u00e9es sur Internet, on cherche \u00e0 simuler l'\u00e9volution de la population fran\u00e7aise dans le futur. Par la suite, on pourra comparer diff\u00e9rents sc\u00e9narios en terme de natalit\u00e9. Les donn\u00e9es dont on dispose sont :\n",
        "\n",
        "* [La pyramide des \u00e2ges pour la France en 2015](http://www.insee.fr/fr/themes/tableau.asp?ref_id=ccc)\n",
        "* [Les tables de mortalit\u00e9s](http://www.institutdesactuaires.com/gene/main.php?base=314)\n",
        "* [Le taux de f\u00e9condit\u00e9 par \u00e2ge](http://www.insee.fr/fr/themes/tableau.asp?reg_id=0&ref_id=bilandemo2)\n",
        "\n",
        "Il existe d'autres sources comme [DataPublica: Table de mortalit\u00e9](http://www.data-publica.com/opendata/7098--population-et-conditions-sociales-table-de-mortalite-de-1960-a-2010) (source : [Eurostat](http://ec.europa.eu/eurostat/data/database)).\n",
        "Les exercices qui suivent requi\u00e8rent les modules [pandas](http://pandas.pydata.org/), [numpy](http://www.numpy.org/), [matplotlib](http://matplotlib.org/). Voici quelques notebooks pour vous exercer :\n",
        "\n",
        "* [DataFrame et Graphes](http://www.xavierdupre.fr/app/ensae_teaching_cs/helpsphinx3/notebooks/td2a_cenonce_session_1.html) - [correction](http://www.xavierdupre.fr/app/ensae_teaching_cs/helpsphinx3/notebooks/td2a_correction_session_1.html)\n",
        "* [Calcul Matriciel, Optimisation](http://www.xavierdupre.fr/app/ensae_teaching_cs/helpsphinx3/td_2a.html) - [correction](http://www.xavierdupre.fr/app/ensae_teaching_cs/helpsphinx3/notebooks/td2a_correction_session_2A.html)"
      ]
    },
    {
      "cell_type": "markdown",
      "metadata": {},
      "source": [
        "### Exercice 1 : pyramides des \u00e2ges\n",
        "\n",
        "L'INED propose la [Pyramide des \u00e2ges](https://www.ined.fr/fr/tout-savoir-population/chiffres/france/structure-population/pyramide-ages/) de la population fran\u00e7aise en 2015. Il faut reproduire ce graphique \u00e0 partir des donn\u00e9es mentionn\u00e9es plus haut. Voici quelques liens qui pourraient vous y aider :\n",
        "\n",
        "* R\u00e9cup\u00e9rer les donn\u00e9es et les placer dans un [DataFrame](http://pandas.pydata.org/pandas-docs/stable/generated/pandas.DataFrame.html?highlight=dataframe) avec la fonction [read_csv](http://pandas.pydata.org/pandas-docs/stable/generated/pandas.read_csv.html?highlight=read#pandas.read_csv) ou [read_excel](http://pandas.pydata.org/pandas-docs/stable/generated/pandas.read_excel.html?highlight=read_excel#pandas.read_excel)\n",
        "* Tracer un graphique avec la fonction [plot](http://pandas.pydata.org/pandas-docs/stable/generated/pandas.DataFrame.plot.html?highlight=plot#pandas.DataFrame.plot)\n",
        "\n",
        "Comme la pyramide des \u00e2ges est un graphique sp\u00e9cifique mais assez courant, il est tr\u00e8s probable qu'on trouve des bouts de codes sur Internet qui le proposent comme [population_pyramid](https://github.com/jimrybarski/population_pyramid) ou celui-ci [Pyramide des ages](http://www.di.ens.fr/~vergnaud/TPc_20150304_Python.html)."
      ]
    },
    {
      "cell_type": "markdown",
      "metadata": {},
      "source": [
        "### Exercice 2 : calcul de l'esp\u00e9rance de vie\n",
        "\n",
        "Il faut calculer l'esp\u00e9rance vie \u00e0 chaque \u00e2ge \u00e0 partir de la table de mortalit\u00e9."
      ]
    },
    {
      "cell_type": "markdown",
      "metadata": {},
      "source": [
        "### Exercice 3 : simulation de la pyramide en 2016\n",
        "\n",
        "On suppose qu'il n'y a pas de naissance, on calcule la population en janvier 2016 en appliquant les taux de mortalit\u00e9 de la table r\u00e9cup\u00e9r\u00e9e. On repr\u00e9sente les deux pyramides sur le m\u00eame graphique."
      ]
    },
    {
      "cell_type": "markdown",
      "metadata": {},
      "source": [
        "### Exercice 4 : simulation jusqu'en 2100\n",
        "\n",
        "On suppose toujours qu'il n'y a pas de naissance. On continue la simulation jusqu'en 2100. On trace le m\u00eame graphique avec cette nouvelle ann\u00e9e."
      ]
    },
    {
      "cell_type": "markdown",
      "metadata": {},
      "source": [
        "### Exercice 5 : simulation avec les naissances\n",
        "\n",
        "On reprend la m\u00eame simulation mais on tient compte des naissances."
      ]
    },
    {
      "cell_type": "code",
      "execution_count": null,
      "metadata": {
        "collapsed": true
      },
      "outputs": [],
      "source": []
    }
  ],
  "metadata": {
    "kernelspec": {
      "display_name": "Python 3",
      "language": "python",
      "name": "python3"
    },
    "language_info": {
      "codemirror_mode": {
        "name": "ipython",
        "version": 3
      },
      "file_extension": ".py",
      "mimetype": "text/x-python",
      "name": "python",
      "nbconvert_exporter": "python",
      "pygments_lexer": "ipython3",
      "version": "3.4.3"
    }
  },
  "nbformat": 4,
  "nbformat_minor": 0
}