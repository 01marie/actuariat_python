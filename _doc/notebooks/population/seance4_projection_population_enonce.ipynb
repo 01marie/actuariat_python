{
 "cells": [
  {
   "cell_type": "markdown",
   "metadata": {},
   "source": [
    "# Evolutation d'une population"
   ]
  },
  {
   "cell_type": "code",
   "execution_count": 1,
   "metadata": {
    "collapsed": false
   },
   "outputs": [
    {
     "data": {
      "text/html": [
       "<div id=\"my_id_menu_nb\">run previous cell, wait for 2 seconds</div>\n",
       "<script>\n",
       "function repeat_indent_string(n){\n",
       "    var a = \"\" ;\n",
       "    for ( ; n > 0 ; --n) {\n",
       "        a += \"    \";\n",
       "    }\n",
       "    return a;\n",
       "}\n",
       "var update_menu = function() {\n",
       "    var anchors = document.getElementsByClassName(\"section\");\n",
       "    if (anchors.length == 0) {\n",
       "        anchors = document.getElementsByClassName(\"text_cell_render rendered_html\");\n",
       "    }\n",
       "    var i;\n",
       "    var text_menu = \"\";\n",
       "    var ind = \"\";\n",
       "    var memo_level = 0;\n",
       "    var href;\n",
       "    for (i = 0; i < anchors.length; i++) {\n",
       "        var child = anchors[i].children[0];\n",
       "        if (anchors[i].hasAttribute(\"id\")) {\n",
       "            href = anchors[i].id;\n",
       "        }\n",
       "        else if (child.hasAttribute(\"id\")) {\n",
       "            href = child.id;\n",
       "        }\n",
       "        else {\n",
       "            continue;\n",
       "        }\n",
       "        var title = child.textContent;\n",
       "        var level = parseInt(child.tagName.substring(1,2));\n",
       "        if ((level <= 1) || (level >= 5)) {\n",
       "            continue ;\n",
       "        }\n",
       "        if (title.endsWith('¶')) {\n",
       "            title = title.substring(0,title.length-1);\n",
       "        }\n",
       "        if (title.length == 0) {\n",
       "            continue;\n",
       "        }\n",
       "        if (level > memo_level) {\n",
       "            text_menu += \"<ul>\\n\";\n",
       "        }\n",
       "        text_menu += repeat_indent_string(level-2) + '<li><a href=\"#' + href + '\">' + title + '</a></li>';\n",
       "        if (level < memo_level) {\n",
       "            text_menu += \"</ul>\\n\";\n",
       "        }\n",
       "        memo_level = level;\n",
       "    }\n",
       "    text_menu += \"\";\n",
       "    var menu = document.getElementById(\"my_id_menu_nb\");\n",
       "    menu.innerHTML=text_menu;\n",
       "};\n",
       "window.setTimeout(update_menu,2000);\n",
       "            </script>"
      ],
      "text/plain": [
       "<IPython.core.display.HTML object>"
      ]
     },
     "execution_count": 1,
     "metadata": {},
     "output_type": "execute_result"
    }
   ],
   "source": [
    "from pyquickhelper.ipythonhelper import add_notebook_menu\n",
    "add_notebook_menu()"
   ]
  },
  {
   "cell_type": "markdown",
   "metadata": {},
   "source": [
    "Dans ce type d'exercice, on fait souvent un grand nombre de recherche internet pour trouver la fonction qui permet d'aller vite. Avec la pratique, on retient le nom de ces méthodes. La correction propose une solution mais il n'existe pas une façon unique de répondre à ces questions."
   ]
  },
  {
   "cell_type": "markdown",
   "metadata": {},
   "source": [
    "### Introduction"
   ]
  },
  {
   "cell_type": "markdown",
   "metadata": {},
   "source": [
    "A partir de données récupérées sur Internet, on cherche à simuler l'évolution de la population française dans le futur. Par la suite, on pourra comparer différents scénarios en terme de natalité. Les données dont on dispose sont :\n",
    "\n",
    "* [La pyramide des âges pour la France en 2015](http://www.insee.fr/fr/themes/tableau.asp?ref_id=ccc)\n",
    "* [Les tables de mortalités](http://www.institutdesactuaires.com/gene/main.php?base=314)\n",
    "* [Le taux de fécondité par âge](http://www.insee.fr/fr/themes/tableau.asp?reg_id=0&ref_id=bilandemo2)\n",
    "\n",
    "Il existe d'autres sources comme [DataPublica: Table de mortalité](http://www.data-publica.com/opendata/7098--population-et-conditions-sociales-table-de-mortalite-de-1960-a-2010) (source : [Eurostat](http://ec.europa.eu/eurostat/data/database)).\n",
    "Les exercices qui suivent requièrent les modules [pandas](http://pandas.pydata.org/), [numpy](http://www.numpy.org/), [matplotlib](http://matplotlib.org/). Voici quelques notebooks pour vous exercer :\n",
    "\n",
    "* [DataFrame et Graphes](http://www.xavierdupre.fr/app/ensae_teaching_cs/helpsphinx3/notebooks/td2a_cenonce_session_1.html) - [correction](http://www.xavierdupre.fr/app/ensae_teaching_cs/helpsphinx3/notebooks/td2a_correction_session_1.html)\n",
    "* [Calcul Matriciel, Optimisation](http://www.xavierdupre.fr/app/ensae_teaching_cs/helpsphinx3/td_2a.html) - [correction](http://www.xavierdupre.fr/app/ensae_teaching_cs/helpsphinx3/notebooks/td2a_correction_session_2A.html)"
   ]
  },
  {
   "cell_type": "markdown",
   "metadata": {},
   "source": [
    "### Exercice 1 : pyramides des âges\n",
    "\n",
    "L'INED propose la [Pyramide des âges](https://www.ined.fr/fr/tout-savoir-population/chiffres/france/structure-population/pyramide-ages/) de la population française en 2015. Il faut reproduire ce graphique à partir des données mentionnées plus haut. Voici quelques liens qui pourraient vous y aider :\n",
    "\n",
    "* Récupérer les données et les placer dans un [DataFrame](http://pandas.pydata.org/pandas-docs/stable/generated/pandas.DataFrame.html?highlight=dataframe) avec la fonction [read_csv](http://pandas.pydata.org/pandas-docs/stable/generated/pandas.read_csv.html?highlight=read#pandas.read_csv) ou [read_excel](http://pandas.pydata.org/pandas-docs/stable/generated/pandas.read_excel.html?highlight=read_excel#pandas.read_excel)\n",
    "* Tracer un graphique avec la fonction [plot](http://pandas.pydata.org/pandas-docs/stable/generated/pandas.DataFrame.plot.html?highlight=plot#pandas.DataFrame.plot)\n",
    "\n",
    "Comme la pyramide des âges est un graphique spécifique mais assez courant, il est très probable qu'on trouve des bouts de codes sur Internet qui le proposent comme [population_pyramid](https://github.com/jimrybarski/population_pyramid) ou celui-ci [Pyramide des ages](http://www.di.ens.fr/~vergnaud/TPc_20150304_Python.html)."
   ]
  },
  {
   "cell_type": "markdown",
   "metadata": {},
   "source": [
    "### Exercice 2 : calcul de l'espérance de vie\n",
    "\n",
    "Il faut calculer l'espérance vie à chaque âge à partir de la table de mortalité."
   ]
  },
  {
   "cell_type": "markdown",
   "metadata": {},
   "source": [
    "### Exercice 3 : simulation de la pyramide en 2016\n",
    "\n",
    "On suppose qu'il n'y a pas de naissance, on calcule la population en janvier 2016 en appliquant les taux de mortalité de la table récupérée. On représente les deux pyramides sur le même graphique."
   ]
  },
  {
   "cell_type": "markdown",
   "metadata": {},
   "source": [
    "### Exercice 4 : simulation jusqu'en 2100\n",
    "\n",
    "On suppose toujours qu'il n'y a pas de naissance. On continue la simulation jusqu'en 2100. On trace le même graphique avec cette nouvelle année."
   ]
  },
  {
   "cell_type": "markdown",
   "metadata": {},
   "source": [
    "### Exercice 5 : simulation avec les naissances\n",
    "\n",
    "On reprend la même simulation mais on tient compte des naissances."
   ]
  },
  {
   "cell_type": "code",
   "execution_count": null,
   "metadata": {
    "collapsed": true
   },
   "outputs": [],
   "source": []
  }
 ],
 "metadata": {
  "kernelspec": {
   "display_name": "Python 3",
   "language": "python",
   "name": "python3"
  },
  "language_info": {
   "codemirror_mode": {
    "name": "ipython",
    "version": 3
   },
   "file_extension": ".py",
   "mimetype": "text/x-python",
   "name": "python",
   "nbconvert_exporter": "python",
   "pygments_lexer": "ipython3",
   "version": "3.4.3"
  }
 },
 "nbformat": 4,
 "nbformat_minor": 0
}
