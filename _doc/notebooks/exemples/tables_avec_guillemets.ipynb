{
 "cells": [
  {
   "cell_type": "markdown",
   "metadata": {},
   "source": [
    "# Tables avec guillemets"
   ]
  },
  {
   "cell_type": "markdown",
   "metadata": {},
   "source": [
    "Le fichier de données à gérer contient quelques désagrément avec des guillements qui gênent la lecture lorsqu'on applique les exemples donnés par la documentation de [pandas](http://pandas.pydata.org/). Voici l'exemple :"
   ]
  },
  {
   "cell_type": "code",
   "execution_count": 22,
   "metadata": {
    "collapsed": true
   },
   "outputs": [],
   "source": [
    "texte =  \"\"\"\n",
    "\"Libellé\",\"Produit\",\"Prix\",\"Quantite\"\n",
    "\"L123\",\"meuble\",\"1000\",\"1\"\n",
    "\"L321\",\"portable\",\"500\",\"2\"\n",
    "\"L333\",\"lampe\",\"100\",\"4\"\n",
    "\"\"\"\n",
    "\n",
    "with open(\"exemple_fichier.txt\", \"w\", encoding=\"utf8\") as f:\n",
    "    f.write(texte)"
   ]
  },
  {
   "cell_type": "markdown",
   "metadata": {},
   "source": [
    "Le paramètre *encoding* de la fonction [open](https://docs.python.org/3/library/functions.html#open) est utilisé pour préciser que le texte contient des caractères non [ASCII](https://fr.wikipedia.org/wiki/American_Standard_Code_for_Information_Interchange), typiquement des accents. Mais pandas gère plutôt bien ce bruit."
   ]
  },
  {
   "cell_type": "code",
   "execution_count": 23,
   "metadata": {
    "collapsed": false
   },
   "outputs": [
    {
     "data": {
      "text/html": [
       "<div style=\"max-height:1000px;max-width:1500px;overflow:auto;\">\n",
       "<table border=\"1\" class=\"dataframe\">\n",
       "  <thead>\n",
       "    <tr style=\"text-align: right;\">\n",
       "      <th></th>\n",
       "      <th>Libellé</th>\n",
       "      <th>Produit</th>\n",
       "      <th>Prix</th>\n",
       "      <th>Quantite</th>\n",
       "    </tr>\n",
       "  </thead>\n",
       "  <tbody>\n",
       "    <tr>\n",
       "      <th>0</th>\n",
       "      <td>L123</td>\n",
       "      <td>meuble</td>\n",
       "      <td>1000</td>\n",
       "      <td>1</td>\n",
       "    </tr>\n",
       "    <tr>\n",
       "      <th>1</th>\n",
       "      <td>L321</td>\n",
       "      <td>portable</td>\n",
       "      <td>500</td>\n",
       "      <td>2</td>\n",
       "    </tr>\n",
       "    <tr>\n",
       "      <th>2</th>\n",
       "      <td>L333</td>\n",
       "      <td>lampe</td>\n",
       "      <td>100</td>\n",
       "      <td>4</td>\n",
       "    </tr>\n",
       "  </tbody>\n",
       "</table>\n",
       "</div>"
      ],
      "text/plain": [
       "  Libellé   Produit  Prix  Quantite\n",
       "0    L123    meuble  1000         1\n",
       "1    L321  portable   500         2\n",
       "2    L333     lampe   100         4"
      ]
     },
     "execution_count": 23,
     "metadata": {},
     "output_type": "execute_result"
    }
   ],
   "source": [
    "import pandas\n",
    "df = pandas.read_csv(\"exemple_fichier.txt\", encoding=\"utf8\")\n",
    "df"
   ]
  },
  {
   "cell_type": "markdown",
   "metadata": {},
   "source": [
    "On vérifie que les variables numériques sont numériques :"
   ]
  },
  {
   "cell_type": "code",
   "execution_count": 24,
   "metadata": {
    "collapsed": false
   },
   "outputs": [
    {
     "data": {
      "text/plain": [
       "Libellé     object\n",
       "Produit     object\n",
       "Prix         int64\n",
       "Quantite     int64\n",
       "dtype: object"
      ]
     },
     "execution_count": 24,
     "metadata": {},
     "output_type": "execute_result"
    }
   ],
   "source": [
    "df.dtypes"
   ]
  },
  {
   "cell_type": "markdown",
   "metadata": {},
   "source": [
    "On peut décider de conserver les guillements en spécifiant le paramètre *quoting* :"
   ]
  },
  {
   "cell_type": "code",
   "execution_count": 27,
   "metadata": {
    "collapsed": false
   },
   "outputs": [
    {
     "data": {
      "text/html": [
       "<div style=\"max-height:1000px;max-width:1500px;overflow:auto;\">\n",
       "<table border=\"1\" class=\"dataframe\">\n",
       "  <thead>\n",
       "    <tr style=\"text-align: right;\">\n",
       "      <th></th>\n",
       "      <th>\"Libellé\"</th>\n",
       "      <th>\"Produit\"</th>\n",
       "      <th>\"Prix\"</th>\n",
       "      <th>\"Quantite\"</th>\n",
       "    </tr>\n",
       "  </thead>\n",
       "  <tbody>\n",
       "    <tr>\n",
       "      <th>0</th>\n",
       "      <td>\"L123\"</td>\n",
       "      <td>\"meuble\"</td>\n",
       "      <td>\"1000\"</td>\n",
       "      <td>\"1\"</td>\n",
       "    </tr>\n",
       "    <tr>\n",
       "      <th>1</th>\n",
       "      <td>\"L321\"</td>\n",
       "      <td>\"portable\"</td>\n",
       "      <td>\"500\"</td>\n",
       "      <td>\"2\"</td>\n",
       "    </tr>\n",
       "    <tr>\n",
       "      <th>2</th>\n",
       "      <td>\"L333\"</td>\n",
       "      <td>\"lampe\"</td>\n",
       "      <td>\"100\"</td>\n",
       "      <td>\"4\"</td>\n",
       "    </tr>\n",
       "  </tbody>\n",
       "</table>\n",
       "</div>"
      ],
      "text/plain": [
       "  \"Libellé\"   \"Produit\"  \"Prix\" \"Quantite\"\n",
       "0    \"L123\"    \"meuble\"  \"1000\"        \"1\"\n",
       "1    \"L321\"  \"portable\"   \"500\"        \"2\"\n",
       "2    \"L333\"     \"lampe\"   \"100\"        \"4\""
      ]
     },
     "execution_count": 27,
     "metadata": {},
     "output_type": "execute_result"
    }
   ],
   "source": [
    "df2 = pandas.read_csv(\"exemple_fichier.txt\", encoding=\"utf8\" ,quoting=3)\n",
    "df2"
   ]
  },
  {
   "cell_type": "code",
   "execution_count": 28,
   "metadata": {
    "collapsed": false
   },
   "outputs": [
    {
     "data": {
      "text/plain": [
       "\"Libellé\"     object\n",
       "\"Produit\"     object\n",
       "\"Prix\"        object\n",
       "\"Quantite\"    object\n",
       "dtype: object"
      ]
     },
     "execution_count": 28,
     "metadata": {},
     "output_type": "execute_result"
    }
   ],
   "source": [
    "df2.dtypes"
   ]
  },
  {
   "cell_type": "markdown",
   "metadata": {},
   "source": [
    "Et si jamais les virgules sont des points-virgules, il faut préciser le paramètre *sep* :"
   ]
  },
  {
   "cell_type": "code",
   "execution_count": 31,
   "metadata": {
    "collapsed": false
   },
   "outputs": [
    {
     "data": {
      "text/html": [
       "<div style=\"max-height:1000px;max-width:1500px;overflow:auto;\">\n",
       "<table border=\"1\" class=\"dataframe\">\n",
       "  <thead>\n",
       "    <tr style=\"text-align: right;\">\n",
       "      <th></th>\n",
       "      <th>Libellé</th>\n",
       "      <th>Produit</th>\n",
       "      <th>Prix</th>\n",
       "      <th>Quantite</th>\n",
       "    </tr>\n",
       "  </thead>\n",
       "  <tbody>\n",
       "    <tr>\n",
       "      <th>0</th>\n",
       "      <td>L123</td>\n",
       "      <td>meuble</td>\n",
       "      <td>1000</td>\n",
       "      <td>1</td>\n",
       "    </tr>\n",
       "    <tr>\n",
       "      <th>1</th>\n",
       "      <td>L321</td>\n",
       "      <td>portable</td>\n",
       "      <td>500</td>\n",
       "      <td>2</td>\n",
       "    </tr>\n",
       "    <tr>\n",
       "      <th>2</th>\n",
       "      <td>L333</td>\n",
       "      <td>lampe</td>\n",
       "      <td>100</td>\n",
       "      <td>4</td>\n",
       "    </tr>\n",
       "  </tbody>\n",
       "</table>\n",
       "</div>"
      ],
      "text/plain": [
       "  Libellé   Produit  Prix  Quantite\n",
       "0    L123    meuble  1000         1\n",
       "1    L321  portable   500         2\n",
       "2    L333     lampe   100         4"
      ]
     },
     "execution_count": 31,
     "metadata": {},
     "output_type": "execute_result"
    }
   ],
   "source": [
    "texte =  \"\"\"\n",
    "\"Libellé\";\"Produit\";\"Prix\";\"Quantite\"\n",
    "\"L123\";\"meuble\";\"1000\";\"1\"\n",
    "\"L321\";\"portable\";\"500\";\"2\"\n",
    "\"L333\";\"lampe\";\"100\";\"4\"\n",
    "\"\"\"\n",
    "\n",
    "with open(\"exemple_fichier2.txt\", \"w\", encoding=\"utf8\") as f:\n",
    "    f.write(texte)\n",
    "    \n",
    "df3 = pandas.read_csv(\"exemple_fichier2.txt\", encoding=\"utf8\", sep=\";\")\n",
    "df3    "
   ]
  },
  {
   "cell_type": "markdown",
   "metadata": {},
   "source": [
    "Et si jamais le fichier initial est très grand... On veut simplement lire les premières lignes :"
   ]
  },
  {
   "cell_type": "code",
   "execution_count": 32,
   "metadata": {
    "collapsed": false
   },
   "outputs": [
    {
     "data": {
      "text/html": [
       "<div style=\"max-height:1000px;max-width:1500px;overflow:auto;\">\n",
       "<table border=\"1\" class=\"dataframe\">\n",
       "  <thead>\n",
       "    <tr style=\"text-align: right;\">\n",
       "      <th></th>\n",
       "      <th>Libellé</th>\n",
       "      <th>Produit</th>\n",
       "      <th>Prix</th>\n",
       "      <th>Quantite</th>\n",
       "    </tr>\n",
       "  </thead>\n",
       "  <tbody>\n",
       "    <tr>\n",
       "      <th>0</th>\n",
       "      <td>L123</td>\n",
       "      <td>meuble</td>\n",
       "      <td>1000</td>\n",
       "      <td>1</td>\n",
       "    </tr>\n",
       "    <tr>\n",
       "      <th>1</th>\n",
       "      <td>L321</td>\n",
       "      <td>portable</td>\n",
       "      <td>500</td>\n",
       "      <td>2</td>\n",
       "    </tr>\n",
       "  </tbody>\n",
       "</table>\n",
       "</div>"
      ],
      "text/plain": [
       "  Libellé   Produit  Prix  Quantite\n",
       "0    L123    meuble  1000         1\n",
       "1    L321  portable   500         2"
      ]
     },
     "execution_count": 32,
     "metadata": {},
     "output_type": "execute_result"
    }
   ],
   "source": [
    "df4 = pandas.read_csv(\"exemple_fichier2.txt\", encoding=\"utf8\", sep=\";\", nrows=2)\n",
    "df4"
   ]
  },
  {
   "cell_type": "markdown",
   "metadata": {},
   "source": [
    "Ou encore une lecture par morceau de 2 lignes :"
   ]
  },
  {
   "cell_type": "code",
   "execution_count": 39,
   "metadata": {
    "collapsed": false
   },
   "outputs": [
    {
     "name": "stdout",
     "output_type": "stream",
     "text": [
      "extrait 0\n",
      "  Libellé   Produit  Prix  Quantite\n",
      "0    L123    meuble  1000         1\n",
      "1    L321  portable   500         2\n",
      "extrait 1\n",
      "  Libellé Produit  Prix  Quantite\n",
      "0    L333   lampe   100         4\n"
     ]
    }
   ],
   "source": [
    "reader = pandas.read_csv(\"exemple_fichier2.txt\", encoding=\"utf8\", sep=\";\", iterator=True, chunksize=2)\n",
    "for i, extrait in enumerate(reader):\n",
    "    print(\"extrait\",i)\n",
    "    print(extrait)"
   ]
  },
  {
   "cell_type": "code",
   "execution_count": null,
   "metadata": {
    "collapsed": true
   },
   "outputs": [],
   "source": []
  }
 ],
 "metadata": {
  "kernelspec": {
   "display_name": "Python 3",
   "language": "python",
   "name": "python3"
  },
  "language_info": {
   "codemirror_mode": {
    "name": "ipython",
    "version": 3
   },
   "file_extension": ".py",
   "mimetype": "text/x-python",
   "name": "python",
   "nbconvert_exporter": "python",
   "pygments_lexer": "ipython3",
   "version": "3.4.3"
  }
 },
 "nbformat": 4,
 "nbformat_minor": 0
}
