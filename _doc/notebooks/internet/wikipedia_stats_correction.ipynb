{
 "cells": [
  {
   "cell_type": "markdown",
   "metadata": {},
   "source": [
    "# Statistiques Wikipedia - énoncé"
   ]
  },
  {
   "cell_type": "code",
   "execution_count": 1,
   "metadata": {
    "collapsed": false
   },
   "outputs": [
    {
     "data": {
      "text/html": [
       "<div id=\"my_id_menu_nb\">run previous cell, wait for 2 seconds</div>\n",
       "<script>\n",
       "function repeat_indent_string(n){\n",
       "    var a = \"\" ;\n",
       "    for ( ; n > 0 ; --n) {\n",
       "        a += \"    \";\n",
       "    }\n",
       "    return a;\n",
       "}\n",
       "var update_menu_string = function(begin, lfirst, llast, sformat, send, keep_item) {\n",
       "    var anchors = document.getElementsByClassName(\"section\");\n",
       "    if (anchors.length == 0) {\n",
       "        anchors = document.getElementsByClassName(\"text_cell_render rendered_html\");\n",
       "    }\n",
       "    var i,t;\n",
       "    var text_menu = begin;\n",
       "    var text_memo = \"<pre>\\nlength:\" + anchors.length + \"\\n\";\n",
       "    var ind = \"\";\n",
       "    var memo_level = 1;\n",
       "    var href;\n",
       "    var tags = [];\n",
       "    var main_item = 0;\n",
       "    for (i = 0; i <= llast; i++) {\n",
       "        tags.push(\"h\" + i);\n",
       "    }\n",
       "\n",
       "    for (i = 0; i < anchors.length; i++) {\n",
       "        text_memo += \"**\" + anchors[i].id + \"--\\n\";\n",
       "\n",
       "        var child = null;\n",
       "        for(t = 0; t < tags.length; t++) {\n",
       "            var r = anchors[i].getElementsByTagName(tags[t]);\n",
       "            if (r.length > 0) {\n",
       "child = r[0];\n",
       "break;\n",
       "            }\n",
       "        }\n",
       "        if (child == null){\n",
       "            text_memo += \"null\\n\";\n",
       "            continue;\n",
       "        }\n",
       "        if (anchors[i].hasAttribute(\"id\")) {\n",
       "            // when converted in RST\n",
       "            href = anchors[i].id;\n",
       "            text_memo += \"#1-\" + href;\n",
       "            // passer à child suivant (le chercher)\n",
       "        }\n",
       "        else if (child.hasAttribute(\"id\")) {\n",
       "            // in a notebook\n",
       "            href = child.id;\n",
       "            text_memo += \"#2-\" + href;\n",
       "        }\n",
       "        else {\n",
       "            text_memo += \"#3-\" + \"*\" + \"\\n\";\n",
       "            continue;\n",
       "        }\n",
       "        var title = child.textContent;\n",
       "        var level = parseInt(child.tagName.substring(1,2));\n",
       "\n",
       "        text_memo += \"--\" + level + \"?\" + lfirst + \"--\" + title + \"\\n\";\n",
       "\n",
       "        if ((level < lfirst) || (level > llast)) {\n",
       "            continue ;\n",
       "        }\n",
       "        if (title.endsWith('¶')) {\n",
       "            title = title.substring(0,title.length-1).replace(\"<\", \"&lt;\").replace(\">\", \"&gt;\").replace(\"&\", \"&amp;\")\n",
       "        }\n",
       "\n",
       "        if (title.length == 0) {\n",
       "            continue;\n",
       "        }\n",
       "\n",
       "        while (level < memo_level) {\n",
       "            text_menu += \"</ul>\\n\";\n",
       "            memo_level -= 1;\n",
       "        }\n",
       "        if (level == lfirst) {\n",
       "            main_item += 1;\n",
       "        }\n",
       "        if (keep_item != -1 && main_item != keep_item + 1) {\n",
       "            // alert(main_item + \" - \" + level + \" - \" + keep_item);\n",
       "            continue;\n",
       "        }\n",
       "        while (level > memo_level) {\n",
       "            text_menu += \"<ul>\\n\";\n",
       "            memo_level += 1;\n",
       "        }\n",
       "        text_menu += repeat_indent_string(level-2) + sformat.replace(\"__HREF__\", href).replace(\"__TITLE__\", title);\n",
       "    }\n",
       "    while (1 < memo_level) {\n",
       "        text_menu += \"</ul>\\n\";\n",
       "        memo_level -= 1;\n",
       "    }\n",
       "    text_menu += send;\n",
       "    //text_menu += \"\\n\" + text_memo;\n",
       "    return text_menu;\n",
       "};\n",
       "var update_menu = function() {\n",
       "    var sbegin = \"\";\n",
       "    var sformat = '<li><a href=\"#__HREF__\">__TITLE__</a></li>';\n",
       "    var send = \"\";\n",
       "    var keep_item = -1;\n",
       "    var text_menu = update_menu_string(sbegin, 2, 4, sformat, send, keep_item);\n",
       "    var menu = document.getElementById(\"my_id_menu_nb\");\n",
       "    menu.innerHTML=text_menu;\n",
       "};\n",
       "window.setTimeout(update_menu,2000);\n",
       "            </script>"
      ],
      "text/plain": [
       "<IPython.core.display.HTML object>"
      ]
     },
     "execution_count": 1,
     "metadata": {},
     "output_type": "execute_result"
    }
   ],
   "source": [
    "from pyquickhelper.ipythonhelper import add_notebook_menu\n",
    "add_notebook_menu()"
   ]
  },
  {
   "cell_type": "markdown",
   "metadata": {},
   "source": [
    "## Exercice 1 : parallélisation du téléchargement\n",
    "\n",
    "On peut paralléliser le téléchargement de différentes façons :\n",
    "\n",
    "* avec des [threads](https://en.wikipedia.org/wiki/Thread_(computing)) (librairie [threading](https://docs.python.org/3/library/threading.html) : synchronisation rapide mais parfois délicate et mémoire partagée entre threads\n",
    "* avec des [processus](https://fr.wikipedia.org/wiki/Processus_(informatique)) (librairie [multiprocessing](https://docs.python.org/3.5/library/multiprocessing.html), [joblib](https://pythonhosted.org/joblib/), [jupyter](http://www.xavierdupre.fr/app/ensae_teaching_cs/helpsphinx3/notebooks/td2a_cenonce_session_2D.html) : synchronisation lente, pas de mémoire partagée\n",
    "* avec un [cluster](https://fr.wikipedia.org/wiki/Grappe_de_serveurs), [jupyter](http://www.xavierdupre.fr/app/ensae_teaching_cs/helpsphinx3/notebooks/td2a_cenonce_session_2D.html) : synchronisation lente, pas de mémoire partagée, parallélisme en grande dimension\n",
    "\n",
    "La page [ParallelProcessing](https://wiki.python.org/moin/ParallelProcessing) recense des modules qui implémente cela mais elle n'est pas très à jour. Il faut vérifier si les modules proposés sont encore maintenus."
   ]
  },
  {
   "cell_type": "markdown",
   "metadata": {},
   "source": [
    "### Approche avec des threads"
   ]
  },
  {
   "cell_type": "code",
   "execution_count": null,
   "metadata": {
    "collapsed": false
   },
   "outputs": [
    {
     "name": "stdout",
     "output_type": "stream",
     "text": [
      "thread 0 download 2016-08-27 22:30:34.234240 len(qu) 55\n",
      "thread 1 download 2016-08-27 23:30:34.234240 len(qu) 55\n",
      "thread 0 download 2016-08-28 01:30:34.234240 len(qu) 54\n",
      "thread 2 download 2016-08-28 00:30:34.234240 len(qu) 55\n",
      "thread 1 download 2016-08-28 02:30:34.234240 len(qu) 54\n",
      "attendre file 0 [54, 54, 55]\n",
      "thread 0 download 2016-08-28 04:30:34.234240 len(qu) 53\n",
      "thread 1 download 2016-08-28 05:30:34.234240 len(qu) 53\n",
      "thread 2 download 2016-08-28 03:30:34.234240 len(qu) 54\n",
      "thread 0 download 2016-08-28 07:30:34.234240 len(qu) 52\n",
      "thread 1 download 2016-08-28 08:30:34.234240 len(qu) 52\n",
      "thread 2 download 2016-08-28 06:30:34.234240 len(qu) 53\n",
      "thread 0 download 2016-08-28 10:30:34.234240 len(qu) 51\n",
      "thread 2 download 2016-08-28 09:30:34.234240 len(qu) 52\n",
      "thread 1 download 2016-08-28 11:30:34.234240 len(qu) 51\n",
      "thread 0 download 2016-08-28 13:30:34.234240 len(qu) 50\n",
      "thread 1 download 2016-08-28 14:30:34.234240 len(qu) 50\n",
      "thread 0 download 2016-08-28 16:30:34.234240 len(qu) 49\n",
      "thread 1 download 2016-08-28 17:30:34.234240 len(qu) 49\n",
      "thread 2 download 2016-08-28 12:30:34.234240 len(qu) 51\n",
      "thread 0 download 2016-08-28 19:30:34.234240 len(qu) 48\n",
      "thread 1 download 2016-08-28 20:30:34.234240 len(qu) 48\n",
      "thread 2 download 2016-08-28 15:30:34.234240 len(qu) 50\n",
      "thread 1 download 2016-08-28 23:30:34.234240 len(qu) 47\n",
      "thread 1 download 2016-08-29 02:30:34.234240 len(qu) 46\n",
      "thread 0 download 2016-08-28 22:30:34.234240 len(qu) 47\n",
      "thread 1 download 2016-08-29 05:30:34.234240 len(qu) 45\n",
      "thread 2 download 2016-08-28 18:30:34.234240 len(qu) 49\n",
      "thread 0 download 2016-08-29 01:30:34.234240 len(qu) 46\n",
      "thread 2 download 2016-08-28 21:30:34.234240 len(qu) 48\n",
      "thread 1 download 2016-08-29 08:30:34.234240 len(qu) 44\n",
      "thread 2 download 2016-08-29 00:30:34.234240 len(qu) 47\n",
      "thread 1 download 2016-08-29 11:30:34.234240 len(qu) 43\n",
      "thread 2 download 2016-08-29 03:30:34.234240 len(qu) 46\n",
      "thread 2 download 2016-08-29 06:30:34.234240 len(qu) 45\n",
      "thread 0 download 2016-08-29 04:30:34.234240 len(qu) 45\n",
      "thread 0 download 2016-08-29 07:30:34.234240 len(qu) 44\n",
      "thread 2 download 2016-08-29 09:30:34.234240 len(qu) 44\n",
      "thread 0 download 2016-08-29 10:30:34.234240 len(qu) 43\n",
      "thread 2 download 2016-08-29 12:30:34.234240 len(qu) 43\n",
      "thread 0 download 2016-08-29 13:30:34.234240 len(qu) 42\n",
      "thread 1 download 2016-08-29 14:30:34.234240 len(qu) 42\n",
      "thread 2 download 2016-08-29 15:30:34.234240 len(qu) 42\n",
      "thread 0 download 2016-08-29 16:30:34.234240 len(qu) 41\n",
      "thread 1 download 2016-08-29 17:30:34.234240 len(qu) 41\n",
      "thread 2 download 2016-08-29 18:30:34.234240 len(qu) 41\n",
      "thread 0 download 2016-08-29 19:30:34.234240 len(qu) 40\n",
      "thread 1 download 2016-08-29 20:30:34.234240 len(qu) 40\n",
      "thread 2 download 2016-08-29 21:30:34.234240 len(qu) 40\n",
      "thread 0 download 2016-08-29 22:30:34.234240 len(qu) 39\n",
      "thread 1 download 2016-08-29 23:30:34.234240 len(qu) 39\n",
      "thread 0 download 2016-08-30 01:30:34.234240 len(qu) 38\n",
      "thread 2 download 2016-08-30 00:30:34.234240 len(qu) 39\n",
      "thread 1 download 2016-08-30 02:30:34.234240 len(qu) 38\n",
      "thread 0 download 2016-08-30 04:30:34.234240 len(qu) 37\n",
      "thread 2 download 2016-08-30 03:30:34.234240 len(qu) 38\n",
      "thread 1 download 2016-08-30 05:30:34.234240 len(qu) 37\n",
      "thread 0 download 2016-08-30 07:30:34.234240 len(qu) 36\n",
      "thread 2 download 2016-08-30 06:30:34.234240 len(qu) 37\n",
      "thread 1 download 2016-08-30 08:30:34.234240 len(qu) 36\n"
     ]
    }
   ],
   "source": [
    "import threading, time, os\n",
    "from datetime import datetime, timedelta\n",
    "from mlstatpy.data.wikipedia import download_pageviews\n",
    "folder = \"wikipv\"\n",
    "if not os.path.exists(folder):\n",
    "    os.mkdir(folder)\n",
    "\n",
    "class DownloadThread(threading.Thread) :\n",
    "    \"\"\"thread definition, it downloads a stream one after another\n",
    "    until a queue is empty\"\"\"\n",
    "    def __init__ (self, qu, name, folder) :\n",
    "        threading.Thread.__init__ (self)\n",
    "        self.qu = qu\n",
    "        self.name = name\n",
    "        self.folder = folder\n",
    "       \n",
    "    def run (self) :\n",
    "        while not self.qu.empty():\n",
    "            date = self.qu.get(False)\n",
    "            if date is None:\n",
    "                break\n",
    "            print(self.name, \"download\", date, \"len(qu)\", self.qu.qsize())\n",
    "            try:\n",
    "                download_pageviews(date, folder=self.folder)\n",
    "            except Exception as e:\n",
    "                print(\"skipping dt\", dt, \"rerun to get it\", e)\n",
    "        print(\"done\", self.name)\n",
    "        self.qu.task_done()\n",
    "            \n",
    "# on créé des files et les threads associés\n",
    "import queue       \n",
    "queues = [queue.Queue() for i in range(0, 3)]\n",
    "m = [DownloadThread(q, \"thread %d\" % i, folder) for i, q in enumerate(queues)]\n",
    "\n",
    "# on remplit les files\n",
    "dt = datetime.now() - timedelta(15)\n",
    "hour = timedelta(hours=1)\n",
    "for h in range(0, 24*7):\n",
    "    queues[h%3].put(dt)\n",
    "    dt += hour\n",
    "    \n",
    "# on démarre les threads\n",
    "for t in m:\n",
    "    t.start()\n",
    "    \n",
    "# on attend qu'elles se vident\n",
    "for i, q in enumerate(queues):\n",
    "    print(\"attendre file\", i, [q.qsize() for q in queues])\n",
    "    while not q.empty():\n",
    "        time.sleep(1)"
   ]
  },
  {
   "cell_type": "markdown",
   "metadata": {
    "collapsed": true
   },
   "source": [
    "### Parallélisation avec des processus\n",
    "\n",
    "Il n'est pas toujours évident de comprendre ce qu'il se passe quand l'erreur se produit dans un processus différent. Si on change le *backend* pour ``\"threading\"``, l'erreur devient visible. Voir [Parallel](https://pythonhosted.org/joblib/generated/joblib.Parallel.html?highlight=parallel). Le code ne fonctionne pas lorsque ``n_jobs > 1`` sous Windows et que le backend est celui par défaut."
   ]
  },
  {
   "cell_type": "code",
   "execution_count": null,
   "metadata": {
    "collapsed": false,
    "scrolled": false
   },
   "outputs": [],
   "source": [
    "from joblib import Parallel, delayed\n",
    "from datetime import datetime, timedelta\n",
    "import os\n",
    "folder = \"wikipv\"\n",
    "if not os.path.exists(folder):\n",
    "    os.mkdir(folder)\n",
    "    \n",
    "# on remplit les files\n",
    "dt = datetime.now() - timedelta(14)\n",
    "hour = timedelta(hours=1)\n",
    "dates = [dt + hour*i for i in range(0,24)]\n",
    "    \n",
    "def downloadp2(dt, folder):\n",
    "    from mlstatpy.data.wikipedia import download_pageviews\n",
    "    download_pageviews(dt, folder=folder)\n",
    "\n",
    "# L'instruction ne marche pas toujours depuis un notebook,\n",
    "# dans ce cas, il faut exécuter un programme.\n",
    "Parallel(n_jobs=1, verbose=5)(delayed(downloadp2)(dt, folder) for dt in dates)"
   ]
  },
  {
   "cell_type": "markdown",
   "metadata": {
    "collapsed": true
   },
   "source": [
    "## Filtrage pour ne garder que les lignes avec fr\\t"
   ]
  },
  {
   "cell_type": "code",
   "execution_count": null,
   "metadata": {
    "collapsed": false,
    "scrolled": false
   },
   "outputs": [
    {
     "name": "stdout",
     "output_type": "stream",
     "text": [
      "wikipv\\pageviews-20160827-210000wikipv\\pageviews-20160827-220000\n",
      "wikipv\\pageviews-20160827-230000\n",
      "\n",
      "wikipv\\pageviews-20160828-000000\n",
      "wikipv\\pageviews-20160828-010000\n",
      "wikipv\\pageviews-20160828-020000\n",
      "wikipv\\pageviews-20160828-030000\n",
      "wikipv\\pageviews-20160828-040000\n",
      "wikipv\\pageviews-20160828-050000\n",
      "wikipv\\pageviews-20160828-060000\n",
      "wikipv\\pageviews-20160828-070000\n",
      "wikipv\\pageviews-20160828-080000\n",
      "wikipv\\pageviews-20160828-090000\n",
      "wikipv\\pageviews-20160828-100000\n",
      "wikipv\\pageviews-20160828-110000\n"
     ]
    },
    {
     "name": "stderr",
     "output_type": "stream",
     "text": [
      "[Parallel(n_jobs=3)]: Done  12 tasks      | elapsed:   53.4s\n"
     ]
    },
    {
     "name": "stdout",
     "output_type": "stream",
     "text": [
      "wikipv\\pageviews-20160828-120000\n"
     ]
    }
   ],
   "source": [
    "def filtre(input, country):\n",
    "    import os\n",
    "    print(input)\n",
    "    output = input + \".\" + country\n",
    "    if not os.path.exists(output):\n",
    "        with open(input, \"r\", encoding=\"utf-8\") as f:\n",
    "            with open(output, \"w\", encoding=\"utf-8\") as g:\n",
    "                for line in f:\n",
    "                    if line.startswith(country):\n",
    "                        g.write(line)\n",
    "\n",
    "import os\n",
    "from joblib import Parallel, delayed\n",
    "folder = \"wikipv\"\n",
    "files = os.listdir(folder)  \n",
    "files = [os.path.join(folder, _) for _ in files if _.startswith(\"pageviews\") and _.endswith(\"0000\")]\n",
    "\n",
    "Parallel(n_jobs=3, verbose=5, backend=\"threading\")(delayed(filtre)(name, \"fr\") for name in files)"
   ]
  },
  {
   "cell_type": "markdown",
   "metadata": {},
   "source": [
    "## Insérer le fichier dans une base de données SQL"
   ]
  },
  {
   "cell_type": "code",
   "execution_count": null,
   "metadata": {
    "collapsed": true
   },
   "outputs": [],
   "source": [
    "import pandas\n",
    "df = pandas.read"
   ]
  }
 ],
 "metadata": {
  "kernelspec": {
   "display_name": "Python 3",
   "language": "python",
   "name": "python3"
  },
  "language_info": {
   "codemirror_mode": {
    "name": "ipython",
    "version": 3
   },
   "file_extension": ".py",
   "mimetype": "text/x-python",
   "name": "python",
   "nbconvert_exporter": "python",
   "pygments_lexer": "ipython3",
   "version": "3.5.2"
  }
 },
 "nbformat": 4,
 "nbformat_minor": 1
}
