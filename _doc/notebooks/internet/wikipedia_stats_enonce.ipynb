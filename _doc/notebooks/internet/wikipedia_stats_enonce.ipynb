{
 "cells": [
  {
   "cell_type": "markdown",
   "metadata": {},
   "source": [
    "# Statistiques Wikipedia - énoncé\n",
    "\n",
    "On s'instéresse aux statistiques de consultations de Wikipédia : [pageviews](https://dumps.wikimedia.org/other/analytics/)."
   ]
  },
  {
   "cell_type": "code",
   "execution_count": null,
   "metadata": {
    "collapsed": false
   },
   "outputs": [
    {
     "data": {
      "text/html": [
       "<div id=\"my_id_menu_nb\">run previous cell, wait for 2 seconds</div>\n",
       "<script>\n",
       "function repeat_indent_string(n){\n",
       "    var a = \"\" ;\n",
       "    for ( ; n > 0 ; --n) {\n",
       "        a += \"    \";\n",
       "    }\n",
       "    return a;\n",
       "}\n",
       "var update_menu_string = function(begin, lfirst, llast, sformat, send, keep_item) {\n",
       "    var anchors = document.getElementsByClassName(\"section\");\n",
       "    if (anchors.length == 0) {\n",
       "        anchors = document.getElementsByClassName(\"text_cell_render rendered_html\");\n",
       "    }\n",
       "    var i,t;\n",
       "    var text_menu = begin;\n",
       "    var text_memo = \"<pre>\\nlength:\" + anchors.length + \"\\n\";\n",
       "    var ind = \"\";\n",
       "    var memo_level = 1;\n",
       "    var href;\n",
       "    var tags = [];\n",
       "    var main_item = 0;\n",
       "    for (i = 0; i <= llast; i++) {\n",
       "        tags.push(\"h\" + i);\n",
       "    }\n",
       "\n",
       "    for (i = 0; i < anchors.length; i++) {\n",
       "        text_memo += \"**\" + anchors[i].id + \"--\\n\";\n",
       "\n",
       "        var child = null;\n",
       "        for(t = 0; t < tags.length; t++) {\n",
       "            var r = anchors[i].getElementsByTagName(tags[t]);\n",
       "            if (r.length > 0) {\n",
       "child = r[0];\n",
       "break;\n",
       "            }\n",
       "        }\n",
       "        if (child == null){\n",
       "            text_memo += \"null\\n\";\n",
       "            continue;\n",
       "        }\n",
       "        if (anchors[i].hasAttribute(\"id\")) {\n",
       "            // when converted in RST\n",
       "            href = anchors[i].id;\n",
       "            text_memo += \"#1-\" + href;\n",
       "            // passer à child suivant (le chercher)\n",
       "        }\n",
       "        else if (child.hasAttribute(\"id\")) {\n",
       "            // in a notebook\n",
       "            href = child.id;\n",
       "            text_memo += \"#2-\" + href;\n",
       "        }\n",
       "        else {\n",
       "            text_memo += \"#3-\" + \"*\" + \"\\n\";\n",
       "            continue;\n",
       "        }\n",
       "        var title = child.textContent;\n",
       "        var level = parseInt(child.tagName.substring(1,2));\n",
       "\n",
       "        text_memo += \"--\" + level + \"?\" + lfirst + \"--\" + title + \"\\n\";\n",
       "\n",
       "        if ((level < lfirst) || (level > llast)) {\n",
       "            continue ;\n",
       "        }\n",
       "        if (title.endsWith('¶')) {\n",
       "            title = title.substring(0,title.length-1).replace(\"<\", \"&lt;\").replace(\">\", \"&gt;\").replace(\"&\", \"&amp;\")\n",
       "        }\n",
       "\n",
       "        if (title.length == 0) {\n",
       "            continue;\n",
       "        }\n",
       "\n",
       "        while (level < memo_level) {\n",
       "            text_menu += \"</ul>\\n\";\n",
       "            memo_level -= 1;\n",
       "        }\n",
       "        if (level == lfirst) {\n",
       "            main_item += 1;\n",
       "        }\n",
       "        if (keep_item != -1 && main_item != keep_item + 1) {\n",
       "            // alert(main_item + \" - \" + level + \" - \" + keep_item);\n",
       "            continue;\n",
       "        }\n",
       "        while (level > memo_level) {\n",
       "            text_menu += \"<ul>\\n\";\n",
       "            memo_level += 1;\n",
       "        }\n",
       "        text_menu += repeat_indent_string(level-2) + sformat.replace(\"__HREF__\", href).replace(\"__TITLE__\", title);\n",
       "    }\n",
       "    while (1 < memo_level) {\n",
       "        text_menu += \"</ul>\\n\";\n",
       "        memo_level -= 1;\n",
       "    }\n",
       "    text_menu += send;\n",
       "    //text_menu += \"\\n\" + text_memo;\n",
       "    return text_menu;\n",
       "};\n",
       "var update_menu = function() {\n",
       "    var sbegin = \"\";\n",
       "    var sformat = '<li><a href=\"#__HREF__\">__TITLE__</a></li>';\n",
       "    var send = \"\";\n",
       "    var keep_item = -1;\n",
       "    var text_menu = update_menu_string(sbegin, 2, 4, sformat, send, keep_item);\n",
       "    var menu = document.getElementById(\"my_id_menu_nb\");\n",
       "    menu.innerHTML=text_menu;\n",
       "};\n",
       "window.setTimeout(update_menu,2000);\n",
       "            </script>"
      ],
      "text/plain": [
       "<IPython.core.display.HTML object>"
      ]
     },
     "execution_count": null,
     "metadata": {},
     "output_type": "execute_result"
    }
   ],
   "source": [
    "from pyquickhelper.ipythonhelper import add_notebook_menu\n",
    "add_notebook_menu()"
   ]
  },
  {
   "cell_type": "markdown",
   "metadata": {},
   "source": [
    "## Récupération des données\n",
    "\n",
    "Les statistiques sont disponibles pour chaque heure et chaque jour. Compressés, cela représente environ 60Mo. On regarde un fichier."
   ]
  },
  {
   "cell_type": "code",
   "execution_count": null,
   "metadata": {
    "collapsed": true
   },
   "outputs": [],
   "source": [
    "folder = \"wikipv\"\n",
    "if not os.path.exists(folder):\n",
    "    os.mkdir(folder)"
   ]
  },
  {
   "cell_type": "code",
   "execution_count": null,
   "metadata": {
    "collapsed": false
   },
   "outputs": [
    {
     "name": "stdout",
     "output_type": "stream",
     "text": [
      "1 loop, best of 1: 42.6 s per loop\n"
     ]
    }
   ],
   "source": [
    "from mlstatpy.data.wikipedia import download_pageviews\n",
    "import os\n",
    "from datetime import datetime\n",
    "\n",
    "%timeit -n1 -r1 download_pageviews(datetime(2016,9,1), folder=folder)"
   ]
  },
  {
   "cell_type": "code",
   "execution_count": null,
   "metadata": {
    "collapsed": false
   },
   "outputs": [],
   "source": [
    "%load_ext pyensae"
   ]
  },
  {
   "cell_type": "code",
   "execution_count": null,
   "metadata": {
    "collapsed": false
   },
   "outputs": [
    {
     "data": {
      "text/html": [
       "<pre>\n",
       "aa Main_Page 2 0\n",
       "aa.d Main_Page 2 0\n",
       "aa.m Main_Page 2 0\n",
       "aa.m.d Main_Page 2 0\n",
       "ab 1989 1 0\n",
       "ab 2007 2 0\n",
       "ab Авикипедиа:Афорум 1 0\n",
       "ab Авикипедиа:Описание 2 0\n",
       "ab Австралиа 1 0\n",
       "ab Адин 1 0\n",
       "\n",
       "</pre>"
      ],
      "text/plain": [
       "<IPython.core.display.HTML object>"
      ]
     },
     "execution_count": null,
     "metadata": {},
     "output_type": "execute_result"
    }
   ],
   "source": [
    "%head wikipv/pageviews-20160901-000000"
   ]
  },
  {
   "cell_type": "code",
   "execution_count": null,
   "metadata": {
    "collapsed": false
   },
   "outputs": [
    {
     "data": {
      "text/plain": [
       "(150.17064571380615, 'Mo')"
      ]
     },
     "execution_count": null,
     "metadata": {},
     "output_type": "execute_result"
    }
   ],
   "source": [
    "os.stat(\"wikipv/pageviews-20160901-000000\").st_size / 2**20, \"Mo\""
   ]
  },
  {
   "cell_type": "markdown",
   "metadata": {},
   "source": [
    "Ca va prend un petit peu de temps et d'espace de télécharger ces données."
   ]
  },
  {
   "cell_type": "markdown",
   "metadata": {},
   "source": [
    "## Exercice 1 : parallélisation du téléchargement\n",
    "\n",
    "Regarde le module [multiprocessing](https://docs.python.org/3/library/multiprocessing.html) et implémenter une version parallélisée du programme suivant. [multiprocessing](https://docs.python.org/3/library/multiprocessing.html) est la librairie standard mais il en existe beaucoup d'autres : [ParallelProcessing](https://wiki.python.org/moin/ParallelProcessing), [joblib](https://pythonhosted.org/joblib/)."
   ]
  },
  {
   "cell_type": "code",
   "execution_count": 1,
   "metadata": {
    "collapsed": false
   },
   "outputs": [
    {
     "name": "stdout",
     "output_type": "stream",
     "text": [
      "téléchargement 2016-09-01 00:00:00 début 2016-09-11 21:32:18.373115\n",
      "téléchargement 2016-09-01 01:00:00 début 2016-09-11 21:32:18.374114\n",
      "téléchargement 2016-09-01 02:00:00 début 2016-09-11 21:32:18.374114\n",
      "téléchargement 2016-09-01 03:00:00 début 2016-09-11 21:32:18.374114\n",
      "téléchargement 2016-09-01 04:00:00 début 2016-09-11 21:32:18.375114\n",
      "téléchargement 2016-09-01 05:00:00 début 2016-09-11 21:32:18.375114\n",
      "téléchargement 2016-09-01 06:00:00 début 2016-09-11 21:32:18.375114\n",
      "téléchargement 2016-09-01 07:00:00 début 2016-09-11 21:32:18.375114\n",
      "téléchargement 2016-09-01 08:00:00 début 2016-09-11 21:32:18.375114\n",
      "téléchargement 2016-09-01 09:00:00 début 2016-09-11 21:32:18.376113\n",
      "téléchargement 2016-09-01 10:00:00 début 2016-09-11 21:32:18.376113\n",
      "téléchargement 2016-09-01 11:00:00 début 2016-09-11 21:32:58.745096\n",
      "téléchargement 2016-09-01 12:00:00 début 2016-09-11 21:34:08.073304\n",
      "téléchargement 2016-09-01 13:00:00 début 2016-09-11 21:35:04.923348\n",
      "téléchargement 2016-09-01 14:00:00 début 2016-09-11 21:36:10.377303\n",
      "téléchargement 2016-09-01 15:00:00 début 2016-09-11 21:37:20.523141\n",
      "téléchargement 2016-09-01 16:00:00 début 2016-09-11 21:38:21.088853\n",
      "téléchargement 2016-09-01 17:00:00 début 2016-09-11 21:39:24.186874\n",
      "téléchargement 2016-09-01 18:00:00 début 2016-09-11 21:40:11.545482\n",
      "téléchargement 2016-09-01 19:00:00 début 2016-09-11 21:41:05.327336\n",
      "téléchargement 2016-09-01 20:00:00 début 2016-09-11 21:41:56.814023\n",
      "téléchargement 2016-09-01 21:00:00 début 2016-09-11 21:42:50.729708\n",
      "téléchargement 2016-09-01 22:00:00 début 2016-09-11 21:43:49.187079\n",
      "téléchargement 2016-09-01 23:00:00 début 2016-09-11 21:44:48.095661\n"
     ]
    }
   ],
   "source": [
    "from mlstatpy.data.wikipedia import download_pageviews\n",
    "from datetime import datetime\n",
    "folder = \"wikipv\"\n",
    "\n",
    "for h in range(0, 24):\n",
    "    dt = datetime(2016,9,1,h)\n",
    "    print(\"téléchargement\", dt, \"début\", datetime.now())\n",
    "    download_pageviews(dt, folder=folder)"
   ]
  },
  {
   "cell_type": "markdown",
   "metadata": {},
   "source": [
    "## Exercice 2 : statistiques\n",
    "\n",
    "On veut comparer les habitudes de lectures des utilisateurs pour différents types de pages, politique, musique, cinéma, science, littérature... On prendra une seamine quelconque comme période d'étude. Que proposez-vous ?"
   ]
  },
  {
   "cell_type": "code",
   "execution_count": null,
   "metadata": {
    "collapsed": true
   },
   "outputs": [],
   "source": []
  }
 ],
 "metadata": {
  "kernelspec": {
   "display_name": "Python 3",
   "language": "python",
   "name": "python3"
  },
  "language_info": {
   "codemirror_mode": {
    "name": "ipython",
    "version": 3
   },
   "file_extension": ".py",
   "mimetype": "text/x-python",
   "name": "python",
   "nbconvert_exporter": "python",
   "pygments_lexer": "ipython3",
   "version": "3.5.2"
  }
 },
 "nbformat": 4,
 "nbformat_minor": 1
}
